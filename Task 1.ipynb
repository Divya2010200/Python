{
 "cells": [
  {
   "cell_type": "code",
   "execution_count": 2,
   "id": "119cc22e",
   "metadata": {},
   "outputs": [
    {
     "name": "stdout",
     "output_type": "stream",
     "text": [
      "Give a string: SDEFETDFDF\n",
      "sdefetdfdf\n"
     ]
    }
   ],
   "source": [
    "# 1) Program to convert a string to lower case\n",
    "x=input(\"Give a string: \")\n",
    "print(x.lower())"
   ]
  },
  {
   "cell_type": "code",
   "execution_count": 17,
   "id": "657cc246",
   "metadata": {},
   "outputs": [
    {
     "name": "stdout",
     "output_type": "stream",
     "text": [
      "Give a string: ADCD\n",
      "AdCd\n"
     ]
    }
   ],
   "source": [
    "# 2) Odd index to lower\n",
    "x=input(\"Give a string: \")\n",
    "b=\"\"\n",
    "for y in range(0,len(x)):\n",
    "    if y%2!=0:\n",
    "        b+=x[y].lower()\n",
    "    else:\n",
    "        b+=x[y]\n",
    "print(b)"
   ]
  },
  {
   "cell_type": "code",
   "execution_count": 18,
   "id": "357f97c9",
   "metadata": {},
   "outputs": [
    {
     "name": "stdout",
     "output_type": "stream",
     "text": [
      "Give a string: ADCD\n",
      "aDcD\n"
     ]
    }
   ],
   "source": [
    "# 3) Even index to lower\n",
    "x=input(\"Give a string: \")\n",
    "b=\"\"\n",
    "for y in range(0,len(x)):\n",
    "    if y%2==0:\n",
    "        b+=x[y].lower()\n",
    "    else:\n",
    "        b+=x[y]\n",
    "print(b)"
   ]
  },
  {
   "cell_type": "code",
   "execution_count": 19,
   "id": "2687e50a",
   "metadata": {},
   "outputs": [
    {
     "name": "stdout",
     "output_type": "stream",
     "text": [
      "Give a string: adcd\n",
      "aDcD\n"
     ]
    }
   ],
   "source": [
    "# 4) Odd index to Upper\n",
    "x=input(\"Give a string: \")\n",
    "b=\"\"\n",
    "for y in range(0,len(x)):\n",
    "    if y%2!=0:\n",
    "        b+=x[y].upper()\n",
    "    else:\n",
    "        b+=x[y]\n",
    "print(b)"
   ]
  },
  {
   "cell_type": "code",
   "execution_count": 1,
   "id": "95af1c7a",
   "metadata": {},
   "outputs": [
    {
     "name": "stdout",
     "output_type": "stream",
     "text": [
      "Give a string: adcd\n",
      "AdCd\n"
     ]
    }
   ],
   "source": [
    "# 5) Even idex to upper\n",
    "x=input(\"Give a string: \")\n",
    "b=\"\"\n",
    "for y in range(0,len(x)):\n",
    "    if y%2==0:\n",
    "        b+=x[y].upper()\n",
    "    else:\n",
    "        b+=x[y]\n",
    "print(b)"
   ]
  },
  {
   "cell_type": "code",
   "execution_count": 1,
   "id": "4c46377e",
   "metadata": {},
   "outputs": [
    {
     "name": "stdout",
     "output_type": "stream",
     "text": [
      "Name: Divyakeerthi\n",
      "Father's name: Murthy\n",
      "Mother's name: Aruna\n",
      "gender: F\n",
      "Age: 21\n",
      "Phone Number: 9866345023\n",
      "My Name is Divyakeerthi, My Father's Name is Murthy, My Mother's Name isAruna, My Gender is F, My Age is 21, My Phone Number is 9866345023\n"
     ]
    }
   ],
   "source": [
    "# 6) Print Bio_data\n",
    "name=input(\"Name: \")\n",
    "father_name=input(\"Father's name: \")\n",
    "mother_name=input(\"Mother's name: \")\n",
    "gender=input(\"gender: \")\n",
    "age=int(input(\"Age: \"))\n",
    "Phone_no=int(input(\"Phone Number: \"))\n",
    "bio_data=\"My Name is {}, My Father's Name is {}, My Mother's Name is{}, My Gender is {}, My Age is {}, My Phone Number is {}\"\n",
    "print(bio_data.format(name,father_name,mother_name,gender,age,Phone_no))"
   ]
  },
  {
   "cell_type": "code",
   "execution_count": 9,
   "id": "f659302d",
   "metadata": {},
   "outputs": [
    {
     "name": "stdout",
     "output_type": "stream",
     "text": [
      "Give String: sdgfkauwgsf@@@@@1324@@@\n",
      "8\n"
     ]
    }
   ],
   "source": [
    "# 7) Count @\n",
    "x=input(\"Give String: \")\n",
    "print(x.count(\"@\"))"
   ]
  },
  {
   "cell_type": "code",
   "execution_count": 19,
   "id": "5817e72e",
   "metadata": {},
   "outputs": [
    {
     "name": "stdout",
     "output_type": "stream",
     "text": [
      "name1,name2,name3\n"
     ]
    }
   ],
   "source": [
    "# 8) Get only names\n",
    "x=\"name1.@gmail.com,name2.@gmail.com,name3.@gmail.com\"\n",
    "y=x.split(\".@gmail.com\")\n",
    "a=\"\"\n",
    "for z in range(0,len(y)):\n",
    "    a+=y[z]\n",
    "print(a)"
   ]
  },
  {
   "cell_type": "code",
   "execution_count": 31,
   "id": "2a93ac30",
   "metadata": {},
   "outputs": [
    {
     "name": "stdout",
     "output_type": "stream",
     "text": [
      "Give a string with odd length: DIVYAKEERTHI\n",
      "6\n",
      "KEE\n"
     ]
    }
   ],
   "source": [
    "# 9) middle 3 characters of the string\n",
    "x=input(\"Give a string with odd length: \")\n",
    "y=len(x)//2\n",
    "print(y); print(x[y-1:y+2])"
   ]
  },
  {
   "cell_type": "code",
   "execution_count": 34,
   "id": "5ad98504",
   "metadata": {},
   "outputs": [
    {
     "name": "stdout",
     "output_type": "stream",
     "text": [
      "Give a string: Insert\n",
      "Give the string that is to be inserted: @@\n",
      "Ins@@ert\n"
     ]
    }
   ],
   "source": [
    "# 10) Insert a string\n",
    "x=input(\"Give a string: \")\n",
    "y=input(\"Give the string that is to be inserted: \")\n",
    "a=len(x)//2\n",
    "print(x[:a]+y+x[a:])"
   ]
  },
  {
   "cell_type": "code",
   "execution_count": 69,
   "id": "e5a494fd",
   "metadata": {},
   "outputs": [
    {
     "name": "stdout",
     "output_type": "stream",
     "text": [
      "give a string: divyakeerthI\n",
      "dvykrth\n"
     ]
    }
   ],
   "source": [
    "# remove vowel\n",
    "x=input(\"give a string: \")\n",
    "a=\"\"\n",
    "for z in range(0,len(x)):\n",
    "    \n",
    "    if x[z]==\"a\" or x[z]==\"e\" or x[z]==\"i\" or x[z]==\"o\" or x[z]==\"u\" or x[z]==\"A\" or x[z]==\"E\" or x[z]==\"I\" or x[z]==\"O\" or x[z]==\"U\":\n",
    "        a+=\"\"\n",
    "    else:\n",
    "        a+=x[z]\n",
    "print(a)"
   ]
  },
  {
   "cell_type": "code",
   "execution_count": null,
   "id": "295110da",
   "metadata": {},
   "outputs": [],
   "source": []
  }
 ],
 "metadata": {
  "kernelspec": {
   "display_name": "Python 3 (ipykernel)",
   "language": "python",
   "name": "python3"
  },
  "language_info": {
   "codemirror_mode": {
    "name": "ipython",
    "version": 3
   },
   "file_extension": ".py",
   "mimetype": "text/x-python",
   "name": "python",
   "nbconvert_exporter": "python",
   "pygments_lexer": "ipython3",
   "version": "3.10.9"
  }
 },
 "nbformat": 4,
 "nbformat_minor": 5
}
