{
 "cells": [
  {
   "cell_type": "code",
   "execution_count": 5,
   "id": "61823304",
   "metadata": {},
   "outputs": [],
   "source": [
    "#Amstrong Number\n",
    "def amstrong(x):\n",
    "    y=[];n=0\n",
    "    a=str(x)\n",
    "    b=len(a)\n",
    "    for s in a:\n",
    "        y.append(int(s))\n",
    "    for z in y:\n",
    "        n+=z**b\n",
    "    if x==n:\n",
    "        return \"{} Is an Amstrong\".format(x)\n",
    "    else:\n",
    "        return \"{} Not an Amstrong\".format(x)"
   ]
  },
  {
   "cell_type": "code",
   "execution_count": 6,
   "id": "d569ce01",
   "metadata": {},
   "outputs": [
    {
     "data": {
      "text/plain": [
       "'153 Is an Amstrong'"
      ]
     },
     "execution_count": 6,
     "metadata": {},
     "output_type": "execute_result"
    }
   ],
   "source": [
    "amstrong(153)"
   ]
  },
  {
   "cell_type": "code",
   "execution_count": 7,
   "id": "51d3d615",
   "metadata": {},
   "outputs": [
    {
     "data": {
      "text/plain": [
       "'151 Not an Amstrong'"
      ]
     },
     "execution_count": 7,
     "metadata": {},
     "output_type": "execute_result"
    }
   ],
   "source": [
    "amstrong(151)"
   ]
  },
  {
   "cell_type": "code",
   "execution_count": 12,
   "id": "bc416e86",
   "metadata": {},
   "outputs": [],
   "source": [
    "#rverse an integer in a string\n",
    "def reverse_ints(a):\n",
    "    x=str(a)\n",
    "    b=x[::-1]\n",
    "    return int(b)"
   ]
  },
  {
   "cell_type": "code",
   "execution_count": 13,
   "id": "4de906bc",
   "metadata": {},
   "outputs": [
    {
     "data": {
      "text/plain": [
       "54321"
      ]
     },
     "execution_count": 13,
     "metadata": {},
     "output_type": "execute_result"
    }
   ],
   "source": [
    "reverse_ints(12345)"
   ]
  },
  {
   "cell_type": "code",
   "execution_count": 14,
   "id": "43fc9bfa",
   "metadata": {},
   "outputs": [
    {
     "data": {
      "text/plain": [
       "567867"
      ]
     },
     "execution_count": 14,
     "metadata": {},
     "output_type": "execute_result"
    }
   ],
   "source": [
    "reverse_ints(768765)"
   ]
  },
  {
   "cell_type": "code",
   "execution_count": 32,
   "id": "74e403b4",
   "metadata": {},
   "outputs": [],
   "source": [
    "#prime\n",
    "def prime_or_not(n):\n",
    "    s=0\n",
    "    for x in range(2,n):\n",
    "        if n%x==0:\n",
    "            s=s+1\n",
    "        else:\n",
    "            continue\n",
    "    if n>=2 and s==0:\n",
    "        return \"Prime Number\"\n",
    "    else:\n",
    "        return \"Not Prime Number\""
   ]
  },
  {
   "cell_type": "code",
   "execution_count": 33,
   "id": "bf424bf2",
   "metadata": {},
   "outputs": [
    {
     "data": {
      "text/plain": [
       "'Prime Number'"
      ]
     },
     "execution_count": 33,
     "metadata": {},
     "output_type": "execute_result"
    }
   ],
   "source": [
    "prime_or_not(3)"
   ]
  },
  {
   "cell_type": "code",
   "execution_count": 34,
   "id": "35ed700a",
   "metadata": {},
   "outputs": [
    {
     "data": {
      "text/plain": [
       "'Not Prime Number'"
      ]
     },
     "execution_count": 34,
     "metadata": {},
     "output_type": "execute_result"
    }
   ],
   "source": [
    "prime_or_not(6)"
   ]
  },
  {
   "cell_type": "code",
   "execution_count": 35,
   "id": "052f50b7",
   "metadata": {},
   "outputs": [
    {
     "data": {
      "text/plain": [
       "'Prime Number'"
      ]
     },
     "execution_count": 35,
     "metadata": {},
     "output_type": "execute_result"
    }
   ],
   "source": [
    "prime_or_not(11)"
   ]
  },
  {
   "cell_type": "code",
   "execution_count": 36,
   "id": "82c04846",
   "metadata": {},
   "outputs": [
    {
     "data": {
      "text/plain": [
       "'Not Prime Number'"
      ]
     },
     "execution_count": 36,
     "metadata": {},
     "output_type": "execute_result"
    }
   ],
   "source": [
    "prime_or_not(33)"
   ]
  },
  {
   "cell_type": "code",
   "execution_count": 37,
   "id": "05dd0c18",
   "metadata": {},
   "outputs": [
    {
     "data": {
      "text/plain": [
       "'Prime Number'"
      ]
     },
     "execution_count": 37,
     "metadata": {},
     "output_type": "execute_result"
    }
   ],
   "source": [
    "prime_or_not(2)"
   ]
  },
  {
   "cell_type": "code",
   "execution_count": 41,
   "id": "99161257",
   "metadata": {},
   "outputs": [
    {
     "name": "stdout",
     "output_type": "stream",
     "text": [
      "Give the number: 7\n",
      "0 \n",
      "1 \n",
      "8 \n",
      "15 \n",
      "22 \n",
      "29 \n",
      "36 \n"
     ]
    }
   ],
   "source": [
    "#fibonacci\n",
    "n=int(input(\"Give the number: \"));a=0;b=1;count=0\n",
    "if n<=0:\n",
    "    pritn(\"invalid input\")\n",
    "elif n==1:\n",
    "    print(a)\n",
    "else:\n",
    "    while count<n:\n",
    "        print(a,end=\" \")\n",
    "        c=n+b\n",
    "        a=b\n",
    "        b=c\n",
    "        count+=1\n",
    "        print()"
   ]
  },
  {
   "cell_type": "code",
   "execution_count": 43,
   "id": "f1bd795c",
   "metadata": {},
   "outputs": [
    {
     "name": "stdout",
     "output_type": "stream",
     "text": [
      "Give the number: 5\n",
      "0\n",
      "1\n",
      "1\n",
      "2\n",
      "3\n"
     ]
    }
   ],
   "source": [
    "#fibonacci using recursive\n",
    "def fibi(x):\n",
    "    if x<=1:\n",
    "        return x\n",
    "    else:\n",
    "        return fibi(x-2)+fibi(x-1)\n",
    "n=int(input(\"Give the number: \"))\n",
    "for y in range(0,n):\n",
    "    print(fibi(y))"
   ]
  },
  {
   "cell_type": "code",
   "execution_count": 44,
   "id": "132e3325",
   "metadata": {},
   "outputs": [],
   "source": [
    "#palindrome\n",
    "def palindrome(n):\n",
    "    x=str(n)\n",
    "    if x==x[::-1]:\n",
    "        return \"Palindrome\"\n",
    "    else:\n",
    "        return \"Not a palindrome\""
   ]
  },
  {
   "cell_type": "code",
   "execution_count": 45,
   "id": "dcac385b",
   "metadata": {},
   "outputs": [
    {
     "data": {
      "text/plain": [
       "'Palindrome'"
      ]
     },
     "execution_count": 45,
     "metadata": {},
     "output_type": "execute_result"
    }
   ],
   "source": [
    "palindrome(121)"
   ]
  },
  {
   "cell_type": "code",
   "execution_count": 46,
   "id": "4953abe8",
   "metadata": {},
   "outputs": [
    {
     "data": {
      "text/plain": [
       "'Not a palindrome'"
      ]
     },
     "execution_count": 46,
     "metadata": {},
     "output_type": "execute_result"
    }
   ],
   "source": [
    "palindrome(887)"
   ]
  },
  {
   "cell_type": "code",
   "execution_count": null,
   "id": "f615da11",
   "metadata": {},
   "outputs": [],
   "source": [
    "#palindrome recursive\n"
   ]
  },
  {
   "cell_type": "code",
   "execution_count": 8,
   "id": "af4ad20d",
   "metadata": {},
   "outputs": [],
   "source": [
    "#greates amoung three\n",
    "def greatest(a,b,c):\n",
    "    if a>b and a>c:\n",
    "        return \"a={} is Greater\".format(a)\n",
    "    elif b>c and b>a:\n",
    "        return \"b={} is Greater\".format(b)\n",
    "    else:\n",
    "        return \"c={} is Greater\".format(c)"
   ]
  },
  {
   "cell_type": "code",
   "execution_count": 9,
   "id": "a875cb66",
   "metadata": {},
   "outputs": [
    {
     "data": {
      "text/plain": [
       "'c=3 is Greater'"
      ]
     },
     "execution_count": 9,
     "metadata": {},
     "output_type": "execute_result"
    }
   ],
   "source": [
    "greatest(1,2,3)"
   ]
  },
  {
   "cell_type": "code",
   "execution_count": 10,
   "id": "f042f5f1",
   "metadata": {},
   "outputs": [
    {
     "data": {
      "text/plain": [
       "'b=18 is Greater'"
      ]
     },
     "execution_count": 10,
     "metadata": {},
     "output_type": "execute_result"
    }
   ],
   "source": [
    "greatest(6,18,3)"
   ]
  },
  {
   "cell_type": "code",
   "execution_count": 12,
   "id": "2e4fd0b6",
   "metadata": {},
   "outputs": [
    {
     "data": {
      "text/plain": [
       "'a=5 is Greater'"
      ]
     },
     "execution_count": 12,
     "metadata": {},
     "output_type": "execute_result"
    }
   ],
   "source": [
    "greatest(5,3,1)"
   ]
  },
  {
   "cell_type": "code",
   "execution_count": 26,
   "id": "4ae17fc0",
   "metadata": {},
   "outputs": [],
   "source": [
    "#if a number is binary\n",
    "def binary_or_not(n):\n",
    "    x=str(n)\n",
    "    a=0\n",
    "    for y in x:\n",
    "        if y!=\"0\" and y!=\"1\":\n",
    "            a+=1\n",
    "        else:\n",
    "            continue\n",
    "    if a==0:\n",
    "        return \"Binary\"  \n",
    "    else:\n",
    "        return \"Not Binary\""
   ]
  },
  {
   "cell_type": "code",
   "execution_count": 27,
   "id": "2da85a5c",
   "metadata": {},
   "outputs": [
    {
     "data": {
      "text/plain": [
       "'Binary'"
      ]
     },
     "execution_count": 27,
     "metadata": {},
     "output_type": "execute_result"
    }
   ],
   "source": [
    "binary_or_not(101010)"
   ]
  },
  {
   "cell_type": "code",
   "execution_count": 28,
   "id": "662dafcc",
   "metadata": {},
   "outputs": [
    {
     "data": {
      "text/plain": [
       "'Not Binary'"
      ]
     },
     "execution_count": 28,
     "metadata": {},
     "output_type": "execute_result"
    }
   ],
   "source": [
    "binary_or_not(2345)"
   ]
  },
  {
   "cell_type": "code",
   "execution_count": null,
   "id": "7d815814",
   "metadata": {},
   "outputs": [],
   "source": [
    "#10. Write a program in Python to find sum of digits of a number using recursion?\n"
   ]
  },
  {
   "cell_type": "code",
   "execution_count": 29,
   "id": "dbcba067",
   "metadata": {},
   "outputs": [],
   "source": [
    "#11.Write a program in Python to swap two numbers without using third variable?\n",
    "def swap(a,b):\n",
    "    a,b=b,a\n",
    "    return (a,b)"
   ]
  },
  {
   "cell_type": "code",
   "execution_count": 30,
   "id": "3aaccf83",
   "metadata": {},
   "outputs": [
    {
     "data": {
      "text/plain": [
       "(2, 1)"
      ]
     },
     "execution_count": 30,
     "metadata": {},
     "output_type": "execute_result"
    }
   ],
   "source": [
    "swap(1,2)"
   ]
  },
  {
   "cell_type": "code",
   "execution_count": 31,
   "id": "2807386a",
   "metadata": {},
   "outputs": [
    {
     "data": {
      "text/plain": [
       "(56, 34)"
      ]
     },
     "execution_count": 31,
     "metadata": {},
     "output_type": "execute_result"
    }
   ],
   "source": [
    "swap(34,56)"
   ]
  },
  {
   "cell_type": "code",
   "execution_count": 34,
   "id": "bbdab657",
   "metadata": {},
   "outputs": [],
   "source": [
    "#12. Write a program in Python to swap two numbers using third variable?\n",
    "def swap_using_variable(a,b):\n",
    "    c=a\n",
    "    a=b\n",
    "    b=c\n",
    "    return (a,b)"
   ]
  },
  {
   "cell_type": "code",
   "execution_count": 35,
   "id": "58b9747f",
   "metadata": {},
   "outputs": [
    {
     "data": {
      "text/plain": [
       "(2, 1)"
      ]
     },
     "execution_count": 35,
     "metadata": {},
     "output_type": "execute_result"
    }
   ],
   "source": [
    "swap_using_variable(1,2)"
   ]
  },
  {
   "cell_type": "code",
   "execution_count": 36,
   "id": "3e4501c0",
   "metadata": {},
   "outputs": [
    {
     "data": {
      "text/plain": [
       "(55, 34)"
      ]
     },
     "execution_count": 36,
     "metadata": {},
     "output_type": "execute_result"
    }
   ],
   "source": [
    "swap_using_variable(34,55)"
   ]
  },
  {
   "cell_type": "code",
   "execution_count": 38,
   "id": "00814b58",
   "metadata": {},
   "outputs": [],
   "source": [
    "#13. Write a program in Python to find prime factors of a given integer.\n",
    "def prime_or_not(n):\n",
    "    s=0\n",
    "    for x in range(2,n):\n",
    "        if n%x==0:\n",
    "            s=s+1\n",
    "        else:\n",
    "            continue\n",
    "    if n>=2 and s==0:\n",
    "        return True\n",
    "    else:\n",
    "        return False\n",
    "def prime_factors(n):\n",
    "    l=[]\n",
    "    for x in range(2,n):\n",
    "        if n%x==0:\n",
    "            if prime_or_not(x)==True:  \n",
    "                    l.append(x)\n",
    "            else:\n",
    "                continue\n",
    "        else:\n",
    "            continue\n",
    "    return l"
   ]
  },
  {
   "cell_type": "code",
   "execution_count": 39,
   "id": "6f0b2eee",
   "metadata": {},
   "outputs": [
    {
     "data": {
      "text/plain": [
       "[2]"
      ]
     },
     "execution_count": 39,
     "metadata": {},
     "output_type": "execute_result"
    }
   ],
   "source": [
    "prime_factors(8)"
   ]
  },
  {
   "cell_type": "code",
   "execution_count": 40,
   "id": "4e51de78",
   "metadata": {},
   "outputs": [
    {
     "data": {
      "text/plain": [
       "[2, 3]"
      ]
     },
     "execution_count": 40,
     "metadata": {},
     "output_type": "execute_result"
    }
   ],
   "source": [
    "prime_factors(24)"
   ]
  },
  {
   "cell_type": "code",
   "execution_count": 10,
   "id": "21981bdf",
   "metadata": {},
   "outputs": [
    {
     "name": "stdout",
     "output_type": "stream",
     "text": [
      "give 'a': 2\n",
      "give 'b': 1\n",
      "3\n"
     ]
    }
   ],
   "source": [
    "#14. Write a program in Python to add two integer without using arithmetic operator?\n",
    "a=int(input(\"give 'a': \"))\n",
    "b=int(input(\"give 'b': \"))\n",
    "a+=b\n",
    "print(a)"
   ]
  },
  {
   "cell_type": "code",
   "execution_count": 16,
   "id": "f96e3287",
   "metadata": {},
   "outputs": [
    {
     "name": "stdout",
     "output_type": "stream",
     "text": [
      "Give a number: 6\n",
      "6 is a Perfect Number\n"
     ]
    }
   ],
   "source": [
    "#15. Write a program in Python to find given number is perfect or not?\n",
    "n=int(input(\"Give a number: \"));l=[]\n",
    "for x in range(1,n):\n",
    "    if n%x==0:\n",
    "        l.append(x)\n",
    "    else:\n",
    "        pass\n",
    "if sum(l)==n:\n",
    "    print(\"{} is a Perfect Number\".format(n))\n",
    "else:\n",
    "    print(\"{} is not a perfect number\".format(n))"
   ]
  },
  {
   "cell_type": "code",
   "execution_count": 21,
   "id": "a6eb6c87",
   "metadata": {},
   "outputs": [
    {
     "name": "stdout",
     "output_type": "stream",
     "text": [
      "Give the length of the list: 9\n",
      "give the element: 1\n",
      "give the element: 2\n",
      "give the element: 3\n",
      "give the element: 4\n",
      "give the element: 5\n",
      "give the element: 6\n",
      "give the element: 7\n",
      "give the element: 8\n",
      "give the element: 9\n",
      "Average of elements is 5.0\n"
     ]
    }
   ],
   "source": [
    "#16. Python Program to find the Average of numbers with explanations.\n",
    "n=int(input(\"Give the length of the list: \"))\n",
    "l=[]\n",
    "for x in range(0,n):\n",
    "    a=int(input(\"give the element: \"))\n",
    "    l.append(a)\n",
    "print(\"Average of elements is {}\".format(sum(l)/n))"
   ]
  },
  {
   "cell_type": "code",
   "execution_count": 32,
   "id": "d5a9bcdb",
   "metadata": {},
   "outputs": [
    {
     "name": "stdout",
     "output_type": "stream",
     "text": [
      "Give a number: 6\n",
      "Facorial of 6 is 720\n"
     ]
    }
   ],
   "source": [
    "#17. Python Program to calculate factorial using iterative method.\n",
    "n=int(input(\"Give a number: \"));prod=1\n",
    "for x in range(2,n+1):\n",
    "    prod*=(x-1)\n",
    "print(\"Facorial of {} is {}\".format(n,prod*n))"
   ]
  },
  {
   "cell_type": "code",
   "execution_count": 33,
   "id": "b8aeb22a",
   "metadata": {},
   "outputs": [],
   "source": [
    "#18. Python Program to calculate factorial using recursion.\n",
    "def factorial(x):\n",
    "    if x<=1:\n",
    "        return x\n",
    "    else:\n",
    "        return (x*factorial(x-1))"
   ]
  },
  {
   "cell_type": "code",
   "execution_count": 34,
   "id": "4b560e42",
   "metadata": {},
   "outputs": [
    {
     "data": {
      "text/plain": [
       "24"
      ]
     },
     "execution_count": 34,
     "metadata": {},
     "output_type": "execute_result"
    }
   ],
   "source": [
    "factorial(4)"
   ]
  },
  {
   "cell_type": "code",
   "execution_count": 35,
   "id": "241c0c88",
   "metadata": {},
   "outputs": [
    {
     "data": {
      "text/plain": [
       "120"
      ]
     },
     "execution_count": 35,
     "metadata": {},
     "output_type": "execute_result"
    }
   ],
   "source": [
    "factorial(5)"
   ]
  },
  {
   "cell_type": "code",
   "execution_count": 36,
   "id": "787a8682",
   "metadata": {},
   "outputs": [
    {
     "data": {
      "text/plain": [
       "720"
      ]
     },
     "execution_count": 36,
     "metadata": {},
     "output_type": "execute_result"
    }
   ],
   "source": [
    "factorial(6)"
   ]
  },
  {
   "cell_type": "code",
   "execution_count": 39,
   "id": "b51220f9",
   "metadata": {},
   "outputs": [
    {
     "name": "stdout",
     "output_type": "stream",
     "text": [
      "Give a number: 90\n",
      "90 is even number\n"
     ]
    }
   ],
   "source": [
    "#19. Python Program to check a given number is even or odd.\n",
    "n=int(input(\"Give a number: \"))\n",
    "if n%2==0:\n",
    "    print(\"{} is even number\".format(n))\n",
    "else:\n",
    "    print(\"{} is odd number\".format(n))"
   ]
  },
  {
   "cell_type": "code",
   "execution_count": 14,
   "id": "6123b24e",
   "metadata": {},
   "outputs": [
    {
     "name": "stdout",
     "output_type": "stream",
     "text": [
      "Give a number: 9\n",
      "The first 9 prime numbers are: \n",
      "[2, 3, 5, 7, 11, 13, 17, 19, 23, 29]\n"
     ]
    }
   ],
   "source": [
    "#20. Python program to print first n Prime Number with explanation.\n",
    "def prime_or_not(n):\n",
    "    s=0\n",
    "    for x in range(2,n):\n",
    "        if n%x==0:\n",
    "            s=s+1\n",
    "        else:\n",
    "            continue\n",
    "    if n>=2 and s==0:\n",
    "        return True\n",
    "    else:\n",
    "        return False\n",
    "a=int(input(\"Give a number: \"))\n",
    "l=[]\n",
    "print(\"The first {} prime numbers are: \".format(a))\n",
    "i=1\n",
    "while a>=0:\n",
    "    if prime_or_not(i)==True:\n",
    "        l.append(i)\n",
    "        a-=1\n",
    "    else:\n",
    "        pass\n",
    "    i+=1\n",
    "print(l)"
   ]
  },
  {
   "cell_type": "code",
   "execution_count": 16,
   "id": "df8f405d",
   "metadata": {},
   "outputs": [
    {
     "name": "stdout",
     "output_type": "stream",
     "text": [
      "Give a number: 1\n",
      "Give a number: 9\n",
      "The prime numbers between 1 and 9 are: [2, 3, 5, 7]\n"
     ]
    }
   ],
   "source": [
    "#21. Python Program to print Prime Number in a given range.\n",
    "def prime_or_not(n):\n",
    "    s=0\n",
    "    for x in range(2,n):\n",
    "        if n%x==0:\n",
    "            s=s+1\n",
    "        else:\n",
    "            continue\n",
    "    if n>=2 and s==0:\n",
    "        return True\n",
    "    else:\n",
    "        return False\n",
    "a=int(input(\"Give a number: \"))\n",
    "b=int(input(\"Give a number: \"))\n",
    "l=[]\n",
    "i=a\n",
    "while a>=0 and i<=b:\n",
    "    if prime_or_not(i)==True:\n",
    "        l.append(i)\n",
    "    else:\n",
    "        pass\n",
    "    i+=1\n",
    "print(\"The prime numbers between {} and {} are: {}\".format(a,b,l))"
   ]
  },
  {
   "cell_type": "code",
   "execution_count": 18,
   "id": "0aa4e6fe",
   "metadata": {},
   "outputs": [
    {
     "name": "stdout",
     "output_type": "stream",
     "text": [
      "Give a number1: 1\n",
      "Give a number2: 2\n",
      "Give a number3: 3\n",
      "a=1 is smallest\n"
     ]
    }
   ],
   "source": [
    "#22. Python Program to find Smallest number among three.\n",
    "a=int(input(\"Give a number1: \"))\n",
    "b=int(input(\"Give a number2: \"))\n",
    "c=int(input(\"Give a number3: \"))\n",
    "if a<b and a<c:\n",
    "    print(\"a={} is smallest\".format(a))\n",
    "elif b<a and b<c:\n",
    "    print(\"b={} is smallest\".format(b))\n",
    "else:\n",
    "    print(\"c={} is smallest\".format(c))"
   ]
  },
  {
   "cell_type": "code",
   "execution_count": 22,
   "id": "7572dc87",
   "metadata": {},
   "outputs": [
    {
     "name": "stdout",
     "output_type": "stream",
     "text": [
      "Give the base number: 2\n",
      "Give the power number: 3\n",
      "2 power 3 is 8.\n"
     ]
    }
   ],
   "source": [
    "#23. Python program to calculate the power using the POW method.\n",
    "b=int(input(\"Give the base number: \"))\n",
    "p=int(input(\"Give the power number: \"))\n",
    "print(\"{} power {} is {}.\".format(b,p,pow(b,p)))"
   ]
  },
  {
   "cell_type": "code",
   "execution_count": 25,
   "id": "eebbe0d2",
   "metadata": {},
   "outputs": [
    {
     "name": "stdout",
     "output_type": "stream",
     "text": [
      "Give the base number: 2\n",
      "Give the power number: 2\n",
      "2 power 2 is 4.\n"
     ]
    }
   ],
   "source": [
    "#24. Python Program to calculate the power without using POW function.(using for loop).\n",
    "b=int(input(\"Give the base number: \"))\n",
    "p=int(input(\"Give the power number: \"))\n",
    "for x in range(1,p+1):\n",
    "    a=b*x\n",
    "print(\"{} power {} is {}.\".format(b,p,a))"
   ]
  },
  {
   "cell_type": "code",
   "execution_count": 29,
   "id": "6e71a032",
   "metadata": {},
   "outputs": [
    {
     "name": "stdout",
     "output_type": "stream",
     "text": [
      "Give the base number: 2\n",
      "Give the power number: 2\n",
      "2 power 2 is 4.\n"
     ]
    }
   ],
   "source": [
    "#25. Python Program to calculate the power without using POW function.(using while loop).\n",
    "b=int(input(\"Give the base number: \"))\n",
    "p=int(input(\"Give the power number: \"))\n",
    "i=p\n",
    "while i>=1:\n",
    "    a=b*x\n",
    "    i-=1\n",
    "print(\"{} power {} is {}.\".format(b,p,a))"
   ]
  },
  {
   "cell_type": "code",
   "execution_count": 31,
   "id": "a630e7fd",
   "metadata": {},
   "outputs": [
    {
     "name": "stdout",
     "output_type": "stream",
     "text": [
      "Give the number: 5\n",
      "Saqure of 5 is 25\n"
     ]
    }
   ],
   "source": [
    "#26. Python Program to calculate the square of a given number.\n",
    "a=int(input(\"Give the number: \"))\n",
    "print(\"Saqure of {} is {}\".format(a,(a**2)))"
   ]
  },
  {
   "cell_type": "code",
   "execution_count": 33,
   "id": "fc805099",
   "metadata": {},
   "outputs": [
    {
     "name": "stdout",
     "output_type": "stream",
     "text": [
      "Give the number: 2\n",
      "Cube of 2 is 8\n"
     ]
    }
   ],
   "source": [
    "#27. Python Program to calculate the cube of a given number.\n",
    "a=int(input(\"Give the number: \"))\n",
    "print(\"Cube of {} is {}\".format(a,(a**3)))"
   ]
  },
  {
   "cell_type": "code",
   "execution_count": 35,
   "id": "c8acad5d",
   "metadata": {},
   "outputs": [
    {
     "name": "stdout",
     "output_type": "stream",
     "text": [
      "Give the number: 4\n",
      "Square root of 4 is 2.0\n"
     ]
    }
   ],
   "source": [
    "#28. Python Program to calculate the square root of a given number.\n",
    "a=int(input(\"Give the number: \"))\n",
    "print(\"Square root of {} is {}\".format(a,(a**(1/2))))"
   ]
  },
  {
   "cell_type": "code",
   "execution_count": null,
   "id": "6d270173",
   "metadata": {},
   "outputs": [],
   "source": [
    "#29. Python program to calculate LCM of given two numbers.\n"
   ]
  },
  {
   "cell_type": "code",
   "execution_count": 50,
   "id": "6cd531e0",
   "metadata": {},
   "outputs": [
    {
     "name": "stdout",
     "output_type": "stream",
     "text": [
      "Give a number1: 4\n",
      "Give a number2: 6\n",
      "HCF of 4 and 6 are [1, 2]\n"
     ]
    }
   ],
   "source": [
    "#30. Python Program to find GCD or HCF of two numbers.\n",
    "a=int(input(\"Give a number1: \"))\n",
    "b=int(input(\"Give a number2: \"))\n",
    "l=set();s=set();common=[]\n",
    "for x in range(1,a+1):\n",
    "    if a%x==0:\n",
    "        l.add(x)\n",
    "    else:\n",
    "        continue\n",
    "for y in range(1,b+1):\n",
    "    if b%y==0:\n",
    "        s.add(y)\n",
    "    else:\n",
    "        continue\n",
    "print(\"HCF of {} and {} are {}\".format(a,b,list(l.intersection(s))))"
   ]
  },
  {
   "cell_type": "code",
   "execution_count": null,
   "id": "b04a0546",
   "metadata": {},
   "outputs": [],
   "source": [
    "#31. Python Program to find GCD of two numbers using recursion.\n"
   ]
  },
  {
   "cell_type": "code",
   "execution_count": 53,
   "id": "93f35483",
   "metadata": {},
   "outputs": [
    {
     "name": "stdout",
     "output_type": "stream",
     "text": [
      "Give a number1: 13\n",
      "Binary of 13 is 1101\n"
     ]
    }
   ],
   "source": [
    "#32. Python Program to Convert Decimal Number into Binary.\n",
    "a=int(input(\"Give a number1: \"))\n",
    "b=bin(a)\n",
    "print(\"Binary of {} is {}\".format(a,b[2:]))"
   ]
  },
  {
   "cell_type": "code",
   "execution_count": 1,
   "id": "db586a70",
   "metadata": {},
   "outputs": [
    {
     "name": "stdout",
     "output_type": "stream",
     "text": [
      "Give a number1: 157\n",
      "532\n"
     ]
    }
   ],
   "source": [
    "#33. Python Program to convert Decimal number to Octal number.\n",
    "a=int(input(\"Give a number1: \"))\n",
    "q=a\n",
    "s=\"\"\n",
    "while q!=0:\n",
    "    r=q%8    \n",
    "    q//=8\n",
    "    s+=str(r)\n",
    "print(int(s))"
   ]
  },
  {
   "cell_type": "code",
   "execution_count": 2,
   "id": "ec35970d",
   "metadata": {},
   "outputs": [],
   "source": [
    "#34. Python Program to check the given year is a leap year or not.\n",
    "def leap_year(x):\n",
    "    if x%4==0:\n",
    "        return True\n",
    "    else:\n",
    "        return False"
   ]
  },
  {
   "cell_type": "code",
   "execution_count": 3,
   "id": "8a66a63a",
   "metadata": {},
   "outputs": [
    {
     "data": {
      "text/plain": [
       "False"
      ]
     },
     "execution_count": 3,
     "metadata": {},
     "output_type": "execute_result"
    }
   ],
   "source": [
    "leap_year(2014)"
   ]
  },
  {
   "cell_type": "code",
   "execution_count": 4,
   "id": "fdcb4138",
   "metadata": {},
   "outputs": [
    {
     "data": {
      "text/plain": [
       "True"
      ]
     },
     "execution_count": 4,
     "metadata": {},
     "output_type": "execute_result"
    }
   ],
   "source": [
    "leap_year(2016)"
   ]
  },
  {
   "cell_type": "code",
   "execution_count": 40,
   "id": "1d6861b6",
   "metadata": {},
   "outputs": [
    {
     "name": "stdout",
     "output_type": "stream",
     "text": [
      "Give the temp in celsius: 0C\n",
      "32F\n"
     ]
    }
   ],
   "source": [
    "#35. Python Program to convert Celsius to Fahrenheit.\n",
    "a=input(\"Give the temp in celsius: \")\n",
    "if a.isalnum()==True:\n",
    "    x=a[:-1]\n",
    "else:\n",
    "    x=a\n",
    "y=int(x)\n",
    "f=(y*(9//5))\n",
    "print(\"\"+str(f+32)+\"F\")"
   ]
  },
  {
   "cell_type": "code",
   "execution_count": 42,
   "id": "084cd43b",
   "metadata": {},
   "outputs": [
    {
     "name": "stdout",
     "output_type": "stream",
     "text": [
      "Give the temp in Fahrenheit: 32\n",
      "0C\n"
     ]
    }
   ],
   "source": [
    "#36. Python Program to convert Fahrenheit to Celsius.\n",
    "a=input(\"Give the temp in Fahrenheit: \")\n",
    "if a.isalnum()==True:\n",
    "    x=a[:-1]\n",
    "else:\n",
    "    x=a\n",
    "y=int(x)\n",
    "c=(y-32)*(5//9)\n",
    "print(\"\"+str(c)+\"C\")"
   ]
  },
  {
   "cell_type": "code",
   "execution_count": 43,
   "id": "370fb21e",
   "metadata": {},
   "outputs": [
    {
     "name": "stdout",
     "output_type": "stream",
     "text": [
      "Enter the principal amount: 10000\n",
      "Enter the rate of interest: 5\n",
      "Enter the time of interest in year: 5\n",
      "Simple Intrest is 2500.0\n"
     ]
    }
   ],
   "source": [
    "#37. Python program to calculate Simple Interest with explanation\n",
    "p=int(input(\"Enter the principal amount: \"))  \n",
    "r=int(input(\"Enter the rate of interest: \"))  \n",
    "t=int(input(\"Enter the time of interest in year: \"))\n",
    "print(\"Simple Intrest is {}\".format((p*t*r)/100))"
   ]
  },
  {
   "cell_type": "code",
   "execution_count": 46,
   "id": "f446af6b",
   "metadata": {},
   "outputs": [
    {
     "name": "stdout",
     "output_type": "stream",
     "text": [
      "Give the string: fjk@234\n",
      "Give the character to be removed: @\n",
      "fjk234\n"
     ]
    }
   ],
   "source": [
    "#38. Python program to remove given character from String.\n",
    "a=input(\"Give the string: \")\n",
    "b=input(\"Give the character to be removed: \")\n",
    "s=\"\"\n",
    "for x in a:\n",
    "    if x!=b:\n",
    "        s+=\"\"+x\n",
    "    else:\n",
    "        continue\n",
    "print(s)"
   ]
  },
  {
   "cell_type": "code",
   "execution_count": 47,
   "id": "87006213",
   "metadata": {},
   "outputs": [
    {
     "name": "stdout",
     "output_type": "stream",
     "text": [
      "Give the string: apple\n",
      "Give the character to be counted: p\n",
      "2\n"
     ]
    }
   ],
   "source": [
    "#39. Python Program to count occurrence of a given characters in string.\n",
    "a=input(\"Give the string: \")\n",
    "b=input(\"Give the character to be counted: \")\n",
    "print(a.count(b))"
   ]
  },
  {
   "cell_type": "code",
   "execution_count": 50,
   "id": "cf779776",
   "metadata": {},
   "outputs": [
    {
     "name": "stdout",
     "output_type": "stream",
     "text": [
      "Please enter String 1 : apple\n",
      "Please enter String 2 : pplea\n",
      "Anagram\n"
     ]
    }
   ],
   "source": [
    "#40. Python Program to check if two Strings are Anagram.\n",
    "s1=input(\"Please enter String 1 : \")\n",
    "s2=input(\"Please enter String 2 : \")\n",
    "y=0\n",
    "for x in s1:\n",
    "    if s1.count(x)>0 and s2.count(x)>0 and (len(s1)==len(s2)):\n",
    "        y+=1\n",
    "    else:\n",
    "        continue       \n",
    "if y>0:\n",
    "    print(\"Anagram\")\n",
    "else:\n",
    "     print(\"Not an Anagram\")"
   ]
  },
  {
   "cell_type": "code",
   "execution_count": 51,
   "id": "9e82745a",
   "metadata": {},
   "outputs": [
    {
     "name": "stdout",
     "output_type": "stream",
     "text": [
      "Please enter String 1 : wow\n",
      "Palindrome\n"
     ]
    }
   ],
   "source": [
    "#41. Python program to check a String is palindrome or not.\n",
    "s1=input(\"Please enter String 1 : \")\n",
    "if s1==s1[::-1]:\n",
    "    print(\"Palindrome\")\n",
    "else:\n",
    "    print(\"Palindrome\")"
   ]
  },
  {
   "cell_type": "code",
   "execution_count": 53,
   "id": "929cf6f9",
   "metadata": {},
   "outputs": [
    {
     "name": "stdout",
     "output_type": "stream",
     "text": [
      "Please enter character to be checked: g\n",
      "g is a consonant\n"
     ]
    }
   ],
   "source": [
    "#42. Python program to check given character is vowel or consonant.\n",
    "s1=input(\"Please enter character to be checked: \")\n",
    "if s1==\"a\" or s1==\"e\" or s1==\"i\" or s1==\"o\" or s1==\"u\" or s1==\"A\" or s1==\"E\" or s1==\"I\" or s1==\"O\" or s1==\"U\":\n",
    "    print(\"{} is an vowel\".format(s1))\n",
    "else:\n",
    "    print(\"{} is a consonant\".format(s1))"
   ]
  },
  {
   "cell_type": "code",
   "execution_count": 54,
   "id": "c73a533b",
   "metadata": {},
   "outputs": [
    {
     "name": "stdout",
     "output_type": "stream",
     "text": [
      "Please enter character to be checked: 3\n",
      "3 is a digit\n"
     ]
    }
   ],
   "source": [
    "#43. Python program to check given character is digit or not.\n",
    "s1=input(\"Please enter character to be checked: \")\n",
    "if s1.isdigit():\n",
    "    print(\"{} is a digit\".format(s1))\n",
    "else:\n",
    "    print(\"{} is not a digit\".format(s1))"
   ]
  },
  {
   "cell_type": "code",
   "execution_count": 61,
   "id": "2a1aadd0",
   "metadata": {},
   "outputs": [
    {
     "name": "stdout",
     "output_type": "stream",
     "text": [
      "Please enter character to be checked: 3\n",
      "3 is a digit\n"
     ]
    }
   ],
   "source": [
    "#44. Python program to check given character is digit or not using isdigit() method.\n",
    "s1=input(\"Please enter character to be checked: \")\n",
    "c=ord(s1)\n",
    "if c>=48 and c<=57:\n",
    "    print(\"{} is a digit\".format(s1))\n",
    "else:\n",
    "    print(\"{} is not a digit\".format(s1))"
   ]
  },
  {
   "cell_type": "code",
   "execution_count": 62,
   "id": "a5e8de93",
   "metadata": {},
   "outputs": [
    {
     "name": "stdout",
     "output_type": "stream",
     "text": [
      "Please enter String: hi my name is divya\n",
      "Please enter the character with which you want to replace: @\n",
      "hi@my@name@is@divya\n"
     ]
    }
   ],
   "source": [
    "#45. Python program to replace the string space with a given character.\n",
    "s1=input(\"Please enter String: \")\n",
    "ch=input(\"Please enter the character with which you want to replace: \")\n",
    "print(s1.replace(\" \",ch))"
   ]
  },
  {
   "cell_type": "code",
   "execution_count": 63,
   "id": "b6702e19",
   "metadata": {},
   "outputs": [
    {
     "name": "stdout",
     "output_type": "stream",
     "text": [
      "Please enter String: hello people\n",
      "Please enter the character with which you want to replace: #\n",
      "hello#people\n"
     ]
    }
   ],
   "source": [
    "#46. Python program to replace the string space with a given character using replace() method.\n",
    "s1=input(\"Please enter String: \")\n",
    "ch=input(\"Please enter the character with which you want to replace: \")\n",
    "print(s1.replace(\" \",ch))"
   ]
  },
  {
   "cell_type": "code",
   "execution_count": 64,
   "id": "cb9cc186",
   "metadata": {},
   "outputs": [
    {
     "name": "stdout",
     "output_type": "stream",
     "text": [
      "Please enter String: ksjfnk\n",
      "KSJFNK\n"
     ]
    }
   ],
   "source": [
    "#47. Python program to convert lowercase char to uppercase of string.\n",
    "s1=input(\"Please enter String: \")\n",
    "print(s1.upper())"
   ]
  },
  {
   "cell_type": "code",
   "execution_count": 67,
   "id": "065b56b2",
   "metadata": {},
   "outputs": [
    {
     "name": "stdout",
     "output_type": "stream",
     "text": [
      "Please enter String: apple\n",
      "ApplE\n"
     ]
    }
   ],
   "source": [
    "#48. Python program to convert lowercase vowel to uppercase in string.\n",
    "x=input(\"Please enter String: \")\n",
    "n=\"\"\n",
    "for s1 in x:\n",
    "    if s1==\"a\" or s1==\"e\" or s1==\"i\" or s1==\"o\" or s1==\"u\" or s1==\"A\" or s1==\"E\" or s1==\"I\" or s1==\"O\" or s1==\"U\":\n",
    "        n+=s1.upper()\n",
    "    else:\n",
    "        n+=s1\n",
    "print(n)"
   ]
  },
  {
   "cell_type": "code",
   "execution_count": 68,
   "id": "76281664",
   "metadata": {},
   "outputs": [
    {
     "name": "stdout",
     "output_type": "stream",
     "text": [
      "give a string: apple\n",
      "ppl\n"
     ]
    }
   ],
   "source": [
    "#49. Python program to delete vowels in a given string.\n",
    "x=input(\"give a string: \")\n",
    "a=\"\"\n",
    "for z in range(0,len(x)):\n",
    "    \n",
    "    if x[z]==\"a\" or x[z]==\"e\" or x[z]==\"i\" or x[z]==\"o\" or x[z]==\"u\" or x[z]==\"A\" or x[z]==\"E\" or x[z]==\"I\" or x[z]==\"O\" or x[z]==\"U\":\n",
    "        a+=\"\"\n",
    "    else:\n",
    "        a+=x[z]\n",
    "print(a)"
   ]
  },
  {
   "cell_type": "code",
   "execution_count": 70,
   "id": "e065518d",
   "metadata": {},
   "outputs": [
    {
     "name": "stdout",
     "output_type": "stream",
     "text": [
      "Please enter String: apple\n",
      "Number of vowels 2\n",
      "Number of consonants 3\n"
     ]
    }
   ],
   "source": [
    "#50. Python program to count the Occurrence Of Vowels & Consonants in a String.\n",
    "x=input(\"Please enter String: \")\n",
    "v=0;c=0\n",
    "for s1 in x:\n",
    "    if s1==\"a\" or s1==\"e\" or s1==\"i\" or s1==\"o\" or s1==\"u\" or s1==\"A\" or s1==\"E\" or s1==\"I\" or s1==\"O\" or s1==\"U\":\n",
    "        v+=1\n",
    "    else:\n",
    "        c+=1\n",
    "print(\"Number of vowels {}\\nNumber of consonants {}\".format(v,c))"
   ]
  },
  {
   "cell_type": "code",
   "execution_count": 5,
   "id": "d973232a",
   "metadata": {},
   "outputs": [
    {
     "name": "stdout",
     "output_type": "stream",
     "text": [
      "Please enter String: mississippi\n",
      "i\n"
     ]
    }
   ],
   "source": [
    "#51. Python program to print the highest frequency character in a String.\n",
    "s1=input(\"Please enter String: \")\n",
    "d={};l=[]\n",
    "for x in s1:\n",
    "    y=s1.count(x)\n",
    "    l.append(y)\n",
    "    d.update({y:x})\n",
    "print(d[max(l)])"
   ]
  },
  {
   "cell_type": "code",
   "execution_count": 23,
   "id": "124015c1",
   "metadata": {},
   "outputs": [
    {
     "name": "stdout",
     "output_type": "stream",
     "text": [
      "Please enter String: mississippi\n",
      "m-ssissippi\n"
     ]
    }
   ],
   "source": [
    "#52. Python program to Replace First Occurrence Of Vowel With ‘-‘ in String.\n",
    "s1=input(\"Please enter String: \")\n",
    "v=\"AEIOUaeiou\"\n",
    "for x in range(len(s1)):\n",
    "    if s1[x] in v:\n",
    "        s=s1[:x]+\"-\"+s1[x+1:]\n",
    "        break\n",
    "    else:\n",
    "        continue\n",
    "print(s)"
   ]
  },
  {
   "cell_type": "code",
   "execution_count": 30,
   "id": "0c61449d",
   "metadata": {},
   "outputs": [
    {
     "name": "stdout",
     "output_type": "stream",
     "text": [
      "Please enter String: %python123%$#\n",
      "alphabets=6\n",
      "digits=3\n",
      "special characters=4\n"
     ]
    }
   ],
   "source": [
    "#53. Python program to count alphabets, digits and special character\n",
    "s1=input(\"Please enter String: \")\n",
    "d=0;ch=0;sp=0\n",
    "for x in s1:\n",
    "    c=ord(x)\n",
    "    if c>=48 and c<=57:\n",
    "        d+=1\n",
    "    elif c>=65 and c<=90 or c>=97 and c<=122:\n",
    "        ch+=1\n",
    "    else:\n",
    "        sp+=1\n",
    "print(\"alphabets={}\\ndigits={}\\nspecial characters={}\".format(ch,d,sp))"
   ]
  },
  {
   "cell_type": "code",
   "execution_count": 33,
   "id": "58e13cd8",
   "metadata": {},
   "outputs": [
    {
     "name": "stdout",
     "output_type": "stream",
     "text": [
      "Please enter String: Hello World\n",
      "H\n",
      "e\n",
      "l\n",
      "l\n",
      "o\n",
      " \n",
      "W\n",
      "o\n",
      "r\n",
      "l\n",
      "d\n"
     ]
    }
   ],
   "source": [
    "#54. Python program to separate characters in a given string.\n",
    "s1=input(\"Please enter String: \")\n",
    "for x in s1:\n",
    "    print(x)"
   ]
  },
  {
   "cell_type": "code",
   "execution_count": 34,
   "id": "7f1a6ffc",
   "metadata": {},
   "outputs": [
    {
     "name": "stdout",
     "output_type": "stream",
     "text": [
      "Give the string: que scolweb site\n",
      "quescolwebsite\n"
     ]
    }
   ],
   "source": [
    "#55. Python program to remove blank space from string.\n",
    "a=input(\"Give the string: \")\n",
    "s=\"\"\n",
    "for x in a:\n",
    "    if x!=\" \":\n",
    "        s+=\"\"+x\n",
    "    else:\n",
    "        continue\n",
    "print(s)"
   ]
  },
  {
   "cell_type": "code",
   "execution_count": 35,
   "id": "40877feb",
   "metadata": {},
   "outputs": [
    {
     "name": "stdout",
     "output_type": "stream",
     "text": [
      "Please enter String 1 : apple\n",
      "Please enter String 2 : hi\n",
      "applehi\n"
     ]
    }
   ],
   "source": [
    "#56. Python program to concatenate two strings using join() method.\n",
    "s1=input(\"Please enter String 1 : \")\n",
    "s2=input(\"Please enter String 2 : \")\n",
    "print(\"\".join([s1,s2]))"
   ]
  },
  {
   "cell_type": "code",
   "execution_count": 37,
   "id": "a12e53c5",
   "metadata": {},
   "outputs": [
    {
     "name": "stdout",
     "output_type": "stream",
     "text": [
      "Please enter String 1 : apple\n",
      "Please enter String 2 : hi\n",
      "applehi\n"
     ]
    }
   ],
   "source": [
    "#57. Python program to concatenate two strings without using join() method.\n",
    "s1=input(\"Please enter String 1 : \")\n",
    "s2=input(\"Please enter String 2 : \")\n",
    "print(s1+s2)"
   ]
  },
  {
   "cell_type": "code",
   "execution_count": 39,
   "id": "5d284ac4",
   "metadata": {},
   "outputs": [
    {
     "name": "stdout",
     "output_type": "stream",
     "text": [
      "Please enter String: programming\n",
      "progamin\n"
     ]
    }
   ],
   "source": [
    "#58. Python program to remove repeated character from string.\n",
    "s1=input(\"Please enter String: \")\n",
    "a=set()\n",
    "n=\"\"\n",
    "for x in s1:\n",
    "    if x not in a:\n",
    "        a.add(x)\n",
    "        n+=x\n",
    "    else:\n",
    "        continue\n",
    "print(n)"
   ]
  },
  {
   "cell_type": "code",
   "execution_count": 42,
   "id": "11e7c183",
   "metadata": {},
   "outputs": [
    {
     "name": "stdout",
     "output_type": "stream",
     "text": [
      "Please enter String: 123!python!@456\n",
      "sum = 21\n"
     ]
    }
   ],
   "source": [
    "#59. Python program to calculate sum of integers in string.\n",
    "s1=input(\"Please enter String: \")\n",
    "y=0\n",
    "for x in s1:\n",
    "    if x.isdigit():\n",
    "        y+=int(x)\n",
    "    else:\n",
    "        continue\n",
    "print(\"sum =\",y)"
   ]
  },
  {
   "cell_type": "code",
   "execution_count": 43,
   "id": "190a8669",
   "metadata": {},
   "outputs": [
    {
     "name": "stdout",
     "output_type": "stream",
     "text": [
      "Please enter String: mississippi\n",
      "misp\n"
     ]
    }
   ],
   "source": [
    "#60. Python program to print all non repeating character in string.\n",
    "s1=input(\"Please enter String: \")\n",
    "a=set()\n",
    "n=\"\"\n",
    "for x in s1:\n",
    "    if x not in a:\n",
    "        a.add(x)\n",
    "        n+=x\n",
    "    else:\n",
    "        continue\n",
    "print(n)"
   ]
  },
  {
   "cell_type": "code",
   "execution_count": 45,
   "id": "69d8239f",
   "metadata": {},
   "outputs": [
    {
     "name": "stdout",
     "output_type": "stream",
     "text": [
      "Please enter String: apple\n",
      "apple\n"
     ]
    }
   ],
   "source": [
    "#61. Python program to copy one string to another string.\n",
    "s1=input(\"Please enter String: \")\n",
    "s2=\"\"\n",
    "s2+=s1\n",
    "print(s2)"
   ]
  },
  {
   "cell_type": "code",
   "execution_count": 49,
   "id": "a69ab4d7",
   "metadata": {},
   "outputs": [
    {
     "name": "stdout",
     "output_type": "stream",
     "text": [
      "Please enter String: apple\n",
      "aelpp\n"
     ]
    }
   ],
   "source": [
    "#62. Python Program to sort characters of string in ascending order.\n",
    "s1=input(\"Please enter String: \")\n",
    "s2=\"\"\n",
    "l=list(s1)\n",
    "l.sort()\n",
    "for x in l:\n",
    "    s2+=x\n",
    "print(s2)"
   ]
  },
  {
   "cell_type": "code",
   "execution_count": 50,
   "id": "0eaa584d",
   "metadata": {},
   "outputs": [
    {
     "name": "stdout",
     "output_type": "stream",
     "text": [
      "Please enter String: apple\n",
      "pplea\n"
     ]
    }
   ],
   "source": [
    "#63. Python Program to sort character of string in descending order.\n",
    "s1=input(\"Please enter String: \")\n",
    "s2=\"\"\n",
    "l=list(s1)\n",
    "l.sort(reverse=True)\n",
    "for x in l:\n",
    "    s2+=x\n",
    "print(s2)"
   ]
  },
  {
   "cell_type": "code",
   "execution_count": null,
   "id": "d03f288c",
   "metadata": {},
   "outputs": [],
   "source": []
  }
 ],
 "metadata": {
  "kernelspec": {
   "display_name": "Python 3 (ipykernel)",
   "language": "python",
   "name": "python3"
  },
  "language_info": {
   "codemirror_mode": {
    "name": "ipython",
    "version": 3
   },
   "file_extension": ".py",
   "mimetype": "text/x-python",
   "name": "python",
   "nbconvert_exporter": "python",
   "pygments_lexer": "ipython3",
   "version": "3.10.9"
  }
 },
 "nbformat": 4,
 "nbformat_minor": 5
}
