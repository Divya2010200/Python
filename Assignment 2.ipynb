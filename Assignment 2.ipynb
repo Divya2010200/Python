{
 "cells": [
  {
   "cell_type": "code",
   "execution_count": 8,
   "id": "a5f55cf0",
   "metadata": {},
   "outputs": [
    {
     "name": "stdout",
     "output_type": "stream",
     "text": [
      "Give 1st Number: 2\n",
      "Give 2nd Number: 3\n",
      "Multiple= 6 \n",
      "Divi= 0.6666666666666666\n"
     ]
    }
   ],
   "source": [
    "#1) Multiplication and divition\n",
    "num1=int(input(\"Give 1st Number: \"))\n",
    "num2=int(input(\"Give 2nd Number: \"))\n",
    "print(\"Multiple=\",num1*num2,\"\\n\"\"Divi=\",num1/num2)"
   ]
  },
  {
   "cell_type": "code",
   "execution_count": 10,
   "id": "a6a4e92d",
   "metadata": {},
   "outputs": [
    {
     "name": "stdout",
     "output_type": "stream",
     "text": [
      "Give a String: divya\n",
      "dva\n"
     ]
    }
   ],
   "source": [
    "#2) print the characters at even index\n",
    "x=input(\"Give a String: \")\n",
    "a=\"\"\n",
    "for y in range(0,len(x)):\n",
    "    if y%2==0:\n",
    "        a+=x[y]\n",
    "    else:\n",
    "        continue\n",
    "print(a)"
   ]
  },
  {
   "cell_type": "code",
   "execution_count": 11,
   "id": "4f77b701",
   "metadata": {},
   "outputs": [
    {
     "name": "stdout",
     "output_type": "stream",
     "text": [
      "Give a String: divya\n",
      "iy\n"
     ]
    }
   ],
   "source": [
    "#3) print the characters at odd index\n",
    "x=input(\"Give a String: \")\n",
    "a=\"\"\n",
    "for y in range(0,len(x)):\n",
    "    if y%2!=0:\n",
    "        a+=x[y]\n",
    "    else:\n",
    "        continue\n",
    "print(a)"
   ]
  },
  {
   "cell_type": "code",
   "execution_count": 13,
   "id": "e9be96bb",
   "metadata": {},
   "outputs": [
    {
     "name": "stdout",
     "output_type": "stream",
     "text": [
      "Give a Number: 2\n",
      "Give a Number: 5\n",
      "Sub= -3\n"
     ]
    }
   ],
   "source": [
    "#4) sum of even numbers and substraction of odd numbers\n",
    "x=int(input(\"Give a Number: \"))\n",
    "y=int(input(\"Give a Number: \"))\n",
    "if x%2==0 and y%2==0:\n",
    "    print(\"Sum=\",x+y)\n",
    "else:\n",
    "    print(\"Sub=\",x-y)"
   ]
  },
  {
   "cell_type": "code",
   "execution_count": 19,
   "id": "3bcfd022",
   "metadata": {},
   "outputs": [
    {
     "name": "stdout",
     "output_type": "stream",
     "text": [
      "Give a String: DIVYA\n",
      "DiVyA\n"
     ]
    }
   ],
   "source": [
    "#5) All even alphabets upper and All odd lower\n",
    "x=input(\"Give a String: \")\n",
    "a=\"\"\n",
    "for y in range(0,len(x)):\n",
    "    if y%2==0:\n",
    "        a+=x[y].upper()\n",
    "    else:\n",
    "        a+=x[y].lower()\n",
    "print(a)"
   ]
  },
  {
   "cell_type": "code",
   "execution_count": 22,
   "id": "fbcdd4f0",
   "metadata": {},
   "outputs": [
    {
     "name": "stdout",
     "output_type": "stream",
     "text": [
      "Give a Number: 3\n",
      "False\n"
     ]
    }
   ],
   "source": [
    "#6) Divisible by 5\n",
    "x=int(input(\"Give a Number: \"))\n",
    "if x%5==0:\n",
    "    print(True)\n",
    "else:\n",
    "    print(False)"
   ]
  },
  {
   "cell_type": "code",
   "execution_count": 25,
   "id": "a429bc33",
   "metadata": {},
   "outputs": [
    {
     "name": "stdout",
     "output_type": "stream",
     "text": [
      "Give a Number: 5465\n",
      "Give a Number: 1\n",
      "5465\n"
     ]
    }
   ],
   "source": [
    "#7) print product if prod>1000 or print sum\n",
    "x=int(input(\"Give a Number: \"))\n",
    "y=int(input(\"Give a Number: \"))\n",
    "prod=x*y\n",
    "if prod>1000:\n",
    "    print(prod)\n",
    "else:\n",
    "    print(\"Sum=\",x+y)"
   ]
  },
  {
   "cell_type": "code",
   "execution_count": 30,
   "id": "70faf302",
   "metadata": {},
   "outputs": [
    {
     "name": "stdout",
     "output_type": "stream",
     "text": [
      "Give a String x: Divya\n",
      "Give a String y: Keerthi\n",
      "DKvrai\n"
     ]
    }
   ],
   "source": [
    "#8) print in pattern:x: Divya y: Keerthi o/p:DKvrai\n",
    "x=input(\"Give a String x: \")\n",
    "y=input(\"Give a String y: \")\n",
    "z=x[0]+y[0]+x[len(x)//2]+y[len(y)//2]+x[-1]+y[-1]\n",
    "print(z)"
   ]
  },
  {
   "cell_type": "code",
   "execution_count": 44,
   "id": "ba6fe3c4",
   "metadata": {},
   "outputs": [
    {
     "name": "stdout",
     "output_type": "stream",
     "text": [
      "Give a Name: Divya,Jasmi,Preethi\n",
      "Name1: Divya \n",
      "Name2: Jasmi \n",
      "Name3: Preethi\n"
     ]
    }
   ],
   "source": [
    "#9) three names in single input() function and print them \n",
    "x=input(\"Give a Name: \")\n",
    "for y in range(0,3):\n",
    "    a=x.split(\",\")\n",
    "print(\"Name1:\",a[0],\"\\n\"\"Name2:\",a[1],\"\\n\"\"Name3:\",a[2])"
   ]
  },
  {
   "cell_type": "code",
   "execution_count": 50,
   "id": "c7d65ecd",
   "metadata": {},
   "outputs": [
    {
     "name": "stdout",
     "output_type": "stream",
     "text": [
      "Give a String: mummy\n",
      "mu@@y\n"
     ]
    }
   ],
   "source": [
    "#10) \n",
    "x=input(\"Give a String: \")\n",
    "a=x[0]\n",
    "for y in range(1,len(x)):\n",
    "    if x[y]==x[0]:\n",
    "        a+=\"@\"\n",
    "    else:\n",
    "        a+=x[y]\n",
    "print(a)"
   ]
  },
  {
   "cell_type": "code",
   "execution_count": 6,
   "id": "ffa03f30",
   "metadata": {},
   "outputs": [
    {
     "name": "stdout",
     "output_type": "stream",
     "text": [
      "Give a String: play\n",
      "playing\n"
     ]
    }
   ],
   "source": [
    "#11)\n",
    "x=input(\"Give a String: \")\n",
    "a=\"\"\n",
    "if len(x)>=3:\n",
    "    if x[-3:]==\"ing\":\n",
    "        a+=x[-4:-1]+x[-3:].replace(\"ing\",\"ly\")\n",
    "        print(a)\n",
    "    else:\n",
    "        a+=x+\"ing\"\n",
    "        print(a)\n",
    "if len(x)<3:\n",
    "    print(x)"
   ]
  },
  {
   "cell_type": "code",
   "execution_count": 8,
   "id": "bcc29ba8",
   "metadata": {},
   "outputs": [
    {
     "name": "stdout",
     "output_type": "stream",
     "text": [
      "Give 1st Number: 2\n",
      "Give 2nd Number: 3\n",
      "False\n"
     ]
    }
   ],
   "source": [
    "#12) \n",
    "num1=int(input(\"Give 1st Number: \"))\n",
    "num2=int(input(\"Give 2nd Number: \"))\n",
    "if num1==10 or num2==10 or num1+num2==10:\n",
    "    print(True)\n",
    "else:\n",
    "    print(False)"
   ]
  },
  {
   "cell_type": "code",
   "execution_count": 9,
   "id": "3c8d5c9a",
   "metadata": {},
   "outputs": [
    {
     "name": "stdout",
     "output_type": "stream",
     "text": [
      "Give 1st Number: 2\n",
      "Give 2nd Number: 3\n",
      "Give 3rd Number: 4\n",
      "True\n"
     ]
    }
   ],
   "source": [
    "#13) \n",
    "x=int(input(\"Give 1st Number: \"))\n",
    "y=int(input(\"Give 2nd Number: \"))\n",
    "z=int(input(\"Give 3rd Number: \"))\n",
    "if x*y>z:\n",
    "    print(True)\n",
    "else:\n",
    "    print(False)"
   ]
  },
  {
   "cell_type": "code",
   "execution_count": 10,
   "id": "cdf73406",
   "metadata": {},
   "outputs": [
    {
     "name": "stdout",
     "output_type": "stream",
     "text": [
      "Give a String: mom\n",
      "Give a String: dad\n",
      "True\n"
     ]
    }
   ],
   "source": [
    "#14) length of string1==string2\n",
    "x=input(\"Give a String: \")\n",
    "y=input(\"Give a String: \")\n",
    "if len(x)==len(y):\n",
    "    print(True)\n",
    "else:\n",
    "    print(False)"
   ]
  },
  {
   "cell_type": "code",
   "execution_count": 14,
   "id": "f391f57a",
   "metadata": {},
   "outputs": [
    {
     "name": "stdout",
     "output_type": "stream",
     "text": [
      "Give a String: sing\n",
      "singsinsinsin\n"
     ]
    }
   ],
   "source": [
    "#15)\n",
    "x=input(\"Give a String: \")\n",
    "if len(x)<3:\n",
    "    print(x)\n",
    "else:\n",
    "    print(x+x[:3]*3)"
   ]
  },
  {
   "cell_type": "code",
   "execution_count": 18,
   "id": "b2eeb27c",
   "metadata": {},
   "outputs": [
    {
     "name": "stdout",
     "output_type": "stream",
     "text": [
      "Give a String: apples\n",
      "The word apples is plural\n"
     ]
    }
   ],
   "source": [
    "#16) plural or not \n",
    "x=input(\"Give a String: \")\n",
    "if x[-1]==\"s\":\n",
    "    print(\"The word\",x,\"is plural\")\n",
    "else:\n",
    "    print(\"The word\",x,\"is not plural\")"
   ]
  },
  {
   "cell_type": "code",
   "execution_count": 24,
   "id": "cc7daa8d",
   "metadata": {},
   "outputs": [
    {
     "name": "stdout",
     "output_type": "stream",
     "text": [
      "Give Your age: 20\n",
      "Whether on Break or Not in True or false: false\n",
      "Should serve the drink\n"
     ]
    }
   ],
   "source": [
    "#17) Bartender\n",
    "age=int(input(\"Give Your age: \"))\n",
    "x=input(\"Whether on Break or Not in True or false: \")\n",
    "if age>=18 and x==\"False\" or x==\"false\":\n",
    "    print(\"Should serve the drink\")\n",
    "else:\n",
    "    print(\"Should not serve\")"
   ]
  },
  {
   "cell_type": "code",
   "execution_count": 33,
   "id": "f9f4a86b",
   "metadata": {},
   "outputs": [
    {
     "name": "stdout",
     "output_type": "stream",
     "text": [
      "Give the person name: Tarun\n",
      "Relation is Brother\n"
     ]
    }
   ],
   "source": [
    "#18) \n",
    "person=\"Shiva,Letha,Tarun,Kavitha\"\n",
    "relation=\"Father,Mother,Brother,Sister\"\n",
    "x=input(\"Give the person name: \")\n",
    "if x==person[:5]:\n",
    "    print(\"Relation is Father\")\n",
    "elif x==person[6:11]:\n",
    "    print(\"Relation is Mother\")\n",
    "elif x==person[12:17]:\n",
    "    print(\"Relation is Brother\")\n",
    "else:\n",
    "    print(\"Relation is Sister\")"
   ]
  },
  {
   "cell_type": "code",
   "execution_count": 41,
   "id": "7bc32b35",
   "metadata": {},
   "outputs": [
    {
     "name": "stdout",
     "output_type": "stream",
     "text": [
      "Give a string: acde@e@\n",
      "aeecd@@\n"
     ]
    }
   ],
   "source": [
    "#19)\n",
    "x=input(\"Give a string: \")\n",
    "a=\"\"\n",
    "b=\"\"\n",
    "for z in range(0,len(x)):\n",
    "    if x[z]==\"a\" or x[z]==\"e\" or x[z]==\"i\" or x[z]==\"o\" or x[z]==\"u\" or x[z]==\"A\" or x[z]==\"E\" or x[z]==\"I\" or x[z]==\"O\" or x[z]==\"U\":\n",
    "        a+=x[z]\n",
    "    else:\n",
    "        b+=x[z]\n",
    "print(a+b)"
   ]
  },
  {
   "cell_type": "code",
   "execution_count": null,
   "id": "9985a1af",
   "metadata": {},
   "outputs": [],
   "source": [
    "#20) dynamic caluculator(already done)"
   ]
  }
 ],
 "metadata": {
  "kernelspec": {
   "display_name": "Python 3 (ipykernel)",
   "language": "python",
   "name": "python3"
  },
  "language_info": {
   "codemirror_mode": {
    "name": "ipython",
    "version": 3
   },
   "file_extension": ".py",
   "mimetype": "text/x-python",
   "name": "python",
   "nbconvert_exporter": "python",
   "pygments_lexer": "ipython3",
   "version": "3.10.9"
  }
 },
 "nbformat": 4,
 "nbformat_minor": 5
}
