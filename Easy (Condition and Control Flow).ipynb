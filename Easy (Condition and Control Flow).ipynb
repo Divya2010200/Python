{
 "cells": [
  {
   "cell_type": "markdown",
   "id": "d0b8660c",
   "metadata": {},
   "source": [
    "## Control Flow"
   ]
  },
  {
   "cell_type": "markdown",
   "id": "35b3fc33",
   "metadata": {},
   "source": [
    "Q1) \n",
    "Write a function that returns the number of users in a chatroom based on the following rules:\n",
    "\n",
    "If there is no one, return \"no one online\".\n",
    "If there is 1 person, return \"user1 online\".\n",
    "If there are 2 people, return \"user1 and user2 online\".\n",
    "If there are n>2 people, return the first two names and add \"and n-2 more online\".\n",
    "For example, if there are 5 users, return:\n",
    "\n",
    "\"user1, user2 and 3 more online\"\n",
    "Examples\n",
    "chatroom_status([]) ➞ \"no one online\"\n",
    "\n",
    "chatroom_status([\"paRIE_to\"]) ➞ \"paRIE_to online\"\n",
    "\n",
    "chatroom_status([\"s234f\", \"mailbox2\"]) ➞ \"s234f and mailbox2 online\"\n",
    "\n",
    "chatroom_status([\"pap_ier44\", \"townieBOY\", \"panda321\", \"motor_bike5\", \"sandwichmaker833\", \"violinist91\"])\n",
    "➞ \"pap_ier44, townieBOY and 4 more online\""
   ]
  },
  {
   "cell_type": "code",
   "execution_count": 3,
   "id": "3c9a3c3e",
   "metadata": {},
   "outputs": [],
   "source": [
    "def chatroom(l):\n",
    "    if len(l)==0:\n",
    "        return \"no one online\"\n",
    "    elif len(l)>2:\n",
    "        return (\"{} , {} and {} more online\".format(l[0],l[1],(len(l)-2)))\n",
    "    elif len(l)==2:\n",
    "        return (\"{} and {} online\".format(l[0],l[1]))\n",
    "    else:\n",
    "        return l[0]"
   ]
  },
  {
   "cell_type": "code",
   "execution_count": 4,
   "id": "7fbd5cc3",
   "metadata": {},
   "outputs": [
    {
     "data": {
      "text/plain": [
       "'no one online'"
      ]
     },
     "execution_count": 4,
     "metadata": {},
     "output_type": "execute_result"
    }
   ],
   "source": [
    "chatroom([])"
   ]
  },
  {
   "cell_type": "code",
   "execution_count": 5,
   "id": "0d5c8e6d",
   "metadata": {},
   "outputs": [
    {
     "data": {
      "text/plain": [
       "'s234f and mailbox2 online'"
      ]
     },
     "execution_count": 5,
     "metadata": {},
     "output_type": "execute_result"
    }
   ],
   "source": [
    "chatroom([\"s234f\", \"mailbox2\"])"
   ]
  },
  {
   "cell_type": "code",
   "execution_count": 6,
   "id": "35ff9096",
   "metadata": {},
   "outputs": [
    {
     "data": {
      "text/plain": [
       "'pap_ier44 , townieBOY and 4 more online'"
      ]
     },
     "execution_count": 6,
     "metadata": {},
     "output_type": "execute_result"
    }
   ],
   "source": [
    "chatroom([\"pap_ier44\", \"townieBOY\", \"panda321\", \"motor_bike5\", \"sandwichmaker833\", \"violinist91\"])"
   ]
  },
  {
   "cell_type": "markdown",
   "id": "acf32bb9",
   "metadata": {},
   "source": [
    "Q2) Create a function that returns the number of palindrome numbers in a specified range (inclusive).\n",
    "\n",
    "For example, between 8 and 34, there are 5 palindromes: 8, 9, 11, 22 and 33. Between 1550 and 1552 there is exactly one palindrome: 1551.\n",
    "\n",
    "Examples\n",
    "count_palindromes(1, 10) ➞ 9\n",
    "\n",
    "count_palindromes(555, 556) ➞ 1\n",
    "\n",
    "count_palindromes(878, 898) ➞ 3\n",
    "Notes\n",
    "A palindrome number is a number which remains the same when its digits are reversed. For example, 2552 reversed is still 2552. The reflectional symmetry of this number makes it a palindromic number.\n",
    "Single-digit numbers are trivially palindrome numbers."
   ]
  },
  {
   "cell_type": "code",
   "execution_count": 14,
   "id": "0cadbe81",
   "metadata": {},
   "outputs": [],
   "source": [
    "def count_palindromes(i,e):\n",
    "    count=0\n",
    "    for x in range(i,e+1):\n",
    "        a=str(x)\n",
    "        if a==a[::-1]:\n",
    "            count+=1\n",
    "        else:\n",
    "            continue\n",
    "    return count"
   ]
  },
  {
   "cell_type": "code",
   "execution_count": 15,
   "id": "aca2ca58",
   "metadata": {},
   "outputs": [
    {
     "data": {
      "text/plain": [
       "9"
      ]
     },
     "execution_count": 15,
     "metadata": {},
     "output_type": "execute_result"
    }
   ],
   "source": [
    "count_palindromes(1, 10)"
   ]
  },
  {
   "cell_type": "code",
   "execution_count": 16,
   "id": "12d88392",
   "metadata": {},
   "outputs": [
    {
     "data": {
      "text/plain": [
       "1"
      ]
     },
     "execution_count": 16,
     "metadata": {},
     "output_type": "execute_result"
    }
   ],
   "source": [
    "count_palindromes(555, 556)"
   ]
  },
  {
   "cell_type": "code",
   "execution_count": 17,
   "id": "b45397a6",
   "metadata": {},
   "outputs": [
    {
     "data": {
      "text/plain": [
       "3"
      ]
     },
     "execution_count": 17,
     "metadata": {},
     "output_type": "execute_result"
    }
   ],
   "source": [
    "count_palindromes(878, 898)"
   ]
  },
  {
   "cell_type": "code",
   "execution_count": 18,
   "id": "438a2409",
   "metadata": {},
   "outputs": [
    {
     "data": {
      "text/plain": [
       "5"
      ]
     },
     "execution_count": 18,
     "metadata": {},
     "output_type": "execute_result"
    }
   ],
   "source": [
    "count_palindromes(8, 34)"
   ]
  },
  {
   "cell_type": "code",
   "execution_count": 19,
   "id": "0f86f4e3",
   "metadata": {},
   "outputs": [
    {
     "data": {
      "text/plain": [
       "1"
      ]
     },
     "execution_count": 19,
     "metadata": {},
     "output_type": "execute_result"
    }
   ],
   "source": [
    "count_palindromes(1550, 1556)"
   ]
  },
  {
   "cell_type": "markdown",
   "id": "8141e69c",
   "metadata": {},
   "source": [
    "    \n",
    "Q3)Create a function that returns the sum of all even elements in a 2D matrix.\n",
    "    \n",
    "    Examples\n",
    "\n",
    "    sum_of_evens([\n",
    "      [1, 0, 2],\n",
    "      [5, 5, 7],\n",
    "      [9, 4, 3]\n",
    "    ]) ➞ 6\n",
    "\n",
    "    // 2 + 4 = 6\n",
    "\n",
    "    sum_of_evens([\n",
    "      [1, 1],\n",
    "      [1, 1]\n",
    "    ]) ➞ 0\n",
    "\n",
    "    sum_of_evens([\n",
    "      [42, 9],\n",
    "      [16, 8]\n",
    "    ]) ➞ 66\n",
    "\n",
    "    sum_of_evens([\n",
    "      [],\n",
    "      [],\n",
    "      []\n",
    "    ]) ➞ 0\n",
    "    Notes\n",
    "    Submatrices will be of equal length.\n",
    "    Return 0 if the 2D matrix only consists of empty submatrices."
   ]
  },
  {
   "cell_type": "code",
   "execution_count": 20,
   "id": "06bb0043",
   "metadata": {},
   "outputs": [],
   "source": [
    "def sum_of_evens(l):\n",
    "    a=0\n",
    "    for x in l:\n",
    "        for y in range(len(x)):\n",
    "            if x[y]%2==0:\n",
    "                a+=x[y]\n",
    "            else:\n",
    "                continue\n",
    "    return a"
   ]
  },
  {
   "cell_type": "code",
   "execution_count": 21,
   "id": "b7a45a79",
   "metadata": {},
   "outputs": [
    {
     "data": {
      "text/plain": [
       "6"
      ]
     },
     "execution_count": 21,
     "metadata": {},
     "output_type": "execute_result"
    }
   ],
   "source": [
    "sum_of_evens([\n",
    "  [1, 0, 2],\n",
    "  [5, 5, 7],\n",
    "  [9, 4, 3]\n",
    "])"
   ]
  },
  {
   "cell_type": "code",
   "execution_count": 22,
   "id": "48922fc0",
   "metadata": {},
   "outputs": [
    {
     "data": {
      "text/plain": [
       "0"
      ]
     },
     "execution_count": 22,
     "metadata": {},
     "output_type": "execute_result"
    }
   ],
   "source": [
    "sum_of_evens([\n",
    "  [1, 1],\n",
    "  [1, 1]\n",
    "])"
   ]
  },
  {
   "cell_type": "code",
   "execution_count": 23,
   "id": "ab5f743a",
   "metadata": {},
   "outputs": [
    {
     "data": {
      "text/plain": [
       "66"
      ]
     },
     "execution_count": 23,
     "metadata": {},
     "output_type": "execute_result"
    }
   ],
   "source": [
    "sum_of_evens([\n",
    "  [42, 9],\n",
    "  [16, 8]\n",
    "])"
   ]
  },
  {
   "cell_type": "code",
   "execution_count": 24,
   "id": "67e5ca4b",
   "metadata": {},
   "outputs": [
    {
     "data": {
      "text/plain": [
       "0"
      ]
     },
     "execution_count": 24,
     "metadata": {},
     "output_type": "execute_result"
    }
   ],
   "source": [
    "sum_of_evens([\n",
    "  [],\n",
    "  [],\n",
    "  []\n",
    "])"
   ]
  },
  {
   "cell_type": "code",
   "execution_count": 25,
   "id": "d7294feb",
   "metadata": {},
   "outputs": [
    {
     "data": {
      "text/plain": [
       "24"
      ]
     },
     "execution_count": 25,
     "metadata": {},
     "output_type": "execute_result"
    }
   ],
   "source": [
    "sum_of_evens([[1, 5, 1, 3],[4, 1, 2, 0],[6, 9, 7, 4],[5, 1, 2, 6]])"
   ]
  },
  {
   "cell_type": "code",
   "execution_count": 26,
   "id": "6257339d",
   "metadata": {},
   "outputs": [
    {
     "data": {
      "text/plain": [
       "16"
      ]
     },
     "execution_count": 26,
     "metadata": {},
     "output_type": "execute_result"
    }
   ],
   "source": [
    "sum_of_evens([[2, 19, 5, 43],[67, 2, 0, 12]])"
   ]
  },
  {
   "cell_type": "markdown",
   "id": "a9a95b0b",
   "metadata": {},
   "source": [
    "Q4) Write a function that takes a string, breaks it up and returns it with vowels first, consonants second. For any character    that's not a vowel (like special characters or spaces), treat them like consonants.\n",
    "\n",
    "    Examples\n",
    "    split(\"abcde\") ➞ \"aebcd\"\n",
    "\n",
    "    split(\"Hello!\") ➞ \"eoHll!\"\n",
    "\n",
    "    split(\"What's the time?\") ➞ \"aeieWht's th tm?\"\n",
    "    Notes\n",
    "    Vowels are a, e, i, o, u.\n",
    "    Define a separate is_vowel() function for easier to read code (recommendation)."
   ]
  },
  {
   "cell_type": "code",
   "execution_count": 27,
   "id": "7a50ec5d",
   "metadata": {},
   "outputs": [],
   "source": [
    "def split(s):\n",
    "    a=\"\";b=\"\"\n",
    "    for x in s:\n",
    "        if x==\"a\" or x==\"e\" or x==\"i\" or x==\"o\" or x==\"u\" or x==\"A\" or x==\"E\" or x==\"I\" or x==\"O\" or x==\"U\":\n",
    "            a+=x\n",
    "        else:\n",
    "            b+=x\n",
    "    return a+b"
   ]
  },
  {
   "cell_type": "code",
   "execution_count": 28,
   "id": "6fc4b639",
   "metadata": {},
   "outputs": [
    {
     "data": {
      "text/plain": [
       "'aebcd'"
      ]
     },
     "execution_count": 28,
     "metadata": {},
     "output_type": "execute_result"
    }
   ],
   "source": [
    "split(\"abcde\")"
   ]
  },
  {
   "cell_type": "code",
   "execution_count": 29,
   "id": "a278d11e",
   "metadata": {},
   "outputs": [
    {
     "data": {
      "text/plain": [
       "'eoHll!'"
      ]
     },
     "execution_count": 29,
     "metadata": {},
     "output_type": "execute_result"
    }
   ],
   "source": [
    "split(\"Hello!\")"
   ]
  },
  {
   "cell_type": "code",
   "execution_count": 30,
   "id": "ab2a8d08",
   "metadata": {},
   "outputs": [
    {
     "data": {
      "text/plain": [
       "\"aeieWht's th tm?\""
      ]
     },
     "execution_count": 30,
     "metadata": {},
     "output_type": "execute_result"
    }
   ],
   "source": [
    "split(\"What's the time?\")"
   ]
  },
  {
   "cell_type": "markdown",
   "id": "98c1f110",
   "metadata": {},
   "source": [
    "Q5)\n",
    "    Create a function that takes a string as an argument and returns a coded (h4ck3r 5p34k) version of the string.\n",
    "\n",
    "    Examples\n",
    "    hacker_speak(\"javascript is cool\") ➞ \"j4v45cr1pt 15 c00l\"\n",
    "\n",
    "    hacker_speak(\"programming is fun\") ➞ \"pr0gr4mm1ng 15 fun\"\n",
    "    hacker_speak(\"become a coder\") ➞ \"b3c0m3 4 c0d3r\"\n",
    "    \n",
    "    Notes:\n",
    "    In order to work properly,the function should replace all \"a\"s with 4,\"e\"s with 3,\"i\"s with 1,\"o\"s with 0,and \"s\"s with 5."
   ]
  },
  {
   "cell_type": "code",
   "execution_count": 34,
   "id": "1359ea96",
   "metadata": {},
   "outputs": [],
   "source": [
    "def hacker_speak(s):\n",
    "    table=s.maketrans(\"aeios\",\"43105\")\n",
    "    return s.translate(table)"
   ]
  },
  {
   "cell_type": "code",
   "execution_count": 35,
   "id": "145ba015",
   "metadata": {},
   "outputs": [
    {
     "data": {
      "text/plain": [
       "'j4v45cr1pt 15 c00l'"
      ]
     },
     "execution_count": 35,
     "metadata": {},
     "output_type": "execute_result"
    }
   ],
   "source": [
    "hacker_speak(\"javascript is cool\")"
   ]
  },
  {
   "cell_type": "code",
   "execution_count": 36,
   "id": "decac949",
   "metadata": {},
   "outputs": [
    {
     "data": {
      "text/plain": [
       "'pr0gr4mm1ng 15 fun'"
      ]
     },
     "execution_count": 36,
     "metadata": {},
     "output_type": "execute_result"
    }
   ],
   "source": [
    "hacker_speak(\"programming is fun\")"
   ]
  },
  {
   "cell_type": "code",
   "execution_count": 37,
   "id": "905b9a81",
   "metadata": {},
   "outputs": [
    {
     "data": {
      "text/plain": [
       "'b3c0m3 4 c0d3r'"
      ]
     },
     "execution_count": 37,
     "metadata": {},
     "output_type": "execute_result"
    }
   ],
   "source": [
    "hacker_speak(\"become a coder\")"
   ]
  },
  {
   "cell_type": "markdown",
   "id": "7bf53e40",
   "metadata": {},
   "source": [
    "Q6) \n",
    "Create a function that takes in a year and returns the correct century.\n",
    "\n",
    "    Examples\n",
    "    century(1756) ➞ \"18th century\"\n",
    "\n",
    "    century(1555) ➞ \"16th century\"\n",
    "\n",
    "    century(1000) ➞ \"10th century\"\n",
    "\n",
    "    century(1001) ➞ \"11th century\"\n",
    "\n",
    "    century(2005) ➞ \"21st century\"\n",
    "    Notes\n",
    "    All years will be between 1000 and 2010.\n",
    "    The 11th century is between 1001 and 1100.\n",
    "    The 18th century is between 1701-1800."
   ]
  },
  {
   "cell_type": "code",
   "execution_count": 42,
   "id": "ed3d7645",
   "metadata": {},
   "outputs": [],
   "source": [
    "def century(x):\n",
    "    return \"{}th century\".format((x//100)+1)"
   ]
  },
  {
   "cell_type": "code",
   "execution_count": 43,
   "id": "43624e0f",
   "metadata": {},
   "outputs": [
    {
     "data": {
      "text/plain": [
       "'18th century'"
      ]
     },
     "execution_count": 43,
     "metadata": {},
     "output_type": "execute_result"
    }
   ],
   "source": [
    "century(1756)"
   ]
  },
  {
   "cell_type": "code",
   "execution_count": 44,
   "id": "d2c0de6d",
   "metadata": {},
   "outputs": [
    {
     "data": {
      "text/plain": [
       "'16th century'"
      ]
     },
     "execution_count": 44,
     "metadata": {},
     "output_type": "execute_result"
    }
   ],
   "source": [
    "century(1555)"
   ]
  },
  {
   "cell_type": "code",
   "execution_count": 45,
   "id": "40aab9d2",
   "metadata": {},
   "outputs": [
    {
     "data": {
      "text/plain": [
       "'11th century'"
      ]
     },
     "execution_count": 45,
     "metadata": {},
     "output_type": "execute_result"
    }
   ],
   "source": [
    "century(1000)"
   ]
  },
  {
   "cell_type": "code",
   "execution_count": 46,
   "id": "6a4f7f62",
   "metadata": {},
   "outputs": [
    {
     "data": {
      "text/plain": [
       "'21th century'"
      ]
     },
     "execution_count": 46,
     "metadata": {},
     "output_type": "execute_result"
    }
   ],
   "source": [
    "century(2005)"
   ]
  },
  {
   "cell_type": "markdown",
   "id": "58b3c828",
   "metadata": {},
   "source": [
    "## Condition"
   ]
  },
  {
   "cell_type": "markdown",
   "id": "de5bd804",
   "metadata": {},
   "source": [
    "Q1) Luke Skywalker has family and friends. Help him remind them who is who. Given a string with a name, return the relation of that person to Luke.\n",
    "\n",
    "    Person\t     Relation\n",
    "    Darth Vader  father\n",
    "    Leia\t     sister\n",
    "    Han\t     brother in law\n",
    "    R2D2\t     droid\n",
    "    Examples\n",
    "    relation_to_luke(\"Darth Vader\") ➞ \"Luke, I am your father.\"\n",
    "\n",
    "    relation_to_luke(\"Leia\") ➞ \"Luke, I am your sister.\"\n",
    "\n",
    "    relation_to_luke(\"Han\") ➞ \"Luke, I am your brother in law.\""
   ]
  },
  {
   "cell_type": "code",
   "execution_count": 72,
   "id": "f80e3e24",
   "metadata": {},
   "outputs": [],
   "source": [
    "def relation_to_luke(s):\n",
    "    x={\"Darth Vader\":\"father\",\"Leia\":\"sister\",\"Han\":\"brother-in-law\",\"R2D2\":\"droid\"}\n",
    "    return \"Luke, I am your {}.\".format(x[s])"
   ]
  },
  {
   "cell_type": "code",
   "execution_count": 73,
   "id": "38aa71e7",
   "metadata": {},
   "outputs": [
    {
     "data": {
      "text/plain": [
       "'Luke, I am your father.'"
      ]
     },
     "execution_count": 73,
     "metadata": {},
     "output_type": "execute_result"
    }
   ],
   "source": [
    "relation_to_luke(\"Darth Vader\")"
   ]
  },
  {
   "cell_type": "code",
   "execution_count": 74,
   "id": "2dfe80c8",
   "metadata": {},
   "outputs": [
    {
     "data": {
      "text/plain": [
       "'Luke, I am your sister.'"
      ]
     },
     "execution_count": 74,
     "metadata": {},
     "output_type": "execute_result"
    }
   ],
   "source": [
    "relation_to_luke(\"Leia\")"
   ]
  },
  {
   "cell_type": "code",
   "execution_count": 75,
   "id": "f27f26ef",
   "metadata": {},
   "outputs": [
    {
     "data": {
      "text/plain": [
       "'Luke, I am your brother-in-law.'"
      ]
     },
     "execution_count": 75,
     "metadata": {},
     "output_type": "execute_result"
    }
   ],
   "source": [
    "relation_to_luke(\"Han\")"
   ]
  },
  {
   "cell_type": "code",
   "execution_count": 76,
   "id": "d0f24483",
   "metadata": {},
   "outputs": [
    {
     "data": {
      "text/plain": [
       "'Luke, I am your droid.'"
      ]
     },
     "execution_count": 76,
     "metadata": {},
     "output_type": "execute_result"
    }
   ],
   "source": [
    "relation_to_luke(\"R2D2\")"
   ]
  },
  {
   "cell_type": "markdown",
   "id": "926bd543",
   "metadata": {},
   "source": [
    "Q2) Create a function that takes damage and speed (attacks per second) and returns the amount of damage after a given time.\n",
    "\n",
    "    Examples\n",
    "    damage(40, 5, \"second\") ➞ 200\n",
    "\n",
    "    damage(100, 1, \"minute\") ➞ 6000\n",
    "\n",
    "    damage(2, 100, \"hour\") ➞ 720000\n",
    "    Notes\n",
    "    Return \"invalid\" if damage or speed is negative."
   ]
  },
  {
   "cell_type": "code",
   "execution_count": 84,
   "id": "01eab1be",
   "metadata": {},
   "outputs": [],
   "source": [
    "def damage(d,s,t):\n",
    "    if t==\"second\" and d>0 and s>0:\n",
    "        return d*s\n",
    "    elif t==\"minute\" and d>0 and s>0:\n",
    "        return d*s*60\n",
    "    elif t==\"hour\" and d>0 and s>0:\n",
    "        return d*s*3600\n",
    "    else:\n",
    "        return \"Invalid\""
   ]
  },
  {
   "cell_type": "code",
   "execution_count": 85,
   "id": "81b9e729",
   "metadata": {},
   "outputs": [
    {
     "data": {
      "text/plain": [
       "200"
      ]
     },
     "execution_count": 85,
     "metadata": {},
     "output_type": "execute_result"
    }
   ],
   "source": [
    "damage(40, 5, \"second\")"
   ]
  },
  {
   "cell_type": "code",
   "execution_count": 86,
   "id": "5060b37f",
   "metadata": {},
   "outputs": [
    {
     "data": {
      "text/plain": [
       "6000"
      ]
     },
     "execution_count": 86,
     "metadata": {},
     "output_type": "execute_result"
    }
   ],
   "source": [
    "damage(100, 1, \"minute\")"
   ]
  },
  {
   "cell_type": "code",
   "execution_count": 87,
   "id": "cf6bb47d",
   "metadata": {},
   "outputs": [
    {
     "data": {
      "text/plain": [
       "720000"
      ]
     },
     "execution_count": 87,
     "metadata": {},
     "output_type": "execute_result"
    }
   ],
   "source": [
    "damage(2, 100, \"hour\")"
   ]
  },
  {
   "cell_type": "code",
   "execution_count": 88,
   "id": "d2f45946",
   "metadata": {},
   "outputs": [
    {
     "data": {
      "text/plain": [
       "600.0"
      ]
     },
     "execution_count": 88,
     "metadata": {},
     "output_type": "execute_result"
    }
   ],
   "source": [
    "damage(20, 0.5, \"minute\")"
   ]
  },
  {
   "cell_type": "code",
   "execution_count": 89,
   "id": "7d4225ec",
   "metadata": {},
   "outputs": [
    {
     "data": {
      "text/plain": [
       "2880000"
      ]
     },
     "execution_count": 89,
     "metadata": {},
     "output_type": "execute_result"
    }
   ],
   "source": [
    "damage(2, 400, \"hour\")"
   ]
  },
  {
   "cell_type": "code",
   "execution_count": 90,
   "id": "2240f14c",
   "metadata": {},
   "outputs": [
    {
     "data": {
      "text/plain": [
       "'Invalid'"
      ]
     },
     "execution_count": 90,
     "metadata": {},
     "output_type": "execute_result"
    }
   ],
   "source": [
    "damage(-23, 20, \"second\")"
   ]
  },
  {
   "cell_type": "code",
   "execution_count": 91,
   "id": "e29daab4",
   "metadata": {},
   "outputs": [
    {
     "data": {
      "text/plain": [
       "'Invalid'"
      ]
     },
     "execution_count": 91,
     "metadata": {},
     "output_type": "execute_result"
    }
   ],
   "source": [
    "damage(-23, -5, \"second\")"
   ]
  },
  {
   "cell_type": "markdown",
   "id": "f8474a04",
   "metadata": {},
   "source": [
    "Q3)Create a function that takes a number as input and returns True if the sum of its digits has the same parity as the entire number. Otherwise, return False.\n",
    "\n",
    "    Examples\n",
    "    parity_analysis(243) ➞ True\n",
    "    243 is odd and so is 9 (2 + 4 + 3)\n",
    "\n",
    "    parity_analysis(12) ➞ False\n",
    "    12 is even but 3 is odd (1 + 2)\n",
    "\n",
    "    parity_analysis(3) ➞ True\n",
    "    3 is odd and 3 is odd and 3 is odd (3)\n",
    "    Notes: Parity is whether a number is even or odd. If the sum of the digits is even and the number itself is even, return True.The same goes if the number is odd and so is the sum of its digits.Single digits will obviously have the same parities (see example #3)."
   ]
  },
  {
   "cell_type": "code",
   "execution_count": 129,
   "id": "fbfe3e9c",
   "metadata": {},
   "outputs": [],
   "source": [
    "def parity_analysis(x):\n",
    "    a=0;y=str(x)\n",
    "    for z in y:\n",
    "        b=int(z)\n",
    "        n=b%10\n",
    "        a+=n\n",
    "    return (a%2!=0 and x%2!=0 or a%2==0 and x%2==0)"
   ]
  },
  {
   "cell_type": "code",
   "execution_count": 130,
   "id": "0f4f91da",
   "metadata": {},
   "outputs": [
    {
     "data": {
      "text/plain": [
       "True"
      ]
     },
     "execution_count": 130,
     "metadata": {},
     "output_type": "execute_result"
    }
   ],
   "source": [
    "parity_analysis(243)"
   ]
  },
  {
   "cell_type": "code",
   "execution_count": 131,
   "id": "33666381",
   "metadata": {},
   "outputs": [
    {
     "data": {
      "text/plain": [
       "False"
      ]
     },
     "execution_count": 131,
     "metadata": {},
     "output_type": "execute_result"
    }
   ],
   "source": [
    "parity_analysis(12)"
   ]
  },
  {
   "cell_type": "code",
   "execution_count": 132,
   "id": "c0cc0499",
   "metadata": {},
   "outputs": [
    {
     "data": {
      "text/plain": [
       "True"
      ]
     },
     "execution_count": 132,
     "metadata": {},
     "output_type": "execute_result"
    }
   ],
   "source": [
    "parity_analysis(3)"
   ]
  },
  {
   "cell_type": "code",
   "execution_count": 133,
   "id": "28b397f2",
   "metadata": {},
   "outputs": [
    {
     "data": {
      "text/plain": [
       "True"
      ]
     },
     "execution_count": 133,
     "metadata": {},
     "output_type": "execute_result"
    }
   ],
   "source": [
    "parity_analysis(4)"
   ]
  },
  {
   "cell_type": "code",
   "execution_count": 134,
   "id": "ed6f753d",
   "metadata": {},
   "outputs": [
    {
     "data": {
      "text/plain": [
       "True"
      ]
     },
     "execution_count": 134,
     "metadata": {},
     "output_type": "execute_result"
    }
   ],
   "source": [
    "parity_analysis(0)"
   ]
  },
  {
   "cell_type": "markdown",
   "id": "af55e829",
   "metadata": {},
   "source": [
    "Q4) Create a function that takes a string, checks if it has the same number of \"x\"s and \"o\"s and returns either True or False.\n",
    "\n",
    "    Return a boolean value (True or False).\n",
    "    Return True if the amount of x's and o's are the same.\n",
    "    Return False if they aren't the same amount.\n",
    "    The string can contain any character.\n",
    "    When \"x\" and \"o\" are not in the string, return True.\n",
    "    Examples\n",
    "    XO(\"ooxx\") ➞ True\n",
    "\n",
    "    XO(\"xooxx\") ➞ False\n",
    "\n",
    "    XO(\"ooxXm\") ➞ True\n",
    "    # Case insensitive.\n",
    "\n",
    "    XO(\"zpzpzpp\") ➞ True\n",
    "    # Returns True if no x and o.\n",
    "\n",
    "    XO(\"zzoo\") ➞ False\n",
    "    Notes\n",
    "    Remember to return True if there aren't any x's or o's.\n",
    "    Must be case insensitive."
   ]
  },
  {
   "cell_type": "code",
   "execution_count": 119,
   "id": "512fe99f",
   "metadata": {},
   "outputs": [],
   "source": [
    "def XO(s):\n",
    "    s.lower()\n",
    "    if s.count(\"x\")==s.count(\"o\") or s.find(\"x\")<0 and s.find(\"o\")<0:\n",
    "        return True\n",
    "    else:\n",
    "        return False"
   ]
  },
  {
   "cell_type": "code",
   "execution_count": 120,
   "id": "bd1c2716",
   "metadata": {},
   "outputs": [
    {
     "data": {
      "text/plain": [
       "True"
      ]
     },
     "execution_count": 120,
     "metadata": {},
     "output_type": "execute_result"
    }
   ],
   "source": [
    "XO(\"ooxx\")"
   ]
  },
  {
   "cell_type": "code",
   "execution_count": 121,
   "id": "60c1bf71",
   "metadata": {},
   "outputs": [
    {
     "data": {
      "text/plain": [
       "False"
      ]
     },
     "execution_count": 121,
     "metadata": {},
     "output_type": "execute_result"
    }
   ],
   "source": [
    "XO(\"xooxx\")"
   ]
  },
  {
   "cell_type": "code",
   "execution_count": 123,
   "id": "63032baf",
   "metadata": {},
   "outputs": [
    {
     "data": {
      "text/plain": [
       "False"
      ]
     },
     "execution_count": 123,
     "metadata": {},
     "output_type": "execute_result"
    }
   ],
   "source": [
    "XO(\"ooxXm\")"
   ]
  },
  {
   "cell_type": "code",
   "execution_count": 124,
   "id": "4f73bfa4",
   "metadata": {},
   "outputs": [
    {
     "data": {
      "text/plain": [
       "True"
      ]
     },
     "execution_count": 124,
     "metadata": {},
     "output_type": "execute_result"
    }
   ],
   "source": [
    "XO(\"zpzpzpp\")"
   ]
  },
  {
   "cell_type": "code",
   "execution_count": 125,
   "id": "3ee0eb74",
   "metadata": {},
   "outputs": [
    {
     "data": {
      "text/plain": [
       "False"
      ]
     },
     "execution_count": 125,
     "metadata": {},
     "output_type": "execute_result"
    }
   ],
   "source": [
    "XO(\"zzoo\")"
   ]
  },
  {
   "cell_type": "markdown",
   "id": "e939011f",
   "metadata": {},
   "source": [
    "Q5) Create a function that reverses a boolean value and returns the string \"boolean expected\" if another variable type is given.\n",
    "\n",
    "    Examples\n",
    "    reverse(True) ➞ False\n",
    "\n",
    "    reverse(False) ➞ True\n",
    "\n",
    "    reverse(0) ➞ \"boolean expected\"\n",
    "\n",
    "    reverse(None) ➞ \"boolean expected\"\n",
    "    Notes\n",
    "    Don't forget to return the result.\n",
    "    If you get stuck on a challenge, find help in the Resources tab.\n",
    "    If you're really stuck, unlock solutions in the Solutions tab."
   ]
  },
  {
   "cell_type": "code",
   "execution_count": 136,
   "id": "c2d244a9",
   "metadata": {},
   "outputs": [],
   "source": [
    "def reverse(x):\n",
    "    if type(x)==bool:\n",
    "        if x==True:\n",
    "            return False\n",
    "        else:\n",
    "            return True\n",
    "    else:\n",
    "        return \"boolean expected\""
   ]
  },
  {
   "cell_type": "code",
   "execution_count": 137,
   "id": "1e41addd",
   "metadata": {},
   "outputs": [
    {
     "data": {
      "text/plain": [
       "False"
      ]
     },
     "execution_count": 137,
     "metadata": {},
     "output_type": "execute_result"
    }
   ],
   "source": [
    "reverse(True)"
   ]
  },
  {
   "cell_type": "code",
   "execution_count": 138,
   "id": "5bf7cd32",
   "metadata": {},
   "outputs": [
    {
     "data": {
      "text/plain": [
       "True"
      ]
     },
     "execution_count": 138,
     "metadata": {},
     "output_type": "execute_result"
    }
   ],
   "source": [
    "reverse(False)"
   ]
  },
  {
   "cell_type": "code",
   "execution_count": 139,
   "id": "965a3fb7",
   "metadata": {},
   "outputs": [
    {
     "data": {
      "text/plain": [
       "'boolean expected'"
      ]
     },
     "execution_count": 139,
     "metadata": {},
     "output_type": "execute_result"
    }
   ],
   "source": [
    "reverse(0)"
   ]
  },
  {
   "cell_type": "code",
   "execution_count": 140,
   "id": "1b953cc1",
   "metadata": {},
   "outputs": [
    {
     "data": {
      "text/plain": [
       "'boolean expected'"
      ]
     },
     "execution_count": 140,
     "metadata": {},
     "output_type": "execute_result"
    }
   ],
   "source": [
    "reverse(None)"
   ]
  },
  {
   "cell_type": "markdown",
   "id": "ff2c637a",
   "metadata": {},
   "source": [
    "Q6) Using list comprehensions, create a function that finds all even numbers from 1 to the given number.\n",
    "\n",
    "    Examples\n",
    "    find_even_nums(8) ➞ [2, 4, 6, 8]\n",
    "\n",
    "    find_even_nums(4) ➞ [2, 4]\n",
    "\n",
    "    find_even_nums(2) ➞ [2]\n",
    "    Try to use list comprehensions in your solution. Here's an example:\n",
    "\n",
    "    vals = [expression \n",
    "      for value in collection \n",
    "        if condition]\n",
    "    This is equivalent to:\n",
    "\n",
    "    vals = []\n",
    "    for value in collection:\n",
    "      if condition:\n",
    "        vals.append(expression)\n",
    "    Notes\n",
    "    Try to use list comprehensions instead of logic.\n",
    "    If there are no even numbers, return an empty list"
   ]
  },
  {
   "cell_type": "code",
   "execution_count": 151,
   "id": "007fd5f6",
   "metadata": {},
   "outputs": [],
   "source": [
    "def find_even_nums(x):\n",
    "    l=[]\n",
    "    for y in range(1,x+1):\n",
    "        if y%2==0:\n",
    "            l.append(y)\n",
    "        else:\n",
    "            continue\n",
    "    return l"
   ]
  },
  {
   "cell_type": "code",
   "execution_count": 152,
   "id": "7b6de4c3",
   "metadata": {},
   "outputs": [
    {
     "data": {
      "text/plain": [
       "[2, 4, 6, 8]"
      ]
     },
     "execution_count": 152,
     "metadata": {},
     "output_type": "execute_result"
    }
   ],
   "source": [
    "find_even_nums(8)"
   ]
  },
  {
   "cell_type": "code",
   "execution_count": 153,
   "id": "72d70612",
   "metadata": {},
   "outputs": [
    {
     "data": {
      "text/plain": [
       "[2, 4]"
      ]
     },
     "execution_count": 153,
     "metadata": {},
     "output_type": "execute_result"
    }
   ],
   "source": [
    "find_even_nums(4)"
   ]
  },
  {
   "cell_type": "code",
   "execution_count": 154,
   "id": "09e92c1c",
   "metadata": {},
   "outputs": [
    {
     "data": {
      "text/plain": [
       "[2]"
      ]
     },
     "execution_count": 154,
     "metadata": {},
     "output_type": "execute_result"
    }
   ],
   "source": [
    "find_even_nums(2)"
   ]
  },
  {
   "cell_type": "markdown",
   "id": "9431e843",
   "metadata": {},
   "source": [
    "Q7) Create a function that takes a list of strings and integers, and filters out the list so that it returns a list of integers only.\n",
    "\n",
    "    Examples\n",
    "    filter_list([1, 2, 3, \"a\", \"b\", 4]) ➞ [1, 2, 3, 4]\n",
    "\n",
    "    filter_list([\"A\", 0, \"Edabit\", 1729, \"Python\", \"1729\"]) ➞ [0, 1729]\n",
    "\n",
    "    filter_list([\"Nothing\", \"here\"]) ➞ []\n",
    "    Notes\n",
    "    Don't overthink this one."
   ]
  },
  {
   "cell_type": "code",
   "execution_count": 145,
   "id": "ff865ff2",
   "metadata": {},
   "outputs": [],
   "source": [
    "def filter_list(l):\n",
    "    l1=[]\n",
    "    for x in l:\n",
    "        if type(x)==int:\n",
    "            l1.append(x)\n",
    "        else:\n",
    "            continue\n",
    "    return l1"
   ]
  },
  {
   "cell_type": "code",
   "execution_count": 146,
   "id": "79103ecf",
   "metadata": {},
   "outputs": [
    {
     "data": {
      "text/plain": [
       "[1, 2, 3, 4]"
      ]
     },
     "execution_count": 146,
     "metadata": {},
     "output_type": "execute_result"
    }
   ],
   "source": [
    "filter_list([1, 2, 3, \"a\", \"b\", 4])"
   ]
  },
  {
   "cell_type": "code",
   "execution_count": 147,
   "id": "5effcc44",
   "metadata": {},
   "outputs": [
    {
     "data": {
      "text/plain": [
       "[0, 1729]"
      ]
     },
     "execution_count": 147,
     "metadata": {},
     "output_type": "execute_result"
    }
   ],
   "source": [
    "filter_list([\"A\", 0, \"Edabit\", 1729, \"Python\", \"1729\"])"
   ]
  },
  {
   "cell_type": "code",
   "execution_count": 148,
   "id": "0479d37d",
   "metadata": {},
   "outputs": [
    {
     "data": {
      "text/plain": [
       "[]"
      ]
     },
     "execution_count": 148,
     "metadata": {},
     "output_type": "execute_result"
    }
   ],
   "source": [
    "filter_list([\"Nothing\", \"here\"])"
   ]
  },
  {
   "cell_type": "markdown",
   "id": "3664f3e7",
   "metadata": {},
   "source": [
    "Q8) Write a function that takes a list and a number as arguments. Add the number to the end of the list, then remove the first element of the list. The function should then return the updated list.\n",
    "\n",
    "    Examples\n",
    "    next_in_line([5, 6, 7, 8, 9], 1) ➞ [6, 7, 8, 9, 1]\n",
    "\n",
    "    next_in_line([7, 6, 3, 23, 17], 10) ➞ [6, 3, 23, 17, 10]\n",
    "\n",
    "    next_in_line([1, 10, 20, 42 ], 6) ➞ [10, 20, 42, 6]\n",
    "\n",
    "    next_in_line([], 6) ➞ \"No list has been selected\"\n",
    "    Notes\n",
    "    For an empty list input, return: \"No list has been selected\""
   ]
  },
  {
   "cell_type": "code",
   "execution_count": 163,
   "id": "961ac00f",
   "metadata": {},
   "outputs": [],
   "source": [
    "def next_in_line(l,x):\n",
    "    if len(l)>0:\n",
    "        l.pop(0)\n",
    "        l.append(x)\n",
    "        return l\n",
    "    else:\n",
    "        return \"No list has been selected\""
   ]
  },
  {
   "cell_type": "code",
   "execution_count": 164,
   "id": "6c0598e3",
   "metadata": {},
   "outputs": [
    {
     "data": {
      "text/plain": [
       "[6, 7, 8, 9, 1]"
      ]
     },
     "execution_count": 164,
     "metadata": {},
     "output_type": "execute_result"
    }
   ],
   "source": [
    "next_in_line([5, 6, 7, 8, 9], 1)"
   ]
  },
  {
   "cell_type": "code",
   "execution_count": 165,
   "id": "dc325ffc",
   "metadata": {},
   "outputs": [
    {
     "data": {
      "text/plain": [
       "[6, 3, 23, 17, 10]"
      ]
     },
     "execution_count": 165,
     "metadata": {},
     "output_type": "execute_result"
    }
   ],
   "source": [
    "next_in_line([7, 6, 3, 23, 17], 10)"
   ]
  },
  {
   "cell_type": "code",
   "execution_count": 166,
   "id": "ec8332ec",
   "metadata": {},
   "outputs": [
    {
     "data": {
      "text/plain": [
       "[10, 20, 42, 6]"
      ]
     },
     "execution_count": 166,
     "metadata": {},
     "output_type": "execute_result"
    }
   ],
   "source": [
    "next_in_line([1, 10, 20, 42 ], 6)"
   ]
  },
  {
   "cell_type": "code",
   "execution_count": 167,
   "id": "d2af2c71",
   "metadata": {},
   "outputs": [
    {
     "data": {
      "text/plain": [
       "'No list has been selected'"
      ]
     },
     "execution_count": 167,
     "metadata": {},
     "output_type": "execute_result"
    }
   ],
   "source": [
    "next_in_line([], 6)"
   ]
  },
  {
   "cell_type": "markdown",
   "id": "a58fcd00",
   "metadata": {},
   "source": [
    "Q9) In BlackJack, cards are counted with -1, 0, 1 values:\n",
    "\n",
    "    2, 3, 4, 5, 6 are counted as +1\n",
    "    7, 8, 9 are counted as 0\n",
    "    10, J, Q, K, A are counted as -1\n",
    "    Create a function that counts the number and returns it from the list of cards provided.\n",
    "\n",
    "    Examples\n",
    "    count([5, 9, 10, 3, \"J\", \"A\", 4, 8, 5]) ➞ 1\n",
    "\n",
    "    count([\"A\", \"A\", \"K\", \"Q\", \"Q\", \"J\"]) ➞ -6\n",
    "\n",
    "    count([\"A\", 5, 5, 2, 6, 2, 3, 8, 9, 7]) ➞ 5\n",
    "    Notes\n",
    "    String inputs will always be upper case.\n",
    "    You do not need to consider case sensitivity.\n",
    "    If the argument is empty, return 0.\n",
    "    No input other than: 2, 3, 4, 5, 6, 7, 8, 9, 10, \"J\", \"Q\", \"K\", \"A\"."
   ]
  },
  {
   "cell_type": "code",
   "execution_count": 190,
   "id": "881c8275",
   "metadata": {},
   "outputs": [],
   "source": [
    "def count_cards(l):\n",
    "    count=0\n",
    "    if len(l)==0:\n",
    "        return 0\n",
    "    else:\n",
    "        for x in l:\n",
    "            if type(x)==int:\n",
    "                if x>1 and x<7:\n",
    "                    count+=1\n",
    "                if x>7 and x<10:\n",
    "                    count+=0\n",
    "                if x==10:\n",
    "                    count+=-1\n",
    "            else:\n",
    "                if x==\"J\" or x==\"Q\" or x==\"K\" or x==\"A\":\n",
    "                    count+=-1\n",
    "                #else:\n",
    "                 #  return \"Wrong Input\"\n",
    "    return count            "
   ]
  },
  {
   "cell_type": "code",
   "execution_count": 191,
   "id": "a9ba036b",
   "metadata": {},
   "outputs": [
    {
     "data": {
      "text/plain": [
       "1"
      ]
     },
     "execution_count": 191,
     "metadata": {},
     "output_type": "execute_result"
    }
   ],
   "source": [
    "count_cards([5, 9, 10, 3, \"J\", \"A\", 4, 8, 5])"
   ]
  },
  {
   "cell_type": "markdown",
   "id": "875ce14e",
   "metadata": {},
   "source": [
    "Q10)Wild Roger is participating in a Western Showdown, meaning he has to draw (pull out and shoot) his gun faster than his opponent in a gun standoff.\n",
    "\n",
    "Given two strings,p1 and p2, return which person drew their gun the fastest. If both are drawn at the same time, return \"tie\".\n",
    "\n",
    "    Examples\n",
    "    showdown(\n",
    "      \"   Bang!        \",\n",
    "      \"        Bang!   \"\n",
    "    ) ➞ \"p1\"\n",
    "\n",
    "    # p1 draws his gun sooner than p2\n",
    "\n",
    "    showdown(\n",
    "      \"               Bang! \",\n",
    "      \"             Bang!   \"\n",
    "    ) ➞ \"p2\"\n",
    "\n",
    "    showdown(\n",
    "      \"     Bang!   \",\n",
    "      \"     Bang!   \"\n",
    "    ) ➞ \"tie\"\n",
    "    Notes\n",
    "    Both strings are the same length."
   ]
  },
  {
   "cell_type": "code",
   "execution_count": 4,
   "id": "293de6de",
   "metadata": {},
   "outputs": [],
   "source": [
    "def showdown(p1,p2):\n",
    "    a=0;b=0\n",
    "    for x in p1:\n",
    "        if x==\" \":\n",
    "            a+=1\n",
    "        else:\n",
    "            break\n",
    "    for y in p2:\n",
    "        if y==\" \":\n",
    "            b+=1\n",
    "        else:\n",
    "            break\n",
    "    if a>b:\n",
    "        return \"p2\"\n",
    "    elif b>a:\n",
    "        return \"p1\"\n",
    "    else:\n",
    "        return \"Tie\""
   ]
  },
  {
   "cell_type": "code",
   "execution_count": 5,
   "id": "30675cf7",
   "metadata": {},
   "outputs": [
    {
     "data": {
      "text/plain": [
       "'p1'"
      ]
     },
     "execution_count": 5,
     "metadata": {},
     "output_type": "execute_result"
    }
   ],
   "source": [
    "showdown(\"   Bang!        \",\"        Bang!   \")"
   ]
  },
  {
   "cell_type": "code",
   "execution_count": 6,
   "id": "e616069a",
   "metadata": {},
   "outputs": [
    {
     "data": {
      "text/plain": [
       "'p2'"
      ]
     },
     "execution_count": 6,
     "metadata": {},
     "output_type": "execute_result"
    }
   ],
   "source": [
    "showdown(\"               Bang! \",\"             Bang!   \")"
   ]
  },
  {
   "cell_type": "code",
   "execution_count": 7,
   "id": "81a61e88",
   "metadata": {},
   "outputs": [
    {
     "data": {
      "text/plain": [
       "'Tie'"
      ]
     },
     "execution_count": 7,
     "metadata": {},
     "output_type": "execute_result"
    }
   ],
   "source": [
    "showdown(\"     Bang!   \",\"     Bang!   \")"
   ]
  },
  {
   "cell_type": "markdown",
   "id": "433f1814",
   "metadata": {},
   "source": [
    "Q11)Create a function that takes a number as an argument and returns True or False depending on whether the number is symmetrical or not. A number is symmetrical when it is the same as its reverse.\n",
    "\n",
    "    Examples\n",
    "    is_symmetrical(7227) ➞ True\n",
    "\n",
    "    is_symmetrical(12567) ➞ False\n",
    "\n",
    "    is_symmetrical(44444444) ➞ True\n",
    "\n",
    "    is_symmetrical(9939) ➞ False\n",
    "\n",
    "    is_symmetrical(1112111) ➞ True"
   ]
  },
  {
   "cell_type": "code",
   "execution_count": 13,
   "id": "0f8e22b8",
   "metadata": {},
   "outputs": [],
   "source": [
    "def is_symmetrical(x):\n",
    "    return (str(x)==str(x)[::-1])"
   ]
  },
  {
   "cell_type": "code",
   "execution_count": 14,
   "id": "bff755a8",
   "metadata": {},
   "outputs": [
    {
     "data": {
      "text/plain": [
       "True"
      ]
     },
     "execution_count": 14,
     "metadata": {},
     "output_type": "execute_result"
    }
   ],
   "source": [
    "is_symmetrical(7227)"
   ]
  },
  {
   "cell_type": "code",
   "execution_count": 15,
   "id": "efb1264a",
   "metadata": {},
   "outputs": [
    {
     "data": {
      "text/plain": [
       "False"
      ]
     },
     "execution_count": 15,
     "metadata": {},
     "output_type": "execute_result"
    }
   ],
   "source": [
    "is_symmetrical(12567)"
   ]
  },
  {
   "cell_type": "code",
   "execution_count": 16,
   "id": "3da77fdd",
   "metadata": {},
   "outputs": [
    {
     "data": {
      "text/plain": [
       "True"
      ]
     },
     "execution_count": 16,
     "metadata": {},
     "output_type": "execute_result"
    }
   ],
   "source": [
    "is_symmetrical(44444444)"
   ]
  },
  {
   "cell_type": "code",
   "execution_count": 17,
   "id": "ce132d79",
   "metadata": {},
   "outputs": [
    {
     "data": {
      "text/plain": [
       "False"
      ]
     },
     "execution_count": 17,
     "metadata": {},
     "output_type": "execute_result"
    }
   ],
   "source": [
    "is_symmetrical(9939)"
   ]
  },
  {
   "cell_type": "code",
   "execution_count": 18,
   "id": "21fd0587",
   "metadata": {},
   "outputs": [
    {
     "data": {
      "text/plain": [
       "True"
      ]
     },
     "execution_count": 18,
     "metadata": {},
     "output_type": "execute_result"
    }
   ],
   "source": [
    "is_symmetrical(1112111)"
   ]
  },
  {
   "cell_type": "markdown",
   "id": "d68a3f7c",
   "metadata": {},
   "source": [
    "Q12)Check the principles of minimalist code in the intro to the first challenge.\n",
    "\n",
    "    In the Code tab you will find a code that is missing a single character in order to pass the tests. However, your goal is to submit a function as minimalist as possible. Use the tips in the tips section below.\n",
    "\n",
    "    Write a function that returns the strings:\n",
    "\n",
    "    \"both\" if both given booleans a and b are True.\n",
    "    \"first\" if only a is True.\n",
    "    \"second\" if only b is True .\n",
    "    \"neither\" if both a and b are False.\n",
    "    Tips\n",
    "    If-else statements can be written as a oneliner using Python's ternary operator.\n",
    "\n",
    "    For example, the code:\n",
    "\n",
    "    def startswith(name):\n",
    "      if name[0] in \"AEIOU\":\n",
    "        return \"vowel\"\n",
    "      else:\n",
    "        return \"consonant\"\n",
    "    Can be simplified to:\n",
    "\n",
    "    def startswith(name):\n",
    "      return \"vowel\" if name[0] in \"AEIOU\" else \"consonant\"\n",
    "    Bonus\n",
    "    You can concatenate as many ternary operators as you want. However, concatenating too many will definitely diminish the readability of your code.\n",
    "\n",
    "    \"majority\" if  x > 50 else \"minority\" if x < 50 else \"draw\"\n",
    "    Notes\n",
    "    This is an open series: there isn't a definite list of features for the challenges. Please, do not hesitate to leave your suggestions in the Comments.\n",
    "    Readability is indeed a subjective concept. Let's discuss it! Feel free to leave your opinion in the Comments.\n",
    "    You can find all the exercises in this series over here."
   ]
  },
  {
   "cell_type": "code",
   "execution_count": 20,
   "id": "31a48263",
   "metadata": {},
   "outputs": [],
   "source": [
    "def are_true(a, b):\n",
    "    if a == True and b == True:\n",
    "        return \"both\"\n",
    "    elif a == True:\n",
    "        return \"first\"\n",
    "    elif b == True:\n",
    "        return \"second\"\n",
    "    else:\n",
    "        return \"neither\""
   ]
  },
  {
   "cell_type": "code",
   "execution_count": 21,
   "id": "74c64b07",
   "metadata": {},
   "outputs": [
    {
     "data": {
      "text/plain": [
       "'both'"
      ]
     },
     "execution_count": 21,
     "metadata": {},
     "output_type": "execute_result"
    }
   ],
   "source": [
    "are_true(True, True)"
   ]
  },
  {
   "cell_type": "code",
   "execution_count": 22,
   "id": "ec6b2734",
   "metadata": {},
   "outputs": [
    {
     "data": {
      "text/plain": [
       "'first'"
      ]
     },
     "execution_count": 22,
     "metadata": {},
     "output_type": "execute_result"
    }
   ],
   "source": [
    "are_true(True, False)"
   ]
  },
  {
   "cell_type": "code",
   "execution_count": 23,
   "id": "f4522005",
   "metadata": {},
   "outputs": [
    {
     "data": {
      "text/plain": [
       "'second'"
      ]
     },
     "execution_count": 23,
     "metadata": {},
     "output_type": "execute_result"
    }
   ],
   "source": [
    "are_true(False, True)"
   ]
  },
  {
   "cell_type": "code",
   "execution_count": 24,
   "id": "d4d61a7b",
   "metadata": {},
   "outputs": [
    {
     "data": {
      "text/plain": [
       "'neither'"
      ]
     },
     "execution_count": 24,
     "metadata": {},
     "output_type": "execute_result"
    }
   ],
   "source": [
    "are_true(False, False)"
   ]
  },
  {
   "cell_type": "markdown",
   "id": "611bb0b8",
   "metadata": {},
   "source": [
    "Q13) I'm trying to watch some lectures to study for my next exam but I keep getting distracted by meme compilations, vine compilations, anime, and more on my favorite video platform.\n",
    "\n",
    "    Your job is to help me create a function that takes a string and checks to see if it contains the following words or phrases:\n",
    "\n",
    "    \"anime\"\n",
    "    \"meme\"\n",
    "    \"vines\"\n",
    "    \"roasts\"\n",
    "    \"Danny DeVito\"\n",
    "    If it does, return \"NO!\". Otherwise, return \"Safe watching!\".\n",
    "\n",
    "    Examples\n",
    "    prevent_distractions(\"vines that butter my eggroll\") ➞ \"NO!\"\n",
    "\n",
    "    prevent_distractions(\"Hot pictures of Danny DeVito\") ➞ \"NO!\"\n",
    "\n",
    "    prevent_distractions(\"How to ace BC Calculus in 5 Easy Steps\") ➞ \"Safe watching"
   ]
  },
  {
   "cell_type": "code",
   "execution_count": 30,
   "id": "5aea5550",
   "metadata": {},
   "outputs": [],
   "source": [
    "def prevent_distractions(s):\n",
    "    y=s.split()\n",
    "    count=0\n",
    "    for x in y:\n",
    "        if x==\"anime\" or x==\"meme\" or x==\"vines\" or x==\"roasts\" or x==\"Danny\" or x==\"DeVito\":\n",
    "            count+=1\n",
    "        else:\n",
    "            continue\n",
    "    if count>0:\n",
    "        return \"NO!\"\n",
    "    else:\n",
    "        return \"Safe watching!\""
   ]
  },
  {
   "cell_type": "code",
   "execution_count": 29,
   "id": "271e009c",
   "metadata": {},
   "outputs": [
    {
     "data": {
      "text/plain": [
       "'NO!'"
      ]
     },
     "execution_count": 29,
     "metadata": {},
     "output_type": "execute_result"
    }
   ],
   "source": [
    "prevent_distractions(\"vines that butter my eggroll\")"
   ]
  },
  {
   "cell_type": "code",
   "execution_count": 31,
   "id": "6a863a96",
   "metadata": {},
   "outputs": [
    {
     "data": {
      "text/plain": [
       "'NO!'"
      ]
     },
     "execution_count": 31,
     "metadata": {},
     "output_type": "execute_result"
    }
   ],
   "source": [
    "prevent_distractions(\"Hot pictures of Danny DeVito\")"
   ]
  },
  {
   "cell_type": "code",
   "execution_count": 32,
   "id": "23d9bc4d",
   "metadata": {},
   "outputs": [
    {
     "data": {
      "text/plain": [
       "'Safe watching!'"
      ]
     },
     "execution_count": 32,
     "metadata": {},
     "output_type": "execute_result"
    }
   ],
   "source": [
    "prevent_distractions(\"How to ace BC Calculus in 5 Easy Steps\")"
   ]
  },
  {
   "cell_type": "markdown",
   "id": "f89efcd7",
   "metadata": {},
   "source": [
    "Q14)Create a function that takes three integer arguments (a, b, c) and returns the amount of integers which are of equal value.\n",
    "\n",
    "    Examples\n",
    "    equal(3, 4, 3) ➞ 2\n",
    "\n",
    "    equal(1, 1, 1) ➞ 3\n",
    "\n",
    "    equal(3, 4, 1) ➞ 0 \n",
    "    Notes\n",
    "    Your function must return 0, 2 or 3."
   ]
  },
  {
   "cell_type": "code",
   "execution_count": 50,
   "id": "7be9e579",
   "metadata": {},
   "outputs": [],
   "source": [
    "def equal(a,b,c):\n",
    "    count=0\n",
    "    if a==b==c:\n",
    "        count+=3\n",
    "    elif a==b or b==c or c==a:\n",
    "        count+=2\n",
    "    else:\n",
    "        count+=0\n",
    "    return count"
   ]
  },
  {
   "cell_type": "code",
   "execution_count": 51,
   "id": "4d16148c",
   "metadata": {},
   "outputs": [
    {
     "data": {
      "text/plain": [
       "2"
      ]
     },
     "execution_count": 51,
     "metadata": {},
     "output_type": "execute_result"
    }
   ],
   "source": [
    "equal(3, 4, 3)"
   ]
  },
  {
   "cell_type": "code",
   "execution_count": 52,
   "id": "07e816ec",
   "metadata": {},
   "outputs": [
    {
     "data": {
      "text/plain": [
       "3"
      ]
     },
     "execution_count": 52,
     "metadata": {},
     "output_type": "execute_result"
    }
   ],
   "source": [
    "equal(1, 1, 1)"
   ]
  },
  {
   "cell_type": "code",
   "execution_count": 53,
   "id": "22827f26",
   "metadata": {},
   "outputs": [
    {
     "data": {
      "text/plain": [
       "0"
      ]
     },
     "execution_count": 53,
     "metadata": {},
     "output_type": "execute_result"
    }
   ],
   "source": [
    "equal(3, 4, 1)"
   ]
  },
  {
   "cell_type": "markdown",
   "id": "4ca6b05f",
   "metadata": {},
   "source": [
    "Q15)Create a function which validates whether a 3 character string is a vowel sandwich. In order to have a valid sandwich, the string must satisfy the following rules:\n",
    "\n",
    "    The first and last characters must be a consonant.\n",
    "    The character in the middle must be a vowel.\n",
    "    Examples\n",
    "    is_vowel_sandwich(\"cat\") ➞ True\n",
    "\n",
    "    is_vowel_sandwich(\"ear\") ➞ False\n",
    "\n",
    "    is_vowel_sandwich(\"bake\") ➞ False\n",
    "\n",
    "    is_vowel_sandwich(\"try\") ➞ False\n",
    "    Notes\n",
    "    Return False if the word is not 3 characters in length.\n",
    "    All words will be given in lowercase.\n",
    "    y is not considered a vowel."
   ]
  },
  {
   "cell_type": "code",
   "execution_count": 66,
   "id": "4d9158a2",
   "metadata": {},
   "outputs": [],
   "source": [
    "def is_vowel_sandwich(str1):\n",
    "    s=str1.lower()\n",
    "    y=len(s)//2\n",
    "    if not (s[0]==\"a\" or s[0]==\"e\" or s[0]==\"i\" or s[0]==\"o\" or s[0]==\"u\")\\\n",
    "    and not (s[-1]==\"a\" or s[-1]==\"e\" or s[-1]==\"i\" or s[-1]==\"o\" or s[-1]==\"u\") and \\\n",
    "    s[y]==\"a\" or s[y]==\"e\" or s[y]==\"i\" or s[y]==\"o\" or s[y]==\"u\":\n",
    "        return True\n",
    "    else:\n",
    "        return False"
   ]
  },
  {
   "cell_type": "code",
   "execution_count": 67,
   "id": "794678b4",
   "metadata": {},
   "outputs": [
    {
     "data": {
      "text/plain": [
       "True"
      ]
     },
     "execution_count": 67,
     "metadata": {},
     "output_type": "execute_result"
    }
   ],
   "source": [
    "is_vowel_sandwich(\"cat\")"
   ]
  },
  {
   "cell_type": "code",
   "execution_count": 68,
   "id": "f26d5c90",
   "metadata": {},
   "outputs": [
    {
     "data": {
      "text/plain": [
       "False"
      ]
     },
     "execution_count": 68,
     "metadata": {},
     "output_type": "execute_result"
    }
   ],
   "source": [
    "is_vowel_sandwich(\"Ear\")"
   ]
  },
  {
   "cell_type": "code",
   "execution_count": 69,
   "id": "acd4ef7e",
   "metadata": {},
   "outputs": [
    {
     "data": {
      "text/plain": [
       "False"
      ]
     },
     "execution_count": 69,
     "metadata": {},
     "output_type": "execute_result"
    }
   ],
   "source": [
    "is_vowel_sandwich(\"try\")"
   ]
  },
  {
   "cell_type": "markdown",
   "id": "89c9cf0f",
   "metadata": {},
   "source": [
    "Q16) Write a function that takes a string and calculates the number of letters and digits within it. Return the result in a dictionary.\n",
    "\n",
    "    Examples\n",
    "    count_all(\"Hello World\") ➞ { \"LETTERS\":  10, \"DIGITS\": 0 }\n",
    "\n",
    "    count_all(\"H3ll0 Wor1d\") ➞ { \"LETTERS\":  7, \"DIGITS\": 3 }\n",
    "\n",
    "    count_all(\"149990\") ➞ { \"LETTERS\": 0, \"DIGITS\": 6 }\n",
    "    Notes\n",
    "    Tests contain only alphanumeric characters.\n",
    "    Spaces are not letters.\n",
    "    All tests contain valid strings."
   ]
  },
  {
   "cell_type": "code",
   "execution_count": 70,
   "id": "6d73f9da",
   "metadata": {},
   "outputs": [],
   "source": [
    "def count_all(s):\n",
    "    a=0;b=0\n",
    "    for x in s:\n",
    "        if x.isalpha():\n",
    "            a+=1\n",
    "        elif x.isdigit():\n",
    "            b+=1\n",
    "        else:\n",
    "            continue\n",
    "    return dict({\"LETTERS\":a,\"DIGITS\":b})"
   ]
  },
  {
   "cell_type": "code",
   "execution_count": 71,
   "id": "302b4166",
   "metadata": {},
   "outputs": [
    {
     "data": {
      "text/plain": [
       "{'LETTERS': 10, 'DIGITS': 0}"
      ]
     },
     "execution_count": 71,
     "metadata": {},
     "output_type": "execute_result"
    }
   ],
   "source": [
    "count_all(\"Hello World\")"
   ]
  },
  {
   "cell_type": "code",
   "execution_count": 72,
   "id": "5e4dcc38",
   "metadata": {},
   "outputs": [
    {
     "data": {
      "text/plain": [
       "{'LETTERS': 7, 'DIGITS': 3}"
      ]
     },
     "execution_count": 72,
     "metadata": {},
     "output_type": "execute_result"
    }
   ],
   "source": [
    "count_all(\"H3ll0 Wor1d\")"
   ]
  },
  {
   "cell_type": "code",
   "execution_count": 74,
   "id": "e56d0301",
   "metadata": {},
   "outputs": [
    {
     "data": {
      "text/plain": [
       "{'LETTERS': 0, 'DIGITS': 6}"
      ]
     },
     "execution_count": 74,
     "metadata": {},
     "output_type": "execute_result"
    }
   ],
   "source": [
    "count_all(\"149990\")"
   ]
  },
  {
   "cell_type": "markdown",
   "id": "d265cdc1",
   "metadata": {},
   "source": [
    "Q17) Create a method in the Person class which returns how another person's age compares. Given the objects p1, p2 and p3, which will be initialised with the attributes name and age, return a sentence in the following format:\n",
    "\n",
    "{other_person} is {older than / younger than / the same age as} me.\n",
    "\n",
    "    Examples\n",
    "    p1 = Person(\"Samuel\", 24)\n",
    "    p2 = Person(\"Joel\", 36)\n",
    "    p3 = Person(\"Lily\", 24)\n",
    "    p1.compare_age(p2) ➞ \"Joel is older than me.\"\n",
    "\n",
    "    p2.compare_age(p1) ➞ \"Samuel is younger than me.\"\n",
    "\n",
    "    p1.compare_age(p3) ➞ \"Lily is the same age as me.\"\n",
    "    Notes\n",
    "    Check out the Resources tab for some helpful tutorials on Python classes!\n",
    "    If you're really stuck, check out the Solutions tab for answers."
   ]
  },
  {
   "cell_type": "code",
   "execution_count": 87,
   "id": "4acfd0a8",
   "metadata": {},
   "outputs": [],
   "source": [
    "class Person:\n",
    "    def __init__(self,name,age):\n",
    "        self.name=name\n",
    "        self.age=age\n",
    "    def compare_age(a,b):\n",
    "        if b.age>a.age:\n",
    "            return \"{} is older than me\".format(b.name)\n",
    "        elif a.age>b.age:\n",
    "            return \"{} is younger than me\".format(b.name)\n",
    "        else:\n",
    "            return \"{} is same age as me\".format(b.name)"
   ]
  },
  {
   "cell_type": "code",
   "execution_count": 88,
   "id": "a6438fd6",
   "metadata": {},
   "outputs": [
    {
     "data": {
      "text/plain": [
       "'Joel is older than me'"
      ]
     },
     "execution_count": 88,
     "metadata": {},
     "output_type": "execute_result"
    }
   ],
   "source": [
    "p1 = Person(\"Samuel\", 24)\n",
    "p2 = Person(\"Joel\", 36)\n",
    "p3 = Person(\"Lily\", 24)\n",
    "p1.compare_age(p2)"
   ]
  },
  {
   "cell_type": "code",
   "execution_count": 89,
   "id": "c33b7cdd",
   "metadata": {},
   "outputs": [
    {
     "data": {
      "text/plain": [
       "'Samuel is younger than me'"
      ]
     },
     "execution_count": 89,
     "metadata": {},
     "output_type": "execute_result"
    }
   ],
   "source": [
    "p2.compare_age(p1)"
   ]
  },
  {
   "cell_type": "code",
   "execution_count": 90,
   "id": "286c7592",
   "metadata": {},
   "outputs": [
    {
     "data": {
      "text/plain": [
       "'Lily is same age as me'"
      ]
     },
     "execution_count": 90,
     "metadata": {},
     "output_type": "execute_result"
    }
   ],
   "source": [
    "p1.compare_age(p3)"
   ]
  },
  {
   "cell_type": "markdown",
   "id": "b28142cd",
   "metadata": {},
   "source": [
    "Q18) Check the principles of minimalist code in the intro to the first challenge.\n",
    "\n",
    "    In the Code tab you will find a code that is missing a single character in order to pass the tests. However, your goal is to submit a function as minimalist as possible. Use the tips in the tips section below.\n",
    "\n",
    "    Write a function that returns the boolean True if the given two lists do not share any numbers, and False otherwise.\n",
    "\n",
    "    Tips\n",
    "    The operators in and not in test for membership. x in s evaluates to True if x is a member of s, and False otherwise.\n",
    "\n",
    "    For example, the code:\n",
    "\n",
    "    def startswithvowel(word):\n",
    "        for vowel in \"aeiou\":\n",
    "            if word[0] == vowel:\n",
    "                return True\n",
    "        return False\n",
    "    Can be simplified to:\n",
    "\n",
    "    def startswithvowel(word):\n",
    "        return word[0] in \"aeiou\"\n",
    "    Bonus\n",
    "    Here are more examples:\n",
    "\n",
    "    12 in [1, 50, 12, 43, 7] ➞ True\n",
    "    1 in [12, 111111, \"x\"] ➞ False\n",
    "    [3, 4] in [1, 2, 3, 4, 5] ➞ False\n",
    "    3 in (True, 3, [\"odd\", \"even\"]) ➞ True\n",
    "    \"odd\" in (True, 3, [\"odd\", \"even\"]) ➞ False\n",
    "    \"hello\" in \"hellomyfriend\" ➞ True\n",
    "\n",
    "    \"myfriend\" not in \"hello my friend\" ➞ True\n",
    "    \"bye\" not in \"bye my friend\" ➞ False\n",
    "    2 not in {0: \"even\", 1: \"odd\"} ➞ True\n",
    "    1 not in {0: \"even\", 1: \"odd\"} ➞ False\n",
    "    Notes\n",
    "    This is an open series: there isn't a definite list of features for the challenges. Please, do not hesitate to leave your suggestions in the Comments.\n",
    "    Readability is indeed a subjective concept. Let's discuss it! Feel free to leave your opinion in the Comments.\n",
    "    You can find all the exercises in this series over here."
   ]
  },
  {
   "cell_type": "code",
   "execution_count": 91,
   "id": "28382579",
   "metadata": {},
   "outputs": [],
   "source": [
    "def not_share(lst1, lst2):\n",
    "    for i in lst1:\n",
    "        for j in lst2:\n",
    "            if i == j:\n",
    "                return False\n",
    "    return True"
   ]
  },
  {
   "cell_type": "code",
   "execution_count": 92,
   "id": "63baf24c",
   "metadata": {},
   "outputs": [
    {
     "data": {
      "text/plain": [
       "True"
      ]
     },
     "execution_count": 92,
     "metadata": {},
     "output_type": "execute_result"
    }
   ],
   "source": [
    "not_share([1, 2, 3], [4, 5, 6])"
   ]
  },
  {
   "cell_type": "code",
   "execution_count": 93,
   "id": "aed2caff",
   "metadata": {},
   "outputs": [
    {
     "data": {
      "text/plain": [
       "False"
      ]
     },
     "execution_count": 93,
     "metadata": {},
     "output_type": "execute_result"
    }
   ],
   "source": [
    "not_share([1, 2, 3], [3, 4, 5])"
   ]
  },
  {
   "cell_type": "markdown",
   "id": "9958b3dc",
   "metadata": {},
   "source": [
    "Q19)Lists can be mixed with various types. Your task for this challenge is to sum all the number elements in the given list. Create a function that takes a list and returns the sum of all numbers in the list.\n",
    "\n",
    "    Examples\n",
    "    numbers_sum([1, 2, \"13\", \"4\", \"645\"]) ➞ 3\n",
    "\n",
    "    numbers_sum([True, False, \"123\", \"75\"]) ➞ 0\n",
    "\n",
    "    numbers_sum([1, 2, 3, 4, 5, True]) ➞ 15"
   ]
  },
  {
   "cell_type": "code",
   "execution_count": 75,
   "id": "edf4b4fc",
   "metadata": {},
   "outputs": [],
   "source": [
    "def numbers_sum(l):\n",
    "    a=0\n",
    "    for x in l:\n",
    "        if type(x)==int:\n",
    "            a+=x\n",
    "        else:\n",
    "            continue\n",
    "    return a"
   ]
  },
  {
   "cell_type": "code",
   "execution_count": 76,
   "id": "4787b4b2",
   "metadata": {},
   "outputs": [
    {
     "data": {
      "text/plain": [
       "3"
      ]
     },
     "execution_count": 76,
     "metadata": {},
     "output_type": "execute_result"
    }
   ],
   "source": [
    "numbers_sum([1, 2, \"13\", \"4\", \"645\"])"
   ]
  },
  {
   "cell_type": "code",
   "execution_count": 77,
   "id": "f38c54c9",
   "metadata": {},
   "outputs": [
    {
     "data": {
      "text/plain": [
       "0"
      ]
     },
     "execution_count": 77,
     "metadata": {},
     "output_type": "execute_result"
    }
   ],
   "source": [
    "numbers_sum([True, False, \"123\", \"75\"])"
   ]
  },
  {
   "cell_type": "code",
   "execution_count": 78,
   "id": "9f39d271",
   "metadata": {},
   "outputs": [
    {
     "data": {
      "text/plain": [
       "15"
      ]
     },
     "execution_count": 78,
     "metadata": {},
     "output_type": "execute_result"
    }
   ],
   "source": [
    "numbers_sum([1, 2, 3, 4, 5, True])"
   ]
  },
  {
   "cell_type": "markdown",
   "id": "118d62ff",
   "metadata": {},
   "source": [
    "Q20) Create a function that takes a list of positive and negative numbers. Return a list where the first element is the count of positive numbers and the second element is the sum of negative numbers.\n",
    "\n",
    "    Examples\n",
    "    sum_neg([1, 2, 3, 4, 5, 6, 7, 8, 9, 10, -11, -12, -13, -14, -15]) ➞ [10, -65]\n",
    "    # There are a total of 10 positive numbers.\n",
    "    # The sum of all negative numbers equals -65.\n",
    "\n",
    "    sum_neg([92, 6, 73, -77, 81, -90, 99, 8, -85, 34]) ➞ [7, -252]\n",
    "\n",
    "    sum_neg([91, -4, 80, -73, -28]) ➞ [2, -105]\n",
    "\n",
    "    sum_neg([]) ➞ []\n",
    "    Notes\n",
    "    If given an empty list, return an empty list: []\n",
    "    0 is not positive."
   ]
  },
  {
   "cell_type": "code",
   "execution_count": 105,
   "id": "fc2cbbcf",
   "metadata": {},
   "outputs": [],
   "source": [
    "def sum_neg(l):\n",
    "    l1=[];count=0;a=0\n",
    "    for x in l:\n",
    "        if x>=0:\n",
    "            count+=1\n",
    "        else:\n",
    "            a-=x\n",
    "    l1.append(count)\n",
    "    l1.append(-a)\n",
    "    if len(l)==0:\n",
    "        return []\n",
    "    else:\n",
    "        return l1"
   ]
  },
  {
   "cell_type": "code",
   "execution_count": 106,
   "id": "2e201e60",
   "metadata": {},
   "outputs": [
    {
     "data": {
      "text/plain": [
       "[10, -65]"
      ]
     },
     "execution_count": 106,
     "metadata": {},
     "output_type": "execute_result"
    }
   ],
   "source": [
    "sum_neg([1,2,3,4,5,6,7,8,9,10,-11,-12,-13,-14,-15])"
   ]
  },
  {
   "cell_type": "code",
   "execution_count": 107,
   "id": "561c3fb6",
   "metadata": {},
   "outputs": [
    {
     "data": {
      "text/plain": [
       "[2, -105]"
      ]
     },
     "execution_count": 107,
     "metadata": {},
     "output_type": "execute_result"
    }
   ],
   "source": [
    "sum_neg([91, -4, 80, -73, -28])"
   ]
  },
  {
   "cell_type": "code",
   "execution_count": 108,
   "id": "8ebdf85f",
   "metadata": {},
   "outputs": [
    {
     "data": {
      "text/plain": [
       "[]"
      ]
     },
     "execution_count": 108,
     "metadata": {},
     "output_type": "execute_result"
    }
   ],
   "source": [
    "sum_neg([])"
   ]
  },
  {
   "cell_type": "markdown",
   "id": "12962727",
   "metadata": {},
   "source": [
    "Q21) Create a function that takes a string and returns a new string with its first and last characters swapped, except under three conditions:\n",
    "\n",
    "    If the length of the string is less than two, return \"Incompatible.\".\n",
    "    If the argument is not a string, return \"Incompatible.\".\n",
    "    If the first and last characters are the same, return \"Two's a pair.\".\n",
    "    Examples\n",
    "    flip_end_chars(\"Cat, dog, and mouse.\") ➞ \".at, dog, and mouseC\"\n",
    "\n",
    "    flip_end_chars(\"ada\") ➞ \"Two's a pair.\"\n",
    "\n",
    "    flip_end_chars(\"Ada\") ➞ \"adA\"\n",
    "\n",
    "    flip_end_chars(\"z\") ➞ \"Incompatible.\"\n",
    "\n",
    "    flip_end_chars([1, 2, 3]) ➞ \"Incompatible.\"\n",
    "    Notes\n",
    "    Tests are case sensitive (e.g. \"A\" and \"a\" are not the same character)."
   ]
  },
  {
   "cell_type": "code",
   "execution_count": 114,
   "id": "6d8cc3cb",
   "metadata": {},
   "outputs": [],
   "source": [
    "def flip_end_chars(x):\n",
    "    a=\"\"\n",
    "    if not (type(x)==str):\n",
    "        return \"Incompatible.\"\n",
    "    elif len(x)<2:\n",
    "        return \"Incompatible.\"\n",
    "    elif x[0]==x[-1]:\n",
    "        return \"Two's a pair.\"\n",
    "    else:\n",
    "        return a+x[-1]+x[1:-1]+x[0]"
   ]
  },
  {
   "cell_type": "code",
   "execution_count": 115,
   "id": "1003cf36",
   "metadata": {},
   "outputs": [
    {
     "data": {
      "text/plain": [
       "'.at, dog, and mouseC'"
      ]
     },
     "execution_count": 115,
     "metadata": {},
     "output_type": "execute_result"
    }
   ],
   "source": [
    "flip_end_chars(\"Cat, dog, and mouse.\")"
   ]
  },
  {
   "cell_type": "code",
   "execution_count": 120,
   "id": "8bf4eb10",
   "metadata": {},
   "outputs": [
    {
     "data": {
      "text/plain": [
       "\"Two's a pair.\""
      ]
     },
     "execution_count": 120,
     "metadata": {},
     "output_type": "execute_result"
    }
   ],
   "source": [
    "flip_end_chars(\"ada\")"
   ]
  },
  {
   "cell_type": "code",
   "execution_count": 117,
   "id": "d58fa7af",
   "metadata": {},
   "outputs": [
    {
     "data": {
      "text/plain": [
       "'adA'"
      ]
     },
     "execution_count": 117,
     "metadata": {},
     "output_type": "execute_result"
    }
   ],
   "source": [
    "flip_end_chars(\"Ada\")"
   ]
  },
  {
   "cell_type": "code",
   "execution_count": 118,
   "id": "bf4ce5b2",
   "metadata": {},
   "outputs": [
    {
     "data": {
      "text/plain": [
       "'Incompatible.'"
      ]
     },
     "execution_count": 118,
     "metadata": {},
     "output_type": "execute_result"
    }
   ],
   "source": [
    "flip_end_chars(\"z\")"
   ]
  },
  {
   "cell_type": "code",
   "execution_count": 119,
   "id": "88c29dcb",
   "metadata": {},
   "outputs": [
    {
     "data": {
      "text/plain": [
       "'Incompatible.'"
      ]
     },
     "execution_count": 119,
     "metadata": {},
     "output_type": "execute_result"
    }
   ],
   "source": [
    "flip_end_chars([1, 2, 3])"
   ]
  },
  {
   "cell_type": "markdown",
   "id": "724fe175",
   "metadata": {},
   "source": [
    "Q22) Create a function that takes a number as an argument and returns the appropriate error message. You should do this without using the switch or if statements.\n",
    "\n",
    "    The input error will be 1 to 5:\n",
    "\n",
    "    1 >> \"Check the fan: e1\"\n",
    "    2 >> \"Emergency stop: e2\"\n",
    "    3 >> \"Pump Error: e3\"\n",
    "    4 >> \"c: e4\"\n",
    "    5 >> \"Temperature Sensor Error: e5\"\n",
    "    For any other value, return 101 (you can use an if statement here).\n",
    "\n",
    "    Examples\n",
    "    error(1) ➞ \"Check the fan: e1\"\n",
    "\n",
    "    error(2) ➞ \"Emergency stop: e2\"\n",
    "\n",
    "    error(3) ➞ \"Pump Error: e3\"\n",
    "    Notes\n",
    "    Do this without using the switch or if statements."
   ]
  },
  {
   "cell_type": "code",
   "execution_count": 3,
   "id": "b1e4f959",
   "metadata": {},
   "outputs": [],
   "source": [
    "def error(x):\n",
    "    if x==1:\n",
    "        return \"Check the fan: e1\"\n",
    "    elif x==2:\n",
    "        return \"Emergency stop: e2\"\n",
    "    elif x==3:\n",
    "        return \"Pump Error: e3\"\n",
    "    elif x==4:\n",
    "        return \"c: e4\"\n",
    "    elif x==5:\n",
    "        return \"Temperature Sensor Error: e5\"\n",
    "    else:\n",
    "        return 101"
   ]
  },
  {
   "cell_type": "code",
   "execution_count": 4,
   "id": "9866246c",
   "metadata": {},
   "outputs": [
    {
     "data": {
      "text/plain": [
       "'Check the fan: e1'"
      ]
     },
     "execution_count": 4,
     "metadata": {},
     "output_type": "execute_result"
    }
   ],
   "source": [
    "error(1)"
   ]
  },
  {
   "cell_type": "code",
   "execution_count": 5,
   "id": "6bf93100",
   "metadata": {},
   "outputs": [
    {
     "data": {
      "text/plain": [
       "'Emergency stop: e2'"
      ]
     },
     "execution_count": 5,
     "metadata": {},
     "output_type": "execute_result"
    }
   ],
   "source": [
    "error(2)"
   ]
  },
  {
   "cell_type": "code",
   "execution_count": 6,
   "id": "713f8039",
   "metadata": {},
   "outputs": [
    {
     "data": {
      "text/plain": [
       "'Pump Error: e3'"
      ]
     },
     "execution_count": 6,
     "metadata": {},
     "output_type": "execute_result"
    }
   ],
   "source": [
    "error(3)"
   ]
  },
  {
   "cell_type": "markdown",
   "id": "37ddec76",
   "metadata": {},
   "source": [
    "Q23) Given a list with an odd number of elements, return whether the scale will tip \"left\" or \"right\" based on the sum of the numbers. The scale will tip on the direction of the largest total. If both sides are equal, return \"balanced\".\n",
    "\n",
    "    Examples\n",
    "    scale_tip([0, 0, \"I\", 1, 1]) ➞ \"right\"\n",
    "    # 0 < 2 so it will tip right\n",
    "\n",
    "    scale_tip([1, 2, 3, \"I\", 4, 0, 0]) ➞ \"left\"\n",
    "    # 6 > 4 so it will tip left\n",
    "\n",
    "    scale_tip([5, 5, 5, 0, \"I\", 10, 2, 2, 1]) ➞ \"balanced\"\n",
    "    # 15 = 15 so it will stay balanced\n",
    "    Notes\n",
    "    The middle element will always be \"I\" so you can just ignore it.\n",
    "    Assume the numbers all represent the same unit.\n",
    "    Both sides will have the same number of elements.\n",
    "    There are no such things as negative weights in both real life and the tests!"
   ]
  },
  {
   "cell_type": "code",
   "execution_count": 27,
   "id": "9d2cf168",
   "metadata": {},
   "outputs": [],
   "source": [
    "def scale_tip(l):\n",
    "    n=l.index(\"I\");a=0;b=0\n",
    "    for x in range(len(l)):\n",
    "        if x<n:\n",
    "            a+=l[x]\n",
    "        elif x>n:\n",
    "            b+=l[x]\n",
    "        else:\n",
    "            continue\n",
    "    if a<b:\n",
    "        return \"Right\"\n",
    "    elif a>b:\n",
    "        return \"Left\"\n",
    "    else:\n",
    "        return \"Balanced\""
   ]
  },
  {
   "cell_type": "code",
   "execution_count": 28,
   "id": "fd216ae5",
   "metadata": {},
   "outputs": [
    {
     "data": {
      "text/plain": [
       "'Right'"
      ]
     },
     "execution_count": 28,
     "metadata": {},
     "output_type": "execute_result"
    }
   ],
   "source": [
    "scale_tip([0, 0, \"I\", 1, 1])"
   ]
  },
  {
   "cell_type": "code",
   "execution_count": 29,
   "id": "58e81442",
   "metadata": {},
   "outputs": [
    {
     "data": {
      "text/plain": [
       "'Left'"
      ]
     },
     "execution_count": 29,
     "metadata": {},
     "output_type": "execute_result"
    }
   ],
   "source": [
    "scale_tip([1, 2, 3, \"I\", 4, 0, 0])"
   ]
  },
  {
   "cell_type": "code",
   "execution_count": 30,
   "id": "1a3a8a16",
   "metadata": {},
   "outputs": [
    {
     "data": {
      "text/plain": [
       "'Balanced'"
      ]
     },
     "execution_count": 30,
     "metadata": {},
     "output_type": "execute_result"
    }
   ],
   "source": [
    "scale_tip([5, 5, 5, 0, \"I\", 10, 2, 2, 1])"
   ]
  },
  {
   "cell_type": "markdown",
   "id": "676226d9",
   "metadata": {},
   "source": [
    "Q24) Create a function that changes specific words into emoticons. Given a sentence as a string, replace the words smile, grin, sad and mad with their corresponding emoticons.\n",
    "\n",
    "    word\temoticon\n",
    "    smile\t:D\n",
    "    grin\t:)\n",
    "    sad\t:(\n",
    "    mad\t:P\n",
    "    Examples\n",
    "    emotify(\"Make me smile\") ➞ \"Make me :D\"\n",
    "\n",
    "    emotify(\"Make me grin\") ➞ \"Make me :)\"\n",
    "\n",
    "    emotify(\"Make me sad\") ➞ \"Make me :(\"\n",
    "    Notes\n",
    "    The sentence always starts with \"Make me\".\n",
    "    Try to solve this without using conditional statements like if/else."
   ]
  },
  {
   "cell_type": "code",
   "execution_count": 32,
   "id": "96bf855a",
   "metadata": {},
   "outputs": [],
   "source": [
    "def emotify(s):\n",
    "    l=s.split()\n",
    "    if l[2]==\"smile\":\n",
    "        return \"Make me :D\"\n",
    "    elif l[2]==\"grin\":\n",
    "        return \"Make me :)\"\n",
    "    elif l[2]==\"mad\":\n",
    "        return \"Make me :P\"\n",
    "    else:\n",
    "        return \"Make me :(\""
   ]
  },
  {
   "cell_type": "code",
   "execution_count": 33,
   "id": "032725c8",
   "metadata": {},
   "outputs": [
    {
     "data": {
      "text/plain": [
       "'Make me :D'"
      ]
     },
     "execution_count": 33,
     "metadata": {},
     "output_type": "execute_result"
    }
   ],
   "source": [
    "emotify(\"Make me smile\")"
   ]
  },
  {
   "cell_type": "code",
   "execution_count": 34,
   "id": "c612f844",
   "metadata": {},
   "outputs": [
    {
     "data": {
      "text/plain": [
       "'Make me :)'"
      ]
     },
     "execution_count": 34,
     "metadata": {},
     "output_type": "execute_result"
    }
   ],
   "source": [
    "emotify(\"Make me grin\")"
   ]
  },
  {
   "cell_type": "code",
   "execution_count": 35,
   "id": "8555ce8b",
   "metadata": {},
   "outputs": [
    {
     "data": {
      "text/plain": [
       "'Make me :('"
      ]
     },
     "execution_count": 35,
     "metadata": {},
     "output_type": "execute_result"
    }
   ],
   "source": [
    "emotify(\"Make me sad\")"
   ]
  },
  {
   "cell_type": "code",
   "execution_count": 36,
   "id": "fadc5c29",
   "metadata": {},
   "outputs": [
    {
     "data": {
      "text/plain": [
       "'Make me :P'"
      ]
     },
     "execution_count": 36,
     "metadata": {},
     "output_type": "execute_result"
    }
   ],
   "source": [
    "emotify(\"Make me mad\")"
   ]
  },
  {
   "cell_type": "markdown",
   "id": "efc37aa7",
   "metadata": {},
   "source": [
    "Q25)Create a function that takes the month and year (as integers) and returns the number of days in that month.\n",
    "\n",
    "    Examples\n",
    "    day_amount(2, 2018) ➞ 28\n",
    "\n",
    "    day_amount(4, 654) ➞ 30\n",
    "\n",
    "    day_amount(2, 200) ➞ 28\n",
    "\n",
    "    day_amount(2, 1000) ➞ 28\n",
    "    Notes\n",
    "    Don't forget about leap years!"
   ]
  },
  {
   "cell_type": "code",
   "execution_count": 46,
   "id": "bff8ac89",
   "metadata": {},
   "outputs": [],
   "source": [
    "def day_amount(m,y):\n",
    "    d={1:30,2:28,3:31,4:30,5:30,6:30,7:31,8:31,9:30,10:31,11:30,12:31}\n",
    "    if y%4==0:\n",
    "        d.update({2:29})\n",
    "        return d[m]\n",
    "    else:\n",
    "        return d[m]"
   ]
  },
  {
   "cell_type": "code",
   "execution_count": 47,
   "id": "3b5485ec",
   "metadata": {},
   "outputs": [
    {
     "data": {
      "text/plain": [
       "28"
      ]
     },
     "execution_count": 47,
     "metadata": {},
     "output_type": "execute_result"
    }
   ],
   "source": [
    "day_amount(2, 2018)"
   ]
  },
  {
   "cell_type": "code",
   "execution_count": 48,
   "id": "1d42f595",
   "metadata": {},
   "outputs": [
    {
     "data": {
      "text/plain": [
       "29"
      ]
     },
     "execution_count": 48,
     "metadata": {},
     "output_type": "execute_result"
    }
   ],
   "source": [
    "day_amount(2, 2016)"
   ]
  },
  {
   "cell_type": "code",
   "execution_count": 49,
   "id": "8677cf53",
   "metadata": {},
   "outputs": [
    {
     "data": {
      "text/plain": [
       "30"
      ]
     },
     "execution_count": 49,
     "metadata": {},
     "output_type": "execute_result"
    }
   ],
   "source": [
    "day_amount(4, 654)"
   ]
  },
  {
   "cell_type": "markdown",
   "id": "ea16e862",
   "metadata": {},
   "source": [
    "Q26)Create a function that changes all the elements in a list as follows:\n",
    "\n",
    "    Add 1 to all even integers, nothing to odd integers.\n",
    "    Concatenates \"!\" to all strings and make the first letter of the word a capital letter.\n",
    "    Changes all boolean values to its opposite.\n",
    "    Examples\n",
    "    change_types([\"a\", 12, True]) ➞ [\"A!\", 13, False]\n",
    "\n",
    "    change_types([13, \"13\", \"12\", \"twelve\"]) ➞ [13, \"13!\", \"12!\", \"Twelve!\"]\n",
    "\n",
    "    change_types([False, \"False\", \"true\"]) ➞ [True, \"False!\", \"True!\"]\n",
    "    Notes\n",
    "    There won't be any float values.\n",
    "    You won't get strings with both numbers and letters in them.\n",
    "    Although the task may be easy, try keeping your code as clean and as readable as possible!"
   ]
  },
  {
   "cell_type": "code",
   "execution_count": 62,
   "id": "513f2a7f",
   "metadata": {},
   "outputs": [],
   "source": [
    "def change_types(l):\n",
    "    l1=[]\n",
    "    for x in l:\n",
    "        if type(x)==str:\n",
    "            l1.append(x.capitalize()+\"!\")\n",
    "        elif type(x)==int:\n",
    "            if x%2==0:\n",
    "                a=x+1\n",
    "                l1.append(a)\n",
    "            else:\n",
    "                l1.append(x)\n",
    "        elif type(x)==bool:\n",
    "            l1.append(not(x))\n",
    "        else:\n",
    "            continue\n",
    "    return l1"
   ]
  },
  {
   "cell_type": "code",
   "execution_count": 63,
   "id": "3ac13fc6",
   "metadata": {},
   "outputs": [
    {
     "data": {
      "text/plain": [
       "['A!', 13, False]"
      ]
     },
     "execution_count": 63,
     "metadata": {},
     "output_type": "execute_result"
    }
   ],
   "source": [
    "change_types([\"a\", 12, True])"
   ]
  },
  {
   "cell_type": "code",
   "execution_count": 64,
   "id": "9a7b2321",
   "metadata": {},
   "outputs": [
    {
     "data": {
      "text/plain": [
       "[13, '13!', '12!', 'Twelve!']"
      ]
     },
     "execution_count": 64,
     "metadata": {},
     "output_type": "execute_result"
    }
   ],
   "source": [
    "change_types([13, \"13\", \"12\", \"twelve\"])"
   ]
  },
  {
   "cell_type": "code",
   "execution_count": 65,
   "id": "6d934e70",
   "metadata": {},
   "outputs": [
    {
     "data": {
      "text/plain": [
       "[True, 'False!', 'True!']"
      ]
     },
     "execution_count": 65,
     "metadata": {},
     "output_type": "execute_result"
    }
   ],
   "source": [
    "change_types([False, \"False\", \"true\"])"
   ]
  },
  {
   "cell_type": "markdown",
   "id": "6f365db3",
   "metadata": {},
   "source": [
    "Q27) A man named Thomas Malthus described what is now called a Malthusian Catastrophe. According to him, food production grows by a fixed amount, but population grows by a percentage. So, the food supply would soon be insufficient for the population.\n",
    "\n",
    "    Your job is to find out when that will occur. For this challenge, assume 1 population needs 1 unit of food production. Food production and population both start at 100. The year starts at 0.\n",
    "\n",
    "    The catastrophe happens when the population is larger than food production.\n",
    "\n",
    "    The function will pass:\n",
    "\n",
    "    food_growth ⁠— an integer ⁠— food production increase per year.\n",
    "    pop_mult ⁠— a floating-point number ⁠— population growth multiplier per year.\n",
    "    Examples\n",
    "    malthusian(4255, 1.41) ➞ 20\n",
    "    # { food_prod: 85,200, pop: 96,467.77..., year: 20 }\n",
    "\n",
    "    malthusian(9433, 1.09) ➞ 107\n",
    "    # { food_prod: 1,009,431, pop: 1,010,730.28..., year: 107 }\n",
    "\n",
    "    malthusian(5879, 1.77) ➞ 12\n",
    "    # { food_prod: 70,648, pop: 94,553.84..., year: 12 }\n",
    "    Notes\n",
    "    Return the year that the overtake happens, not the next year.\n",
    "    Make sure you don't make the mistake of adding a year, then calculating the changes to food and population. That way, you miss year 0.\n",
    "    If the population and food production are equal, that is not a catastrophe."
   ]
  },
  {
   "cell_type": "code",
   "execution_count": 95,
   "id": "aeb6ee8a",
   "metadata": {},
   "outputs": [],
   "source": [
    "def malthusian(food_growth,pop_mult):\n",
    "    food=100;pop=100;year=0\n",
    "    while food>=pop:\n",
    "        food+=food_growth\n",
    "        pop*=pop_mult\n",
    "        year+=1\n",
    "    return year"
   ]
  },
  {
   "cell_type": "code",
   "execution_count": 96,
   "id": "d0c6b025",
   "metadata": {},
   "outputs": [
    {
     "data": {
      "text/plain": [
       "20"
      ]
     },
     "execution_count": 96,
     "metadata": {},
     "output_type": "execute_result"
    }
   ],
   "source": [
    "malthusian(4255, 1.41)"
   ]
  },
  {
   "cell_type": "code",
   "execution_count": 97,
   "id": "b8a9b2ee",
   "metadata": {},
   "outputs": [
    {
     "data": {
      "text/plain": [
       "107"
      ]
     },
     "execution_count": 97,
     "metadata": {},
     "output_type": "execute_result"
    }
   ],
   "source": [
    "malthusian(9433, 1.09)"
   ]
  },
  {
   "cell_type": "code",
   "execution_count": 98,
   "id": "0a33df18",
   "metadata": {},
   "outputs": [
    {
     "data": {
      "text/plain": [
       "12"
      ]
     },
     "execution_count": 98,
     "metadata": {},
     "output_type": "execute_result"
    }
   ],
   "source": [
    "malthusian(5879, 1.77)"
   ]
  },
  {
   "cell_type": "markdown",
   "id": "a5658669",
   "metadata": {},
   "source": [
    "Q28)A list is special if every even index contains an even number and every odd index contains an odd number. Create a function that returns True if an array is special, and False otherwise.\n",
    "\n",
    "    Examples\n",
    "    is_special_array([2, 7, 4, 9, 6, 1, 6, 3]) ➞ True\n",
    "    # Even indices: [2, 4, 6, 6]; Odd indices: [7, 9, 1, 3]\n",
    "\n",
    "    is_special_array([2, 7, 9, 1, 6, 1, 6, 3]) ➞ False\n",
    "    # Index 2 has an odd number 9.\n",
    "\n",
    "    is_special_array([2, 7, 8, 8, 6, 1, 6, 3]) ➞ False\n",
    "    # Index 3 has an even number 8."
   ]
  },
  {
   "cell_type": "code",
   "execution_count": 37,
   "id": "ed871869",
   "metadata": {},
   "outputs": [],
   "source": [
    "def is_special_array(a):\n",
    "    c=0;b=0\n",
    "    for x in range(len(a)):\n",
    "        if (a[x]%2==0 and x%2==0) or (a[x]%2!=0 and x%2!=0):\n",
    "            c+=1\n",
    "        else:\n",
    "            b+=1\n",
    "    return not(b>0)"
   ]
  },
  {
   "cell_type": "code",
   "execution_count": 38,
   "id": "99ac5542",
   "metadata": {},
   "outputs": [
    {
     "data": {
      "text/plain": [
       "True"
      ]
     },
     "execution_count": 38,
     "metadata": {},
     "output_type": "execute_result"
    }
   ],
   "source": [
    "is_special_array([2, 7, 4, 9, 6, 1, 6, 3])"
   ]
  },
  {
   "cell_type": "code",
   "execution_count": 39,
   "id": "d6b2b699",
   "metadata": {},
   "outputs": [
    {
     "data": {
      "text/plain": [
       "False"
      ]
     },
     "execution_count": 39,
     "metadata": {},
     "output_type": "execute_result"
    }
   ],
   "source": [
    "is_special_array([2, 7, 9, 1, 6, 1, 6, 3])"
   ]
  },
  {
   "cell_type": "code",
   "execution_count": 40,
   "id": "80776508",
   "metadata": {},
   "outputs": [
    {
     "data": {
      "text/plain": [
       "False"
      ]
     },
     "execution_count": 40,
     "metadata": {},
     "output_type": "execute_result"
    }
   ],
   "source": [
    "is_special_array([2, 7, 8, 8, 6, 1, 6, 3])"
   ]
  },
  {
   "cell_type": "markdown",
   "id": "4fa584ee",
   "metadata": {},
   "source": [
    "Q29) Check the principles of minimalist code in the intro to the first challenge.\n",
    "\n",
    "    In the Code tab you will find code that is missing a single character in order to pass the tests. However, your goal is to submit a function that is as minimalist as possible. Use the tips in the tips section below.\n",
    "\n",
    "    Write a function that returns True if the given positive integer is a prime number and False if it's not.\n",
    "\n",
    "    Tips\n",
    "    Everything you write after if, not, while or around and, or, is, in is interpreted as a boolean.\n",
    "\n",
    "    A function that prints a countdown from the absolute value of x and also prints \"hey\" if the number is a multiple of 3 and contains the digit \"3\", could be written as:\n",
    "\n",
    "    def countdown(x):\n",
    "        if x < 0:\n",
    "            x = x * -1\n",
    "        while x > 0:\n",
    "            if x % 3 == 0:\n",
    "                if \"3\" in str(x):\n",
    "                    print(x)\n",
    "                    print(\"hey\")\n",
    "            else:\n",
    "                print(x)\n",
    "            x = x - 1\n",
    "    This can be simplified to:\n",
    "\n",
    "    def countdown(x):\n",
    "        x = abs(x)\n",
    "        while x:\n",
    "            print(x)\n",
    "            if not x % 3 and \"3\" in str(x):\n",
    "                print(\"hey\")\n",
    "            x -= 1\n",
    "    abs() gets the absolute value of a number.\n",
    "    while will interpret x as a boolean, exiting the loop after reaching zero.\n",
    "    print(x) needs to be called whether x is a \"hey number\" or not. This can be done outside of any if statement, instead of in both.\n",
    "    Both conditions x % 3 == 0 and \"3\" in str(x) need to be True, so they can be joined with an and.\n",
    "    Bonus\n",
    "    A more Pythonistic approach:\n",
    "\n",
    "    def countdown(x):\n",
    "        for i in range(abs(x), -1, -1):\n",
    "            print(x)\n",
    "            if not x % 3 and \"3\" in str(x):\n",
    "                print(\"hey\")\n",
    "    Notes\n",
    "    This is an open series: there isn't a definite list of features for the challenges. Please, do not hesitate to leave your suggestions in the Comment tab.\n",
    "    Readability is indeed a subjective concept. Let's discuss it! Feel free to leave your opinion in the Comments tab.\n",
    "    You can find all the exercises in this series over here."
   ]
  },
  {
   "cell_type": "code",
   "execution_count": 5,
   "id": "718bef77",
   "metadata": {},
   "outputs": [],
   "source": [
    "def is_prime(n):\n",
    "    if(n==0 and n==1): return False \n",
    "    i = 2\n",
    "    while i<n:\n",
    "        if n%i==0: return False \n",
    "        i += 1\n",
    "    return True"
   ]
  },
  {
   "cell_type": "code",
   "execution_count": 6,
   "id": "36a3727e",
   "metadata": {},
   "outputs": [
    {
     "data": {
      "text/plain": [
       "True"
      ]
     },
     "execution_count": 6,
     "metadata": {},
     "output_type": "execute_result"
    }
   ],
   "source": [
    "is_prime(1)"
   ]
  },
  {
   "cell_type": "code",
   "execution_count": 7,
   "id": "3c047947",
   "metadata": {},
   "outputs": [
    {
     "data": {
      "text/plain": [
       "True"
      ]
     },
     "execution_count": 7,
     "metadata": {},
     "output_type": "execute_result"
    }
   ],
   "source": [
    "is_prime(2)"
   ]
  },
  {
   "cell_type": "code",
   "execution_count": 8,
   "id": "fc04026d",
   "metadata": {},
   "outputs": [
    {
     "data": {
      "text/plain": [
       "False"
      ]
     },
     "execution_count": 8,
     "metadata": {},
     "output_type": "execute_result"
    }
   ],
   "source": [
    "is_prime(4)"
   ]
  },
  {
   "cell_type": "markdown",
   "id": "5daac504",
   "metadata": {},
   "source": [
    "30) Create a function that takes a string s and returns a list of two-paired characters. If the string has an odd number of characters, add an asterisk * in the final pair.\n",
    "\n",
    "See the below examples for a better understanding:\n",
    "\n",
    "    Examples\n",
    "    string_pairs(\"mubashir\") ➞ [\"mu\", \"ba\", \"sh\", \"ir\"]\n",
    "\n",
    "    string_pairs(\"edabit\") ➞ [\"ed\", \"ab\", \"it\"]\n",
    "    \n",
    "    string_pairs(\"airforces\") ➞ [\"ai\", \"rf\", \"or\", \"ce\", \"s*\"]\n",
    "    Notes\n",
    "    Return [] if the given string is empty."
   ]
  },
  {
   "cell_type": "code",
   "execution_count": 45,
   "id": "b15865d5",
   "metadata": {},
   "outputs": [],
   "source": [
    "def string_pairs(s):\n",
    "    l=[]\n",
    "    for x in range(0,len(s),2):\n",
    "        if x==len(s)-1:\n",
    "            l.append(s[x]+\"*\")\n",
    "        else:\n",
    "            l.append(s[x]+s[x+1])            \n",
    "    return l"
   ]
  },
  {
   "cell_type": "code",
   "execution_count": 46,
   "id": "4963ac0d",
   "metadata": {},
   "outputs": [
    {
     "data": {
      "text/plain": [
       "['mu', 'ba', 'sh', 'ir']"
      ]
     },
     "execution_count": 46,
     "metadata": {},
     "output_type": "execute_result"
    }
   ],
   "source": [
    "string_pairs(\"mubashir\")"
   ]
  },
  {
   "cell_type": "code",
   "execution_count": 47,
   "id": "cd9bcce7",
   "metadata": {},
   "outputs": [
    {
     "data": {
      "text/plain": [
       "['ed', 'ab', 'it']"
      ]
     },
     "execution_count": 47,
     "metadata": {},
     "output_type": "execute_result"
    }
   ],
   "source": [
    "string_pairs(\"edabit\")"
   ]
  },
  {
   "cell_type": "code",
   "execution_count": 48,
   "id": "91f6b8b4",
   "metadata": {},
   "outputs": [
    {
     "data": {
      "text/plain": [
       "['ai', 'rf', 'or', 'ce', 's*']"
      ]
     },
     "execution_count": 48,
     "metadata": {},
     "output_type": "execute_result"
    }
   ],
   "source": [
    "string_pairs(\"airforces\")"
   ]
  },
  {
   "cell_type": "code",
   "execution_count": null,
   "id": "69713caf",
   "metadata": {},
   "outputs": [],
   "source": []
  }
 ],
 "metadata": {
  "kernelspec": {
   "display_name": "Python 3 (ipykernel)",
   "language": "python",
   "name": "python3"
  },
  "language_info": {
   "codemirror_mode": {
    "name": "ipython",
    "version": 3
   },
   "file_extension": ".py",
   "mimetype": "text/x-python",
   "name": "python",
   "nbconvert_exporter": "python",
   "pygments_lexer": "ipython3",
   "version": "3.10.9"
  }
 },
 "nbformat": 4,
 "nbformat_minor": 5
}
