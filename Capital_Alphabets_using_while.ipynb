{
 "cells": [
  {
   "cell_type": "code",
   "execution_count": 2,
   "id": "95b6944e",
   "metadata": {},
   "outputs": [
    {
     "name": "stdout",
     "output_type": "stream",
     "text": [
      "  * \n",
      "*   *\n",
      "* * *\n",
      "*   *\n",
      "*   *\n"
     ]
    }
   ],
   "source": [
    "x=0\n",
    "while x<5:\n",
    "    if x==0:\n",
    "        print(\"  * \")\n",
    "    elif x==1 or x==3 or x==4:\n",
    "        print(\"*   *\")\n",
    "    else:\n",
    "        print(\"* * *\")\n",
    "    x+=1"
   ]
  },
  {
   "cell_type": "code",
   "execution_count": 3,
   "id": "21ef88ad",
   "metadata": {},
   "outputs": [
    {
     "name": "stdout",
     "output_type": "stream",
     "text": [
      "* *\n",
      "*   *\n",
      "* *\n",
      "*   *\n",
      "* *\n"
     ]
    }
   ],
   "source": [
    "x=0\n",
    "while x<5:\n",
    "    if x==0 or x==2 or x==4:\n",
    "        print(\"* *\")\n",
    "    else:\n",
    "        print(\"*   *\")\n",
    "    x+=1"
   ]
  },
  {
   "cell_type": "code",
   "execution_count": 4,
   "id": "977412a5",
   "metadata": {},
   "outputs": [
    {
     "name": "stdout",
     "output_type": "stream",
     "text": [
      " * *\n",
      "*   \n",
      "*   \n",
      "*   \n",
      " * *\n"
     ]
    }
   ],
   "source": [
    "x=10\n",
    "while x>5:\n",
    "    if x==10 or x==6:\n",
    "        print(\" * *\")\n",
    "    else:\n",
    "        print(\"*   \")\n",
    "    x-=1"
   ]
  },
  {
   "cell_type": "code",
   "execution_count": 7,
   "id": "81c67ee5",
   "metadata": {},
   "outputs": [
    {
     "name": "stdout",
     "output_type": "stream",
     "text": [
      "* * \n",
      "*   *\n",
      "*   *\n",
      "*   *\n",
      "* * \n"
     ]
    }
   ],
   "source": [
    "x=10\n",
    "while x>5:\n",
    "    if x==10 or x==6:\n",
    "        print(\"* * \")\n",
    "    else:\n",
    "        print(\"*   *\")\n",
    "    x-=1"
   ]
  },
  {
   "cell_type": "code",
   "execution_count": 9,
   "id": "5d9477b0",
   "metadata": {},
   "outputs": [
    {
     "name": "stdout",
     "output_type": "stream",
     "text": [
      "* * *\n",
      "*   \n",
      "* * *\n",
      "*   \n",
      "* * *\n"
     ]
    }
   ],
   "source": [
    "x=10\n",
    "while x>5:\n",
    "    if x==10 or x==6 or x==8:\n",
    "        print(\"* * *\")\n",
    "    else:\n",
    "        print(\"*   \")\n",
    "    x-=1"
   ]
  },
  {
   "cell_type": "code",
   "execution_count": 10,
   "id": "69690a5d",
   "metadata": {},
   "outputs": [
    {
     "name": "stdout",
     "output_type": "stream",
     "text": [
      "* * *\n",
      "*  \n",
      "* * *\n",
      "*  \n",
      "*  \n"
     ]
    }
   ],
   "source": [
    "x=10\n",
    "while x>5:\n",
    "    if x==10 or x==8:\n",
    "        print(\"* * *\")\n",
    "    else:\n",
    "        print(\"*  \")\n",
    "    x-=1"
   ]
  },
  {
   "cell_type": "code",
   "execution_count": 16,
   "id": "c3b29d16",
   "metadata": {},
   "outputs": [
    {
     "name": "stdout",
     "output_type": "stream",
     "text": [
      "* *  *\n",
      "* \n",
      "*  * *\n",
      "*    *\n",
      "* *  *\n"
     ]
    }
   ],
   "source": [
    "x=10\n",
    "while x>5:\n",
    "    if x==10 or x==6:\n",
    "        print(\"* *  *\")\n",
    "    elif x==2:\n",
    "        print(\"*  \")\n",
    "    elif x==8:\n",
    "        print(\"*  * *\")\n",
    "    elif x==9:\n",
    "        print(\"* \")\n",
    "    else:\n",
    "        print(\"*    *\")\n",
    "    x-=1"
   ]
  },
  {
   "cell_type": "code",
   "execution_count": 2,
   "id": "e98cc882",
   "metadata": {},
   "outputs": [
    {
     "name": "stdout",
     "output_type": "stream",
     "text": [
      "*   *\n",
      "*   *\n",
      "* * *\n",
      "*   *\n",
      "*   *\n"
     ]
    }
   ],
   "source": [
    "x=10\n",
    "while x>5:\n",
    "    if x==10 or x==9 or x==7 or x==6:\n",
    "        print(\"*   *\")\n",
    "    else:\n",
    "        print(\"* * *\")\n",
    "    x-=1"
   ]
  },
  {
   "cell_type": "code",
   "execution_count": 3,
   "id": "8a64ad06",
   "metadata": {},
   "outputs": [
    {
     "name": "stdout",
     "output_type": "stream",
     "text": [
      "* * *\n",
      "  *  \n",
      "  *  \n",
      "  *  \n",
      "* * *\n"
     ]
    }
   ],
   "source": [
    "x=10\n",
    "while x>5:\n",
    "    if x==10 or x==6:\n",
    "        print(\"* * *\")\n",
    "    else:\n",
    "        print(\"  *  \")\n",
    "    x-=1"
   ]
  },
  {
   "cell_type": "code",
   "execution_count": 10,
   "id": "b7c0f3b6",
   "metadata": {},
   "outputs": [
    {
     "name": "stdout",
     "output_type": "stream",
     "text": [
      " * * *\n",
      "   *\n",
      "   *\n",
      "   *\n",
      "* * \n"
     ]
    }
   ],
   "source": [
    "x=10\n",
    "while x>5:\n",
    "    if x==8 or x==9 or x==7:\n",
    "        print(\"   *\")\n",
    "    elif x==6:\n",
    "        print(\"* * \")\n",
    "    else:\n",
    "        print(\" * * *\")\n",
    "    x-=1"
   ]
  },
  {
   "cell_type": "code",
   "execution_count": 11,
   "id": "30941117",
   "metadata": {},
   "outputs": [
    {
     "name": "stdout",
     "output_type": "stream",
     "text": [
      "*    *\n",
      "*  *\n",
      "* * \n",
      "*  *\n",
      "*    *\n"
     ]
    }
   ],
   "source": [
    "x=10\n",
    "while x>5:\n",
    "    if x==10 or x==6:\n",
    "        print(\"*    *\")    \n",
    "    elif x==9 or x==7:\n",
    "        print(\"*  *\")\n",
    "    else:\n",
    "        print(\"* * \")\n",
    "    x-=1"
   ]
  },
  {
   "cell_type": "code",
   "execution_count": 13,
   "id": "f2a4ed93",
   "metadata": {},
   "outputs": [
    {
     "name": "stdout",
     "output_type": "stream",
     "text": [
      "* \n",
      "* \n",
      "* \n",
      "* \n",
      "* * *\n"
     ]
    }
   ],
   "source": [
    "x=10\n",
    "while x>5:\n",
    "    if x==6:\n",
    "        print(\"* * *\")    \n",
    "    else:\n",
    "        print(\"* \")\n",
    "    x-=1"
   ]
  },
  {
   "cell_type": "code",
   "execution_count": 14,
   "id": "4c5bf84c",
   "metadata": {},
   "outputs": [
    {
     "name": "stdout",
     "output_type": "stream",
     "text": [
      "*      *\n",
      "* *  * *\n",
      "*   *  *\n",
      "*      *\n",
      "*      *\n"
     ]
    }
   ],
   "source": [
    "x=10\n",
    "while x>5:\n",
    "    if x==10 or x==7 or x==6:\n",
    "        print(\"*      *\")    \n",
    "    elif x==9:\n",
    "        print(\"* *  * *\")\n",
    "    else:\n",
    "        print(\"*   *  *\")\n",
    "    x-=1"
   ]
  },
  {
   "cell_type": "code",
   "execution_count": 16,
   "id": "efdb87f4",
   "metadata": {},
   "outputs": [
    {
     "name": "stdout",
     "output_type": "stream",
     "text": [
      "*       *\n",
      "* *     *\n",
      "*   *   *\n",
      "*     * *\n",
      "*       *\n"
     ]
    }
   ],
   "source": [
    "x=10\n",
    "while x>5:\n",
    "    if x==10 or x==6:\n",
    "        print(\"*       *\")    \n",
    "    elif x==9:\n",
    "        print(\"* *     *\")\n",
    "    elif x==8:\n",
    "        print(\"*   *   *\")\n",
    "    else:\n",
    "        print(\"*     * *\")\n",
    "    x-=1"
   ]
  },
  {
   "cell_type": "code",
   "execution_count": 17,
   "id": "0fa2a260",
   "metadata": {},
   "outputs": [
    {
     "name": "stdout",
     "output_type": "stream",
     "text": [
      "  * * \n",
      "*     *\n",
      "*     *\n",
      "*     *\n",
      "  * * \n"
     ]
    }
   ],
   "source": [
    "x=10\n",
    "while x>5:\n",
    "    if x==10 or x==6:\n",
    "        print(\"  * * \")    \n",
    "    else:\n",
    "        print(\"*     *\")\n",
    "    x-=1"
   ]
  },
  {
   "cell_type": "code",
   "execution_count": 18,
   "id": "a9cfa200",
   "metadata": {},
   "outputs": [
    {
     "name": "stdout",
     "output_type": "stream",
     "text": [
      "* * \n",
      "*   *\n",
      "* * \n",
      "*   \n",
      "*   \n"
     ]
    }
   ],
   "source": [
    "x=10\n",
    "while x>5:\n",
    "    if x==10 or x==8:\n",
    "        print(\"* * \")    \n",
    "    elif x==9:\n",
    "        print(\"*   *\")\n",
    "    else:\n",
    "        print(\"*   \")\n",
    "    x-=1"
   ]
  },
  {
   "cell_type": "code",
   "execution_count": 26,
   "id": "5ba72718",
   "metadata": {},
   "outputs": [
    {
     "name": "stdout",
     "output_type": "stream",
     "text": [
      "  * *  \n",
      "*     *\n",
      "*     *\n",
      "*    \\*\n",
      " * *  \\ \n"
     ]
    }
   ],
   "source": [
    "x=10\n",
    "while x>5:\n",
    "    if x==9 or x==8:\n",
    "        print(\"*     *\")    \n",
    "    elif x==10:\n",
    "        print(\"  * *  \")\n",
    "    elif x==7:\n",
    "        print(\"*    \\*\")\n",
    "    else:\n",
    "        print(\" * *  \\ \")\n",
    "    x-=1"
   ]
  },
  {
   "cell_type": "code",
   "execution_count": 27,
   "id": "79b66527",
   "metadata": {},
   "outputs": [
    {
     "name": "stdout",
     "output_type": "stream",
     "text": [
      "*  *  *\n",
      "*     *\n",
      "*  *  \n",
      "*     *\n",
      "*      *\n"
     ]
    }
   ],
   "source": [
    "x=10\n",
    "while x>5:\n",
    "    if x==9 or x==7:\n",
    "        print(\"*     *\")    \n",
    "    elif x==10:\n",
    "        print(\"*  *  *\")\n",
    "    elif x==6:\n",
    "        print(\"*      *\")\n",
    "    else:\n",
    "        print(\"*  *  \")\n",
    "    x-=1"
   ]
  },
  {
   "cell_type": "code",
   "execution_count": 28,
   "id": "7ef6f695",
   "metadata": {},
   "outputs": [
    {
     "name": "stdout",
     "output_type": "stream",
     "text": [
      " * * *\n",
      "*   \n",
      " * * *\n",
      "      *\n",
      " * * *\n"
     ]
    }
   ],
   "source": [
    "x=10\n",
    "while x>5:\n",
    "    if x==10 or x==8 or x==6:\n",
    "        print(\" * * *\")    \n",
    "    elif x==9:\n",
    "        print(\"*   \")\n",
    "    else:\n",
    "        print(\"      *\")\n",
    "    x-=1"
   ]
  },
  {
   "cell_type": "code",
   "execution_count": 32,
   "id": "5a1fab6f",
   "metadata": {},
   "outputs": [
    {
     "name": "stdout",
     "output_type": "stream",
     "text": [
      "* * *\n",
      "  *\n",
      "  *\n",
      "  *\n",
      "  *\n"
     ]
    }
   ],
   "source": [
    "x=10\n",
    "while x>5:\n",
    "    if x==10:\n",
    "        print(\"* * *\")    \n",
    "    else:\n",
    "        print(\"  *\")\n",
    "    x-=1"
   ]
  },
  {
   "cell_type": "code",
   "execution_count": 33,
   "id": "4b8c7b3a",
   "metadata": {},
   "outputs": [
    {
     "name": "stdout",
     "output_type": "stream",
     "text": [
      "*   *\n",
      "*   *\n",
      "*   *\n",
      "*   *\n",
      "* * *\n"
     ]
    }
   ],
   "source": [
    "x=10\n",
    "while x>5:\n",
    "    if x==6:\n",
    "        print(\"* * *\")    \n",
    "    else:\n",
    "        print(\"*   *\")\n",
    "    x-=1"
   ]
  },
  {
   "cell_type": "code",
   "execution_count": 35,
   "id": "cebbad16",
   "metadata": {},
   "outputs": [
    {
     "name": "stdout",
     "output_type": "stream",
     "text": [
      "*   *\n",
      "*   *\n",
      "*   *\n",
      " * *\n",
      "  *  \n"
     ]
    }
   ],
   "source": [
    "x=10\n",
    "while x>5:\n",
    "    if x==10 or x==9 or x==8:\n",
    "        print(\"*   *\")    \n",
    "    elif x==7:\n",
    "        print(\" * *\")\n",
    "    else:\n",
    "        print(\"  *  \")\n",
    "    x-=1"
   ]
  },
  {
   "cell_type": "code",
   "execution_count": 36,
   "id": "6b19aa47",
   "metadata": {},
   "outputs": [
    {
     "name": "stdout",
     "output_type": "stream",
     "text": [
      "*      *\n",
      "*      *\n",
      "*  *   *\n",
      "* *  * *\n",
      "*      *\n"
     ]
    }
   ],
   "source": [
    "x=10\n",
    "while x>5:\n",
    "    if x==10 or x==9 or x==6:\n",
    "        print(\"*      *\")    \n",
    "    elif x==8:\n",
    "        print(\"*  *   *\")\n",
    "    else:\n",
    "        print(\"* *  * *\")\n",
    "    x-=1"
   ]
  },
  {
   "cell_type": "code",
   "execution_count": 37,
   "id": "4eb82ec7",
   "metadata": {},
   "outputs": [
    {
     "name": "stdout",
     "output_type": "stream",
     "text": [
      " *   *\n",
      "  * * \n",
      "   * \n",
      "  * * \n",
      " *   *\n"
     ]
    }
   ],
   "source": [
    "x=10\n",
    "while x>5:\n",
    "    if x==10 or x==6:\n",
    "        print(\" *   *\")    \n",
    "    elif x==9 or x==7:\n",
    "        print(\"  * * \")\n",
    "    else:\n",
    "        print(\"   * \")\n",
    "    x-=1"
   ]
  },
  {
   "cell_type": "code",
   "execution_count": 1,
   "id": "650f6ef6",
   "metadata": {},
   "outputs": [
    {
     "name": "stdout",
     "output_type": "stream",
     "text": [
      " *   *\n",
      "  * *\n",
      "   * \n",
      "   * \n",
      "   * \n"
     ]
    }
   ],
   "source": [
    "x=10\n",
    "while x>5:\n",
    "    if x==7 or x==6 or x==8:\n",
    "        print(\"   * \")    \n",
    "    elif x==9:\n",
    "        print(\"  * *\")\n",
    "    elif x==10:\n",
    "        print(\" *   *\")\n",
    "    else:\n",
    "        print(\"   * \")\n",
    "    x-=1"
   ]
  },
  {
   "cell_type": "code",
   "execution_count": 2,
   "id": "e8115720",
   "metadata": {},
   "outputs": [
    {
     "name": "stdout",
     "output_type": "stream",
     "text": [
      " * * *\n",
      "    *\n",
      "   * \n",
      "  *\n",
      " * * *\n"
     ]
    }
   ],
   "source": [
    "x=10\n",
    "while x>5:\n",
    "    if x==10 or x==6:\n",
    "        print(\" * * *\")    \n",
    "    elif x==9:\n",
    "        print(\"    *\")\n",
    "    elif x==8:\n",
    "        print(\"   * \")\n",
    "    else:\n",
    "        print(\"  *\")\n",
    "    x-=1"
   ]
  },
  {
   "cell_type": "code",
   "execution_count": null,
   "id": "70de3b2b",
   "metadata": {},
   "outputs": [],
   "source": []
  }
 ],
 "metadata": {
  "kernelspec": {
   "display_name": "Python 3 (ipykernel)",
   "language": "python",
   "name": "python3"
  },
  "language_info": {
   "codemirror_mode": {
    "name": "ipython",
    "version": 3
   },
   "file_extension": ".py",
   "mimetype": "text/x-python",
   "name": "python",
   "nbconvert_exporter": "python",
   "pygments_lexer": "ipython3",
   "version": "3.10.9"
  }
 },
 "nbformat": 4,
 "nbformat_minor": 5
}
