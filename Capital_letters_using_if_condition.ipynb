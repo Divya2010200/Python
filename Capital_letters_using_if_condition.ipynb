{
 "cells": [
  {
   "cell_type": "code",
   "execution_count": 5,
   "id": "d6c3117d",
   "metadata": {},
   "outputs": [
    {
     "name": "stdout",
     "output_type": "stream",
     "text": [
      "* * *\n",
      "*   *\n",
      "* * *\n",
      "*   *\n",
      "*   *\n"
     ]
    }
   ],
   "source": [
    "# A\n",
    "x1=1\n",
    "x2=2\n",
    "x3=3\n",
    "x4=4\n",
    "x5=5\n",
    "\n",
    "if x1==1:\n",
    "    print(\"* * *\")\n",
    "if x2==2:\n",
    "    print(\"*   *\")\n",
    "if x3==3:\n",
    "    print(\"* * *\")\n",
    "if x4==4:\n",
    "    print(\"*   *\")\n",
    "if x5==5:\n",
    "    print(\"*   *\")"
   ]
  },
  {
   "cell_type": "code",
   "execution_count": 1,
   "id": "3cbf7ec6",
   "metadata": {},
   "outputs": [
    {
     "name": "stdout",
     "output_type": "stream",
     "text": [
      "* * \n",
      "*   *\n",
      "* * \n",
      "*   *\n",
      "* * \n"
     ]
    }
   ],
   "source": [
    "# B\n",
    "x1=1\n",
    "x2=2\n",
    "x3=3\n",
    "x4=4\n",
    "x5=5\n",
    "\n",
    "if x1==1:\n",
    "    print(\"* * \")\n",
    "if x2==2:\n",
    "    print(\"*   *\")\n",
    "if x3==3:\n",
    "    print(\"* * \")\n",
    "if x4==4:\n",
    "    print(\"*   *\")\n",
    "if x5==5:\n",
    "    print(\"* * \")"
   ]
  },
  {
   "cell_type": "code",
   "execution_count": 2,
   "id": "ac2e2194",
   "metadata": {},
   "outputs": [
    {
     "name": "stdout",
     "output_type": "stream",
     "text": [
      " * *\n",
      "*   \n",
      "* \n",
      "* \n",
      " * *\n"
     ]
    }
   ],
   "source": [
    "# C\n",
    "x1=1\n",
    "x2=2\n",
    "x3=3\n",
    "x4=4\n",
    "x5=5\n",
    "\n",
    "if x1==1:\n",
    "    print(\" * *\")\n",
    "if x2==2:\n",
    "    print(\"*   \")\n",
    "if x3==3:\n",
    "    print(\"* \")\n",
    "if x4==4:\n",
    "    print(\"* \")\n",
    "if x5==5:\n",
    "    print(\" * *\")"
   ]
  },
  {
   "cell_type": "code",
   "execution_count": 13,
   "id": "6245b2a3",
   "metadata": {},
   "outputs": [
    {
     "name": "stdout",
     "output_type": "stream",
     "text": [
      "* * \n",
      "*   *\n",
      "*   *\n",
      "*   *\n",
      "* * \n"
     ]
    }
   ],
   "source": [
    "# D\n",
    "x1=1\n",
    "x2=2\n",
    "x3=3\n",
    "x4=4\n",
    "x5=5\n",
    "\n",
    "if x1==1:\n",
    "    print(\"* * \")\n",
    "if x2==2:\n",
    "    print(\"*   *\")\n",
    "if x3==3:\n",
    "    print(\"*   *\")\n",
    "if x4==4:\n",
    "    print(\"*   *\")\n",
    "if x5==5:\n",
    "    print(\"* * \")"
   ]
  },
  {
   "cell_type": "code",
   "execution_count": 14,
   "id": "273a5839",
   "metadata": {},
   "outputs": [
    {
     "name": "stdout",
     "output_type": "stream",
     "text": [
      "* * *\n",
      "*   \n",
      "* * *\n",
      "*   \n",
      "* * *\n"
     ]
    }
   ],
   "source": [
    "# E\n",
    "x1=1\n",
    "x2=2\n",
    "x3=3\n",
    "x4=4\n",
    "x5=5\n",
    "\n",
    "if x1==1:\n",
    "    print(\"* * *\")\n",
    "if x2==2:\n",
    "    print(\"*   \")\n",
    "if x3==3:\n",
    "    print(\"* * *\")\n",
    "if x4==4:\n",
    "    print(\"*   \")\n",
    "if x5==5:\n",
    "    print(\"* * *\")"
   ]
  },
  {
   "cell_type": "code",
   "execution_count": 16,
   "id": "d079a183",
   "metadata": {},
   "outputs": [
    {
     "name": "stdout",
     "output_type": "stream",
     "text": [
      "* * *\n",
      "* \n",
      "* * *\n",
      "*  \n",
      "*  \n"
     ]
    }
   ],
   "source": [
    "# F\n",
    "x1=1\n",
    "x2=2\n",
    "x3=3\n",
    "x4=4\n",
    "x5=5\n",
    "\n",
    "if x1==1:\n",
    "    print(\"* * *\")\n",
    "if x2==2:\n",
    "    print(\"* \")\n",
    "if x3==3:\n",
    "    print(\"* * *\")\n",
    "if x4==4:\n",
    "    print(\"*  \")\n",
    "if x5==5:\n",
    "    print(\"*  \")"
   ]
  },
  {
   "cell_type": "code",
   "execution_count": 36,
   "id": "7b677466",
   "metadata": {},
   "outputs": [
    {
     "name": "stdout",
     "output_type": "stream",
     "text": [
      "* * *\n",
      "*   \n",
      "*  * * \n",
      "*    *\n",
      "*  * *\n"
     ]
    }
   ],
   "source": [
    "# G\n",
    "x1=1\n",
    "x2=2\n",
    "x3=3\n",
    "x4=4\n",
    "x5=5\n",
    "\n",
    "if x1==1:\n",
    "    print(\"* * *\")\n",
    "if x2==2:\n",
    "    print(\"*   \")\n",
    "if x3==3:\n",
    "    print(\"*  * * \")\n",
    "if x4==4:\n",
    "    print(\"*    *\")\n",
    "if x5==5:\n",
    "    print(\"*  * *\")"
   ]
  },
  {
   "cell_type": "code",
   "execution_count": 38,
   "id": "37097a80",
   "metadata": {},
   "outputs": [
    {
     "name": "stdout",
     "output_type": "stream",
     "text": [
      "*   *\n",
      "*   *\n",
      "* * *\n",
      "*   *\n",
      "*   *\n"
     ]
    }
   ],
   "source": [
    "# H\n",
    "x1=1\n",
    "x2=2\n",
    "x3=3\n",
    "x4=4\n",
    "x5=5\n",
    "\n",
    "if x1==1:\n",
    "    print(\"*   *\")\n",
    "if x2==2:\n",
    "    print(\"*   *\")\n",
    "if x3==3:\n",
    "    print(\"* * *\")\n",
    "if x4==4:\n",
    "    print(\"*   *\")\n",
    "if x5==5:\n",
    "    print(\"*   *\")"
   ]
  },
  {
   "cell_type": "code",
   "execution_count": 39,
   "id": "33c4afed",
   "metadata": {},
   "outputs": [
    {
     "name": "stdout",
     "output_type": "stream",
     "text": [
      "* * *\n",
      "  * \n",
      "  * \n",
      "  * \n",
      "* * *\n"
     ]
    }
   ],
   "source": [
    "# I\n",
    "x1=1\n",
    "x2=2\n",
    "x3=3\n",
    "x4=4\n",
    "x5=5\n",
    "\n",
    "if x1==1:\n",
    "    print(\"* * *\")\n",
    "if x2==2:\n",
    "    print(\"  * \")\n",
    "if x3==3:\n",
    "    print(\"  * \")\n",
    "if x4==4:\n",
    "    print(\"  * \")\n",
    "if x5==5:\n",
    "    print(\"* * *\")"
   ]
  },
  {
   "cell_type": "code",
   "execution_count": 8,
   "id": "ff45e24f",
   "metadata": {},
   "outputs": [
    {
     "name": "stdout",
     "output_type": "stream",
     "text": [
      "  * * * \n",
      "    *\n",
      "    * \n",
      "    * \n",
      " * * \n"
     ]
    }
   ],
   "source": [
    "# J\n",
    "x1=1\n",
    "x2=2\n",
    "x3=3\n",
    "x4=4\n",
    "x5=5\n",
    "\n",
    "if x1==1:\n",
    "    print(\"  * * * \")\n",
    "if x2==2:\n",
    "    print(\"    *\")\n",
    "if x3==3:\n",
    "    print(\"    * \")\n",
    "if x4==4:\n",
    "    print(\"    * \")\n",
    "if x5==5:\n",
    "    print(\" * * \")"
   ]
  },
  {
   "cell_type": "code",
   "execution_count": 11,
   "id": "73908e4b",
   "metadata": {},
   "outputs": [
    {
     "name": "stdout",
     "output_type": "stream",
     "text": [
      "*    *\n",
      "*  *\n",
      "* * \n",
      "*  *\n",
      "*    *\n"
     ]
    }
   ],
   "source": [
    "# K\n",
    "x1=1\n",
    "x2=2\n",
    "x3=3\n",
    "x4=4\n",
    "x5=5\n",
    "\n",
    "if x1==1:\n",
    "    print(\"*    *\")\n",
    "if x2==2:\n",
    "    print(\"*  *\")\n",
    "if x3==3:\n",
    "    print(\"* * \")\n",
    "if x4==4:\n",
    "    print(\"*  *\")\n",
    "if x5==5:\n",
    "    print(\"*    *\")"
   ]
  },
  {
   "cell_type": "code",
   "execution_count": 59,
   "id": "fce49708",
   "metadata": {},
   "outputs": [
    {
     "name": "stdout",
     "output_type": "stream",
     "text": [
      "* \n",
      "* \n",
      "* \n",
      "* \n",
      "* * *\n"
     ]
    }
   ],
   "source": [
    "# L\n",
    "x1=1\n",
    "x2=2\n",
    "x3=3\n",
    "x4=4\n",
    "x5=5\n",
    "\n",
    "if x1==1:\n",
    "    print(\"* \")\n",
    "if x2==2:\n",
    "    print(\"* \")\n",
    "if x3==3:\n",
    "    print(\"* \")\n",
    "if x4==4:\n",
    "    print(\"* \")\n",
    "if x5==5:\n",
    "    print(\"* * *\")"
   ]
  },
  {
   "cell_type": "code",
   "execution_count": 61,
   "id": "5bc600b3",
   "metadata": {},
   "outputs": [
    {
     "name": "stdout",
     "output_type": "stream",
     "text": [
      "*      *\n",
      "* *  * *\n",
      "*   *  *\n",
      "*      *\n",
      "*      *\n"
     ]
    }
   ],
   "source": [
    "# M\n",
    "x1=1\n",
    "x2=2\n",
    "x3=3\n",
    "x4=4\n",
    "x5=5\n",
    "\n",
    "if x1==1:\n",
    "    print(\"*      *\")\n",
    "if x2==2:\n",
    "    print(\"* *  * *\")\n",
    "if x3==3:\n",
    "    print(\"*   *  *\")\n",
    "if x4==4:\n",
    "    print(\"*      *\")\n",
    "if x5==5:\n",
    "    print(\"*      *\")"
   ]
  },
  {
   "cell_type": "code",
   "execution_count": 63,
   "id": "6edd78a9",
   "metadata": {},
   "outputs": [
    {
     "name": "stdout",
     "output_type": "stream",
     "text": [
      "*       *\n",
      "* *     *\n",
      "*   *   *\n",
      "*     * *\n",
      "*       *\n"
     ]
    }
   ],
   "source": [
    "# N\n",
    "x1=1\n",
    "x2=2\n",
    "x3=3\n",
    "x4=4\n",
    "x5=5\n",
    "\n",
    "if x1==1:\n",
    "    print(\"*       *\")\n",
    "if x2==2:\n",
    "    print(\"* *     *\")\n",
    "if x3==3:\n",
    "    print(\"*   *   *\")\n",
    "if x4==4:\n",
    "    print(\"*     * *\")\n",
    "if x5==5:\n",
    "    print(\"*       *\")"
   ]
  },
  {
   "cell_type": "code",
   "execution_count": 12,
   "id": "7d6185bb",
   "metadata": {},
   "outputs": [
    {
     "name": "stdout",
     "output_type": "stream",
     "text": [
      "  * * \n",
      "*     *\n",
      "*     *\n",
      "*     *\n",
      "  * * \n"
     ]
    }
   ],
   "source": [
    "# O\n",
    "x1=1\n",
    "x2=2\n",
    "x3=3\n",
    "x4=4\n",
    "x5=5\n",
    "\n",
    "if x1==1:\n",
    "    print(\"  * * \")\n",
    "if x2==2:\n",
    "    print(\"*     *\")\n",
    "if x3==3:\n",
    "    print(\"*     *\")\n",
    "if x4==4:\n",
    "    print(\"*     *\")\n",
    "if x5==5:\n",
    "    print(\"  * * \")"
   ]
  },
  {
   "cell_type": "code",
   "execution_count": 13,
   "id": "ae1bd739",
   "metadata": {},
   "outputs": [
    {
     "name": "stdout",
     "output_type": "stream",
     "text": [
      "* * \n",
      "*   *\n",
      "* * \n",
      "*   \n",
      "*   \n"
     ]
    }
   ],
   "source": [
    "# P\n",
    "x1=1\n",
    "x2=2\n",
    "x3=3\n",
    "x4=4\n",
    "x5=5\n",
    "\n",
    "if x1==1:\n",
    "    print(\"* * \")\n",
    "if x2==2:\n",
    "    print(\"*   *\")\n",
    "if x3==3:\n",
    "    print(\"* * \")\n",
    "if x4==4:\n",
    "    print(\"*   \")\n",
    "if x5==5:\n",
    "    print(\"*   \")"
   ]
  },
  {
   "cell_type": "code",
   "execution_count": 74,
   "id": "3d80ccbb",
   "metadata": {},
   "outputs": [
    {
     "name": "stdout",
     "output_type": "stream",
     "text": [
      "*  *  *\n",
      "*     *\n",
      "*     *\n",
      "*  \\  *\n",
      "*  *  \\ \n"
     ]
    }
   ],
   "source": [
    "# Q\n",
    "x1=1\n",
    "x2=2\n",
    "x3=3\n",
    "x4=4\n",
    "x5=5\n",
    "\n",
    "if x1==1:\n",
    "    print(\"*  *  *\")\n",
    "if x2==2:\n",
    "    print(\"*     *\")\n",
    "if x3==3:\n",
    "    print(\"*     *\")\n",
    "if x4==4:\n",
    "    print(\"*  \\  *\")\n",
    "if x5==5:\n",
    "    print(\"*  *  \\ \")"
   ]
  },
  {
   "cell_type": "code",
   "execution_count": 77,
   "id": "1acdb609",
   "metadata": {},
   "outputs": [
    {
     "name": "stdout",
     "output_type": "stream",
     "text": [
      "*  *  *\n",
      "*     *\n",
      "*  *  \n",
      "*     *\n",
      "*      *\n"
     ]
    }
   ],
   "source": [
    "# R\n",
    "x1=1\n",
    "x2=2\n",
    "x3=3\n",
    "x4=4\n",
    "x5=5\n",
    "\n",
    "if x1==1:\n",
    "    print(\"*  *  *\")\n",
    "if x2==2:\n",
    "    print(\"*     *\")\n",
    "if x3==3: \n",
    "    print(\"*  *  \")\n",
    "if x4==4:\n",
    "    print(\"*     *\")\n",
    "if x5==5:\n",
    "    print(\"*      *\")"
   ]
  },
  {
   "cell_type": "code",
   "execution_count": 85,
   "id": "bfe37171",
   "metadata": {},
   "outputs": [
    {
     "name": "stdout",
     "output_type": "stream",
     "text": [
      " * * *\n",
      "*   \n",
      " * * *\n",
      "      *\n",
      " * * *\n"
     ]
    }
   ],
   "source": [
    "# S\n",
    "x1=1\n",
    "x2=2\n",
    "x3=3\n",
    "x4=4\n",
    "x5=5\n",
    "\n",
    "if x1==1:\n",
    "    print(\" * * *\")\n",
    "if x2==2:\n",
    "    print(\"*   \")\n",
    "if x3==3:\n",
    "    print(\" * * *\")\n",
    "if x4==4:\n",
    "    print(\"      *\")\n",
    "if x5==5:\n",
    "    print(\" * * *\")"
   ]
  },
  {
   "cell_type": "code",
   "execution_count": 86,
   "id": "dafb87a0",
   "metadata": {},
   "outputs": [
    {
     "name": "stdout",
     "output_type": "stream",
     "text": [
      "* * *\n",
      "  *\n",
      "  *\n",
      "  *\n",
      "  * \n"
     ]
    }
   ],
   "source": [
    "# T\n",
    "x1=1\n",
    "x2=2\n",
    "x3=3\n",
    "x4=4\n",
    "x5=5\n",
    "\n",
    "if x1==1:\n",
    "    print(\"* * *\")\n",
    "if x2==2:\n",
    "    print(\"  *\")\n",
    "if x3==3:\n",
    "    print(\"  *\")\n",
    "if x4==4:\n",
    "    print(\"  *\")\n",
    "if x5==5:\n",
    "    print(\"  * \")"
   ]
  },
  {
   "cell_type": "code",
   "execution_count": 90,
   "id": "b5d77db3",
   "metadata": {},
   "outputs": [
    {
     "name": "stdout",
     "output_type": "stream",
     "text": [
      "*   *\n",
      "*   *\n",
      "*   *\n",
      "*   *\n",
      "* * *\n"
     ]
    }
   ],
   "source": [
    "# U\n",
    "x1=1\n",
    "x2=2\n",
    "x3=3\n",
    "x4=4\n",
    "x5=5\n",
    "\n",
    "if x1==1:\n",
    "    print(\"*   *\")\n",
    "if x2==2:\n",
    "    print(\"*   *\")\n",
    "if x3==3:\n",
    "    print(\"*   *\")\n",
    "if x4==4:\n",
    "    print(\"*   *\")\n",
    "if x5==5:\n",
    "    print(\"* * *\")"
   ]
  },
  {
   "cell_type": "code",
   "execution_count": 97,
   "id": "34ddf936",
   "metadata": {},
   "outputs": [
    {
     "name": "stdout",
     "output_type": "stream",
     "text": [
      "*   *\n",
      "*   *\n",
      "*   *\n",
      " * *\n",
      "  *  \n"
     ]
    }
   ],
   "source": [
    "# V\n",
    "x1=1\n",
    "x2=2\n",
    "x3=3\n",
    "x4=4\n",
    "x5=5\n",
    "\n",
    "if x1==1:\n",
    "    print(\"*   *\")\n",
    "if x2==2:\n",
    "    print(\"*   *\")\n",
    "if x3==3:\n",
    "    print(\"*   *\")\n",
    "if x4==4:\n",
    "    print(\" * *\")\n",
    "if x5==5:\n",
    "    print(\"  *  \")"
   ]
  },
  {
   "cell_type": "code",
   "execution_count": 100,
   "id": "ec8d7a02",
   "metadata": {},
   "outputs": [
    {
     "name": "stdout",
     "output_type": "stream",
     "text": [
      "*      *\n",
      "*      *\n",
      "*  *   *\n",
      "* *  * *\n",
      "*      *\n"
     ]
    }
   ],
   "source": [
    "# W\n",
    "x1=1\n",
    "x2=2\n",
    "x3=3\n",
    "x4=4\n",
    "x5=5\n",
    "\n",
    "if x1==1:\n",
    "    print(\"*      *\")\n",
    "if x2==2:\n",
    "    print(\"*      *\")\n",
    "if x3==3:\n",
    "    print(\"*  *   *\")\n",
    "if x4==4:\n",
    "    print(\"* *  * *\")\n",
    "if x5==5:\n",
    "    print(\"*      *\")"
   ]
  },
  {
   "cell_type": "code",
   "execution_count": 111,
   "id": "0e0cacd9",
   "metadata": {},
   "outputs": [
    {
     "name": "stdout",
     "output_type": "stream",
     "text": [
      " *   *\n",
      "  * * \n",
      "   * \n",
      "  * *  \n",
      " *   *\n"
     ]
    }
   ],
   "source": [
    "# X\n",
    "x1=1\n",
    "x2=2\n",
    "x3=3\n",
    "x4=4\n",
    "x5=5\n",
    "\n",
    "if x1==1:\n",
    "    print(\" *   *\")\n",
    "if x2==2:\n",
    "    print(\"  * * \")\n",
    "if x3==3:\n",
    "    print(\"   * \")\n",
    "if x4==4:\n",
    "    print(\"  * *  \")\n",
    "if x5==5:\n",
    "     print(\" *   *\")"
   ]
  },
  {
   "cell_type": "code",
   "execution_count": 114,
   "id": "207a630c",
   "metadata": {},
   "outputs": [
    {
     "name": "stdout",
     "output_type": "stream",
     "text": [
      " *   *\n",
      "  * *\n",
      "   * \n",
      "   *\n",
      "   *\n"
     ]
    }
   ],
   "source": [
    "# Y\n",
    "x1=1\n",
    "x2=2\n",
    "x3=3\n",
    "x4=4\n",
    "x5=5\n",
    "\n",
    "if x1==1:\n",
    "    print(\" *   *\")\n",
    "if x2==2:\n",
    "    print(\"  * *\")\n",
    "if x3==3:\n",
    "    print(\"   * \")\n",
    "if x4==4:\n",
    "    print(\"   *\")\n",
    "if x5==5:\n",
    "    print(\"   *\")"
   ]
  },
  {
   "cell_type": "code",
   "execution_count": 3,
   "id": "919d9035",
   "metadata": {},
   "outputs": [
    {
     "name": "stdout",
     "output_type": "stream",
     "text": [
      " * * *\n",
      "    *\n",
      "   * \n",
      "  *\n",
      " * * *\n"
     ]
    }
   ],
   "source": [
    "# Z\n",
    "x1=1\n",
    "x2=2\n",
    "x3=3\n",
    "x4=4\n",
    "x5=5\n",
    "\n",
    "if x1==1:\n",
    "    print(\" * * *\")\n",
    "if x2==2:\n",
    "    print(\"    *\")\n",
    "if x3==3:\n",
    "    print(\"   * \")\n",
    "if x4==4:\n",
    "    print(\"  *\")\n",
    "if x5==5:\n",
    "    print(\" * * *\")"
   ]
  },
  {
   "cell_type": "code",
   "execution_count": null,
   "id": "768b229b",
   "metadata": {},
   "outputs": [],
   "source": []
  }
 ],
 "metadata": {
  "kernelspec": {
   "display_name": "Python 3 (ipykernel)",
   "language": "python",
   "name": "python3"
  },
  "language_info": {
   "codemirror_mode": {
    "name": "ipython",
    "version": 3
   },
   "file_extension": ".py",
   "mimetype": "text/x-python",
   "name": "python",
   "nbconvert_exporter": "python",
   "pygments_lexer": "ipython3",
   "version": "3.10.9"
  }
 },
 "nbformat": 4,
 "nbformat_minor": 5
}
