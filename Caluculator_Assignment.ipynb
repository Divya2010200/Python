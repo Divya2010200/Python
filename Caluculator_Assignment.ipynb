{
 "cells": [
  {
   "cell_type": "code",
   "execution_count": 2,
   "id": "cb20aa95",
   "metadata": {},
   "outputs": [
    {
     "name": "stdout",
     "output_type": "stream",
     "text": [
      "Give 's' to start the caluclator and N to not start the caluculator:  s\n",
      "Give 1st Number: 2\n",
      "Give 2nd Number: 3\n",
      "Give the operation that should be performed: +,-,*,/,%,//,**: +\n",
      "ADD= 5\n",
      "If you want to continue y/n: y\n",
      "Give 1st Number: 2\n",
      "Give 2nd Number: 1\n",
      "Give the operation that should be performed: +,-,*,/,%,//,**: -\n",
      "Sub= 0\n",
      "If you want to continue y/n: n\n"
     ]
    }
   ],
   "source": [
    "x=input(\"Give 's' to start the caluclator and N to not start the caluculator:  \")\n",
    "while x==\"s\":\n",
    "    num1=int(input(\"Give 1st Number: \"))\n",
    "    num2=int(input(\"Give 2nd Number: \"))\n",
    "    oper=input(\"Give the operation that should be performed: +,-,*,/,%,//,**: \")\n",
    "    if oper==\"+\":\n",
    "        print(\"ADD=\",num1+num2)\n",
    "        y=input(\"If you want to continue y/n: \")\n",
    "    elif oper==\"-\":\n",
    "        print(\"Sub=\",num2-num2)\n",
    "        y=input(\"If you want to continue y/n: \")\n",
    "    elif oper==\"*\":\n",
    "        print(\"Multiple=\",num1*num2)\n",
    "        y=input(\"If you want to continue y/n: \")\n",
    "    elif oper==\"/\":\n",
    "        print(\"Divi=\",num1/num2)\n",
    "    elif oper==\"%\":\n",
    "        print(\"Modulus=\",num1%num2)\n",
    "        y=input(\"If you want to continue y/n: \")\n",
    "    elif oper==\"//\":\n",
    "        print(\"floor division=\",num1//num2)\n",
    "        y=input(\"If you want to continue y/n: \")\n",
    "    elif oper==\"**\":\n",
    "        print(\"Exponent=\",num1**num2)\n",
    "        y=input(\"If you want to continue y/n: \")\n",
    "    if y==\"n\":\n",
    "        break       \n",
    "    else:\n",
    "        continue"
   ]
  },
  {
   "cell_type": "code",
   "execution_count": null,
   "id": "b97f7625",
   "metadata": {},
   "outputs": [],
   "source": []
  }
 ],
 "metadata": {
  "kernelspec": {
   "display_name": "Python 3 (ipykernel)",
   "language": "python",
   "name": "python3"
  },
  "language_info": {
   "codemirror_mode": {
    "name": "ipython",
    "version": 3
   },
   "file_extension": ".py",
   "mimetype": "text/x-python",
   "name": "python",
   "nbconvert_exporter": "python",
   "pygments_lexer": "ipython3",
   "version": "3.10.9"
  }
 },
 "nbformat": 4,
 "nbformat_minor": 5
}
