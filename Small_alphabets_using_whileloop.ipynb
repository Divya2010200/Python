{
 "cells": [
  {
   "cell_type": "code",
   "execution_count": 9,
   "id": "a13f2ff0",
   "metadata": {},
   "outputs": [
    {
     "name": "stdout",
     "output_type": "stream",
     "text": [
      "* * *\n",
      "      *\n",
      "  * * *\n",
      "*     *\n",
      "  * * *\n"
     ]
    }
   ],
   "source": [
    "#a\n",
    "x=10\n",
    "while x>5:\n",
    "    if x==10:\n",
    "        print(\"* * *\")\n",
    "    elif x==9:\n",
    "        print(\"      *\")\n",
    "    elif x==8 or x==6:\n",
    "        print(\"  * * *\")\n",
    "    else:\n",
    "        print(\"*     *\")\n",
    "    x-=1"
   ]
  },
  {
   "cell_type": "code",
   "execution_count": 11,
   "id": "b464c593",
   "metadata": {},
   "outputs": [
    {
     "name": "stdout",
     "output_type": "stream",
     "text": [
      "* \n",
      "* \n",
      "* *\n",
      "*   *\n",
      "* *\n"
     ]
    }
   ],
   "source": [
    "x=10\n",
    "while x>5:\n",
    "    if x==10 or x==9:\n",
    "        print(\"* \")\n",
    "    elif x==8 or x==6:\n",
    "        print(\"* *\")\n",
    "    else:\n",
    "        print(\"*   *\")\n",
    "    x-=1"
   ]
  },
  {
   "cell_type": "code",
   "execution_count": 13,
   "id": "89b379f3",
   "metadata": {},
   "outputs": [
    {
     "name": "stdout",
     "output_type": "stream",
     "text": [
      "  \n",
      "  * *\n",
      "*\n",
      "*\n",
      "  * *\n"
     ]
    }
   ],
   "source": [
    "x=10\n",
    "while x>5:\n",
    "    if x==8 or x==7:\n",
    "        print(\"*\")\n",
    "    elif x==9 or x==6:\n",
    "        print(\"  * *\")\n",
    "    else:\n",
    "        print(\"  \")\n",
    "    x-=1"
   ]
  },
  {
   "cell_type": "code",
   "execution_count": 14,
   "id": "ed90d53c",
   "metadata": {},
   "outputs": [
    {
     "name": "stdout",
     "output_type": "stream",
     "text": [
      "    *\n",
      "    *\n",
      "  * *\n",
      "*   *\n",
      "  * *\n"
     ]
    }
   ],
   "source": [
    "x=10\n",
    "while x>5:\n",
    "    if x==10 or x==9:\n",
    "        print(\"    *\")\n",
    "    elif x==8 or x==6:\n",
    "        print(\"  * *\")\n",
    "    else:\n",
    "        print(\"*   *\")\n",
    "    x-=1"
   ]
  },
  {
   "cell_type": "code",
   "execution_count": 19,
   "id": "09b973e7",
   "metadata": {},
   "outputs": [
    {
     "name": "stdout",
     "output_type": "stream",
     "text": [
      "  * \n",
      "*   *\n",
      "* * *\n",
      "*\n",
      "  * *\n"
     ]
    }
   ],
   "source": [
    "x=10\n",
    "while x>5:\n",
    "    if x==10:\n",
    "        print(\"  * \")\n",
    "    elif x==9:\n",
    "        print(\"*   *\")\n",
    "    elif x==8:\n",
    "        print(\"* * *\")\n",
    "    elif x==7:\n",
    "        print(\"*\")\n",
    "    else:\n",
    "        print(\"  * *\")\n",
    "    x-=1"
   ]
  },
  {
   "cell_type": "code",
   "execution_count": 21,
   "id": "8a849c21",
   "metadata": {},
   "outputs": [
    {
     "name": "stdout",
     "output_type": "stream",
     "text": [
      "   * *\n",
      "  * \n",
      "* * *\n",
      "  * \n",
      "  * \n"
     ]
    }
   ],
   "source": [
    "x=10\n",
    "while x>5:\n",
    "    if x==9 or x==7 or x==6:\n",
    "        print(\"  * \")\n",
    "    elif x==8:\n",
    "        print(\"* * *\")\n",
    "    else:\n",
    "        print(\"   * *\")\n",
    "    x-=1"
   ]
  },
  {
   "cell_type": "code",
   "execution_count": 24,
   "id": "5d21890d",
   "metadata": {},
   "outputs": [
    {
     "name": "stdout",
     "output_type": "stream",
     "text": [
      "  * *\n",
      "*   *\n",
      "  * *\n",
      "    *\n",
      "* *\n"
     ]
    }
   ],
   "source": [
    "x=10\n",
    "while x>5:\n",
    "    if x==10 or x==8:\n",
    "        print(\"  * *\")\n",
    "    elif x==9:\n",
    "        print(\"*   *\")\n",
    "    elif x==7:\n",
    "        print(\"    *\")\n",
    "    else:\n",
    "        print(\"* *\")\n",
    "    x-=1"
   ]
  },
  {
   "cell_type": "code",
   "execution_count": 26,
   "id": "61d729b9",
   "metadata": {},
   "outputs": [
    {
     "name": "stdout",
     "output_type": "stream",
     "text": [
      "* \n",
      "* \n",
      "* * *\n",
      "*    *\n",
      "*    *\n"
     ]
    }
   ],
   "source": [
    "x=10\n",
    "while x>5:\n",
    "    if x==10 or x==9:\n",
    "        print(\"* \")\n",
    "    elif x==8:\n",
    "        print(\"* * *\")\n",
    "    else:\n",
    "        print(\"*    *\")\n",
    "    x-=1"
   ]
  },
  {
   "cell_type": "code",
   "execution_count": 29,
   "id": "6e04fd5d",
   "metadata": {},
   "outputs": [
    {
     "name": "stdout",
     "output_type": "stream",
     "text": [
      " * \n",
      "  \n",
      " * \n",
      " * \n",
      " * \n",
      " * \n"
     ]
    }
   ],
   "source": [
    "x=11\n",
    "while x>5:\n",
    "    if x==10:\n",
    "        print(\"  \")\n",
    "    else:\n",
    "        print(\" * \")\n",
    "    x-=1"
   ]
  },
  {
   "cell_type": "code",
   "execution_count": 36,
   "id": "3493f7c7",
   "metadata": {},
   "outputs": [
    {
     "name": "stdout",
     "output_type": "stream",
     "text": [
      "   * \n",
      "  \n",
      "   * \n",
      "   * \n",
      "   * \n",
      "* * \n"
     ]
    }
   ],
   "source": [
    "x=11\n",
    "while x>5:\n",
    "    if x==10:\n",
    "        print(\"  \")\n",
    "    elif x==6:\n",
    "        print(\"* * \")\n",
    "    else: \n",
    "        print(\"   * \")\n",
    "    x-=1"
   ]
  },
  {
   "cell_type": "code",
   "execution_count": 43,
   "id": "489feb92",
   "metadata": {},
   "outputs": [
    {
     "name": "stdout",
     "output_type": "stream",
     "text": [
      "* \n",
      "*  *\n",
      "* * \n",
      "* * \n",
      "*  *\n"
     ]
    }
   ],
   "source": [
    "x=10\n",
    "while x>5:\n",
    "    if x==9 or x==6:\n",
    "        print(\"*  *\")\n",
    "    elif x==8 or x==7:\n",
    "        print(\"* * \")\n",
    "    else:\n",
    "        print(\"* \")\n",
    "    x-=1"
   ]
  },
  {
   "cell_type": "code",
   "execution_count": 41,
   "id": "96dfefda",
   "metadata": {},
   "outputs": [
    {
     "name": "stdout",
     "output_type": "stream",
     "text": [
      " * \n",
      " * \n",
      " * \n",
      " * \n",
      " * \n"
     ]
    }
   ],
   "source": [
    "x=10\n",
    "while x>5:\n",
    "    print(\" * \")\n",
    "    x-=1"
   ]
  },
  {
   "cell_type": "code",
   "execution_count": 48,
   "id": "5deaca53",
   "metadata": {},
   "outputs": [
    {
     "name": "stdout",
     "output_type": "stream",
     "text": [
      " \n",
      "* * * *  \n",
      "*   *   *\n",
      "*   *   *\n"
     ]
    }
   ],
   "source": [
    "x=10\n",
    "while x>6:\n",
    "    if x==8 or x==7:\n",
    "        print(\"*   *   *\")\n",
    "    elif x==9:\n",
    "        print(\"* * * *  \")\n",
    "    else:\n",
    "        print(\" \")\n",
    "    x-=1"
   ]
  },
  {
   "cell_type": "code",
   "execution_count": 49,
   "id": "87b4d852",
   "metadata": {},
   "outputs": [
    {
     "name": "stdout",
     "output_type": "stream",
     "text": [
      " \n",
      "* * *   \n",
      "*    *\n",
      "*    *\n"
     ]
    }
   ],
   "source": [
    "x=10\n",
    "while x>6:\n",
    "    if x==8 or x==7:\n",
    "        print(\"*    *\")\n",
    "    elif x==9:\n",
    "        print(\"* * *   \")\n",
    "    else:\n",
    "        print(\" \")\n",
    "    x-=1"
   ]
  },
  {
   "cell_type": "code",
   "execution_count": 51,
   "id": "a8a282f7",
   "metadata": {},
   "outputs": [
    {
     "name": "stdout",
     "output_type": "stream",
     "text": [
      " \n",
      " * *\n",
      "*   *  \n",
      "*   *  \n",
      " * *\n"
     ]
    }
   ],
   "source": [
    "x=10\n",
    "while x>5:\n",
    "    if x==9 or x==6:\n",
    "        print(\" * *\")\n",
    "    elif x==8 or x==7:\n",
    "        print(\"*   *  \")\n",
    "    else:\n",
    "        print(\" \")\n",
    "    x-=1"
   ]
  },
  {
   "cell_type": "code",
   "execution_count": 52,
   "id": "960d9b04",
   "metadata": {},
   "outputs": [
    {
     "name": "stdout",
     "output_type": "stream",
     "text": [
      " \n",
      "* *\n",
      "*   *\n",
      "* *\n",
      "*\n"
     ]
    }
   ],
   "source": [
    "x=10\n",
    "while x>5:\n",
    "    if x==9 or x==7:\n",
    "        print(\"* *\")\n",
    "    elif x==8:\n",
    "        print(\"*   *\")\n",
    "    elif x==6:\n",
    "        print(\"*\")\n",
    "    else:\n",
    "        print(\" \")\n",
    "    x-=1"
   ]
  },
  {
   "cell_type": "code",
   "execution_count": 56,
   "id": "b7b56d82",
   "metadata": {},
   "outputs": [
    {
     "name": "stdout",
     "output_type": "stream",
     "text": [
      "  * *\n",
      "*   *\n",
      "  * *\n",
      "    *\n",
      "    *\n"
     ]
    }
   ],
   "source": [
    "x=10\n",
    "while x>5:\n",
    "    if x==10 or x==8:\n",
    "        print(\"  * *\")\n",
    "    elif x==9:\n",
    "        print(\"*   *\")\n",
    "    else:\n",
    "        print(\"    *\")\n",
    "    x-=1"
   ]
  },
  {
   "cell_type": "code",
   "execution_count": 57,
   "id": "4ccc0543",
   "metadata": {},
   "outputs": [
    {
     "name": "stdout",
     "output_type": "stream",
     "text": [
      "\n",
      "* *\n",
      "*\n",
      "*\n"
     ]
    }
   ],
   "source": [
    "x=10\n",
    "while x>6:\n",
    "    if x==7 or x==8:\n",
    "        print(\"*\")\n",
    "    elif x==9:\n",
    "        print(\"* *\")\n",
    "    else:\n",
    "        print(\"\")\n",
    "    x-=1"
   ]
  },
  {
   "cell_type": "code",
   "execution_count": 64,
   "id": "cd93a41b",
   "metadata": {},
   "outputs": [
    {
     "name": "stdout",
     "output_type": "stream",
     "text": [
      " * *\n",
      "*   \n",
      " * *\n",
      "    *\n",
      " * *\n"
     ]
    }
   ],
   "source": [
    "x=10\n",
    "while x>5:\n",
    "    if x==10 or x==8 or x==6:\n",
    "        print(\" * *\")    \n",
    "    elif x==9:\n",
    "        print(\"*   \")\n",
    "    else:\n",
    "        print(\"    *\")\n",
    "    x-=1"
   ]
  },
  {
   "cell_type": "code",
   "execution_count": 65,
   "id": "c43585fd",
   "metadata": {},
   "outputs": [
    {
     "name": "stdout",
     "output_type": "stream",
     "text": [
      "  *\n",
      "* * *\n",
      "  *\n",
      "   * *\n"
     ]
    }
   ],
   "source": [
    "x=10\n",
    "while x>6:\n",
    "    if x==10 or x==8:\n",
    "        print(\"  *\")\n",
    "    elif x==9:\n",
    "        print(\"* * *\")\n",
    "    elif x==7:\n",
    "        print(\"   * *\")\n",
    "    else:\n",
    "        print(\"    *\")\n",
    "    x-=1"
   ]
  },
  {
   "cell_type": "code",
   "execution_count": 69,
   "id": "9fb7b49b",
   "metadata": {},
   "outputs": [
    {
     "name": "stdout",
     "output_type": "stream",
     "text": [
      "*   *\n",
      "*   *\n",
      "*   *\n",
      " * *\n"
     ]
    }
   ],
   "source": [
    "x=10\n",
    "while x>6:\n",
    "    if x==7:\n",
    "        print(\" * *\")    \n",
    "    else:\n",
    "        print(\"*   *\")\n",
    "    x-=1"
   ]
  },
  {
   "cell_type": "code",
   "execution_count": 71,
   "id": "8ab9ee1e",
   "metadata": {},
   "outputs": [
    {
     "name": "stdout",
     "output_type": "stream",
     "text": [
      "*   *\n",
      "*   *\n",
      " * *\n",
      "  *  \n"
     ]
    }
   ],
   "source": [
    "x=10\n",
    "while x>6:\n",
    "    if x==10 or x==9:\n",
    "        print(\"*   *\")    \n",
    "    elif x==8:\n",
    "        print(\" * *\")\n",
    "    else:\n",
    "        print(\"  *  \")\n",
    "    x-=1"
   ]
  },
  {
   "cell_type": "code",
   "execution_count": 74,
   "id": "f9fffe29",
   "metadata": {},
   "outputs": [
    {
     "name": "stdout",
     "output_type": "stream",
     "text": [
      " \n",
      "*   *   *\n",
      "*   *   *\n",
      " * * * *\n"
     ]
    }
   ],
   "source": [
    "x=10\n",
    "while x>6:\n",
    "    if x==8 or x==9:\n",
    "        print(\"*   *   *\")    \n",
    "    elif x==7:\n",
    "        print(\" * * * *\")\n",
    "    else:\n",
    "        print(\" \")\n",
    "    x-=1"
   ]
  },
  {
   "cell_type": "code",
   "execution_count": 87,
   "id": "fb9a1803",
   "metadata": {},
   "outputs": [
    {
     "name": "stdout",
     "output_type": "stream",
     "text": [
      " \n",
      " *   *\n",
      "   * \n",
      " *   *\n"
     ]
    }
   ],
   "source": [
    "x=10\n",
    "while x>6:\n",
    "    if x==9 or x==7:\n",
    "        print(\" *   *\")    \n",
    "    elif x==8:\n",
    "        print(\"   * \")\n",
    "    else:\n",
    "        print(\" \")\n",
    "    x-=1"
   ]
  },
  {
   "cell_type": "code",
   "execution_count": 93,
   "id": "b4f91551",
   "metadata": {},
   "outputs": [
    {
     "name": "stdout",
     "output_type": "stream",
     "text": [
      "*    *\n",
      " *  * \n",
      "   * \n",
      "  *\n"
     ]
    }
   ],
   "source": [
    "#y\n",
    "x=10\n",
    "while x>5:\n",
    "    if x==9:\n",
    "        print(\"*    *\")    \n",
    "    elif x==8:\n",
    "        print(\" *  * \")\n",
    "    elif x==7:\n",
    "        print(\"   * \")\n",
    "    elif x==6:\n",
    "        print(\"  *\")\n",
    "    x-=1"
   ]
  },
  {
   "cell_type": "code",
   "execution_count": 97,
   "id": "77cf1149",
   "metadata": {},
   "outputs": [
    {
     "name": "stdout",
     "output_type": "stream",
     "text": [
      " \n",
      "* * *\n",
      "   * \n",
      " *\n",
      "* * *\n"
     ]
    }
   ],
   "source": [
    "x=10\n",
    "while x>5:\n",
    "    if x==9 or x==6:\n",
    "        print(\"* * *\")    \n",
    "    elif x==8:\n",
    "        print(\"   * \")\n",
    "    elif x==7:\n",
    "        print(\" *\")\n",
    "    else:\n",
    "        print(\" \")\n",
    "    x-=1"
   ]
  }
 ],
 "metadata": {
  "kernelspec": {
   "display_name": "Python 3 (ipykernel)",
   "language": "python",
   "name": "python3"
  },
  "language_info": {
   "codemirror_mode": {
    "name": "ipython",
    "version": 3
   },
   "file_extension": ".py",
   "mimetype": "text/x-python",
   "name": "python",
   "nbconvert_exporter": "python",
   "pygments_lexer": "ipython3",
   "version": "3.10.9"
  }
 },
 "nbformat": 4,
 "nbformat_minor": 5
}
