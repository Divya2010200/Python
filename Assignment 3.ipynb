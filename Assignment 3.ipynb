{
 "cells": [
  {
   "cell_type": "code",
   "execution_count": 9,
   "id": "cc730c68",
   "metadata": {},
   "outputs": [
    {
     "name": "stdout",
     "output_type": "stream",
     "text": [
      "0\n",
      "1\n",
      "2\n",
      "4\n",
      "5\n"
     ]
    }
   ],
   "source": [
    "#1) print all till 0 to 6 except 3 and 6\n",
    "for x in range(0,7):\n",
    "    if x%3==0 and x!=0:\n",
    "        continue\n",
    "    else:\n",
    "        print(x)"
   ]
  },
  {
   "cell_type": "code",
   "execution_count": 21,
   "id": "fea07adc",
   "metadata": {},
   "outputs": [
    {
     "name": "stdout",
     "output_type": "stream",
     "text": [
      "Give a Number:2\n",
      "3\n"
     ]
    }
   ],
   "source": [
    "#2) \n",
    "x=int(input(\"Give a Number:\"))\n",
    "b=0\n",
    "for y in range(0,x+1):\n",
    "    b+=y\n",
    "print(b)"
   ]
  },
  {
   "cell_type": "code",
   "execution_count": 23,
   "id": "bf105f47",
   "metadata": {},
   "outputs": [
    {
     "name": "stdout",
     "output_type": "stream",
     "text": [
      "Give a number:55\n",
      "2\n"
     ]
    }
   ],
   "source": [
    "#4)\n",
    "x=input(\"Give a number:\")\n",
    "y=0\n",
    "while y<len(x):\n",
    "    y+=1\n",
    "print(y)"
   ]
  },
  {
   "cell_type": "code",
   "execution_count": 24,
   "id": "5adc297d",
   "metadata": {},
   "outputs": [],
   "source": [
    "#5)\n"
   ]
  },
  {
   "cell_type": "code",
   "execution_count": 28,
   "id": "027666b1",
   "metadata": {},
   "outputs": [
    {
     "name": "stdout",
     "output_type": "stream",
     "text": [
      "1\n",
      "2\n",
      "Fizz\n",
      "4\n",
      "Buzz\n",
      "Fizz\n",
      "7\n",
      "8\n",
      "Fizz\n",
      "Buzz\n",
      "11\n",
      "Fizz\n",
      "13\n",
      "14\n",
      "FizzBuzz\n",
      "16\n",
      "17\n",
      "Fizz\n",
      "19\n",
      "Buzz\n",
      "Fizz\n",
      "22\n",
      "23\n",
      "Fizz\n",
      "Buzz\n",
      "26\n",
      "Fizz\n",
      "28\n",
      "29\n",
      "FizzBuzz\n",
      "31\n",
      "32\n",
      "Fizz\n",
      "34\n",
      "Buzz\n",
      "Fizz\n",
      "37\n",
      "38\n",
      "Fizz\n",
      "Buzz\n",
      "41\n",
      "Fizz\n",
      "43\n",
      "44\n",
      "FizzBuzz\n",
      "46\n",
      "47\n",
      "Fizz\n",
      "49\n",
      "Buzz\n",
      "Fizz\n",
      "52\n",
      "53\n",
      "Fizz\n",
      "Buzz\n",
      "56\n",
      "Fizz\n",
      "58\n",
      "59\n",
      "FizzBuzz\n"
     ]
    }
   ],
   "source": [
    "#6)\n",
    "for x in range(1,61):\n",
    "    if x%3==0 and x%5==0:\n",
    "        print(\"FizzBuzz\")\n",
    "    elif x%3==0:\n",
    "        print(\"Fizz\")\n",
    "    elif x%5==0:\n",
    "        print(\"Buzz\")\n",
    "    else: \n",
    "        print(x)"
   ]
  },
  {
   "cell_type": "code",
   "execution_count": 30,
   "id": "b2e7dba4",
   "metadata": {},
   "outputs": [
    {
     "name": "stdout",
     "output_type": "stream",
     "text": [
      "Give a string: ggh25\n",
      "Letters: 3 \n",
      "Numbers: 2\n"
     ]
    }
   ],
   "source": [
    "#7)\n",
    "x=input(\"Give a string: \")\n",
    "a=0\n",
    "b=0\n",
    "for y in range(0,len(x)):\n",
    "    if x[y].isalpha():\n",
    "        a+=1\n",
    "    else:\n",
    "        x[y].isdigit()\n",
    "        b+=1\n",
    "print(\"Letters:\",a,\"\\n\"\"Numbers:\",b)"
   ]
  },
  {
   "cell_type": "code",
   "execution_count": 98,
   "id": "bd4e0448",
   "metadata": {},
   "outputs": [
    {
     "name": "stdout",
     "output_type": "stream",
     "text": [
      "Password: Divya12@\n",
      "Valid Password\n"
     ]
    }
   ],
   "source": [
    "#8) Validation of password\n",
    "y=input(\"Password: \")\n",
    "for x in range(0,len(y)):\n",
    "    if y[x].isalpha() and y[x].isupper() and y[x].isdigit and y[x]==\"$\" or y[x]==\"#\" or y==\"@\":\n",
    "        a+=1\n",
    "    else:\n",
    "        break\n",
    "if 6<=len(y)<=16:\n",
    "        print(\"Valid Password\")    \n",
    "else:\n",
    "    print(\"Invalid Password\")"
   ]
  },
  {
   "cell_type": "code",
   "execution_count": 95,
   "id": "e5353a32",
   "metadata": {},
   "outputs": [
    {
     "data": {
      "text/plain": [
       "'12'"
      ]
     },
     "execution_count": 95,
     "metadata": {},
     "output_type": "execute_result"
    }
   ],
   "source": [
    "ascii(a)"
   ]
  },
  {
   "cell_type": "code",
   "execution_count": 52,
   "id": "84950a06",
   "metadata": {},
   "outputs": [
    {
     "name": "stdout",
     "output_type": "stream",
     "text": [
      "Give a string: apple\n",
      "elppa\n"
     ]
    }
   ],
   "source": [
    "#9)\n",
    "x=input(\"Give a string: \")\n",
    "b=\"\"\n",
    "y=1\n",
    "while y<len(x)+1:\n",
    "    b+=x[-y]\n",
    "    y+=1\n",
    "print(b)"
   ]
  },
  {
   "cell_type": "code",
   "execution_count": 63,
   "id": "d38a095e",
   "metadata": {},
   "outputs": [
    {
     "name": "stdout",
     "output_type": "stream",
     "text": [
      "Give a Number:1\n",
      "Give a Number:2\n",
      "Give a Number:3\n",
      "Give a Number:4\n",
      "Give a Number:5\n",
      "Give a Number:6\n",
      "Give a Number:7\n",
      "Give a Number:8\n",
      "Give a Number:9\n",
      "Give a Number:10\n",
      "Average:  5.5\n"
     ]
    }
   ],
   "source": [
    "#10)\n",
    "avg=0\n",
    "for x in range(0,10):\n",
    "    y=int(input(\"Give a Number:\"))\n",
    "    avg+=y/10\n",
    "print(\"Average: \",avg)"
   ]
  },
  {
   "cell_type": "code",
   "execution_count": 67,
   "id": "1cd904e7",
   "metadata": {},
   "outputs": [
    {
     "name": "stdout",
     "output_type": "stream",
     "text": [
      "Give a Number:1\n",
      "If you want to quit 'q': ;\n",
      "Give a Number:4\n",
      "If you want to quit 'q': k\n",
      "Give a Number:5\n",
      "If you want to quit 'q': h\n",
      "Give a Number:2\n",
      "If you want to quit 'q': q\n",
      "sum= 12 \n",
      "product= 40\n"
     ]
    }
   ],
   "source": [
    "#11)\n",
    "x=\"\"\n",
    "a=0;b=1\n",
    "while not(x=='q'):\n",
    "    y=int(input(\"Give a Number:\"))\n",
    "    a+=y\n",
    "    b*=y\n",
    "    x=input(\"If you want to quit 'q': \")\n",
    "print(\"sum=\",a,\"\\n\"\"product=\",b)"
   ]
  },
  {
   "cell_type": "code",
   "execution_count": 69,
   "id": "637ce443",
   "metadata": {},
   "outputs": [
    {
     "name": "stdout",
     "output_type": "stream",
     "text": [
      "Give a string: a@p2.3p#l%3e\n",
      "apple\n"
     ]
    }
   ],
   "source": [
    "#12)\n",
    "x=input(\"Give a string: \")\n",
    "b=\"\"\n",
    "for y in range(0,len(x)):\n",
    "    if x[y].isalpha():\n",
    "        b+=x[y]\n",
    "    else:\n",
    "        continue\n",
    "print(b)"
   ]
  },
  {
   "cell_type": "code",
   "execution_count": 82,
   "id": "35b134bc",
   "metadata": {},
   "outputs": [
    {
     "name": "stdout",
     "output_type": "stream",
     "text": [
      "20\n"
     ]
    }
   ],
   "source": [
    "#13) sum of even from 0 to 10\n",
    "sum1=0\n",
    "for x in range(0,10):\n",
    "    if x%2==0:\n",
    "        sum1+=x\n",
    "    else:\n",
    "        continue\n",
    "print(sum1)"
   ]
  },
  {
   "cell_type": "code",
   "execution_count": 91,
   "id": "0e924941",
   "metadata": {},
   "outputs": [
    {
     "name": "stdout",
     "output_type": "stream",
     "text": [
      "Give a number:5\n",
      "4\n",
      "3\n",
      "2\n",
      "1\n",
      "0\n"
     ]
    }
   ],
   "source": [
    "#14)\n",
    "y=int(input(\"Give a number:\"))\n",
    "for x in range(y-1,-1,-1):\n",
    "    print(x)"
   ]
  },
  {
   "cell_type": "code",
   "execution_count": null,
   "id": "67a271d3",
   "metadata": {},
   "outputs": [],
   "source": []
  }
 ],
 "metadata": {
  "kernelspec": {
   "display_name": "Python 3 (ipykernel)",
   "language": "python",
   "name": "python3"
  },
  "language_info": {
   "codemirror_mode": {
    "name": "ipython",
    "version": 3
   },
   "file_extension": ".py",
   "mimetype": "text/x-python",
   "name": "python",
   "nbconvert_exporter": "python",
   "pygments_lexer": "ipython3",
   "version": "3.10.9"
  }
 },
 "nbformat": 4,
 "nbformat_minor": 5
}
