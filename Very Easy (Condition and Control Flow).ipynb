{
 "cells": [
  {
   "cell_type": "markdown",
   "id": "45f0fa51",
   "metadata": {},
   "source": [
    "### Condition\n",
    "\n",
    "Q1) \n",
    "Create a function that takes a boolean variable flag and returns it as a string.\n",
    "\n",
    "Examples\n",
    "bool_to_string(True) ➞ \"True\"\n",
    "\n",
    "bool_to_string(False) ➞ \"False\"\n",
    "Notes\n",
    "Don't forget to return the result.\n",
    "If you get stuck on a challenge, find help in the Resources tab.\n",
    "If you're really stuck, unlock solutions in the Solutions tab."
   ]
  },
  {
   "cell_type": "code",
   "execution_count": 2,
   "id": "0b6e8a5c",
   "metadata": {},
   "outputs": [],
   "source": [
    "def bool_to_string(flag):\n",
    "    if flag==False:\n",
    "        return \"False\"\n",
    "    elif flag==True:\n",
    "        return \"True\"\n",
    "    else:\n",
    "        return None"
   ]
  },
  {
   "cell_type": "code",
   "execution_count": 3,
   "id": "157f7a6b",
   "metadata": {},
   "outputs": [
    {
     "data": {
      "text/plain": [
       "'True'"
      ]
     },
     "execution_count": 3,
     "metadata": {},
     "output_type": "execute_result"
    }
   ],
   "source": [
    "bool_to_string(True)"
   ]
  },
  {
   "cell_type": "code",
   "execution_count": 4,
   "id": "cdf9f964",
   "metadata": {},
   "outputs": [
    {
     "data": {
      "text/plain": [
       "'False'"
      ]
     },
     "execution_count": 4,
     "metadata": {},
     "output_type": "execute_result"
    }
   ],
   "source": [
    "bool_to_string(False)"
   ]
  },
  {
   "cell_type": "markdown",
   "id": "449d6eb6",
   "metadata": {},
   "source": [
    "Q2)\n",
    "Create a function that returns True when num1 is equal to num2; otherwise return False.\n",
    "\n",
    "Examples\n",
    "is_same_num(4, 8) ➞ False\n",
    "\n",
    "is_same_num(2, 2) ➞  True\n",
    "\n",
    "is_same_num(2, \"2\") ➞ False\n",
    "Notes\n",
    "Don't forget to return the result."
   ]
  },
  {
   "cell_type": "code",
   "execution_count": 5,
   "id": "55912bc9",
   "metadata": {},
   "outputs": [],
   "source": [
    "def equal_nums(num1,num2):\n",
    "    if num1==num2:\n",
    "        return True\n",
    "    else:\n",
    "        return False"
   ]
  },
  {
   "cell_type": "code",
   "execution_count": 6,
   "id": "e759b158",
   "metadata": {},
   "outputs": [
    {
     "data": {
      "text/plain": [
       "False"
      ]
     },
     "execution_count": 6,
     "metadata": {},
     "output_type": "execute_result"
    }
   ],
   "source": [
    "equal_nums(2,3)"
   ]
  },
  {
   "cell_type": "markdown",
   "id": "350fe354",
   "metadata": {},
   "source": [
    "Q3) Create a function that takes a number as its only argument and returns True if it's less than or equal to zero, otherwise return False.\n",
    "\n",
    "Examples\n",
    "less_than_or_equal_to_zero(5) ➞ False\n",
    "\n",
    "less_than_or_equal_to_zero(0) ➞ True\n",
    "\n",
    "less_than_or_equal_to_zero(-2) ➞ True\n",
    "Notes\n",
    "Don't forget to return the result.\n",
    "If you get stuck on a challenge, find help in the Resources tab.\n",
    "If you're really stuck, unlock solutions in the Solutions tab."
   ]
  },
  {
   "cell_type": "code",
   "execution_count": 7,
   "id": "284e249d",
   "metadata": {},
   "outputs": [],
   "source": [
    "def equalto(num):\n",
    "    if num<=0:\n",
    "        return True\n",
    "    else:\n",
    "        return False"
   ]
  },
  {
   "cell_type": "code",
   "execution_count": 8,
   "id": "1fb8a9e7",
   "metadata": {},
   "outputs": [
    {
     "data": {
      "text/plain": [
       "True"
      ]
     },
     "execution_count": 8,
     "metadata": {},
     "output_type": "execute_result"
    }
   ],
   "source": [
    "equalto(0)"
   ]
  },
  {
   "cell_type": "code",
   "execution_count": 9,
   "id": "d77a546f",
   "metadata": {},
   "outputs": [
    {
     "data": {
      "text/plain": [
       "True"
      ]
     },
     "execution_count": 9,
     "metadata": {},
     "output_type": "execute_result"
    }
   ],
   "source": [
    "equalto(-1)"
   ]
  },
  {
   "cell_type": "markdown",
   "id": "113de271",
   "metadata": {},
   "source": [
    "Q4) Emmy has written a function that returns a greeting to users. However, she's in love with Mubashir, and would like to greet him slightly differently. She added a special case in her function, but she made a mistake.\n",
    "\n",
    "Can you help her?\n",
    "\n",
    "Examples\n",
    "greeting(\"Matt\") ➞ \"Hello, Matt!\"\n",
    "\n",
    "greeting(\"Helen\") ➞ \"Hello, Helen!\"\n",
    "\n",
    "greeting(\"Mubashir\") ➞ \"Hello, my Love!\"\n",
    "Notes\n",
    "READ EVERY WORD CAREFULLY, CHARACTER BY CHARACTER!\n",
    "Don't overthink this challenge; it's not supposed to be hard."
   ]
  },
  {
   "cell_type": "code",
   "execution_count": 14,
   "id": "75653230",
   "metadata": {},
   "outputs": [],
   "source": [
    "def greetings(var):\n",
    "    if var==\"Mubashir\":\n",
    "        return \"Hello, My Love!\"\n",
    "    else:\n",
    "        return \"Hello,\"+var+\"!\""
   ]
  },
  {
   "cell_type": "code",
   "execution_count": 15,
   "id": "932ad3a2",
   "metadata": {},
   "outputs": [
    {
     "data": {
      "text/plain": [
       "'Hello,Mati!'"
      ]
     },
     "execution_count": 15,
     "metadata": {},
     "output_type": "execute_result"
    }
   ],
   "source": [
    "greetings(\"Mati\")"
   ]
  },
  {
   "cell_type": "code",
   "execution_count": 16,
   "id": "74542cf7",
   "metadata": {},
   "outputs": [
    {
     "data": {
      "text/plain": [
       "'Hello,Mubshair!'"
      ]
     },
     "execution_count": 16,
     "metadata": {},
     "output_type": "execute_result"
    }
   ],
   "source": [
    "greetings(\"Mubshair\")"
   ]
  },
  {
   "cell_type": "markdown",
   "id": "dca7f0d7",
   "metadata": {},
   "source": [
    "Q5) Create a function that takes two arguments. Both arguments are integers, a and b. Return True if one of them is 10 or if their sum is 10.\n",
    "\n",
    "Examples\n",
    "makes10(9, 10) ➞ True\n",
    "\n",
    "makes10(9, 9) ➞ False\n",
    "\n",
    "makes10(1, 9) ➞ True\n",
    "Notes\n",
    "Don't forget to return the result."
   ]
  },
  {
   "cell_type": "code",
   "execution_count": 18,
   "id": "38de9402",
   "metadata": {},
   "outputs": [],
   "source": [
    "def ifsum(a,b):\n",
    "    if a==10 or b==10 or a+b==10:\n",
    "        return True\n",
    "    else:\n",
    "        return False"
   ]
  },
  {
   "cell_type": "code",
   "execution_count": 19,
   "id": "df03c55c",
   "metadata": {},
   "outputs": [
    {
     "data": {
      "text/plain": [
       "False"
      ]
     },
     "execution_count": 19,
     "metadata": {},
     "output_type": "execute_result"
    }
   ],
   "source": [
    "ifsum(1,2)"
   ]
  },
  {
   "cell_type": "code",
   "execution_count": 20,
   "id": "6cdc97ff",
   "metadata": {},
   "outputs": [
    {
     "data": {
      "text/plain": [
       "True"
      ]
     },
     "execution_count": 20,
     "metadata": {},
     "output_type": "execute_result"
    }
   ],
   "source": [
    "ifsum(5,5)"
   ]
  },
  {
   "cell_type": "code",
   "execution_count": 21,
   "id": "e275274b",
   "metadata": {},
   "outputs": [
    {
     "data": {
      "text/plain": [
       "True"
      ]
     },
     "execution_count": 21,
     "metadata": {},
     "output_type": "execute_result"
    }
   ],
   "source": [
    "ifsum(10,1)"
   ]
  },
  {
   "cell_type": "markdown",
   "id": "3b11007d",
   "metadata": {},
   "source": [
    "Q6) Create a function that takes three arguments prob, prize, pay and returns True if prob * prize > pay; otherwise return False.\n",
    "\n",
    "To illustrate:\n",
    "\n",
    "profitable_gamble(0.2, 50, 9)\n",
    "... should yield True, since the net profit is 1 (0.2 * 50 - 9), and 1 > 0.\n",
    "\n",
    "Examples\n",
    "profitable_gamble(0.2, 50, 9) ➞ True\n",
    "\n",
    "profitable_gamble(0.9, 1, 2) ➞ False\n",
    "\n",
    "profitable_gamble(0.9, 3, 2) ➞ True\n",
    "Notes\n",
    "A profitable gamble is a game that yields a positive net profit, where net profit is calculated in the following manner: net_outcome = probability_of_winning * prize - cost_of_playing."
   ]
  },
  {
   "cell_type": "code",
   "execution_count": 22,
   "id": "360a8c98",
   "metadata": {},
   "outputs": [],
   "source": [
    "def ppp(prob,prize,pay):\n",
    "    if prob*prize>pay:\n",
    "        return True\n",
    "    else:\n",
    "        return False"
   ]
  },
  {
   "cell_type": "code",
   "execution_count": 23,
   "id": "ee88636a",
   "metadata": {},
   "outputs": [
    {
     "data": {
      "text/plain": [
       "True"
      ]
     },
     "execution_count": 23,
     "metadata": {},
     "output_type": "execute_result"
    }
   ],
   "source": [
    "ppp(2,3,1)"
   ]
  },
  {
   "cell_type": "code",
   "execution_count": 25,
   "id": "82aa804c",
   "metadata": {},
   "outputs": [
    {
     "data": {
      "text/plain": [
       "False"
      ]
     },
     "execution_count": 25,
     "metadata": {},
     "output_type": "execute_result"
    }
   ],
   "source": [
    "ppp(1,3,7)"
   ]
  },
  {
   "cell_type": "markdown",
   "id": "5fc4ec9b",
   "metadata": {},
   "source": [
    "Q7) Create a function that takes an integer and returns True if it's divisible by 100, otherwise return False.\n",
    "\n",
    "Examples\n",
    "divisible(1) ➞ False\n",
    "\n",
    "divisible(1000) ➞ True\n",
    "\n",
    "divisible(100) ➞ True\n",
    "Notes\n",
    "Don't forget to return the result.\n",
    "If you get stuck on a challenge, find help in the Resources tab.\n",
    "If you're really stuck, unlock solutions in the Solutions tab."
   ]
  },
  {
   "cell_type": "code",
   "execution_count": 26,
   "id": "df71e71d",
   "metadata": {},
   "outputs": [],
   "source": [
    "def diviby(num):\n",
    "    if num%100==0:\n",
    "        return True\n",
    "    else:\n",
    "        return False"
   ]
  },
  {
   "cell_type": "code",
   "execution_count": 27,
   "id": "12587434",
   "metadata": {},
   "outputs": [
    {
     "data": {
      "text/plain": [
       "True"
      ]
     },
     "execution_count": 27,
     "metadata": {},
     "output_type": "execute_result"
    }
   ],
   "source": [
    "diviby(300)"
   ]
  },
  {
   "cell_type": "code",
   "execution_count": 29,
   "id": "08c9cc30",
   "metadata": {},
   "outputs": [
    {
     "data": {
      "text/plain": [
       "False"
      ]
     },
     "execution_count": 29,
     "metadata": {},
     "output_type": "execute_result"
    }
   ],
   "source": [
    "diviby(345)"
   ]
  },
  {
   "cell_type": "markdown",
   "id": "dcde1ad7",
   "metadata": {},
   "source": [
    "Q8) Create a function that takes two strings as arguments and return either True or False depending on whether the total number of characters in the first string is equal to the total number of characters in the second string.\n",
    "\n",
    "Examples\n",
    "comp(\"AB\", \"CD\") ➞ True\n",
    "\n",
    "comp(\"ABC\", \"DE\") ➞ False\n",
    "\n",
    "comp(\"hello\", \"edabit\") ➞ False\n",
    "Notes\n",
    "Don't forget to return the result.\n",
    "If you get stuck on a challenge, find help in the Resources tab.\n",
    "If you're really stuck, unlock solutions in the Solutions tab."
   ]
  },
  {
   "cell_type": "code",
   "execution_count": 30,
   "id": "9ea789b7",
   "metadata": {},
   "outputs": [],
   "source": [
    "def chr_len(a,b):\n",
    "    if len(a)==len(b):\n",
    "        return True\n",
    "    else:\n",
    "        return False"
   ]
  },
  {
   "cell_type": "code",
   "execution_count": 31,
   "id": "c9c18bf0",
   "metadata": {},
   "outputs": [
    {
     "data": {
      "text/plain": [
       "True"
      ]
     },
     "execution_count": 31,
     "metadata": {},
     "output_type": "execute_result"
    }
   ],
   "source": [
    "chr_len(\"asd\",\"cvb\")"
   ]
  },
  {
   "cell_type": "code",
   "execution_count": 32,
   "id": "dc179450",
   "metadata": {},
   "outputs": [
    {
     "data": {
      "text/plain": [
       "False"
      ]
     },
     "execution_count": 32,
     "metadata": {},
     "output_type": "execute_result"
    }
   ],
   "source": [
    "chr_len(\"asd\",\"cvbf\")"
   ]
  },
  {
   "cell_type": "markdown",
   "id": "de2d122f",
   "metadata": {},
   "source": [
    "Q9) Given a string, return True if its length is even or False if the length is odd.\n",
    "\n",
    "Examples\n",
    "odd_or_even(\"apples\") ➞ True\n",
    "#### The word \"apples\" has 6 characters.\n",
    "#### 6 is an even number, so the program outputs True.\n",
    "\n",
    "odd_or_even(\"pears\") ➞ False\n",
    "#### \"pears\" has 5 letters, and 5 is odd.\n",
    "#### Therefore the program outputs False.\n",
    "\n",
    "odd_or_even(\"cherry\") ➞ True\n",
    "Notes\n",
    "N/A"
   ]
  },
  {
   "cell_type": "code",
   "execution_count": 33,
   "id": "2916318a",
   "metadata": {},
   "outputs": [],
   "source": [
    "def even_len(a):\n",
    "    if len(a)%2==0:\n",
    "        return True\n",
    "    else:\n",
    "        return False"
   ]
  },
  {
   "cell_type": "code",
   "execution_count": 34,
   "id": "fc251eb2",
   "metadata": {},
   "outputs": [
    {
     "data": {
      "text/plain": [
       "True"
      ]
     },
     "execution_count": 34,
     "metadata": {},
     "output_type": "execute_result"
    }
   ],
   "source": [
    "even_len(\"even\")"
   ]
  },
  {
   "cell_type": "code",
   "execution_count": 35,
   "id": "1bc19adb",
   "metadata": {},
   "outputs": [
    {
     "data": {
      "text/plain": [
       "False"
      ]
     },
     "execution_count": 35,
     "metadata": {},
     "output_type": "execute_result"
    }
   ],
   "source": [
    "even_len(\"odd\")"
   ]
  },
  {
   "cell_type": "markdown",
   "id": "5eccd7ce",
   "metadata": {},
   "source": [
    "Q10) Create a function that takes a string; we'll say that the front is the first three characters of the string. If the string length is less than three characters, the front is whatever is there. Return a new string, which is three copies of the front.\n",
    "\n",
    "Examples\n",
    "front3(\"Python\") ➞ \"PytPytPyt\"\n",
    "\n",
    "front3(\"Cucumber\") ➞ \"CucCucCuc\"\n",
    "\n",
    "front3(\"bioshock\") ➞ \"biobiobio\"\n",
    "Notes\n",
    "Don't forget to return the result."
   ]
  },
  {
   "cell_type": "code",
   "execution_count": 40,
   "id": "b53c7d3b",
   "metadata": {},
   "outputs": [],
   "source": [
    "def three_char(a):\n",
    "    if len(a)<3:\n",
    "        return a*3\n",
    "    else:\n",
    "        return a[:3]*3"
   ]
  },
  {
   "cell_type": "code",
   "execution_count": 41,
   "id": "5a0f1fff",
   "metadata": {},
   "outputs": [
    {
     "data": {
      "text/plain": [
       "'ononon'"
      ]
     },
     "execution_count": 41,
     "metadata": {},
     "output_type": "execute_result"
    }
   ],
   "source": [
    "three_char(\"on\")"
   ]
  },
  {
   "cell_type": "code",
   "execution_count": 42,
   "id": "a2fc7c6b",
   "metadata": {},
   "outputs": [
    {
     "data": {
      "text/plain": [
       "'AppAppApp'"
      ]
     },
     "execution_count": 42,
     "metadata": {},
     "output_type": "execute_result"
    }
   ],
   "source": [
    "three_char(\"Apple\")"
   ]
  },
  {
   "cell_type": "markdown",
   "id": "c0351f15",
   "metadata": {},
   "source": [
    "Q11) In this series we're going to see common redundancies and superfluities that make our code unnecessarily complicated and less readable, and we're going to learn how to avoid them.\n",
    "\n",
    "In line with the spirit of the series, we can summarize the general rules of minimalist code in two simple principles:\n",
    "\n",
    "Keep your code clean and readable.\n",
    "While not violating the first principle: get rid of everything superfluous.\n",
    "In order to achieve this you should:\n",
    "\n",
    "Deepen your knowledge of logics.\n",
    "Deepen your understanding of the particular language you're coding with.\n",
    "I would also add: observe and learn from the pros. Make a habit of checking the Solutions tab after solving a challenge on Edabit. There is absolutely nothing wrong in assimilating features of someone else's coding style, especially if yours is not yet fully developed.\n",
    "\n",
    "Goal\n",
    "In the Code tab you will find a code that is missing a single character in order to pass the tests. However, YOUR GOAL is to submit a function as minimalist as possible. Use the tips in the Tips section down below.\n",
    "\n",
    "Write a function that returns True if the given integer is even, and False if it's odd.\n",
    "\n",
    "Tips\n",
    "Using an if statement in order to return boolean or to set a variable to a boolean is redundant.\n",
    "\n",
    "A function that returns True if a person's age is 18 or greater and False otherwise, could be written as:\n",
    "\n",
    "def legal_age(age):\n",
    "  if age >= 18:\n",
    "    return True\n",
    "  else:\n",
    "    return False\n",
    "Notice that age >= 18 will already give us a boolean (True or False). This means that the function can be written in a much simpler and cleaner way:\n",
    "\n",
    "def legal_age(age):\n",
    "  return age >= 18\n",
    "Notes\n",
    "This is an open series: there isn't a definite list of features for the challenges. Please, do not hesitate to leave your suggestions in the Comment tab.\n",
    "Readability is indeed a subjective concept. Let's discuss it! Feel free to leave your opinion in the Comments tab.\n",
    "You can find all the exercises in this series over here."
   ]
  },
  {
   "cell_type": "markdown",
   "id": "fdfc496f",
   "metadata": {},
   "source": [
    "Q) \n",
    " def is_even(n):\n",
    "\n",
    "\tif n % 2 == 0:\n",
    "\t\treturn True\n",
    "\telif n % 2 == 1\n",
    "\t\treturn False"
   ]
  },
  {
   "cell_type": "code",
   "execution_count": 43,
   "id": "3d193898",
   "metadata": {},
   "outputs": [],
   "source": [
    "def is_even(n):\n",
    "    return n%2==0"
   ]
  },
  {
   "cell_type": "code",
   "execution_count": 44,
   "id": "2890bf2e",
   "metadata": {},
   "outputs": [
    {
     "data": {
      "text/plain": [
       "True"
      ]
     },
     "execution_count": 44,
     "metadata": {},
     "output_type": "execute_result"
    }
   ],
   "source": [
    "is_even(2)"
   ]
  },
  {
   "cell_type": "code",
   "execution_count": 45,
   "id": "bede8613",
   "metadata": {},
   "outputs": [
    {
     "data": {
      "text/plain": [
       "False"
      ]
     },
     "execution_count": 45,
     "metadata": {},
     "output_type": "execute_result"
    }
   ],
   "source": [
    "is_even(7)"
   ]
  },
  {
   "cell_type": "markdown",
   "id": "43e2e735",
   "metadata": {},
   "source": [
    "Q12) Create a function that takes a number as an argument and returns \"even\" for even numbers and \"odd\" for odd numbers.\n",
    "\n",
    "Examples\n",
    "isEvenOrOdd(3) ➞ \"odd\"\n",
    "\n",
    "isEvenOrOdd(146) ➞ \"even\"\n",
    "\n",
    "isEvenOrOdd(19) ➞ \"odd\"\n",
    "Notes\n",
    "Dont forget to return the result.\n",
    "Input will always be a valid integer.\n",
    "Expect negative integers (whole numbers).\n",
    "Tests are case sensitive (return \"even\" or \"odd\" in lowercase)."
   ]
  },
  {
   "cell_type": "code",
   "execution_count": 47,
   "id": "3790fe7d",
   "metadata": {},
   "outputs": [],
   "source": [
    "def even_odd(a):\n",
    "    if a%2==0:\n",
    "        return \"even\"\n",
    "    else:\n",
    "        return \"odd\""
   ]
  },
  {
   "cell_type": "code",
   "execution_count": 48,
   "id": "1fbdda46",
   "metadata": {},
   "outputs": [
    {
     "data": {
      "text/plain": [
       "'odd'"
      ]
     },
     "execution_count": 48,
     "metadata": {},
     "output_type": "execute_result"
    }
   ],
   "source": [
    "even_odd(9)"
   ]
  },
  {
   "cell_type": "code",
   "execution_count": 49,
   "id": "49132d1b",
   "metadata": {},
   "outputs": [
    {
     "data": {
      "text/plain": [
       "'even'"
      ]
     },
     "execution_count": 49,
     "metadata": {},
     "output_type": "execute_result"
    }
   ],
   "source": [
    "even_odd(4)"
   ]
  },
  {
   "cell_type": "markdown",
   "id": "b13c6239",
   "metadata": {},
   "source": [
    "Q13) Create a function that takes in a word and determines whether or not it is plural. A plural word is one that ends in \"s\".\n",
    "\n",
    "Examples\n",
    "is_plural(\"changes\") ➞ True\n",
    "\n",
    "is_plural(\"change\") ➞ False\n",
    "\n",
    "is_plural(\"dudes\") ➞ True\n",
    "\n",
    "is_plural(\"magic\") ➞ False\n",
    "Notes\n",
    "Don't forget to return the result.\n",
    "Remember that return True (boolean) is not the same as return \"True\" (string).\n",
    "This is an oversimplification of the English language. We are ignoring edge cases like \"goose\" and \"geese\", \"fungus\" and \"fungi\", etc.\n",
    "If you get stuck on a challenge, find help in the Resources tab.\n",
    "If you're really stuck, unlock solutions in the Solutions tab."
   ]
  },
  {
   "cell_type": "code",
   "execution_count": 50,
   "id": "84f0f332",
   "metadata": {},
   "outputs": [],
   "source": [
    "def plurals(s):\n",
    "    return s[-1]==\"s\""
   ]
  },
  {
   "cell_type": "code",
   "execution_count": 52,
   "id": "49eb7e34",
   "metadata": {},
   "outputs": [
    {
     "data": {
      "text/plain": [
       "True"
      ]
     },
     "execution_count": 52,
     "metadata": {},
     "output_type": "execute_result"
    }
   ],
   "source": [
    "plurals(\"eyes\")"
   ]
  },
  {
   "cell_type": "code",
   "execution_count": 54,
   "id": "a24009a7",
   "metadata": {},
   "outputs": [
    {
     "data": {
      "text/plain": [
       "False"
      ]
     },
     "execution_count": 54,
     "metadata": {},
     "output_type": "execute_result"
    }
   ],
   "source": [
    "plurals(\"ear\")"
   ]
  },
  {
   "cell_type": "markdown",
   "id": "08f99d0c",
   "metadata": {},
   "source": [
    "Q14) Create a function that takes a string (a random name). If the last character of the name is an \"n\", return True, otherwise return False.\n",
    "\n",
    "Examples\n",
    "is_last_character_n(\"Aiden\") ➞ True\n",
    "\n",
    "is_last_character_n(\"Piet\") ➞ False\n",
    "\n",
    "is_last_character_n(\"Bert\") ➞ False\n",
    "\n",
    "is_last_character_n(\"Dean\") ➞ True\n",
    "Notes\n",
    "The function must return a boolean value ( i.e. True or False)."
   ]
  },
  {
   "cell_type": "code",
   "execution_count": 58,
   "id": "015175d5",
   "metadata": {},
   "outputs": [],
   "source": [
    "def last_chr(s):\n",
    "    return s[-1]==\"n\""
   ]
  },
  {
   "cell_type": "code",
   "execution_count": 59,
   "id": "bb85a5b9",
   "metadata": {},
   "outputs": [
    {
     "data": {
      "text/plain": [
       "False"
      ]
     },
     "execution_count": 59,
     "metadata": {},
     "output_type": "execute_result"
    }
   ],
   "source": [
    "last_chr(\"rani\")"
   ]
  },
  {
   "cell_type": "code",
   "execution_count": 60,
   "id": "470fe448",
   "metadata": {},
   "outputs": [
    {
     "data": {
      "text/plain": [
       "True"
      ]
     },
     "execution_count": 60,
     "metadata": {},
     "output_type": "execute_result"
    }
   ],
   "source": [
    "last_chr(\"ron\")"
   ]
  },
  {
   "cell_type": "markdown",
   "id": "83125413",
   "metadata": {},
   "source": [
    "Q15) The packaging system is running wild! The candy is lying loose all over in the warehouse, the cereal is missing, and bread is stuffed in a bottle. What is going on here? The candy should be in plastic and the bread should be in a bag.\n",
    "\n",
    "The packaging machine is running the get_container() function to retrieve the container of a product. But something is not right...\n",
    "\n",
    "Examples\n",
    "get_container(\"Bread\") ➞ \"bag\"\n",
    "\n",
    "get_container(\"Beer\") ➞ \"bottle\"\n",
    "\n",
    "get_container(\"Candy\") ➞ \"plastic\"\n",
    "\n",
    "get_container(\"Cheese\") ➞ None\n",
    "Notes\n",
    "Think about what the object's packaging should be."
   ]
  },
  {
   "cell_type": "code",
   "execution_count": 68,
   "id": "da245238",
   "metadata": {},
   "outputs": [],
   "source": [
    "def get_container(a):\n",
    "    x=a.capitalize()\n",
    "    if x==\"Bread\":\n",
    "        return \"bag\"\n",
    "    elif x==\"Beer\":\n",
    "        return \"bottle\"\n",
    "    elif x==\"Candy\":\n",
    "        return \"plastic\"\n",
    "    else:\n",
    "        print(\"None\")"
   ]
  },
  {
   "cell_type": "code",
   "execution_count": 62,
   "id": "85af23b0",
   "metadata": {},
   "outputs": [
    {
     "data": {
      "text/plain": [
       "'plastic'"
      ]
     },
     "execution_count": 62,
     "metadata": {},
     "output_type": "execute_result"
    }
   ],
   "source": [
    "get_container(\"candy\")"
   ]
  },
  {
   "cell_type": "code",
   "execution_count": 63,
   "id": "35dac3e4",
   "metadata": {},
   "outputs": [
    {
     "data": {
      "text/plain": [
       "'bottle'"
      ]
     },
     "execution_count": 63,
     "metadata": {},
     "output_type": "execute_result"
    }
   ],
   "source": [
    "get_container(\"beer\")"
   ]
  },
  {
   "cell_type": "code",
   "execution_count": 64,
   "id": "c933f72c",
   "metadata": {},
   "outputs": [
    {
     "data": {
      "text/plain": [
       "'bag'"
      ]
     },
     "execution_count": 64,
     "metadata": {},
     "output_type": "execute_result"
    }
   ],
   "source": [
    "get_container(\"bread\")"
   ]
  },
  {
   "cell_type": "code",
   "execution_count": 69,
   "id": "cb265423",
   "metadata": {},
   "outputs": [
    {
     "name": "stdout",
     "output_type": "stream",
     "text": [
      "None\n"
     ]
    }
   ],
   "source": [
    "get_container(\"cheese\")"
   ]
  },
  {
   "cell_type": "markdown",
   "id": "38d60ae3",
   "metadata": {},
   "source": [
    "Q16) Due to a programming concept known as truthiness, certain values can be evaluated to (i.e. take the place of) booleans. For example, 1 (or any number other than 0) is often equivalent to True, and 0 is often equivalent to False.\n",
    "\n",
    "Create a function that returns the opposite of the given boolean, as a number.\n",
    "\n",
    "Examples\n",
    "flip_bool(True) ➞ 0\n",
    "\n",
    "flip_bool(False) ➞ 1\n",
    "\n",
    "flip_bool(1) ➞ 0\n",
    "\n",
    "flip_bool(0) ➞ 1"
   ]
  },
  {
   "cell_type": "code",
   "execution_count": 131,
   "id": "86f9874c",
   "metadata": {},
   "outputs": [],
   "source": [
    "def flip(a):\n",
    "    if a==False:\n",
    "        return 1\n",
    "    else:\n",
    "        return 0"
   ]
  },
  {
   "cell_type": "code",
   "execution_count": 132,
   "id": "12d18b4b",
   "metadata": {},
   "outputs": [
    {
     "data": {
      "text/plain": [
       "0"
      ]
     },
     "execution_count": 132,
     "metadata": {},
     "output_type": "execute_result"
    }
   ],
   "source": [
    "flip(1)"
   ]
  },
  {
   "cell_type": "code",
   "execution_count": 133,
   "id": "97c76bc3",
   "metadata": {},
   "outputs": [
    {
     "data": {
      "text/plain": [
       "1"
      ]
     },
     "execution_count": 133,
     "metadata": {},
     "output_type": "execute_result"
    }
   ],
   "source": [
    "flip(0)"
   ]
  },
  {
   "cell_type": "code",
   "execution_count": 134,
   "id": "e5822d9a",
   "metadata": {},
   "outputs": [
    {
     "data": {
      "text/plain": [
       "0"
      ]
     },
     "execution_count": 134,
     "metadata": {},
     "output_type": "execute_result"
    }
   ],
   "source": [
    "flip(True)"
   ]
  },
  {
   "cell_type": "code",
   "execution_count": 135,
   "id": "e7b15063",
   "metadata": {},
   "outputs": [
    {
     "data": {
      "text/plain": [
       "1"
      ]
     },
     "execution_count": 135,
     "metadata": {},
     "output_type": "execute_result"
    }
   ],
   "source": [
    "flip(False)"
   ]
  },
  {
   "cell_type": "code",
   "execution_count": 136,
   "id": "a7231d98",
   "metadata": {},
   "outputs": [
    {
     "data": {
      "text/plain": [
       "0"
      ]
     },
     "execution_count": 136,
     "metadata": {},
     "output_type": "execute_result"
    }
   ],
   "source": [
    "flip(9)"
   ]
  },
  {
   "cell_type": "markdown",
   "id": "73c00d60",
   "metadata": {},
   "source": [
    "Q17) Write a function that accepts base (decimal), height (decimal) and shape (\"triangle\", \"parallelogram\") as input and calculates the area of that shape.\n",
    "\n",
    "Examples\n",
    "area_shape(2, 3, \"triangle\") ➞ 3\n",
    "\n",
    "area_shape(8, 6, \"parallelogram\") ➞ 48\n",
    "\n",
    "area_shape(2.9, 1.3, \"parallelogram\") ➞ 3.77\n",
    "Notes\n",
    "Area of a triangle is 0.5 * b * h\n",
    "Area of a parallelogram is b * h\n",
    "Assume triangle and parallelogram are the only inputs for shape."
   ]
  },
  {
   "cell_type": "code",
   "execution_count": 150,
   "id": "75e5c264",
   "metadata": {},
   "outputs": [],
   "source": [
    "def area_shape(base,height,shape):\n",
    "    if shape==\"triangle\":\n",
    "        return (0.5*base*height)\n",
    "    elif shape==\"parallelogram\":\n",
    "        return (base*height)\n",
    "    else:\n",
    "        return \"wrong shape\""
   ]
  },
  {
   "cell_type": "code",
   "execution_count": 151,
   "id": "9bf15f10",
   "metadata": {},
   "outputs": [
    {
     "data": {
      "text/plain": [
       "3.0"
      ]
     },
     "execution_count": 151,
     "metadata": {},
     "output_type": "execute_result"
    }
   ],
   "source": [
    "area_shape(2,3,\"triangle\")"
   ]
  },
  {
   "cell_type": "code",
   "execution_count": 152,
   "id": "283d4b11",
   "metadata": {},
   "outputs": [
    {
     "data": {
      "text/plain": [
       "6"
      ]
     },
     "execution_count": 152,
     "metadata": {},
     "output_type": "execute_result"
    }
   ],
   "source": [
    "area_shape(2,3,\"parallelogram\")"
   ]
  },
  {
   "cell_type": "code",
   "execution_count": 153,
   "id": "1abab66c",
   "metadata": {},
   "outputs": [
    {
     "data": {
      "text/plain": [
       "'wrong shape'"
      ]
     },
     "execution_count": 153,
     "metadata": {},
     "output_type": "execute_result"
    }
   ],
   "source": [
    "area_shape(2,3,\"square\")"
   ]
  },
  {
   "cell_type": "code",
   "execution_count": 154,
   "id": "4072e2df",
   "metadata": {},
   "outputs": [
    {
     "data": {
      "text/plain": [
       "3.2655"
      ]
     },
     "execution_count": 154,
     "metadata": {},
     "output_type": "execute_result"
    }
   ],
   "source": [
    "area_shape(2.1,3.11,\"triangle\")"
   ]
  },
  {
   "cell_type": "markdown",
   "id": "daee576c",
   "metadata": {},
   "source": [
    "Q18) You will need to write three unfinished logic gates. Continue to write the three logic gates: AND, OR, and NOT.\n",
    "\n",
    "Examples\n",
    "AND(1, 1) ➞ 1\n",
    "AND(0, 0) ➞ 0\n",
    "\n",
    "OR(1, 0) ➞ 1\n",
    "OR(1, 1) ➞ 1\n",
    "\n",
    "NOT(0) ➞ 1\n",
    "NOT(1) ➞ 0\n",
    "Notes\n",
    "Check the Resources tab for some help."
   ]
  },
  {
   "cell_type": "code",
   "execution_count": 90,
   "id": "b56f07d5",
   "metadata": {},
   "outputs": [],
   "source": [
    "def AND(a,b):\n",
    "    if a==1 and b==1:\n",
    "        return 1\n",
    "    else:\n",
    "        return 0\n",
    "def OR(a,b):\n",
    "    if a==1 and b==0 or a==0 and b==1 or a==1 and b==1:\n",
    "        return 1\n",
    "    else:\n",
    "        return 0\n",
    "def NOT(a):\n",
    "    if a==1:\n",
    "        return 0\n",
    "    else:\n",
    "        return 1"
   ]
  },
  {
   "cell_type": "code",
   "execution_count": 91,
   "id": "68055b13",
   "metadata": {},
   "outputs": [
    {
     "data": {
      "text/plain": [
       "1"
      ]
     },
     "execution_count": 91,
     "metadata": {},
     "output_type": "execute_result"
    }
   ],
   "source": [
    "AND(1,1)"
   ]
  },
  {
   "cell_type": "code",
   "execution_count": 92,
   "id": "dcfa0edf",
   "metadata": {},
   "outputs": [
    {
     "data": {
      "text/plain": [
       "0"
      ]
     },
     "execution_count": 92,
     "metadata": {},
     "output_type": "execute_result"
    }
   ],
   "source": [
    "AND(0,0)"
   ]
  },
  {
   "cell_type": "code",
   "execution_count": 93,
   "id": "39ec5fff",
   "metadata": {},
   "outputs": [
    {
     "data": {
      "text/plain": [
       "1"
      ]
     },
     "execution_count": 93,
     "metadata": {},
     "output_type": "execute_result"
    }
   ],
   "source": [
    "OR(1,1)"
   ]
  },
  {
   "cell_type": "code",
   "execution_count": 94,
   "id": "3c5cea41",
   "metadata": {},
   "outputs": [
    {
     "data": {
      "text/plain": [
       "0"
      ]
     },
     "execution_count": 94,
     "metadata": {},
     "output_type": "execute_result"
    }
   ],
   "source": [
    "OR(0,0)"
   ]
  },
  {
   "cell_type": "code",
   "execution_count": 95,
   "id": "2216f301",
   "metadata": {},
   "outputs": [
    {
     "data": {
      "text/plain": [
       "1"
      ]
     },
     "execution_count": 95,
     "metadata": {},
     "output_type": "execute_result"
    }
   ],
   "source": [
    "OR(1,0)"
   ]
  },
  {
   "cell_type": "code",
   "execution_count": 96,
   "id": "626d6828",
   "metadata": {},
   "outputs": [
    {
     "data": {
      "text/plain": [
       "0"
      ]
     },
     "execution_count": 96,
     "metadata": {},
     "output_type": "execute_result"
    }
   ],
   "source": [
    "NOT(1)"
   ]
  },
  {
   "cell_type": "code",
   "execution_count": 97,
   "id": "d521f26a",
   "metadata": {},
   "outputs": [
    {
     "data": {
      "text/plain": [
       "1"
      ]
     },
     "execution_count": 97,
     "metadata": {},
     "output_type": "execute_result"
    }
   ],
   "source": [
    "NOT(0)"
   ]
  },
  {
   "cell_type": "markdown",
   "id": "793b348d",
   "metadata": {},
   "source": [
    "Q19) A bartender is writing a simple program to determine whether he should serve drinks to someone. He only serves drinks to people 18 and older and when he's not on break.\n",
    "\n",
    "Given the person's age, and whether break time is in session, create a function which returns whether he should serve drinks.\n",
    "\n",
    "Examples\n",
    "should_serve_drinks(17, True) ➞ False\n",
    "\n",
    "should_serve_drinks(19, False) ➞ True\n",
    "\n",
    "should_serve_drinks(30, True) ➞ False\n",
    "Notes\n",
    "Return True or False.\n",
    "Some countries have a slightly higher drinking age, but for the purposes of this challenge, it will be 18."
   ]
  },
  {
   "cell_type": "code",
   "execution_count": 101,
   "id": "ebd63c05",
   "metadata": {},
   "outputs": [],
   "source": [
    "def bartender(age,b):\n",
    "    if b==True and age<18:\n",
    "        return False\n",
    "    else: \n",
    "        return True"
   ]
  },
  {
   "cell_type": "code",
   "execution_count": 102,
   "id": "b96022aa",
   "metadata": {},
   "outputs": [
    {
     "data": {
      "text/plain": [
       "True"
      ]
     },
     "execution_count": 102,
     "metadata": {},
     "output_type": "execute_result"
    }
   ],
   "source": [
    "bartender(18,True)"
   ]
  },
  {
   "cell_type": "code",
   "execution_count": 103,
   "id": "38d1c6c9",
   "metadata": {},
   "outputs": [
    {
     "data": {
      "text/plain": [
       "True"
      ]
     },
     "execution_count": 103,
     "metadata": {},
     "output_type": "execute_result"
    }
   ],
   "source": [
    "bartender(18,False)"
   ]
  },
  {
   "cell_type": "code",
   "execution_count": 104,
   "id": "61097e7c",
   "metadata": {},
   "outputs": [
    {
     "data": {
      "text/plain": [
       "False"
      ]
     },
     "execution_count": 104,
     "metadata": {},
     "output_type": "execute_result"
    }
   ],
   "source": [
    "bartender(17,True)"
   ]
  },
  {
   "cell_type": "markdown",
   "id": "b32c6485",
   "metadata": {},
   "source": [
    "Q20) Check the principles of minimalist code in the intro to the first challenge.\n",
    "\n",
    "In the Code tab you will find a code that is missing a single character in order to pass the tests. However, your goal is to submit a function as minimalist as possible. Use the tips in the tips section down below.\n",
    "\n",
    "Write a function that returns the string \"even\" if the given integer is even, and the string \"odd\" if it's odd.\n",
    "\n",
    "Tips\n",
    "Converting a boolean, or something that will ultimately be interpreted as a boolean, into a boolean is redundant.\n",
    "\n",
    "For example, the code:\n",
    "\n",
    "boolean = bool(x < 4)\n",
    "return boolean == True\n",
    "Is equivalent to simply:\n",
    "\n",
    "return x < 4\n",
    "A comparison with <, <=, ==, !=, >=, > will always result in a boolean, therefore using the function bool() is totally unnecessary.\n",
    "boolean == True is redundant, as it will always return boolean.\n",
    "To obtain the opposite of boolean we could use boolean == False. However, a much cleaner way of doing this is simply not boolean.\n",
    "While preserving readability, avoid declaring unnecessary variables.\n",
    "Notes\n",
    "This is an open series: there isn't a definite list of features for the challenges. Please, do not hesitate to leave your suggestions in Comments.\n",
    "Readability is indeed a subjective concept. Let's discuss it! Feel free to leave your opinion in Comments.\n",
    "You can find all the exercises in this series over here."
   ]
  },
  {
   "cell_type": "code",
   "execution_count": 120,
   "id": "913da33b",
   "metadata": {},
   "outputs": [],
   "source": [
    "def even_bool(a):\n",
    "    x=bool(a%2)\n",
    "    if x==False:\n",
    "        return \"even\"\n",
    "    else:\n",
    "        return \"odd\""
   ]
  },
  {
   "cell_type": "code",
   "execution_count": 121,
   "id": "211de15d",
   "metadata": {},
   "outputs": [
    {
     "data": {
      "text/plain": [
       "'even'"
      ]
     },
     "execution_count": 121,
     "metadata": {},
     "output_type": "execute_result"
    }
   ],
   "source": [
    "even_bool(2)"
   ]
  },
  {
   "cell_type": "markdown",
   "id": "d60fd207",
   "metadata": {},
   "source": [
    "Q21) Create a function that takes a string txt and a number n and returns the repeated string n number of times.\n",
    "\n",
    "If given argument txt is not a string, return Not A String !!\n",
    "\n",
    "Examples\n",
    "repeat_string(\"Mubashir\", 2) ➞ \"MubashirMubashir\"\n",
    "\n",
    "repeat_string(\"Matt\", 3) ➞ \"MattMattMatt\"\n",
    "\n",
    "repeat_string(1990, 7) ➞ \"Not A String !!\"\n",
    "Notes\n",
    "Don't forget to return the result.\n",
    "If you get stuck on a challenge, find help in the Resources tab.\n",
    "If you're really stuck, unlock solutions in the Solutions tab."
   ]
  },
  {
   "cell_type": "code",
   "execution_count": 123,
   "id": "de25a78e",
   "metadata": {},
   "outputs": [],
   "source": [
    "def repeat_string(a,b):\n",
    "    if type(a)==str:\n",
    "        return a*b\n",
    "    else:\n",
    "        return \"Not a String\""
   ]
  },
  {
   "cell_type": "code",
   "execution_count": 124,
   "id": "200d54a7",
   "metadata": {},
   "outputs": [
    {
     "data": {
      "text/plain": [
       "'absabsabs'"
      ]
     },
     "execution_count": 124,
     "metadata": {},
     "output_type": "execute_result"
    }
   ],
   "source": [
    "repeat_string(\"abs\",3)"
   ]
  },
  {
   "cell_type": "code",
   "execution_count": 125,
   "id": "22c5ec98",
   "metadata": {},
   "outputs": [
    {
     "data": {
      "text/plain": [
       "'Not a String'"
      ]
     },
     "execution_count": 125,
     "metadata": {},
     "output_type": "execute_result"
    }
   ],
   "source": [
    "repeat_string(4,3)"
   ]
  },
  {
   "cell_type": "markdown",
   "id": "9da75734",
   "metadata": {},
   "source": [
    "Q22) A taxi journey costs $3 for the first kilometer travelled. However, all kilometers travelled after that will cost $2 each.\n",
    "\n",
    "Create a function which returns the distance that the taxi must've travelled, given the cost as a parameter.\n",
    "\n",
    "Examples\n",
    "journey_distance(3) ➞ 1\n",
    "###### The first kilometer costs $3\n",
    "\n",
    "journey_distance(9) ➞ 4\n",
    "########The first kilometer costs $3 plus the other three kilometers (costing $2 each)\n",
    "\n",
    "journey_distance(5) ➞ 2\n",
    "Notes\n",
    "The input tests are valid integers >= 0.\n",
    "The output will always be a whole number.\n",
    "Remember that you are calculating the distance from the cost, not the other way around!"
   ]
  },
  {
   "cell_type": "code",
   "execution_count": 155,
   "id": "515b6da2",
   "metadata": {},
   "outputs": [],
   "source": [
    "def taxi(cost):\n",
    "    if cost==3:\n",
    "        return distance\n",
    "    else:\n",
    "        return 1+((cost-3)/2)"
   ]
  },
  {
   "cell_type": "code",
   "execution_count": 157,
   "id": "97de21e0",
   "metadata": {},
   "outputs": [
    {
     "data": {
      "text/plain": [
       "2.0"
      ]
     },
     "execution_count": 157,
     "metadata": {},
     "output_type": "execute_result"
    }
   ],
   "source": [
    "taxi(5)"
   ]
  },
  {
   "cell_type": "code",
   "execution_count": 158,
   "id": "4565b165",
   "metadata": {},
   "outputs": [
    {
     "data": {
      "text/plain": [
       "1.5"
      ]
     },
     "execution_count": 158,
     "metadata": {},
     "output_type": "execute_result"
    }
   ],
   "source": [
    "taxi(4)"
   ]
  },
  {
   "cell_type": "markdown",
   "id": "436b1881",
   "metadata": {},
   "source": [
    "Q23) Levers are simple machines with a rigid beam and a fulcrum. From the picture below, you can see that there are 3-types of levers: first class, second class and third class.\n",
    "\n",
    "In a first class lever, the fulcrum is situated in the middle with the effort and the load being positioned opposite of each other.\n",
    "In a second class lever, the fulcrum is situated in the right with the effort on the left and the load in the middle.\n",
    "In a third class lever, the fulcrum is situated in the left with the effort being in the middle and the load being on the right.\n",
    "Given a list that contains the fulcrum \"f\", the effort \"e\", and the load \"l\", write a function that determines whether or not the list shows a first class lever, second class lever, or a third class lever.\n",
    "\n",
    "Examples\n",
    "determine_lever([\"e\", \"f\", \"l\"]) ➞ \"first class lever\"\n",
    "\n",
    "determine_lever([\"e\", \"l\", \"f\"]) ➞ \"second class lever\"\n",
    "\n",
    "determine_lever([\"f\", \"e\", \"l\"]) ➞ \"third class lever\"\n",
    "Notes\n",
    "A pair of scissors is a first class lever, a nutcracker is a second class lever and a broom is a third class lever."
   ]
  },
  {
   "cell_type": "code",
   "execution_count": 163,
   "id": "e5fd04c3",
   "metadata": {},
   "outputs": [],
   "source": [
    "def lever(a):\n",
    "    for x in a:\n",
    "        if a[0]==\"e\" and a[1]==\"f\":\n",
    "            return \"first class lever\"\n",
    "        elif a[0]==\"f\" and a[1]==\"e\":\n",
    "            return \"third class lever\"\n",
    "        elif a[0]==\"e\" and a[1]==\"l\":\n",
    "            return \"second class lever\"\n",
    "        else:\n",
    "            return \"Not a lever class\""
   ]
  },
  {
   "cell_type": "code",
   "execution_count": 164,
   "id": "3f718ce9",
   "metadata": {},
   "outputs": [
    {
     "data": {
      "text/plain": [
       "'first class lever'"
      ]
     },
     "execution_count": 164,
     "metadata": {},
     "output_type": "execute_result"
    }
   ],
   "source": [
    "lever([\"e\",\"f\",\"l\"])"
   ]
  },
  {
   "cell_type": "code",
   "execution_count": 165,
   "id": "f9f16747",
   "metadata": {},
   "outputs": [
    {
     "data": {
      "text/plain": [
       "'third class lever'"
      ]
     },
     "execution_count": 165,
     "metadata": {},
     "output_type": "execute_result"
    }
   ],
   "source": [
    "lever([\"f\",\"e\",\"l\"])"
   ]
  },
  {
   "cell_type": "code",
   "execution_count": 168,
   "id": "27851acd",
   "metadata": {},
   "outputs": [
    {
     "data": {
      "text/plain": [
       "'second class lever'"
      ]
     },
     "execution_count": 168,
     "metadata": {},
     "output_type": "execute_result"
    }
   ],
   "source": [
    "lever([\"e\", \"l\", \"f\"])"
   ]
  },
  {
   "cell_type": "code",
   "execution_count": 166,
   "id": "281e5592",
   "metadata": {},
   "outputs": [
    {
     "data": {
      "text/plain": [
       "'Not a lever class'"
      ]
     },
     "execution_count": 166,
     "metadata": {},
     "output_type": "execute_result"
    }
   ],
   "source": [
    "lever([\"l\",\"e\",\"f\"])"
   ]
  },
  {
   "cell_type": "code",
   "execution_count": 167,
   "id": "d52d208b",
   "metadata": {},
   "outputs": [
    {
     "data": {
      "text/plain": [
       "'Not a lever class'"
      ]
     },
     "execution_count": 167,
     "metadata": {},
     "output_type": "execute_result"
    }
   ],
   "source": [
    "lever([\"f\",\"l\",\"e\"])"
   ]
  },
  {
   "cell_type": "markdown",
   "id": "8606b504",
   "metadata": {},
   "source": [
    "Q24) Write a function that checks whether a person can watch an MA15+ rated movie. One of the following two conditions is required for admittance:\n",
    "\n",
    "The person is at least 15 years old.\n",
    "They have parental supervision.\n",
    "The function accepts two parameters, age and is_supervised. Return a boolean.\n",
    "\n",
    "Examples\n",
    "accept_into_movie(14, True) ➞ True\n",
    "\n",
    "accept_into_movie(14, False) ➞ False\n",
    "\n",
    "accept_into_movie(16, False) ➞ True\n",
    "Notes\n",
    "age is a decimal.\n",
    "is_supervised is a boolean."
   ]
  },
  {
   "cell_type": "code",
   "execution_count": 175,
   "id": "86b20cbf",
   "metadata": {},
   "outputs": [],
   "source": [
    "def MA(age,supervision):\n",
    "    if supervision==True or age<=15:\n",
    "        return True\n",
    "    else:\n",
    "        return False"
   ]
  },
  {
   "cell_type": "code",
   "execution_count": 176,
   "id": "bbe7300f",
   "metadata": {},
   "outputs": [
    {
     "data": {
      "text/plain": [
       "True"
      ]
     },
     "execution_count": 176,
     "metadata": {},
     "output_type": "execute_result"
    }
   ],
   "source": [
    "MA(15,False)"
   ]
  },
  {
   "cell_type": "code",
   "execution_count": 177,
   "id": "602bb520",
   "metadata": {},
   "outputs": [
    {
     "data": {
      "text/plain": [
       "True"
      ]
     },
     "execution_count": 177,
     "metadata": {},
     "output_type": "execute_result"
    }
   ],
   "source": [
    "MA(15,True)"
   ]
  },
  {
   "cell_type": "code",
   "execution_count": 178,
   "id": "374ee289",
   "metadata": {},
   "outputs": [
    {
     "data": {
      "text/plain": [
       "True"
      ]
     },
     "execution_count": 178,
     "metadata": {},
     "output_type": "execute_result"
    }
   ],
   "source": [
    "MA(14,True)"
   ]
  },
  {
   "cell_type": "code",
   "execution_count": 179,
   "id": "f10393a1",
   "metadata": {},
   "outputs": [
    {
     "data": {
      "text/plain": [
       "True"
      ]
     },
     "execution_count": 179,
     "metadata": {},
     "output_type": "execute_result"
    }
   ],
   "source": [
    "MA(16,True)"
   ]
  },
  {
   "cell_type": "code",
   "execution_count": 180,
   "id": "55d6d140",
   "metadata": {},
   "outputs": [
    {
     "data": {
      "text/plain": [
       "True"
      ]
     },
     "execution_count": 180,
     "metadata": {},
     "output_type": "execute_result"
    }
   ],
   "source": [
    "MA(10,True)"
   ]
  },
  {
   "cell_type": "markdown",
   "id": "c4feedbc",
   "metadata": {},
   "source": [
    "Q25) Create a function that returns a number, based on the string provided. Here is a list of all digits:\n",
    "    \n",
    "word(\"one\") ➞ 1\n",
    "\n",
    "word(\"two\") ➞ 2\n",
    "\n",
    "word(\"nine\") ➞ 9"
   ]
  },
  {
   "cell_type": "code",
   "execution_count": 181,
   "id": "661b668b",
   "metadata": {},
   "outputs": [],
   "source": [
    "def word(a):\n",
    "    x={\"one\":1,\"two\":2,\"three\":3,\"four\":4,\"five\":5,\"six\":6,\"seven\":7,\"eight\":8,\"nine\":9,\"zero\":0}\n",
    "    return x[a]"
   ]
  },
  {
   "cell_type": "code",
   "execution_count": 182,
   "id": "20128815",
   "metadata": {},
   "outputs": [
    {
     "data": {
      "text/plain": [
       "1"
      ]
     },
     "execution_count": 182,
     "metadata": {},
     "output_type": "execute_result"
    }
   ],
   "source": [
    "word(\"one\")"
   ]
  },
  {
   "cell_type": "code",
   "execution_count": 183,
   "id": "9db84ee3",
   "metadata": {},
   "outputs": [
    {
     "data": {
      "text/plain": [
       "2"
      ]
     },
     "execution_count": 183,
     "metadata": {},
     "output_type": "execute_result"
    }
   ],
   "source": [
    "word(\"two\")"
   ]
  },
  {
   "cell_type": "code",
   "execution_count": 184,
   "id": "a66dae11",
   "metadata": {},
   "outputs": [
    {
     "data": {
      "text/plain": [
       "3"
      ]
     },
     "execution_count": 184,
     "metadata": {},
     "output_type": "execute_result"
    }
   ],
   "source": [
    "word(\"three\")"
   ]
  },
  {
   "cell_type": "markdown",
   "id": "8242535f",
   "metadata": {},
   "source": [
    "Q25) The ternary operator (sometimes called Conditional Expressions) in Python is an alternative to the if... else... statement.\n",
    "\n",
    "It is written in the format:\n",
    "\n",
    "result_if_true if condition else result_if_false\n",
    "Ternary operators are often more compact than multi-line if statements, and are useful for simple conditional tests.\n",
    "\n",
    "For example:\n",
    "\n",
    "is_nice = True\n",
    "\n",
    "##### Using ternary operator.\n",
    "state = \"nice\" if is_nice else \"not nice\"\n",
    "\n",
    "##### Equivalent code using multi-line if statements.\n",
    "if is_nice:\n",
    "    state = \"nice\"\n",
    "else:\n",
    "    state = \"not nice\"\n",
    "Write a function that uses the ternary operator to return \"yeah\" if b is True, and \"nope\" otherwise.\n",
    "\n",
    "Examples\n",
    "yeah_nope(True) ➞ \"yeah\"\n",
    "\n",
    "yeah_nope(False) ➞ \"nope\""
   ]
  },
  {
   "cell_type": "code",
   "execution_count": 2,
   "id": "8ccb59b5",
   "metadata": {},
   "outputs": [],
   "source": [
    "def yeah_nope(b):\n",
    "    return \"yeah\" if b else \"nope\""
   ]
  },
  {
   "cell_type": "code",
   "execution_count": 3,
   "id": "00d8126d",
   "metadata": {},
   "outputs": [
    {
     "data": {
      "text/plain": [
       "'yeah'"
      ]
     },
     "execution_count": 3,
     "metadata": {},
     "output_type": "execute_result"
    }
   ],
   "source": [
    "yeah_nope(True)"
   ]
  },
  {
   "cell_type": "code",
   "execution_count": 4,
   "id": "65d01448",
   "metadata": {},
   "outputs": [
    {
     "data": {
      "text/plain": [
       "'nope'"
      ]
     },
     "execution_count": 4,
     "metadata": {},
     "output_type": "execute_result"
    }
   ],
   "source": [
    "yeah_nope(False)"
   ]
  },
  {
   "cell_type": "markdown",
   "id": "5b5db539",
   "metadata": {},
   "source": [
    "Q26) Try finding your ancestors and offspring with code.\n",
    "\n",
    "Create a function that takes a number x and a character y (\"m\" for male, \"f\" for female), and returns the name of an ancestor (m/f) or descendant (m/f).\n",
    "\n",
    "If the number is negative, return the related ancestor.\n",
    "If positive, return the related descendant.\n",
    "You are generation 0. In the case of 0 (male or female), return \"me!\".\n",
    "Examples\n",
    "generation(2, \"f\") ➞ \"granddaughter\"\n",
    "\n",
    "generation(-3, \"m\") ➞ \"great grandfather\"\n",
    "\n",
    "generation(1, \"f\") ➞ \"daughter\"\n",
    "Notes\n",
    "Check the Resources tab for helpful hints.\n",
    "\n",
    "Generation\tMale\tFemale:\n",
    "\n",
    "-3\tgreat grandfather\tgreat grandmother\n",
    "-2\tgrandfather\tgrandmother\n",
    "-1\tfather\tmother\n",
    "0\tme!\tme!\n",
    "1\tson\tdaughter\n",
    "2\tgrandson\tgranddaughter\n",
    "3\tgreat grandson\tgreat granddaughter\n"
   ]
  },
  {
   "cell_type": "code",
   "execution_count": 6,
   "id": "d56c445d",
   "metadata": {},
   "outputs": [],
   "source": [
    "def offsprings(n,g):\n",
    "    x={-3:{\"m\":\"Great Grand Father\",\"f\":\"Great Grand Mother\"},\n",
    "       -2:{\"m\":\"Grandfather\",\"f\":\"Grandmother\"},\n",
    "       -1:{\"m\":\"Father\",\"f\":\"mother\"},\n",
    "       0:{\"m\":\"Me!\",\"f\":\"Me!\"},\n",
    "       1:{\"m\":\"Son\",\"f\":\"Daughter\"},\n",
    "       2:{\"m\":\"Grandson\",\"f\":\"Granddaughter\"},\n",
    "       3:{\"m\":\"Great Grandson\",\"f\":\"Great Granddaughter\"}\n",
    "      }\n",
    "    return x[n][g]"
   ]
  },
  {
   "cell_type": "code",
   "execution_count": 7,
   "id": "1f1d4307",
   "metadata": {},
   "outputs": [
    {
     "data": {
      "text/plain": [
       "'Father'"
      ]
     },
     "execution_count": 7,
     "metadata": {},
     "output_type": "execute_result"
    }
   ],
   "source": [
    "offsprings(-1,\"m\")"
   ]
  },
  {
   "cell_type": "code",
   "execution_count": 8,
   "id": "75ba3544",
   "metadata": {},
   "outputs": [
    {
     "data": {
      "text/plain": [
       "'mother'"
      ]
     },
     "execution_count": 8,
     "metadata": {},
     "output_type": "execute_result"
    }
   ],
   "source": [
    "offsprings(-1,\"f\")"
   ]
  },
  {
   "cell_type": "code",
   "execution_count": 9,
   "id": "b0dfda7b",
   "metadata": {},
   "outputs": [
    {
     "data": {
      "text/plain": [
       "'Me!'"
      ]
     },
     "execution_count": 9,
     "metadata": {},
     "output_type": "execute_result"
    }
   ],
   "source": [
    "offsprings(0,\"m\")"
   ]
  },
  {
   "cell_type": "code",
   "execution_count": 10,
   "id": "3a131699",
   "metadata": {},
   "outputs": [
    {
     "data": {
      "text/plain": [
       "'Me!'"
      ]
     },
     "execution_count": 10,
     "metadata": {},
     "output_type": "execute_result"
    }
   ],
   "source": [
    "offsprings(0,\"f\")"
   ]
  },
  {
   "cell_type": "code",
   "execution_count": 11,
   "id": "60e480da",
   "metadata": {},
   "outputs": [
    {
     "data": {
      "text/plain": [
       "'Great Grand Father'"
      ]
     },
     "execution_count": 11,
     "metadata": {},
     "output_type": "execute_result"
    }
   ],
   "source": [
    "offsprings(-3,\"m\")"
   ]
  },
  {
   "cell_type": "markdown",
   "id": "b8b4867f",
   "metadata": {},
   "source": [
    "Q27) \n",
    "Backpack Bill and Wallet Will set off for the annual festival. As they approach the stalls, Bill retorts that he'll be able to bring home more stuff than Will. Taking this as a challenge, Will refutes and a competition spurs into action.\n",
    "\n",
    "Backpack Bill has an infinite inventory space, but a limited number of coins.\n",
    "Wallet Will has an infinite number of coins, but a limited inventory space.\n",
    "Create a function that returns the name of the man who can bring home the most items. The parameters are given as follows:\n",
    "\n",
    "Bill's amount of money.\n",
    "Will's amount of inventory space.\n",
    "The item's price.\n",
    "The item's size.\n",
    "Worked Example\n",
    "who_wins_tonight(40, 95, 5, 10) ➞ \"Will\"\n",
    "\n",
    "#### The item costs 5 coins and takes up 10 inventory spaces.\n",
    "#### Bill can only buy a maximum of 8 items (40 coins DIV 5 = 8).\n",
    "#### Will can only bring home a maximum of 9 items. (95 inventory spaces DIV 10 = 9).\n",
    "#### Will is the winner.\n",
    "Examples\n",
    "who_wins_tonight(20, 20, 5, 10) ➞ \"Bill\"\n",
    "\n",
    "who_wins_tonight(10, 2, 20, 1) ➞ \"Will\"\n",
    "\n",
    "who_wins_tonight(3, 7, 2, 5) ➞ \"Tie\"\n",
    "Notes\n",
    "DIV means a floored division. That means you round down after dividing.\n",
    "Return \"Tie\" if both men can afford the same amount of stuff.\n",
    "All numbers will be positive integers."
   ]
  },
  {
   "cell_type": "code",
   "execution_count": 14,
   "id": "3bb0dd5a",
   "metadata": {},
   "outputs": [],
   "source": [
    "def winner(coins,space,price,size):\n",
    "    bill=coins//price\n",
    "    will=space//size\n",
    "    if will>bill:\n",
    "        return \"will is winner\"\n",
    "    elif bill>will:\n",
    "        return \"bill is winner\"\n",
    "    else:\n",
    "        return \"Tie\""
   ]
  },
  {
   "cell_type": "code",
   "execution_count": 15,
   "id": "6dbb2754",
   "metadata": {},
   "outputs": [
    {
     "data": {
      "text/plain": [
       "'bill is winner'"
      ]
     },
     "execution_count": 15,
     "metadata": {},
     "output_type": "execute_result"
    }
   ],
   "source": [
    "winner(20, 20, 5, 10)"
   ]
  },
  {
   "cell_type": "code",
   "execution_count": 16,
   "id": "87e13a2c",
   "metadata": {},
   "outputs": [
    {
     "data": {
      "text/plain": [
       "'will is winner'"
      ]
     },
     "execution_count": 16,
     "metadata": {},
     "output_type": "execute_result"
    }
   ],
   "source": [
    "winner(10, 2, 20, 1)"
   ]
  },
  {
   "cell_type": "code",
   "execution_count": 17,
   "id": "0e98a8d2",
   "metadata": {},
   "outputs": [
    {
     "data": {
      "text/plain": [
       "'Tie'"
      ]
     },
     "execution_count": 17,
     "metadata": {},
     "output_type": "execute_result"
    }
   ],
   "source": [
    "winner(3,7,2,5)"
   ]
  },
  {
   "cell_type": "markdown",
   "id": "62f75e69",
   "metadata": {},
   "source": [
    "Q28) Create a function that validates whether a number n is within the bounds of lower and upper. Return False if n is not an integer.\n",
    "\n",
    "Examples\n",
    "int_within_bounds(3, 1, 9) ➞ True\n",
    "\n",
    "int_within_bounds(6, 1, 6) ➞ False\n",
    "\n",
    "int_within_bounds(4.5, 3, 8) ➞ False\n",
    "Notes\n",
    "The term \"within bounds\" means a number is considered equal or greater than a lower bound and lesser (but not equal) to an upper bound, (see example #2).\n",
    "Bounds will be always given as integers."
   ]
  },
  {
   "cell_type": "code",
   "execution_count": 18,
   "id": "268b2807",
   "metadata": {},
   "outputs": [],
   "source": [
    "def intin(a,b,c):\n",
    "    if a<b<c:\n",
    "        return True\n",
    "    else:\n",
    "        return False"
   ]
  },
  {
   "cell_type": "code",
   "execution_count": 19,
   "id": "61557473",
   "metadata": {},
   "outputs": [
    {
     "data": {
      "text/plain": [
       "False"
      ]
     },
     "execution_count": 19,
     "metadata": {},
     "output_type": "execute_result"
    }
   ],
   "source": [
    "intin(3,1,9)"
   ]
  },
  {
   "cell_type": "code",
   "execution_count": 20,
   "id": "0e73c8f8",
   "metadata": {},
   "outputs": [
    {
     "data": {
      "text/plain": [
       "False"
      ]
     },
     "execution_count": 20,
     "metadata": {},
     "output_type": "execute_result"
    }
   ],
   "source": [
    "intin(6,1,6)"
   ]
  },
  {
   "cell_type": "code",
   "execution_count": 22,
   "id": "dc9b7310",
   "metadata": {},
   "outputs": [
    {
     "data": {
      "text/plain": [
       "False"
      ]
     },
     "execution_count": 22,
     "metadata": {},
     "output_type": "execute_result"
    }
   ],
   "source": [
    "intin(4.5,3,8)"
   ]
  },
  {
   "cell_type": "code",
   "execution_count": 23,
   "id": "5fa78ccb",
   "metadata": {},
   "outputs": [
    {
     "data": {
      "text/plain": [
       "False"
      ]
     },
     "execution_count": 23,
     "metadata": {},
     "output_type": "execute_result"
    }
   ],
   "source": [
    "intin(4.5,3.0,8.0)"
   ]
  },
  {
   "cell_type": "markdown",
   "id": "d7ada232",
   "metadata": {},
   "source": [
    "Q29) Create a function that determines if the temp of the water is considered boiling or not. temp will be measured in Fahrenheit and Celsius.\n",
    "\n",
    "Examples\n",
    "is_boiling(\"212F\") ➞ True\n",
    "\n",
    "is_boiling(\"100C\") ➞ True\n",
    "\n",
    "is_boiling(\"0F\") ➞ False\n",
    "Notes\n",
    "The boiling point of water is 212F in Fahrenheit and 100C in Celsius."
   ]
  },
  {
   "cell_type": "code",
   "execution_count": 28,
   "id": "eba19dac",
   "metadata": {},
   "outputs": [],
   "source": [
    "def water_boiling(temp):\n",
    "    a=temp[:-1]\n",
    "    y=temp[-1]\n",
    "    b=int(a)\n",
    "    if b>=212 and y==\"F\":\n",
    "        return True\n",
    "    elif b>=100 and y==\"C\":\n",
    "        return True\n",
    "    else:\n",
    "        return False"
   ]
  },
  {
   "cell_type": "code",
   "execution_count": 29,
   "id": "32e3740d",
   "metadata": {},
   "outputs": [
    {
     "data": {
      "text/plain": [
       "True"
      ]
     },
     "execution_count": 29,
     "metadata": {},
     "output_type": "execute_result"
    }
   ],
   "source": [
    "water_boiling(\"212F\")"
   ]
  },
  {
   "cell_type": "code",
   "execution_count": 30,
   "id": "c8052a6e",
   "metadata": {},
   "outputs": [
    {
     "data": {
      "text/plain": [
       "False"
      ]
     },
     "execution_count": 30,
     "metadata": {},
     "output_type": "execute_result"
    }
   ],
   "source": [
    "water_boiling(\"210F\")"
   ]
  },
  {
   "cell_type": "code",
   "execution_count": 31,
   "id": "5d0ba817",
   "metadata": {},
   "outputs": [
    {
     "data": {
      "text/plain": [
       "False"
      ]
     },
     "execution_count": 31,
     "metadata": {},
     "output_type": "execute_result"
    }
   ],
   "source": [
    "water_boiling(\"0F\")"
   ]
  },
  {
   "cell_type": "code",
   "execution_count": 32,
   "id": "470f0516",
   "metadata": {},
   "outputs": [
    {
     "data": {
      "text/plain": [
       "True"
      ]
     },
     "execution_count": 32,
     "metadata": {},
     "output_type": "execute_result"
    }
   ],
   "source": [
    "water_boiling(\"212C\")"
   ]
  },
  {
   "cell_type": "code",
   "execution_count": 33,
   "id": "642ac6a5",
   "metadata": {},
   "outputs": [
    {
     "data": {
      "text/plain": [
       "True"
      ]
     },
     "execution_count": 33,
     "metadata": {},
     "output_type": "execute_result"
    }
   ],
   "source": [
    "water_boiling(\"100C\")"
   ]
  },
  {
   "cell_type": "code",
   "execution_count": 34,
   "id": "ac058fc4",
   "metadata": {},
   "outputs": [
    {
     "data": {
      "text/plain": [
       "False"
      ]
     },
     "execution_count": 34,
     "metadata": {},
     "output_type": "execute_result"
    }
   ],
   "source": [
    "water_boiling(\"10C\")"
   ]
  },
  {
   "cell_type": "code",
   "execution_count": 35,
   "id": "fd1d8cb7",
   "metadata": {},
   "outputs": [
    {
     "data": {
      "text/plain": [
       "False"
      ]
     },
     "execution_count": 35,
     "metadata": {},
     "output_type": "execute_result"
    }
   ],
   "source": [
    "water_boiling(\"-12F\")"
   ]
  },
  {
   "cell_type": "markdown",
   "id": "efca2067",
   "metadata": {},
   "source": [
    "Q30) Create a function that takes two arguments of a list of numbers lst and a constant number n and returns the n largest numbers from the given list.\n",
    "\n",
    "Examples\n",
    "largest_numbers(2, [4, 3, 2, 1]) ➞ [3, 4]\n",
    "\n",
    "largest_numbers(1, [7, 19, 4, 2]) ➞ [19]\n",
    "\n",
    "largest_numbers(3, [14, 12, 57, 11, 18, 16]) ➞ [16, 18, 57]\n",
    "\n",
    "largest_numbers(0, [1, 3, 4, 2]) ➞ []\n",
    "Notes\n",
    "The returned list must be sorted in ascending order."
   ]
  },
  {
   "cell_type": "code",
   "execution_count": 59,
   "id": "6491aa8e",
   "metadata": {},
   "outputs": [],
   "source": [
    "def n_largest(n,lst):\n",
    "    lst.sort()\n",
    "    if n==0:\n",
    "        lst.clear()\n",
    "        return lst\n",
    "    elif len(lst)<n:\n",
    "        return \"Lenght exceeded\"\n",
    "    else:\n",
    "        return lst[-n:]"
   ]
  },
  {
   "cell_type": "code",
   "execution_count": 60,
   "id": "a6b2a190",
   "metadata": {},
   "outputs": [
    {
     "data": {
      "text/plain": [
       "[2, 3, 4]"
      ]
     },
     "execution_count": 60,
     "metadata": {},
     "output_type": "execute_result"
    }
   ],
   "source": [
    "n_largest(3,[4, 3, 2, 1])"
   ]
  },
  {
   "cell_type": "code",
   "execution_count": 61,
   "id": "71f25f60",
   "metadata": {},
   "outputs": [
    {
     "data": {
      "text/plain": [
       "[]"
      ]
     },
     "execution_count": 61,
     "metadata": {},
     "output_type": "execute_result"
    }
   ],
   "source": [
    "n_largest(0,[4, 3, 2, 1])"
   ]
  },
  {
   "cell_type": "code",
   "execution_count": 62,
   "id": "84cde136",
   "metadata": {},
   "outputs": [
    {
     "data": {
      "text/plain": [
       "'Lenght exceeded'"
      ]
     },
     "execution_count": 62,
     "metadata": {},
     "output_type": "execute_result"
    }
   ],
   "source": [
    "n_largest(5,[4, 3, 2, 1])"
   ]
  },
  {
   "cell_type": "code",
   "execution_count": 63,
   "id": "1e8061c1",
   "metadata": {},
   "outputs": [
    {
     "data": {
      "text/plain": [
       "[19]"
      ]
     },
     "execution_count": 63,
     "metadata": {},
     "output_type": "execute_result"
    }
   ],
   "source": [
    "n_largest(1, [7, 19, 4, 2])"
   ]
  },
  {
   "cell_type": "code",
   "execution_count": 64,
   "id": "b07a64fa",
   "metadata": {},
   "outputs": [
    {
     "data": {
      "text/plain": [
       "[16, 18, 57]"
      ]
     },
     "execution_count": 64,
     "metadata": {},
     "output_type": "execute_result"
    }
   ],
   "source": [
    "n_largest(3, [14, 12, 57, 11, 18, 16])"
   ]
  },
  {
   "cell_type": "markdown",
   "id": "be6280bc",
   "metadata": {},
   "source": [
    "Q31) Create a function that takes a range object r, index i, and returns a list where the first element is the number of elements in the range object, and the second element is the element of the range object at the given index.\n",
    "\n",
    "Examples\n",
    "length_element(range(2, 4), 0) ➞ [2, 2]\n",
    "\n",
    "length_element(range(12, 15, 2), 1) ➞ [2, 14]\n",
    "\n",
    "length_element(range(40, 50, 3), 2) ➞ [4, 46]\n",
    "Notes\n",
    "No need to check for IndexError."
   ]
  },
  {
   "cell_type": "code",
   "execution_count": 2,
   "id": "cdb26a5d",
   "metadata": {},
   "outputs": [],
   "source": [
    "def length(r,i):\n",
    "    l=[]\n",
    "    l.append(len(r))\n",
    "    l.append(r[i])\n",
    "    return l"
   ]
  },
  {
   "cell_type": "code",
   "execution_count": 3,
   "id": "630b9f26",
   "metadata": {},
   "outputs": [
    {
     "data": {
      "text/plain": [
       "[2, 2]"
      ]
     },
     "execution_count": 3,
     "metadata": {},
     "output_type": "execute_result"
    }
   ],
   "source": [
    "length(range(2, 4), 0)"
   ]
  },
  {
   "cell_type": "code",
   "execution_count": 4,
   "id": "493296c5",
   "metadata": {},
   "outputs": [
    {
     "data": {
      "text/plain": [
       "[2, 14]"
      ]
     },
     "execution_count": 4,
     "metadata": {},
     "output_type": "execute_result"
    }
   ],
   "source": [
    "length(range(12, 15, 2), 1)"
   ]
  },
  {
   "cell_type": "code",
   "execution_count": 5,
   "id": "eae8101b",
   "metadata": {},
   "outputs": [
    {
     "data": {
      "text/plain": [
       "[4, 46]"
      ]
     },
     "execution_count": 5,
     "metadata": {},
     "output_type": "execute_result"
    }
   ],
   "source": [
    "length(range(40, 50, 3), 2)"
   ]
  },
  {
   "cell_type": "markdown",
   "id": "6491aa88",
   "metadata": {},
   "source": [
    "Q31) Create a function that takes three numbers as arguments and returns True if it's a triangle and False if not.\n",
    "\n",
    "Examples\n",
    "is_triangle(2, 3, 4) ➞ True\n",
    "\n",
    "is_triangle(3, 4, 5) ➞ True\n",
    "\n",
    "is_triangle(4, 3, 8) ➞ False\n",
    "Notes\n",
    "a, b and, c are the side lengths of the triangles.\n",
    "Test input will always be three positive numbers."
   ]
  },
  {
   "cell_type": "code",
   "execution_count": 70,
   "id": "72949b0b",
   "metadata": {},
   "outputs": [],
   "source": [
    "def is_triangle(a,b,c):\n",
    "    if a+b>c and b+c>a and c+a>b:\n",
    "        return True\n",
    "    else:\n",
    "        return False"
   ]
  },
  {
   "cell_type": "code",
   "execution_count": 71,
   "id": "473d52e0",
   "metadata": {},
   "outputs": [
    {
     "data": {
      "text/plain": [
       "True"
      ]
     },
     "execution_count": 71,
     "metadata": {},
     "output_type": "execute_result"
    }
   ],
   "source": [
    "is_triangle(2, 3, 4)"
   ]
  },
  {
   "cell_type": "code",
   "execution_count": 72,
   "id": "b4548d13",
   "metadata": {},
   "outputs": [
    {
     "data": {
      "text/plain": [
       "True"
      ]
     },
     "execution_count": 72,
     "metadata": {},
     "output_type": "execute_result"
    }
   ],
   "source": [
    "is_triangle(3, 4, 5)"
   ]
  },
  {
   "cell_type": "code",
   "execution_count": 73,
   "id": "49c97e9c",
   "metadata": {},
   "outputs": [
    {
     "data": {
      "text/plain": [
       "False"
      ]
     },
     "execution_count": 73,
     "metadata": {},
     "output_type": "execute_result"
    }
   ],
   "source": [
    "is_triangle(4,3,8)"
   ]
  },
  {
   "cell_type": "code",
   "execution_count": 74,
   "id": "934b6025",
   "metadata": {},
   "outputs": [
    {
     "data": {
      "text/plain": [
       "False"
      ]
     },
     "execution_count": 74,
     "metadata": {},
     "output_type": "execute_result"
    }
   ],
   "source": [
    "is_triangle(1,2,3)"
   ]
  },
  {
   "cell_type": "markdown",
   "id": "f9e12f54",
   "metadata": {},
   "source": [
    "A \"truthy\" value is a value that translates to True when evaluated in a Boolean context. All values are truthy unless they're defined as falsy.\n",
    "\n",
    "All falsy values are as follows:\n",
    "\n",
    "False\n",
    "None\n",
    "0\n",
    "[]\n",
    "{}\n",
    "\"\"\n",
    "Create a function that takes an argument of any data type and returns 1 if it's truthy and 0 if it's falsy.\n",
    "\n",
    "Examples\n",
    "is_truthy(0) ➞ 0\n",
    "\n",
    "is_truthy(False) ➞ 0\n",
    "\n",
    "is_truthy(\"\") ➞ 0\n",
    "\n",
    "is_truthy(\"False\") ➞ 1\n",
    "Notes\n",
    "Don't forget to return the result.\n",
    "If you get stuck on a challenge, find help in the Resources tab.\n",
    "If you're really stuck, unlock solutions in the Solutions tab."
   ]
  },
  {
   "cell_type": "code",
   "execution_count": 141,
   "id": "5ae040f5",
   "metadata": {},
   "outputs": [],
   "source": [
    "def truthy_falsy(a):\n",
    "    if a==False or a==\"\" or a=={} or a==[] or a==None:\n",
    "        return 0\n",
    "    else:\n",
    "        return 1"
   ]
  },
  {
   "cell_type": "code",
   "execution_count": 142,
   "id": "47912e74",
   "metadata": {},
   "outputs": [
    {
     "data": {
      "text/plain": [
       "0"
      ]
     },
     "execution_count": 142,
     "metadata": {},
     "output_type": "execute_result"
    }
   ],
   "source": [
    "truthy_falsy(0)"
   ]
  },
  {
   "cell_type": "code",
   "execution_count": 143,
   "id": "1cf7a643",
   "metadata": {},
   "outputs": [
    {
     "data": {
      "text/plain": [
       "1"
      ]
     },
     "execution_count": 143,
     "metadata": {},
     "output_type": "execute_result"
    }
   ],
   "source": [
    "truthy_falsy(1)"
   ]
  },
  {
   "cell_type": "code",
   "execution_count": 144,
   "id": "b0598d13",
   "metadata": {},
   "outputs": [
    {
     "data": {
      "text/plain": [
       "1"
      ]
     },
     "execution_count": 144,
     "metadata": {},
     "output_type": "execute_result"
    }
   ],
   "source": [
    "truthy_falsy(\"False\")"
   ]
  },
  {
   "cell_type": "code",
   "execution_count": 145,
   "id": "c0a88a5e",
   "metadata": {},
   "outputs": [
    {
     "data": {
      "text/plain": [
       "0"
      ]
     },
     "execution_count": 145,
     "metadata": {},
     "output_type": "execute_result"
    }
   ],
   "source": [
    "truthy_falsy(\"\")"
   ]
  },
  {
   "cell_type": "code",
   "execution_count": 146,
   "id": "4ffe6d6b",
   "metadata": {},
   "outputs": [
    {
     "data": {
      "text/plain": [
       "0"
      ]
     },
     "execution_count": 146,
     "metadata": {},
     "output_type": "execute_result"
    }
   ],
   "source": [
    "truthy_falsy([])"
   ]
  },
  {
   "cell_type": "code",
   "execution_count": 147,
   "id": "727869b0",
   "metadata": {},
   "outputs": [
    {
     "data": {
      "text/plain": [
       "0"
      ]
     },
     "execution_count": 147,
     "metadata": {},
     "output_type": "execute_result"
    }
   ],
   "source": [
    "truthy_falsy({})"
   ]
  },
  {
   "cell_type": "code",
   "execution_count": 148,
   "id": "cd3088a7",
   "metadata": {},
   "outputs": [
    {
     "data": {
      "text/plain": [
       "0"
      ]
     },
     "execution_count": 148,
     "metadata": {},
     "output_type": "execute_result"
    }
   ],
   "source": [
    "truthy_falsy(None)"
   ]
  },
  {
   "cell_type": "code",
   "execution_count": 149,
   "id": "7f23d29d",
   "metadata": {},
   "outputs": [
    {
     "data": {
      "text/plain": [
       "1"
      ]
     },
     "execution_count": 149,
     "metadata": {},
     "output_type": "execute_result"
    }
   ],
   "source": [
    "truthy_falsy(lambda n:n)"
   ]
  },
  {
   "cell_type": "markdown",
   "id": "4d0defdc",
   "metadata": {},
   "source": [
    "Write a function that returns True if both numbers are:\n",
    "\n",
    "Smaller than 0, OR ...\n",
    "Greater than 0, OR ...\n",
    "Exactly 0\n",
    "Otherwise, return False.\n",
    "\n",
    "Examples\n",
    "both(6, 2) ➞ True\n",
    "\n",
    "both(0, 0) ➞ True\n",
    "\n",
    "both(-1, 2) ➞ False\n",
    "\n",
    "both(0, 2) ➞ False\n",
    "Notes\n",
    "Inputs will always be two numbers."
   ]
  },
  {
   "cell_type": "code",
   "execution_count": 159,
   "id": "e8d8f273",
   "metadata": {},
   "outputs": [],
   "source": [
    "def number(a,b):\n",
    "    if a<0 and b<0 or a>0 and b>0 or a==0 and b==0:\n",
    "        return True\n",
    "    else:\n",
    "        return False"
   ]
  },
  {
   "cell_type": "code",
   "execution_count": 160,
   "id": "9847472f",
   "metadata": {},
   "outputs": [
    {
     "data": {
      "text/plain": [
       "True"
      ]
     },
     "execution_count": 160,
     "metadata": {},
     "output_type": "execute_result"
    }
   ],
   "source": [
    "number(6,2)"
   ]
  },
  {
   "cell_type": "code",
   "execution_count": 161,
   "id": "5d314427",
   "metadata": {},
   "outputs": [
    {
     "data": {
      "text/plain": [
       "True"
      ]
     },
     "execution_count": 161,
     "metadata": {},
     "output_type": "execute_result"
    }
   ],
   "source": [
    "number(0,0)"
   ]
  },
  {
   "cell_type": "code",
   "execution_count": 162,
   "id": "96a2fc76",
   "metadata": {},
   "outputs": [
    {
     "data": {
      "text/plain": [
       "False"
      ]
     },
     "execution_count": 162,
     "metadata": {},
     "output_type": "execute_result"
    }
   ],
   "source": [
    "number(-1,2)"
   ]
  },
  {
   "cell_type": "code",
   "execution_count": 163,
   "id": "f67ebee4",
   "metadata": {},
   "outputs": [
    {
     "data": {
      "text/plain": [
       "False"
      ]
     },
     "execution_count": 163,
     "metadata": {},
     "output_type": "execute_result"
    }
   ],
   "source": [
    "number(0,2)"
   ]
  },
  {
   "cell_type": "markdown",
   "id": "6a824dee",
   "metadata": {},
   "source": [
    "Create a function that takes a list. This list will contain numbers represented as strings.\n",
    "\n",
    "Your function should split this list into two new lists. The first list should contain only even numbers. The second only odd. Then, wrap these two lists in one main list and return it.\n",
    "\n",
    "Return an empty list if there are no even numbers, or odd.\n",
    "\n",
    "Examples\n",
    "clean_up_list([\"8\"]) ➞ [[8], []]\n",
    "\n",
    "clean_up_list([\"11\"]) ➞ [[], [11]]\n",
    "\n",
    "clean_up_list([\"7\", \"4\", \"8\"]) ➞ [[4, 8], [7]]\n",
    "\n",
    "clean_up_list([\"9\", \"4\", \"5\", \"8\"]) ➞ [[4, 8], [9, 5]]\n",
    "\n",
    "Notes: All numbers will be positive integers."
   ]
  },
  {
   "cell_type": "code",
   "execution_count": 206,
   "id": "f6b10f0c",
   "metadata": {},
   "outputs": [],
   "source": [
    "def even_and_odd(a):\n",
    "    x=[];y=[];even=[];odd=[]\n",
    "    for z in a:\n",
    "        l=int(z)\n",
    "        x.append(l)\n",
    "    for s in x:\n",
    "        if s%2==0:\n",
    "            even.append(s)\n",
    "        else:\n",
    "            odd.append(s)\n",
    "    y.append(even)\n",
    "    y.append(odd)\n",
    "    return y"
   ]
  },
  {
   "cell_type": "code",
   "execution_count": 207,
   "id": "ddafff6a",
   "metadata": {},
   "outputs": [
    {
     "data": {
      "text/plain": [
       "[[2], [1]]"
      ]
     },
     "execution_count": 207,
     "metadata": {},
     "output_type": "execute_result"
    }
   ],
   "source": [
    "even_and_odd([\"1\",\"2\"])"
   ]
  },
  {
   "cell_type": "code",
   "execution_count": 208,
   "id": "0b5539a2",
   "metadata": {},
   "outputs": [
    {
     "data": {
      "text/plain": [
       "[[4, 8], [7]]"
      ]
     },
     "execution_count": 208,
     "metadata": {},
     "output_type": "execute_result"
    }
   ],
   "source": [
    "even_and_odd([\"7\", \"4\", \"8\"])"
   ]
  },
  {
   "cell_type": "code",
   "execution_count": 210,
   "id": "19cd48d5",
   "metadata": {},
   "outputs": [
    {
     "data": {
      "text/plain": [
       "[[4, 8], [9, 5]]"
      ]
     },
     "execution_count": 210,
     "metadata": {},
     "output_type": "execute_result"
    }
   ],
   "source": [
    "even_and_odd([\"9\", \"4\", \"5\", \"8\"])"
   ]
  },
  {
   "cell_type": "code",
   "execution_count": 211,
   "id": "5c761bc0",
   "metadata": {},
   "outputs": [
    {
     "data": {
      "text/plain": [
       "[[8], []]"
      ]
     },
     "execution_count": 211,
     "metadata": {},
     "output_type": "execute_result"
    }
   ],
   "source": [
    "even_and_odd([\"8\"])"
   ]
  },
  {
   "cell_type": "code",
   "execution_count": 212,
   "id": "777a31eb",
   "metadata": {},
   "outputs": [
    {
     "data": {
      "text/plain": [
       "[[], [11]]"
      ]
     },
     "execution_count": 212,
     "metadata": {},
     "output_type": "execute_result"
    }
   ],
   "source": [
    "even_and_odd([\"11\"])"
   ]
  },
  {
   "cell_type": "markdown",
   "id": "9c2bbc42",
   "metadata": {},
   "source": [
    "When creating variables, the variable name must always start with a letter and cannot contain spaces, though numbers and underscores are allowed to be contained in it also.\n",
    "\n",
    "Create a function which returns True if a given variable name is valid, otherwise return False.\n",
    "\n",
    "Examples\n",
    "variable_valid(\"result\") ➞ True\n",
    "\n",
    "variable_valid(\"odd_nums\") ➞ True\n",
    "\n",
    "variable_valid(\"2TimesN\") ➞ False\n",
    "Notes\n",
    "Inputs are given as strings.\n",
    "Variable names with spaces are not allowed.\n",
    "Although this question may seem like otherwise, you can't actually assign words with quotes around them as variables."
   ]
  },
  {
   "cell_type": "code",
   "execution_count": 262,
   "id": "144f9dfd",
   "metadata": {},
   "outputs": [],
   "source": [
    "def valid_name(a):\n",
    "    \n",
    "    if a[1]==\" \" or a.find(\" \")>0 or a[0].isdigit():\n",
    "        return False\n",
    "    else:\n",
    "        return True"
   ]
  },
  {
   "cell_type": "code",
   "execution_count": 263,
   "id": "dbd51664",
   "metadata": {},
   "outputs": [
    {
     "data": {
      "text/plain": [
       "False"
      ]
     },
     "execution_count": 263,
     "metadata": {},
     "output_type": "execute_result"
    }
   ],
   "source": [
    "valid_name(\"Counter name\")"
   ]
  },
  {
   "cell_type": "code",
   "execution_count": 264,
   "id": "1e4616cd",
   "metadata": {},
   "outputs": [
    {
     "data": {
      "text/plain": [
       "True"
      ]
     },
     "execution_count": 264,
     "metadata": {},
     "output_type": "execute_result"
    }
   ],
   "source": [
    "valid_name(\"result\")"
   ]
  },
  {
   "cell_type": "code",
   "execution_count": 265,
   "id": "77e6975c",
   "metadata": {},
   "outputs": [
    {
     "data": {
      "text/plain": [
       "False"
      ]
     },
     "execution_count": 265,
     "metadata": {},
     "output_type": "execute_result"
    }
   ],
   "source": [
    "valid_name(\"1result\")"
   ]
  },
  {
   "cell_type": "markdown",
   "id": "f3aaaaa0",
   "metadata": {},
   "source": [
    "In a board game, a piece may advance 1-6 tiles forward depending on the number rolled on a six-sided die. If you advance your piece onto the same tile as another player's piece, both of you earn a bonus.\n",
    "\n",
    "Can you reach your friend's tile number in the next roll? Create a function that returns if it's possible to earn a bonus when you roll the die.\n",
    "\n",
    "Examples\n",
    "possible_bonus(3, 7) ➞ True\n",
    "\n",
    "possible_bonus(1, 9) ➞ False\n",
    "\n",
    "possible_bonus(5, 3) ➞ False\n",
    "Notes\n",
    "You cannot move backward (which is why example #3 doesn't work).\n",
    "If you are already on the same tile, return False, as you would be advancing away.\n",
    "Expect only positive integer inputs."
   ]
  },
  {
   "cell_type": "code",
   "execution_count": 266,
   "id": "6e9efde6",
   "metadata": {},
   "outputs": [],
   "source": [
    "def bonus(a,b):\n",
    "    if a-b>0 or a-b==0:\n",
    "        return False\n",
    "    else:\n",
    "        return True"
   ]
  },
  {
   "cell_type": "code",
   "execution_count": 267,
   "id": "f9e1c2f8",
   "metadata": {},
   "outputs": [
    {
     "data": {
      "text/plain": [
       "True"
      ]
     },
     "execution_count": 267,
     "metadata": {},
     "output_type": "execute_result"
    }
   ],
   "source": [
    "bonus(1,6)"
   ]
  },
  {
   "cell_type": "code",
   "execution_count": 269,
   "id": "e56d19f7",
   "metadata": {},
   "outputs": [
    {
     "data": {
      "text/plain": [
       "False"
      ]
     },
     "execution_count": 269,
     "metadata": {},
     "output_type": "execute_result"
    }
   ],
   "source": [
    "bonus(2,2)"
   ]
  },
  {
   "cell_type": "code",
   "execution_count": 270,
   "id": "f7647076",
   "metadata": {},
   "outputs": [
    {
     "data": {
      "text/plain": [
       "False"
      ]
     },
     "execution_count": 270,
     "metadata": {},
     "output_type": "execute_result"
    }
   ],
   "source": [
    "bonus(5,3)"
   ]
  },
  {
   "cell_type": "markdown",
   "id": "4c7b2c48",
   "metadata": {},
   "source": [
    "Create a function that takes two integers and checks if they are equal.\n",
    "\n",
    "Examples\n",
    "is_equal(5, 6) ➞ False\n",
    "\n",
    "is_equal(1, 1) ➞ True\n",
    "\n",
    "is_equal(\"1\", 1) ➞ False\n",
    "Notes\n",
    "If there is a string then it should return False."
   ]
  },
  {
   "cell_type": "code",
   "execution_count": 274,
   "id": "2263d173",
   "metadata": {},
   "outputs": [],
   "source": [
    "def equal(a,d):\n",
    "    if a==d:\n",
    "        return True\n",
    "    else:\n",
    "        return False"
   ]
  },
  {
   "cell_type": "code",
   "execution_count": 275,
   "id": "60f4d558",
   "metadata": {},
   "outputs": [
    {
     "data": {
      "text/plain": [
       "False"
      ]
     },
     "execution_count": 275,
     "metadata": {},
     "output_type": "execute_result"
    }
   ],
   "source": [
    "equal(1,2)"
   ]
  },
  {
   "cell_type": "code",
   "execution_count": 276,
   "id": "863a21a6",
   "metadata": {},
   "outputs": [
    {
     "data": {
      "text/plain": [
       "True"
      ]
     },
     "execution_count": 276,
     "metadata": {},
     "output_type": "execute_result"
    }
   ],
   "source": [
    "equal(2,2)"
   ]
  },
  {
   "cell_type": "code",
   "execution_count": 277,
   "id": "4370e7bd",
   "metadata": {},
   "outputs": [
    {
     "data": {
      "text/plain": [
       "False"
      ]
     },
     "execution_count": 277,
     "metadata": {},
     "output_type": "execute_result"
    }
   ],
   "source": [
    "equal(\"1\",1)"
   ]
  },
  {
   "cell_type": "code",
   "execution_count": 279,
   "id": "c96c87c8",
   "metadata": {},
   "outputs": [
    {
     "data": {
      "text/plain": [
       "False"
      ]
     },
     "execution_count": 279,
     "metadata": {},
     "output_type": "execute_result"
    }
   ],
   "source": [
    "equal(\"1\",5)"
   ]
  },
  {
   "cell_type": "markdown",
   "id": "9bd82470",
   "metadata": {},
   "source": [
    "Write a function that takes a string name and a number num (either 0 or 1) and return \"Hello\" + name if num is 1, otherwise return \"Bye\" + name.\n",
    "\n",
    "Examples\n",
    "say_hello_bye(\"alon\", 1) ➞ \"Hello Alon\"\n",
    "\n",
    "say_hello_bye(\"Tomi\", 0) ➞ \"Bye Tomi\"\n",
    "\n",
    "say_hello_bye(\"jose\", 0) ➞ \"Bye Jose\"\n",
    "Notes\n",
    "The name you return must be capitalized."
   ]
  },
  {
   "cell_type": "code",
   "execution_count": 284,
   "id": "e7230695",
   "metadata": {},
   "outputs": [],
   "source": [
    "def hello_bye(name,num):\n",
    "    if num==1:\n",
    "        return \"Hello\"+\" \"+name\n",
    "    else:\n",
    "        return \"Bye\"+\" \"+name"
   ]
  },
  {
   "cell_type": "code",
   "execution_count": 285,
   "id": "87e3c56f",
   "metadata": {},
   "outputs": [
    {
     "data": {
      "text/plain": [
       "'Hello Emma'"
      ]
     },
     "execution_count": 285,
     "metadata": {},
     "output_type": "execute_result"
    }
   ],
   "source": [
    "hello_bye(\"Emma\",1)"
   ]
  },
  {
   "cell_type": "code",
   "execution_count": 286,
   "id": "26945898",
   "metadata": {},
   "outputs": [
    {
     "data": {
      "text/plain": [
       "'Bye Alice'"
      ]
     },
     "execution_count": 286,
     "metadata": {},
     "output_type": "execute_result"
    }
   ],
   "source": [
    "hello_bye(\"Alice\",0)"
   ]
  },
  {
   "cell_type": "markdown",
   "id": "8ce0d316",
   "metadata": {},
   "source": [
    "Create a function that takes three number arguments — one number as an input and two additional numbers representing the endpoints of a closed range — and return the number limited to this range.\n",
    "\n",
    "If the number falls within the range, the number should be returned.\n",
    "If the number is less than the lower limit of the range, the lower limit should be returned.\n",
    "If the number is greater than the upper limit of the range, the upper limit should be returned.\n",
    "Examples\n",
    "limit_number(5, 1, 10) ➞ 5\n",
    "\n",
    "limit_number(-3, 1, 10) ➞ 1\n",
    "\n",
    "limit_number(14, 1, 10) ➞ 10\n",
    "\n",
    "limit_number(4.6, 1, 10) ➞ 4.6\n",
    "Notes\n",
    "All test inputs will be valid numbers.\n",
    "All test inputs' range parameters will be in the correct order (i.e. the lower range will be less than or equal to the upper range)."
   ]
  },
  {
   "cell_type": "code",
   "execution_count": 1,
   "id": "89c0fd43",
   "metadata": {},
   "outputs": [],
   "source": [
    "def limit_number(a,b,c):\n",
    "    higher=0;lower=0\n",
    "    if a>c:\n",
    "        higher+=a\n",
    "        lower+=c\n",
    "    else:\n",
    "        higher+=c\n",
    "        lower+=a\n",
    "    if b<lower:\n",
    "        return lower\n",
    "    elif b>higher:\n",
    "        return higher\n",
    "    else:\n",
    "        return b"
   ]
  },
  {
   "cell_type": "code",
   "execution_count": 2,
   "id": "91e53e13",
   "metadata": {},
   "outputs": [
    {
     "data": {
      "text/plain": [
       "5"
      ]
     },
     "execution_count": 2,
     "metadata": {},
     "output_type": "execute_result"
    }
   ],
   "source": [
    "limit_number(5, 1, 10)"
   ]
  },
  {
   "cell_type": "code",
   "execution_count": 3,
   "id": "b1b122e6",
   "metadata": {},
   "outputs": [
    {
     "data": {
      "text/plain": [
       "1"
      ]
     },
     "execution_count": 3,
     "metadata": {},
     "output_type": "execute_result"
    }
   ],
   "source": [
    "limit_number(-3, 1, 10)"
   ]
  },
  {
   "cell_type": "code",
   "execution_count": 4,
   "id": "ce203ca0",
   "metadata": {},
   "outputs": [
    {
     "data": {
      "text/plain": [
       "10"
      ]
     },
     "execution_count": 4,
     "metadata": {},
     "output_type": "execute_result"
    }
   ],
   "source": [
    "limit_number(14, 1, 10)"
   ]
  },
  {
   "cell_type": "code",
   "execution_count": 5,
   "id": "14338902",
   "metadata": {},
   "outputs": [
    {
     "data": {
      "text/plain": [
       "-73"
      ]
     },
     "execution_count": 5,
     "metadata": {},
     "output_type": "execute_result"
    }
   ],
   "source": [
    "limit_number(-100, -73, -70)"
   ]
  },
  {
   "cell_type": "markdown",
   "id": "079c95d5",
   "metadata": {},
   "source": [
    "Write a function that takes an integer and:\n",
    "\n",
    "If the number is a multiple of 3, return \"Hello\".\n",
    "If the number is a multiple of 5, return \"World\".\n",
    "If the number is a multiple of both 3 and 5, return \"Hello World\".\n",
    "Examples\n",
    "hello_world(3) ➞ \"Hello\"\n",
    "\n",
    "hello_world(5) ➞ \"World\"\n",
    "\n",
    "hello_world(15) ➞ \"Hello World\"\n",
    "Notes\n",
    "Don't forget to return the result."
   ]
  },
  {
   "cell_type": "code",
   "execution_count": 6,
   "id": "e2db4356",
   "metadata": {},
   "outputs": [],
   "source": [
    "def hello_world(a):\n",
    "    if a%3==0 and a%5==0:\n",
    "        return \"Hello world\"\n",
    "    elif a%3==0:\n",
    "        return \"Hello\"\n",
    "    elif a%5==0:\n",
    "        return \"world\"\n",
    "    else:\n",
    "        return \"Not divi by 3 and 5\""
   ]
  },
  {
   "cell_type": "code",
   "execution_count": 7,
   "id": "df4dc40f",
   "metadata": {},
   "outputs": [
    {
     "data": {
      "text/plain": [
       "'Hello'"
      ]
     },
     "execution_count": 7,
     "metadata": {},
     "output_type": "execute_result"
    }
   ],
   "source": [
    "hello_world(3)"
   ]
  },
  {
   "cell_type": "code",
   "execution_count": 8,
   "id": "70ebd94c",
   "metadata": {},
   "outputs": [
    {
     "data": {
      "text/plain": [
       "'world'"
      ]
     },
     "execution_count": 8,
     "metadata": {},
     "output_type": "execute_result"
    }
   ],
   "source": [
    "hello_world(5)"
   ]
  },
  {
   "cell_type": "code",
   "execution_count": 9,
   "id": "585da6d8",
   "metadata": {},
   "outputs": [
    {
     "data": {
      "text/plain": [
       "'Hello world'"
      ]
     },
     "execution_count": 9,
     "metadata": {},
     "output_type": "execute_result"
    }
   ],
   "source": [
    "hello_world(15)"
   ]
  },
  {
   "cell_type": "markdown",
   "id": "57873c78",
   "metadata": {},
   "source": [
    "Edabit allows for markdown formatting, meaning that it's possible to format words by surrounding text with special characters. For example, to get bold text, you surround the text with double asterisks, like this **bold**.\n",
    "\n",
    "Here is a list of the possible formatting options in Edabit and how to apply them:\n",
    "\n",
    "**bold**\n",
    "_italics_\n",
    "`inline code`\n",
    "~~strikethrough~~\n",
    "Challenge\n",
    "Given a string and a style character, return the newly formatted string. Style characters are single letters that represent the different types of formatting.\n",
    "\n",
    "For the purposes of this challenge, the style characters are as follows:\n",
    "\n",
    "\"b\" is for bold\n",
    "\"i\" is for italics\n",
    "\"c\" is for inline code\n",
    "\"s\" is for strikethrough\n",
    "Examples\n",
    "md_format(\"Bold\", \"b\") ➞ \"**Bold**\"\n",
    "\n",
    "md_format(\"leaning text\", \"i\") ➞ \"_leaning text_\"\n",
    "\n",
    "md_format(\"Edabit\", \"c\") ➞ \"`Edabit`\"\n",
    "\n",
    "md_format(\"That's a strike!\", \"s\") ➞ \"~~That's a strike!~~\"\n",
    "Notes\n",
    "Remember to format your comments!"
   ]
  },
  {
   "cell_type": "code",
   "execution_count": 10,
   "id": "b6e9fe6e",
   "metadata": {},
   "outputs": [],
   "source": [
    "def editor(a,s):\n",
    "    #a=\"\"\n",
    "    if s==\"b\":\n",
    "        return \"**\"+a+\"**\"\n",
    "    elif s==\"i\":\n",
    "        return \"_\"+a+\"_\"\n",
    "    elif s==\"c\":\n",
    "        return \"`\"+a+\"`\"\n",
    "    else:\n",
    "        return \"~~\"+a+\"~~\""
   ]
  },
  {
   "cell_type": "code",
   "execution_count": 11,
   "id": "a31a4247",
   "metadata": {},
   "outputs": [
    {
     "data": {
      "text/plain": [
       "'**Bold**'"
      ]
     },
     "execution_count": 11,
     "metadata": {},
     "output_type": "execute_result"
    }
   ],
   "source": [
    "editor(\"Bold\", \"b\")"
   ]
  },
  {
   "cell_type": "code",
   "execution_count": 12,
   "id": "a0e15915",
   "metadata": {},
   "outputs": [
    {
     "data": {
      "text/plain": [
       "'_leaning text_'"
      ]
     },
     "execution_count": 12,
     "metadata": {},
     "output_type": "execute_result"
    }
   ],
   "source": [
    "editor(\"leaning text\", \"i\")"
   ]
  },
  {
   "cell_type": "code",
   "execution_count": 13,
   "id": "e0547534",
   "metadata": {},
   "outputs": [
    {
     "data": {
      "text/plain": [
       "'`Edabit`'"
      ]
     },
     "execution_count": 13,
     "metadata": {},
     "output_type": "execute_result"
    }
   ],
   "source": [
    "editor(\"Edabit\", \"c\")"
   ]
  },
  {
   "cell_type": "code",
   "execution_count": 14,
   "id": "3ef365e9",
   "metadata": {},
   "outputs": [
    {
     "data": {
      "text/plain": [
       "\"~~That's a strike!~~\""
      ]
     },
     "execution_count": 14,
     "metadata": {},
     "output_type": "execute_result"
    }
   ],
   "source": [
    "editor(\"That's a strike!\", \"s\")"
   ]
  },
  {
   "cell_type": "markdown",
   "id": "f542b439",
   "metadata": {},
   "source": [
    "Darts is a target game played by throwing feathered darts at a circular board with numbered spaces. Our darts game is the simplest of all games. The score of a single turn is calculated based on the distance from the middle. You need to create a function that takes the dart location as two cartesian coordinates (x, y) and returns a score based on the distance from the middle, aka Bullseye (x=0, y=0).\n",
    "\n",
    "Bullseye and inner circle scores = 10 points\n",
    "Middle ring scores = 5 points\n",
    "Outer ring scores = 1 point\n",
    "Outside the target = 0 points\n",
    "We play it simple so a dart in the double or treble ring counts as usual and does not affect the segment score.\n",
    "\n",
    "Board and circle radius is as follows:\n",
    "\n",
    "Board radius and outer circle radius = 10 units\n",
    "Middle circle radius = 5 units\n",
    "Inner circle radius = 1 unit\n",
    "Short Description\n",
    "Convert cartesian coordinates (x, y) to polar coordinates (R, phi) and return the score based on the R value. R > 10 gives 0 points, 10 >= R > 5 gives 1 point, 5 >= R > 1 gives 5 points, R <= 1 gives 10 points.\n",
    "\n",
    "Examples\n",
    "darts_scoring(0, 0) ➞ 10\n",
    "\n",
    "darts_scoring(3, 2) ➞ 5\n",
    "\n",
    "darts_scoring(0, -0.8) ➞ 10\n",
    "Notes\n",
    "X, Y values can be both positive and negative.\n",
    "X, Y values can be int and float.\n",
    "No wrong type values will be given."
   ]
  },
  {
   "cell_type": "code",
   "execution_count": 15,
   "id": "6c0a7f61",
   "metadata": {},
   "outputs": [],
   "source": [
    "def darts(x,y):\n",
    "    distance=(x**2+y**2)**0.5\n",
    "    if 10>=distance>5:\n",
    "        return 1\n",
    "    elif 5>=distance>1:\n",
    "        return 5\n",
    "    elif distance<=1:\n",
    "        return 10\n",
    "    else:\n",
    "        return 0"
   ]
  },
  {
   "cell_type": "code",
   "execution_count": 16,
   "id": "7c71891b",
   "metadata": {},
   "outputs": [
    {
     "data": {
      "text/plain": [
       "5"
      ]
     },
     "execution_count": 16,
     "metadata": {},
     "output_type": "execute_result"
    }
   ],
   "source": [
    "darts(3,2)"
   ]
  },
  {
   "cell_type": "code",
   "execution_count": 17,
   "id": "6941acaa",
   "metadata": {},
   "outputs": [
    {
     "data": {
      "text/plain": [
       "10"
      ]
     },
     "execution_count": 17,
     "metadata": {},
     "output_type": "execute_result"
    }
   ],
   "source": [
    "darts(0,0)"
   ]
  },
  {
   "cell_type": "code",
   "execution_count": 18,
   "id": "87b27817",
   "metadata": {},
   "outputs": [
    {
     "data": {
      "text/plain": [
       "10"
      ]
     },
     "execution_count": 18,
     "metadata": {},
     "output_type": "execute_result"
    }
   ],
   "source": [
    "darts(0,-0.8)"
   ]
  },
  {
   "cell_type": "markdown",
   "id": "a9473a7a",
   "metadata": {},
   "source": [
    "Write a function that returns True if a year is a leap, otherwise return False.\n",
    "\n",
    "A year is a \"leap year\" if it lasts 366 days, instead of 365 in a typical year. That extra day is added to the end of the shortest month, creating February 29.\n",
    "\n",
    "A leap year occurs every four years, and will take place if the year is a multiple of four. The exception to this is a year at the beginning of a century (for example, 1900 or 2000), where the year must be divisible by 400 to be a leap year.\n",
    "\n",
    "Look at the examples, and if you need help, look at the resources panel.\n",
    "\n",
    "Examples\n",
    "leap_year(1990) ➞ False\n",
    "\n",
    "leap_year(1924) ➞ True\n",
    "\n",
    "leap_year(2021) ➞ False\n",
    "Notes\n",
    "Do not overthink this challenge.\n",
    "You can solve the problem with a few lines of code."
   ]
  },
  {
   "cell_type": "code",
   "execution_count": 19,
   "id": "cb1f33c7",
   "metadata": {},
   "outputs": [],
   "source": [
    "def leap_year(x):\n",
    "    if x%4==0:\n",
    "        return True\n",
    "    else:\n",
    "        return False"
   ]
  },
  {
   "cell_type": "code",
   "execution_count": 20,
   "id": "8c477621",
   "metadata": {},
   "outputs": [
    {
     "data": {
      "text/plain": [
       "True"
      ]
     },
     "execution_count": 20,
     "metadata": {},
     "output_type": "execute_result"
    }
   ],
   "source": [
    "leap_year(2016)"
   ]
  },
  {
   "cell_type": "code",
   "execution_count": 21,
   "id": "65ff388c",
   "metadata": {},
   "outputs": [
    {
     "data": {
      "text/plain": [
       "True"
      ]
     },
     "execution_count": 21,
     "metadata": {},
     "output_type": "execute_result"
    }
   ],
   "source": [
    "leap_year(1900)"
   ]
  },
  {
   "cell_type": "code",
   "execution_count": 22,
   "id": "b0d546f1",
   "metadata": {},
   "outputs": [
    {
     "data": {
      "text/plain": [
       "False"
      ]
     },
     "execution_count": 22,
     "metadata": {},
     "output_type": "execute_result"
    }
   ],
   "source": [
    "leap_year(2023)"
   ]
  },
  {
   "cell_type": "markdown",
   "id": "9cb342cc",
   "metadata": {},
   "source": [
    "Given a pH value, return whether that value is \"alkaline\" (greater than 7), \"acidic\" (less than 7), or \"neutral\" (7). Return \"invalid\" if the value given is less than 0 or greater than 14.\n",
    "Examples\n",
    "pH_name(5) ➞ \"acidic\"\n",
    "\n",
    "pH_name(8.7) ➞ \"alkaline\"\n",
    "\n",
    "pH_name(7) ➞ \"neutral\"\n",
    "Notes\n",
    "Values such as 6.9999 and 8.00001 should return \"acidic\" and \"alkaline\" respectively."
   ]
  },
  {
   "cell_type": "code",
   "execution_count": 23,
   "id": "a4eff019",
   "metadata": {},
   "outputs": [],
   "source": [
    "def ph(n):\n",
    "    if n>7:\n",
    "        return \"Alkaline\"\n",
    "    elif n==7:\n",
    "        return \"Neutral\"\n",
    "    elif n<7:\n",
    "        return \"Acidic\"\n",
    "    else:\n",
    "        return \"Invalid\""
   ]
  },
  {
   "cell_type": "code",
   "execution_count": 24,
   "id": "7031a1f5",
   "metadata": {},
   "outputs": [
    {
     "data": {
      "text/plain": [
       "'Neutral'"
      ]
     },
     "execution_count": 24,
     "metadata": {},
     "output_type": "execute_result"
    }
   ],
   "source": [
    "ph(7)"
   ]
  },
  {
   "cell_type": "code",
   "execution_count": 25,
   "id": "dd7ff530",
   "metadata": {},
   "outputs": [
    {
     "data": {
      "text/plain": [
       "'Alkaline'"
      ]
     },
     "execution_count": 25,
     "metadata": {},
     "output_type": "execute_result"
    }
   ],
   "source": [
    "ph(10)"
   ]
  },
  {
   "cell_type": "code",
   "execution_count": 26,
   "id": "30a316cd",
   "metadata": {},
   "outputs": [
    {
     "data": {
      "text/plain": [
       "'Acidic'"
      ]
     },
     "execution_count": 26,
     "metadata": {},
     "output_type": "execute_result"
    }
   ],
   "source": [
    "ph(2)"
   ]
  },
  {
   "cell_type": "markdown",
   "id": "891c4458",
   "metadata": {},
   "source": [
    "Create a function that takes an array of hurdle heights and a jumper's jump height, and determine whether or not the hurdler can clear all the hurdles.\n",
    "\n",
    "A hurdler can clear a hurdle if their jump height is greater than or equal to the hurdle height.\n",
    "\n",
    "Examples\n",
    "hurdle_jump([1, 2, 3, 4, 5], 5) ➞ True\n",
    "\n",
    "hurdle_jump([5, 5, 3, 4, 5], 3) ➞ False\n",
    "\n",
    "hurdle_jump([5, 4, 5, 6], 10) ➞ True\n",
    "\n",
    "hurdle_jump([1, 2, 1], 1) ➞ False\n",
    "Notes\n",
    "Return True for the edge case of an empty array of hurdles. (Zero hurdles means that any jump height can clear them)."
   ]
  },
  {
   "cell_type": "code",
   "execution_count": 27,
   "id": "66052cd2",
   "metadata": {},
   "outputs": [],
   "source": [
    "def hurdler(jumpers_height,hurdler):\n",
    "    for x in hurdler:\n",
    "        if jumpers_height<x:\n",
    "                return True\n",
    "        else:\n",
    "            return False"
   ]
  },
  {
   "cell_type": "code",
   "execution_count": 28,
   "id": "75160d62",
   "metadata": {},
   "outputs": [
    {
     "data": {
      "text/plain": [
       "False"
      ]
     },
     "execution_count": 28,
     "metadata": {},
     "output_type": "execute_result"
    }
   ],
   "source": [
    "hurdler(1,[1,2,1])"
   ]
  },
  {
   "cell_type": "code",
   "execution_count": 29,
   "id": "9001e952",
   "metadata": {},
   "outputs": [
    {
     "data": {
      "text/plain": [
       "False"
      ]
     },
     "execution_count": 29,
     "metadata": {},
     "output_type": "execute_result"
    }
   ],
   "source": [
    "hurdler(2,[2,3,1])"
   ]
  },
  {
   "cell_type": "markdown",
   "id": "9e90534f",
   "metadata": {},
   "source": [
    "Create a function which returns the type of triangle, given the side lengths. Return the following values if they match the criteria.\n",
    "\n",
    "No sides equal: \"scalene\"\n",
    "Two sides equal: \"isosceles\"\n",
    "All sides equal: \"equilateral\"\n",
    "Less or more than 3 sides given: \"not a triangle\"\n",
    "Examples\n",
    "get_triangle_type([2, 6, 5]) ➞ \"scalene\"\n",
    "\n",
    "get_triangle_type([4, 4, 7]) ➞ \"isosceles\"\n",
    "\n",
    "get_triangle_type([8, 8, 8]) ➞ \"equilateral\"\n",
    "\n",
    "get_triangle_type([3, 5, 5, 2]) ➞ \"not a triangle\"\n",
    "Notes\n",
    "You will be given a list of positive integers.\n",
    "Check the Resources tab for more information on the types of triangles."
   ]
  },
  {
   "cell_type": "code",
   "execution_count": 40,
   "id": "c9c3ec0a",
   "metadata": {},
   "outputs": [],
   "source": [
    "def triangles(l):\n",
    "    if len(l)==3:\n",
    "        if l[0]==l[1]==l[2]:\n",
    "            return \"Equilateral\"\n",
    "        elif l[0]==l[1] or l[1]==l[2] or l[2]==l[0]:\n",
    "            return \"Isosceles\"\n",
    "        else:\n",
    "            return \"Scalene\"\n",
    "    else:\n",
    "        return \"Not a Triangle\""
   ]
  },
  {
   "cell_type": "code",
   "execution_count": 41,
   "id": "d4d126e1",
   "metadata": {},
   "outputs": [
    {
     "data": {
      "text/plain": [
       "'Scalene'"
      ]
     },
     "execution_count": 41,
     "metadata": {},
     "output_type": "execute_result"
    }
   ],
   "source": [
    "triangles([2, 6, 5])"
   ]
  },
  {
   "cell_type": "code",
   "execution_count": 42,
   "id": "6ae7ab3d",
   "metadata": {},
   "outputs": [
    {
     "data": {
      "text/plain": [
       "'Isosceles'"
      ]
     },
     "execution_count": 42,
     "metadata": {},
     "output_type": "execute_result"
    }
   ],
   "source": [
    "triangles([4,4,7])"
   ]
  },
  {
   "cell_type": "code",
   "execution_count": 43,
   "id": "42baca8c",
   "metadata": {},
   "outputs": [
    {
     "data": {
      "text/plain": [
       "'Equilateral'"
      ]
     },
     "execution_count": 43,
     "metadata": {},
     "output_type": "execute_result"
    }
   ],
   "source": [
    "triangles([8,8,8])"
   ]
  },
  {
   "cell_type": "code",
   "execution_count": 44,
   "id": "e0643593",
   "metadata": {},
   "outputs": [
    {
     "data": {
      "text/plain": [
       "'Not a Triangle'"
      ]
     },
     "execution_count": 44,
     "metadata": {},
     "output_type": "execute_result"
    }
   ],
   "source": [
    "triangles([8,8,8,9])"
   ]
  },
  {
   "cell_type": "markdown",
   "id": "62f384d2",
   "metadata": {},
   "source": [
    "Write a function that returns True if two rooks can attack each other, and False otherwise.\n",
    "\n",
    "Examples\n",
    "can_capture([\"A8\", \"E8\"]) ➞ True\n",
    "\n",
    "can_capture([\"A1\", \"B2\"]) ➞ False\n",
    "\n",
    "can_capture([\"H4\", \"H3\"]) ➞ True\n",
    "\n",
    "can_capture([\"F5\", \"C8\"]) ➞ False\n",
    "Notes\n",
    "Assume no blocking pieces.\n",
    "Two rooks can attack each other if they share the same row (letter) or column (number)."
   ]
  },
  {
   "cell_type": "code",
   "execution_count": 45,
   "id": "3deb83ca",
   "metadata": {},
   "outputs": [],
   "source": [
    "def capture(l):\n",
    "    if l[0][0]==l[1][0] or l[0][1]==l[1][1]:\n",
    "        return True\n",
    "    else:\n",
    "        return False    "
   ]
  },
  {
   "cell_type": "code",
   "execution_count": 46,
   "id": "9be1ec07",
   "metadata": {},
   "outputs": [
    {
     "data": {
      "text/plain": [
       "True"
      ]
     },
     "execution_count": 46,
     "metadata": {},
     "output_type": "execute_result"
    }
   ],
   "source": [
    "capture([\"A8\",\"E8\"])"
   ]
  },
  {
   "cell_type": "code",
   "execution_count": 47,
   "id": "1a823788",
   "metadata": {},
   "outputs": [
    {
     "data": {
      "text/plain": [
       "True"
      ]
     },
     "execution_count": 47,
     "metadata": {},
     "output_type": "execute_result"
    }
   ],
   "source": [
    "capture([\"A8\",\"A3\"])"
   ]
  },
  {
   "cell_type": "code",
   "execution_count": 48,
   "id": "6baa4748",
   "metadata": {},
   "outputs": [
    {
     "data": {
      "text/plain": [
       "False"
      ]
     },
     "execution_count": 48,
     "metadata": {},
     "output_type": "execute_result"
    }
   ],
   "source": [
    "capture([\"A8\",\"E3\"])"
   ]
  },
  {
   "cell_type": "markdown",
   "id": "35652512",
   "metadata": {},
   "source": [
    "Given an integer n. Your task is to find how many digits this integer contains without using str or len methods!\n",
    "\n",
    "Examples\n",
    "sum_digits(100) ➞ 3\n",
    "\n",
    "sum_digits(1000) ➞ 4\n",
    "\n",
    "sum_digits(1) ➞ 1"
   ]
  },
  {
   "cell_type": "code",
   "execution_count": 53,
   "id": "2e680e28",
   "metadata": {},
   "outputs": [],
   "source": [
    "def digits(n):\n",
    "    a=0\n",
    "    while n>=1:\n",
    "        a+=1\n",
    "        n/=10\n",
    "    return a"
   ]
  },
  {
   "cell_type": "code",
   "execution_count": 54,
   "id": "2b18153e",
   "metadata": {},
   "outputs": [
    {
     "data": {
      "text/plain": [
       "3"
      ]
     },
     "execution_count": 54,
     "metadata": {},
     "output_type": "execute_result"
    }
   ],
   "source": [
    "digits(100)"
   ]
  },
  {
   "cell_type": "code",
   "execution_count": 55,
   "id": "4503c599",
   "metadata": {},
   "outputs": [
    {
     "data": {
      "text/plain": [
       "1"
      ]
     },
     "execution_count": 55,
     "metadata": {},
     "output_type": "execute_result"
    }
   ],
   "source": [
    "digits(1)"
   ]
  },
  {
   "cell_type": "markdown",
   "id": "785003b1",
   "metadata": {},
   "source": [
    "Create a function that takes in a two-dimensional list and returns the number of sub-lists with only identical elements.\n",
    "\n",
    "Examples\n",
    "count_identical([\n",
    "  [1],\n",
    "  [2],\n",
    "  [3],\n",
    "  [4]\n",
    "]) ➞ 4\n",
    "\n",
    "#### Single-item lists still count as having identical elements.\n",
    "\n",
    "\n",
    "count_identical([\n",
    "  [1, 2],\n",
    "  [2, 3],\n",
    "  [3, 4],\n",
    "  [4, 4]\n",
    "]) ➞ 1\n",
    "\n",
    "\n",
    "count_identical([\n",
    "  [33, 33],\n",
    "  [5],\n",
    "  [\"a\", \"a\"],\n",
    "  [2, 2, 2],\n",
    "  [1, 2, 2],\n",
    "  [3, 1]\n",
    "]) ➞ 4\n",
    "\n",
    "#### 4 lists with identical elements: [33, 33], [5], [\"a\", \"a\"], and [2, 2, 2]\n",
    "\n",
    "\n",
    "count_identical([\n",
    "  [\"@\", \"@\", \"@\", \"@\"],\n",
    "  [2, 3], [3, 4], [4, 4]\n",
    "]) ➞ 2\n",
    "Notes\n",
    "Single-element lists count as (trivially) having identical elements."
   ]
  },
  {
   "cell_type": "code",
   "execution_count": 56,
   "id": "66e98776",
   "metadata": {},
   "outputs": [],
   "source": [
    "def count_identical(x):\n",
    "    l=0\n",
    "    for y in x:\n",
    "        if len(y)==1:\n",
    "            l+=1\n",
    "        else:\n",
    "            a=y[0];b=0\n",
    "            for z in range(1,len(y)):\n",
    "                if a==y[z]:\n",
    "                    b+=1\n",
    "            if b>=1:\n",
    "                l+=1\n",
    "    return l"
   ]
  },
  {
   "cell_type": "code",
   "execution_count": 57,
   "id": "635da5cc",
   "metadata": {},
   "outputs": [
    {
     "data": {
      "text/plain": [
       "4"
      ]
     },
     "execution_count": 57,
     "metadata": {},
     "output_type": "execute_result"
    }
   ],
   "source": [
    "count_identical([[33, 33],[5],[\"a\", \"a\"],[2, 2, 2],[1, 2, 2],[3, 1]])"
   ]
  },
  {
   "cell_type": "code",
   "execution_count": 58,
   "id": "d5c3837c",
   "metadata": {},
   "outputs": [
    {
     "data": {
      "text/plain": [
       "4"
      ]
     },
     "execution_count": 58,
     "metadata": {},
     "output_type": "execute_result"
    }
   ],
   "source": [
    "count_identical([[1],[2],[3],[4]]) "
   ]
  },
  {
   "cell_type": "code",
   "execution_count": 59,
   "id": "907085bf",
   "metadata": {},
   "outputs": [
    {
     "data": {
      "text/plain": [
       "2"
      ]
     },
     "execution_count": 59,
     "metadata": {},
     "output_type": "execute_result"
    }
   ],
   "source": [
    "count_identical([[\"@\", \"@\", \"@\", \"@\"],[2, 3], [3, 4], [4, 4]])"
   ]
  },
  {
   "cell_type": "markdown",
   "id": "e1dc742f",
   "metadata": {},
   "source": [
    "Create a function that takes a number (from 1 to 12) and returns its corresponding month name as a string. For example, if you're given 3 as input, your function should return \"March\", because March is the 3rd month.\n",
    "\n",
    "Number\tMonth Name\n",
    "1\tJanuary\n",
    "2\tFebruary\n",
    "3\tMarch\n",
    "4\tApril\n",
    "5\tMay\n",
    "6\tJune\n",
    "7\tJuly\n",
    "8\tAugust\n",
    "9\tSeptember\n",
    "10\tOctober\n",
    "11\tNovember\n",
    "12\tDecember\n",
    "Examples\n",
    "month_name(3) ➞ \"March\"\n",
    "\n",
    "month_name(12) ➞ \"December\"\n",
    "\n",
    "month_name(6) ➞ \"June\"\n",
    "Notes\n",
    "You can expect only integers ranging from 1 to 12 as test input.\n",
    "If you get stuck on a challenge, find help in the Resources tab.\n",
    "If you're really stuck, unlock solutions in the Solutions tab."
   ]
  },
  {
   "cell_type": "code",
   "execution_count": 60,
   "id": "95213e57",
   "metadata": {},
   "outputs": [],
   "source": [
    "def months(x):\n",
    "    month=[\"January\",\"February\",\"March\",\"April\",\"May\",\"June\",\"July\",\"August\",\"September\",\"October\",\"November\",\"December\"]\n",
    "    if x<1 or x>12:\n",
    "        return \"Invalid Number\"\n",
    "    else:\n",
    "        return month[x-1]"
   ]
  },
  {
   "cell_type": "code",
   "execution_count": 61,
   "id": "386b3e58",
   "metadata": {},
   "outputs": [
    {
     "data": {
      "text/plain": [
       "'February'"
      ]
     },
     "execution_count": 61,
     "metadata": {},
     "output_type": "execute_result"
    }
   ],
   "source": [
    "months(2)"
   ]
  },
  {
   "cell_type": "code",
   "execution_count": 62,
   "id": "6a53d98b",
   "metadata": {},
   "outputs": [
    {
     "data": {
      "text/plain": [
       "'January'"
      ]
     },
     "execution_count": 62,
     "metadata": {},
     "output_type": "execute_result"
    }
   ],
   "source": [
    "months(1)"
   ]
  },
  {
   "cell_type": "code",
   "execution_count": 63,
   "id": "0f762adf",
   "metadata": {},
   "outputs": [
    {
     "data": {
      "text/plain": [
       "'Invalid Number'"
      ]
     },
     "execution_count": 63,
     "metadata": {},
     "output_type": "execute_result"
    }
   ],
   "source": [
    "months(0)"
   ]
  },
  {
   "cell_type": "markdown",
   "id": "86c2f8b3",
   "metadata": {},
   "source": [
    "Create a function that takes an initial word and extracts any words that start with the same letters as the initial word.\n",
    "\n",
    "Examples\n",
    "dictionary(\"bu\", [\"button\", \"breakfast\", \"border\"]) ➞ [\"button\"]\n",
    "\n",
    "dictionary(\"tri\", [\"triplet\", \"tries\", \"trip\", \"piano\", \"tree\"]) ➞ [\"triplet\", \"tries\", trip\"]\n",
    "\n",
    "dictionary(\"beau\", [\"pastry\", \"delicious\", \"name\", \"boring\"]) ➞ []\n",
    "Notes\n",
    "If none of the words match, return an empty list.\n",
    "Keep the filtered list in the same relative order as the original list of words."
   ]
  },
  {
   "cell_type": "code",
   "execution_count": 67,
   "id": "6b558a1e",
   "metadata": {},
   "outputs": [],
   "source": [
    "def dic_name(a,l):\n",
    "    l1=[]\n",
    "    for x in l:\n",
    "        if a==x[:len(a)]:\n",
    "            l1.append(x)\n",
    "        else:\n",
    "            continue\n",
    "    return l1"
   ]
  },
  {
   "cell_type": "code",
   "execution_count": 68,
   "id": "47cb8127",
   "metadata": {},
   "outputs": [
    {
     "data": {
      "text/plain": [
       "['button']"
      ]
     },
     "execution_count": 68,
     "metadata": {},
     "output_type": "execute_result"
    }
   ],
   "source": [
    "dic_name(\"bu\", [\"button\", \"breakfast\", \"border\"])"
   ]
  },
  {
   "cell_type": "code",
   "execution_count": 69,
   "id": "981e88fb",
   "metadata": {},
   "outputs": [
    {
     "data": {
      "text/plain": [
       "['triplet', 'tries', 'trip']"
      ]
     },
     "execution_count": 69,
     "metadata": {},
     "output_type": "execute_result"
    }
   ],
   "source": [
    "dic_name(\"tri\", [\"triplet\", \"tries\", \"trip\", \"piano\", \"tree\"])"
   ]
  },
  {
   "cell_type": "code",
   "execution_count": 70,
   "id": "3e05ef2f",
   "metadata": {},
   "outputs": [
    {
     "data": {
      "text/plain": [
       "[]"
      ]
     },
     "execution_count": 70,
     "metadata": {},
     "output_type": "execute_result"
    }
   ],
   "source": [
    "dic_name(\"beau\", [\"pastry\", \"delicious\", \"name\", \"boring\"])"
   ]
  },
  {
   "cell_type": "markdown",
   "id": "a7888da6",
   "metadata": {},
   "source": [
    "Create a function that takes a list of strings and returns the words that are exactly four letters.\n",
    "\n",
    "Examples\n",
    "is_four_letters([\"Tomato\", \"Potato\", \"Pair\"]) ➞ [\"Pair\"]\n",
    "\n",
    "is_four_letters([\"Kangaroo\", \"Bear\", \"Fox\"]) ➞ [\"Bear\"]\n",
    "\n",
    "is_four_letters([\"Ryan\", \"Kieran\", \"Jason\", \"Matt\"]) ➞ [\"Ryan\", \"Matt\"]\n",
    "Notes\n",
    "You can expect valid strings for all test cases."
   ]
  },
  {
   "cell_type": "code",
   "execution_count": 71,
   "id": "8db5fa4d",
   "metadata": {},
   "outputs": [],
   "source": [
    "def four(l):\n",
    "    l1=[]\n",
    "    for x in l:\n",
    "        if len(x)==4:\n",
    "            l1.append(x)\n",
    "        else:\n",
    "            continue\n",
    "    return l1"
   ]
  },
  {
   "cell_type": "code",
   "execution_count": 73,
   "id": "87b8389d",
   "metadata": {},
   "outputs": [
    {
     "data": {
      "text/plain": [
       "['Pair']"
      ]
     },
     "execution_count": 73,
     "metadata": {},
     "output_type": "execute_result"
    }
   ],
   "source": [
    "four([\"Tomato\", \"Potato\", \"Pair\"])"
   ]
  },
  {
   "cell_type": "code",
   "execution_count": 74,
   "id": "3b43af4c",
   "metadata": {},
   "outputs": [
    {
     "data": {
      "text/plain": [
       "['Bear']"
      ]
     },
     "execution_count": 74,
     "metadata": {},
     "output_type": "execute_result"
    }
   ],
   "source": [
    "four([\"Kangaroo\", \"Bear\", \"Fox\"])"
   ]
  },
  {
   "cell_type": "code",
   "execution_count": 76,
   "id": "6fc59215",
   "metadata": {},
   "outputs": [
    {
     "data": {
      "text/plain": [
       "['Ryan', 'Matt']"
      ]
     },
     "execution_count": 76,
     "metadata": {},
     "output_type": "execute_result"
    }
   ],
   "source": [
    "four([\"Ryan\", \"Kieran\", \"Jason\", \"Matt\"])"
   ]
  },
  {
   "cell_type": "markdown",
   "id": "b9bb7641",
   "metadata": {},
   "source": [
    "Create a function that takes a year as an argument and returns the corresponding Chinese zodiac.\n",
    "\n",
    "Examples\n",
    "chinese_zodiac(2021) ➞ \"Ox\"\n",
    "\n",
    "chinese_zodiac(2020) ➞ \"Rat\"\n",
    "\n",
    "chinese_zodiac(1933) ➞ \"Rooster\"\n",
    "Notes\n",
    "The list of animals used can vary slightly, so check the Resources tab for the list that you will need for this challenge."
   ]
  },
  {
   "cell_type": "code",
   "execution_count": 77,
   "id": "47cff165",
   "metadata": {},
   "outputs": [],
   "source": [
    "def chinese_zodiac(n):\n",
    "    a=n-1900\n",
    "    b=a%12\n",
    "    c=b+1\n",
    "    x={1:\"Rat\",2:\"Ox\",3:\"Tiger\",4:\"Rabbit\",5:\"Dragon\",6:\"Snake\",7:\"Horse\",8:\"Goat\",9:\"Monkey\",10:\"Rooster\",11:\"Dog\",12:\"Pig\"}\n",
    "    return x[c]"
   ]
  },
  {
   "cell_type": "code",
   "execution_count": 78,
   "id": "826dfc70",
   "metadata": {},
   "outputs": [
    {
     "data": {
      "text/plain": [
       "'Ox'"
      ]
     },
     "execution_count": 78,
     "metadata": {},
     "output_type": "execute_result"
    }
   ],
   "source": [
    "chinese_zodiac(2021)"
   ]
  },
  {
   "cell_type": "code",
   "execution_count": 79,
   "id": "a3d0b1e4",
   "metadata": {},
   "outputs": [
    {
     "data": {
      "text/plain": [
       "'Rat'"
      ]
     },
     "execution_count": 79,
     "metadata": {},
     "output_type": "execute_result"
    }
   ],
   "source": [
    "chinese_zodiac(2020)"
   ]
  },
  {
   "cell_type": "code",
   "execution_count": 80,
   "id": "6890a776",
   "metadata": {},
   "outputs": [
    {
     "data": {
      "text/plain": [
       "'Rooster'"
      ]
     },
     "execution_count": 80,
     "metadata": {},
     "output_type": "execute_result"
    }
   ],
   "source": [
    "chinese_zodiac(1933)"
   ]
  },
  {
   "cell_type": "markdown",
   "id": "dc92113d",
   "metadata": {},
   "source": [
    "Two sisters are eating chocolate, whose pieces are represented as subarrays of [l x w].\n",
    "\n",
    "Write a function that returns True if the total area of chocolate is the same for each sister.\n",
    "\n",
    "To illustrate:\n",
    "\n",
    "test_fairness([[4, 3], [2, 4], [1, 2]],\n",
    "[[6, 2], [4, 2], [1, 1], [1, 1]])\n",
    "➞ True\n",
    "\n",
    "// Agatha's pieces: [4, 3], [2, 4], [1, 2]\n",
    "// Bertha's pieces: [6, 2], [4, 2], [1, 1], [1, 1]\n",
    "\n",
    "// Total area of Agatha's chocolate\n",
    "// 4x3 + 2x4 + 1x2 = 12 + 8 + 2 = 22\n",
    "\n",
    "// Total area of Bertha's chocolate is:\n",
    "// 6x2 + 4x2 + 1x1 + 1x1 = 12 + 8 + 1 + 1 = 22\n",
    "Examples\n",
    "test_fairness([[1, 2], [2, 1]], [[2, 2]]) ➞ true\n",
    "\n",
    "test_fairness([[1, 2], [2, 1]], [[2, 2], [4, 4]]) ➞ false\n",
    "\n",
    "test_fairness([[2, 2], [2, 2], [2, 2], [2, 2]], [[4, 4]]) ➞ true\n",
    "\n",
    "test_fairness([[1, 5], [6, 3], [1, 1]], [[7, 1], [2, 2], [1, 1]]) ➞ false"
   ]
  },
  {
   "cell_type": "code",
   "execution_count": 92,
   "id": "b4af083c",
   "metadata": {},
   "outputs": [],
   "source": [
    "def chocho(a,b):\n",
    "    d=0\n",
    "    for x in a:\n",
    "        agatha=x\n",
    "        d+=agatha[0]*agatha[1]\n",
    "    print(\"Area of Agatha:\",d)\n",
    "    g=0\n",
    "    for y in b:\n",
    "        bertha=y\n",
    "        g+=bertha[0]*bertha[1]\n",
    "    print(\"Area of Bertha:\",g)\n",
    "    if g==d:\n",
    "        return True\n",
    "    else:\n",
    "        return False"
   ]
  },
  {
   "cell_type": "code",
   "execution_count": 93,
   "id": "6f85a598",
   "metadata": {},
   "outputs": [
    {
     "name": "stdout",
     "output_type": "stream",
     "text": [
      "Area of Agatha: 22\n",
      "Area of Bertha: 22\n"
     ]
    },
    {
     "data": {
      "text/plain": [
       "True"
      ]
     },
     "execution_count": 93,
     "metadata": {},
     "output_type": "execute_result"
    }
   ],
   "source": [
    "chocho([[4, 3], [2, 4], [1, 2]], [[6, 2], [4, 2], [1, 1], [1, 1]])"
   ]
  },
  {
   "cell_type": "markdown",
   "id": "b5709e9b",
   "metadata": {},
   "source": [
    "The challenge is to fix all of the bugs in this incredibly messy code, which the code in the image might've actually looked like (probably not)! The code given will output the same middle two lines as in the image shown above.\n",
    "\n",
    "First parameter is the user's score.\n",
    "Second parameter is the required score.\n",
    "Examples\n",
    "grade_percentage(\"85%\", \"85%\") ➞ \"You PASSED the Exam\"\n",
    "\n",
    "grade_percentage(\"99%\", \"85%\") ➞ \"You PASSED the Exam\"\n",
    "\n",
    "grade_percentage(\"65%\", \"90%\") ➞ \"You FAILED the Exam\"\n",
    "Notes\n",
    "Note that inputs will be given as a string percentage number.\n",
    "Maintain all capitalization.\n",
    "Feel free to declutter and refactor code if it helps!"
   ]
  },
  {
   "cell_type": "code",
   "execution_count": 96,
   "id": "6af25e09",
   "metadata": {},
   "outputs": [],
   "source": [
    "def score(a,b):\n",
    "    x=int(a[:2])\n",
    "    y=int(b[:2])\n",
    "    if x>=y:\n",
    "        return \"You PASSED the Exam\"\n",
    "    else:\n",
    "        return  \"You FAILED the Exam\""
   ]
  },
  {
   "cell_type": "code",
   "execution_count": 97,
   "id": "a48c56c1",
   "metadata": {},
   "outputs": [
    {
     "data": {
      "text/plain": [
       "'You PASSED the Exam'"
      ]
     },
     "execution_count": 97,
     "metadata": {},
     "output_type": "execute_result"
    }
   ],
   "source": [
    "score(\"99%\",\"85%\")"
   ]
  },
  {
   "cell_type": "code",
   "execution_count": 98,
   "id": "75ea21d9",
   "metadata": {},
   "outputs": [
    {
     "data": {
      "text/plain": [
       "'You PASSED the Exam'"
      ]
     },
     "execution_count": 98,
     "metadata": {},
     "output_type": "execute_result"
    }
   ],
   "source": [
    "score(\"85%\",\"85%\")"
   ]
  },
  {
   "cell_type": "code",
   "execution_count": 99,
   "id": "88342db9",
   "metadata": {},
   "outputs": [
    {
     "data": {
      "text/plain": [
       "'You FAILED the Exam'"
      ]
     },
     "execution_count": 99,
     "metadata": {},
     "output_type": "execute_result"
    }
   ],
   "source": [
    "score(\"65%\",\"95%\")"
   ]
  },
  {
   "cell_type": "markdown",
   "id": "eb8dc82b",
   "metadata": {},
   "source": [
    "## Control Flow"
   ]
  },
  {
   "cell_type": "markdown",
   "id": "a8ba8013",
   "metadata": {},
   "source": [
    "A vehicle needs 10 times the amount of fuel than the distance it travels. However, it must always carry a minimum of 100 fuel before setting off.\n",
    "\n",
    "Create a function which calculates the amount of fuel it needs, given the distance.\n",
    "\n",
    "Examples\n",
    "calculate_fuel(15) ➞ 150\n",
    "\n",
    "calculate_fuel(23.5) ➞ 235\n",
    "\n",
    "calculate_fuel(3) ➞ 100\n",
    "Notes\n",
    "Distance will be a number greater than zero.\n",
    "Return 100 if the calculated fuel turns out to be less than 100."
   ]
  },
  {
   "cell_type": "code",
   "execution_count": 10,
   "id": "4c94111a",
   "metadata": {},
   "outputs": [],
   "source": [
    "def fuel(d):\n",
    "    if d>0:\n",
    "        a=d*10\n",
    "    else:\n",
    "        return \"Distance is less than 0 or equal to 0\"\n",
    "    if a<100:\n",
    "        return 100\n",
    "    else:\n",
    "        return a"
   ]
  },
  {
   "cell_type": "code",
   "execution_count": 11,
   "id": "62d64af4",
   "metadata": {},
   "outputs": [
    {
     "data": {
      "text/plain": [
       "150"
      ]
     },
     "execution_count": 11,
     "metadata": {},
     "output_type": "execute_result"
    }
   ],
   "source": [
    "fuel(15)"
   ]
  },
  {
   "cell_type": "code",
   "execution_count": 12,
   "id": "dd99b6d5",
   "metadata": {},
   "outputs": [
    {
     "data": {
      "text/plain": [
       "235.0"
      ]
     },
     "execution_count": 12,
     "metadata": {},
     "output_type": "execute_result"
    }
   ],
   "source": [
    "fuel(23.5)"
   ]
  },
  {
   "cell_type": "code",
   "execution_count": 13,
   "id": "048d09d1",
   "metadata": {},
   "outputs": [
    {
     "data": {
      "text/plain": [
       "100"
      ]
     },
     "execution_count": 13,
     "metadata": {},
     "output_type": "execute_result"
    }
   ],
   "source": [
    "fuel(3)"
   ]
  },
  {
   "cell_type": "code",
   "execution_count": 14,
   "id": "6a51d079",
   "metadata": {},
   "outputs": [
    {
     "data": {
      "text/plain": [
       "'Distance is less than 0 or equal to 0'"
      ]
     },
     "execution_count": 14,
     "metadata": {},
     "output_type": "execute_result"
    }
   ],
   "source": [
    "fuel(0)"
   ]
  },
  {
   "cell_type": "markdown",
   "id": "841980c9",
   "metadata": {},
   "source": [
    "Create a function that takes a list (slot machine outcome) and returns True if all elements in the list are identical, and False otherwise. The list will contain 4 elements.\n",
    "\n",
    "Examples\n",
    "test_jackpot([\"@\", \"@\", \"@\", \"@\"]) ➞ True\n",
    "\n",
    "test_jackpot([\"abc\", \"abc\", \"abc\", \"abc\"]) ➞ True\n",
    "\n",
    "test_jackpot([\"SS\", \"SS\", \"SS\", \"SS\"]) ➞ True\n",
    "\n",
    "test_jackpot([\"&&\", \"&\", \"&&&\", \"&&&&\"]) ➞ False\n",
    "\n",
    "test_jackpot([\"SS\", \"SS\", \"SS\", \"Ss\"]) ➞ False\n",
    "Notes\n",
    "The elements must be exactly identical for there to be a jackpot."
   ]
  },
  {
   "cell_type": "code",
   "execution_count": 28,
   "id": "57bf8d81",
   "metadata": {},
   "outputs": [],
   "source": [
    "def jackpot(l):\n",
    "    a=l[0];b=0\n",
    "    for x in range(len(l)):\n",
    "        if l[x]==a:\n",
    "            b+=1\n",
    "        else:\n",
    "            b=0\n",
    "    if b==0:\n",
    "        return False\n",
    "    else:\n",
    "        return True"
   ]
  },
  {
   "cell_type": "code",
   "execution_count": 29,
   "id": "61dfb939",
   "metadata": {},
   "outputs": [
    {
     "data": {
      "text/plain": [
       "True"
      ]
     },
     "execution_count": 29,
     "metadata": {},
     "output_type": "execute_result"
    }
   ],
   "source": [
    "jackpot([\"@\",\"@\",\"@\",\"@\"])"
   ]
  },
  {
   "cell_type": "code",
   "execution_count": 30,
   "id": "6e09743e",
   "metadata": {},
   "outputs": [
    {
     "data": {
      "text/plain": [
       "True"
      ]
     },
     "execution_count": 30,
     "metadata": {},
     "output_type": "execute_result"
    }
   ],
   "source": [
    "jackpot([\"abc\", \"abc\", \"abc\", \"abc\"])"
   ]
  },
  {
   "cell_type": "code",
   "execution_count": 31,
   "id": "5723d899",
   "metadata": {},
   "outputs": [
    {
     "data": {
      "text/plain": [
       "False"
      ]
     },
     "execution_count": 31,
     "metadata": {},
     "output_type": "execute_result"
    }
   ],
   "source": [
    "jackpot([\"&&\",\"&\",\"&&&\",\"&&&&\"])"
   ]
  },
  {
   "cell_type": "code",
   "execution_count": 32,
   "id": "97d39b8c",
   "metadata": {},
   "outputs": [
    {
     "data": {
      "text/plain": [
       "False"
      ]
     },
     "execution_count": 32,
     "metadata": {},
     "output_type": "execute_result"
    }
   ],
   "source": [
    "jackpot([\"SS\", \"SS\", \"SS\", \"Ss\"])"
   ]
  },
  {
   "cell_type": "markdown",
   "id": "f9335ce4",
   "metadata": {},
   "source": [
    "Create a function that takes a number as its argument and returns a list of all its factors.\n",
    "\n",
    "Examples\n",
    "factorize(12) ➞ [1, 2, 3, 4, 6, 12]\n",
    "\n",
    "factorize(4) ➞ [1, 2, 4]\n",
    "\n",
    "factorize(17) ➞ [1, 17]\n",
    "Notes\n",
    "The input integer will be positive.\n",
    "A factor is a number that evenly divides into another number without leaving a remainder. \n",
    "\n",
    "\n",
    "The second example is a factor of 12, because 12 / 2 = 6, with remainder 0."
   ]
  },
  {
   "cell_type": "code",
   "execution_count": 17,
   "id": "a2e963be",
   "metadata": {},
   "outputs": [],
   "source": [
    "def factorize(n):\n",
    "    l=[]\n",
    "    for x in range(1,n+1):\n",
    "        if n%x==0:\n",
    "            a=n//x\n",
    "            l.append(a)\n",
    "        else:\n",
    "            continue\n",
    "        l.sort()\n",
    "    return l"
   ]
  },
  {
   "cell_type": "code",
   "execution_count": 18,
   "id": "991ba901",
   "metadata": {},
   "outputs": [
    {
     "data": {
      "text/plain": [
       "[1, 2, 3, 4, 6, 12]"
      ]
     },
     "execution_count": 18,
     "metadata": {},
     "output_type": "execute_result"
    }
   ],
   "source": [
    " factorize(12)"
   ]
  },
  {
   "cell_type": "code",
   "execution_count": 19,
   "id": "e3f78131",
   "metadata": {},
   "outputs": [
    {
     "data": {
      "text/plain": [
       "[1, 2, 4]"
      ]
     },
     "execution_count": 19,
     "metadata": {},
     "output_type": "execute_result"
    }
   ],
   "source": [
    " factorize(4)"
   ]
  },
  {
   "cell_type": "code",
   "execution_count": 20,
   "id": "fdc91eb9",
   "metadata": {},
   "outputs": [
    {
     "data": {
      "text/plain": [
       "[1, 17]"
      ]
     },
     "execution_count": 20,
     "metadata": {},
     "output_type": "execute_result"
    }
   ],
   "source": [
    " factorize(17)"
   ]
  },
  {
   "cell_type": "markdown",
   "id": "2461de72",
   "metadata": {},
   "source": [
    "Create a function that goes through the array, incrementing (+1) for each odd-valued number and decrementing (-1) for each even-valued number.\n",
    "\n",
    "Examples\n",
    "transform([1, 2, 3, 4, 5]) ➞ [2, 1, 4, 3, 6]\n",
    "\n",
    "transform([3, 3, 4, 3]) ➞ [4, 4, 3, 4]\n",
    "\n",
    "transform([2, 2, 0, 8, 10]) ➞ [1, 1, -1, 7, 9]"
   ]
  },
  {
   "cell_type": "code",
   "execution_count": 22,
   "id": "2531c169",
   "metadata": {},
   "outputs": [],
   "source": [
    "def incre_decri(l):\n",
    "    l1=[]\n",
    "    for x in l:\n",
    "        if x%2==0:\n",
    "            l1.append(x-1)\n",
    "        else:\n",
    "            l1.append(x+1)\n",
    "    return l1"
   ]
  },
  {
   "cell_type": "code",
   "execution_count": 25,
   "id": "09898de1",
   "metadata": {},
   "outputs": [
    {
     "data": {
      "text/plain": [
       "[2, 1, 4, 3, 6]"
      ]
     },
     "execution_count": 25,
     "metadata": {},
     "output_type": "execute_result"
    }
   ],
   "source": [
    "incre_decri([1, 2, 3, 4, 5])"
   ]
  },
  {
   "cell_type": "code",
   "execution_count": 26,
   "id": "4d3645e2",
   "metadata": {},
   "outputs": [
    {
     "data": {
      "text/plain": [
       "[4, 4, 3, 4]"
      ]
     },
     "execution_count": 26,
     "metadata": {},
     "output_type": "execute_result"
    }
   ],
   "source": [
    "incre_decri([3, 3, 4, 3])"
   ]
  },
  {
   "cell_type": "code",
   "execution_count": 27,
   "id": "2649b84d",
   "metadata": {},
   "outputs": [
    {
     "data": {
      "text/plain": [
       "[1, 1, -1, 7, 9]"
      ]
     },
     "execution_count": 27,
     "metadata": {},
     "output_type": "execute_result"
    }
   ],
   "source": [
    "incre_decri([2, 2, 0, 8, 10])"
   ]
  },
  {
   "cell_type": "code",
   "execution_count": null,
   "id": "31f22c47",
   "metadata": {},
   "outputs": [],
   "source": []
  }
 ],
 "metadata": {
  "kernelspec": {
   "display_name": "Python 3 (ipykernel)",
   "language": "python",
   "name": "python3"
  },
  "language_info": {
   "codemirror_mode": {
    "name": "ipython",
    "version": 3
   },
   "file_extension": ".py",
   "mimetype": "text/x-python",
   "name": "python",
   "nbconvert_exporter": "python",
   "pygments_lexer": "ipython3",
   "version": "3.10.9"
  }
 },
 "nbformat": 4,
 "nbformat_minor": 5
}
