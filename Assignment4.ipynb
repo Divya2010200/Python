{
 "cells": [
  {
   "cell_type": "code",
   "execution_count": 2,
   "id": "bd52b7fb",
   "metadata": {},
   "outputs": [
    {
     "name": "stdout",
     "output_type": "stream",
     "text": [
      "1\n",
      "2\n",
      "3\n",
      "4\n",
      "5\n",
      "6\n"
     ]
    }
   ],
   "source": [
    "# write a python program to loop through all the elements in alist\n",
    "x=[1,2,3,4,5,6]\n",
    "for y in x:\n",
    "    print(y)"
   ]
  },
  {
   "cell_type": "code",
   "execution_count": 8,
   "id": "64f34daa",
   "metadata": {
    "scrolled": true
   },
   "outputs": [
    {
     "name": "stdout",
     "output_type": "stream",
     "text": [
      "Enter the lenght of list: 5\n",
      "give the element to be inserted: 1\n",
      "['1']\n",
      "give the element to be inserted: 2\n",
      "['1', '2']\n",
      "give the element to be inserted: 3\n",
      "['1', '2', '3']\n",
      "give the element to be inserted: 4\n",
      "['1', '2', '3', '4']\n",
      "give the element to be inserted: 5\n",
      "['1', '2', '3', '4', '5']\n"
     ]
    }
   ],
   "source": [
    "#to insert elements from users\n",
    "l=[]\n",
    "z=int(input(\"Enter the lenght of list: \"))\n",
    "for x in range(0,z):\n",
    "    a=input(\"give the element to be inserted: \")\n",
    "    if x<z:\n",
    "        l.append(a)\n",
    "    print(l)"
   ]
  },
  {
   "cell_type": "code",
   "execution_count": 12,
   "id": "622e67c8",
   "metadata": {
    "scrolled": true
   },
   "outputs": [
    {
     "name": "stdout",
     "output_type": "stream",
     "text": [
      "Enter the lenght of list: 5\n",
      "give the element to be inserted: 2\n",
      "['2']\n"
     ]
    }
   ],
   "source": [
    "l=[]\n",
    "z=input(\"Enter the lenght of list: \")\n",
    "x=0\n",
    "\n",
    "if x<len(z):\n",
    "    a=input(\"give the element to be inserted: \") \n",
    "    l.append(a)\n",
    "    #x+=1\n",
    "    print(l)"
   ]
  },
  {
   "cell_type": "code",
   "execution_count": 16,
   "id": "7424e041",
   "metadata": {},
   "outputs": [
    {
     "data": {
      "text/plain": [
       "[1, 3, 5, 7]"
      ]
     },
     "execution_count": 16,
     "metadata": {},
     "output_type": "execute_result"
    }
   ],
   "source": [
    "#printing only even indexes\n",
    "y=[1,2,3,4,5,6,7,\"a\"]\n",
    "y[::2]"
   ]
  },
  {
   "cell_type": "code",
   "execution_count": 14,
   "id": "5e9e54e6",
   "metadata": {},
   "outputs": [
    {
     "name": "stdout",
     "output_type": "stream",
     "text": [
      "[1, 3, 5, 7]\n"
     ]
    }
   ],
   "source": [
    "l=[]\n",
    "y=[1,2,3,4,5,6,7,\"a\"]\n",
    "for x in range(0,len(y)):\n",
    "    if x%2==0:\n",
    "        #print(x)\n",
    "        l.append(y[x])\n",
    "print(l)"
   ]
  },
  {
   "cell_type": "code",
   "execution_count": 2,
   "id": "d41462a3",
   "metadata": {},
   "outputs": [
    {
     "name": "stdout",
     "output_type": "stream",
     "text": [
      "sum= 6 \n",
      "product= 6\n"
     ]
    }
   ],
   "source": [
    "#4) sum and products of all elements in list\n",
    "sum1=0\n",
    "product=1\n",
    "y=[1,2,3]\n",
    "for x in range(0,len(y)):\n",
    "    sum1=sum1+y[x]\n",
    "    product=product*y[x] #print(x)\n",
    "        #l.append(y[x])\n",
    "print(\"sum=\",sum1,\"\\n\"\"product=\",product)"
   ]
  },
  {
   "cell_type": "code",
   "execution_count": 19,
   "id": "b5d26b62",
   "metadata": {},
   "outputs": [
    {
     "name": "stdout",
     "output_type": "stream",
     "text": [
      "Give the number of elements needed: 5\n",
      "Give the element: 45\n",
      "Give the element: 78\n",
      "Give the element: 52\n",
      "Give the element: 00\n",
      "Give the element: 1\n",
      "[45, 78, 52, 0, 1]\n",
      "Minimum value is:  0\n",
      "Maximum value is:  78\n"
     ]
    }
   ],
   "source": [
    "# To get max and min number from list\n",
    "a=[]\n",
    "y=int(input(\"Give the number of elements needed: \"))\n",
    "for x in range(0,y):\n",
    "    z=int(input(\"Give the element: \"))\n",
    "    a.append(z)\n",
    "print(a)\n",
    "print(\"Minimum value is: \",min(a))\n",
    "print(\"Maximum value is: \",max(a))"
   ]
  },
  {
   "cell_type": "code",
   "execution_count": 8,
   "id": "d965a6e3",
   "metadata": {},
   "outputs": [
    {
     "name": "stdout",
     "output_type": "stream",
     "text": [
      "Give the number of elements needed: 5\n",
      "Give the element: 1\n",
      "Give the element: 2\n",
      "Give the element: 3\n",
      "Give the element: 4\n",
      "Give the element: 5\n",
      "[1, 2, 3, 4, 5]\n",
      "min: 1 max:  5\n"
     ]
    }
   ],
   "source": [
    "a=[]\n",
    "y=int(input(\"Give the number of elements needed: \"))\n",
    "for x in range(0,y):\n",
    "    z=int(input(\"Give the element: \"))\n",
    "    a.append(z)\n",
    "print(a)\n",
    "max1=0;min1=a[0]\n",
    "for s in a:\n",
    "    a=s\n",
    "    if a>max1:\n",
    "        max1=a\n",
    "    elif a<min1:\n",
    "        min1=a\n",
    "    else:\n",
    "        continue\n",
    "print(\"min:\",min1,\"max: \",max1)"
   ]
  },
  {
   "cell_type": "code",
   "execution_count": 13,
   "id": "fb45b373",
   "metadata": {},
   "outputs": [
    {
     "name": "stdout",
     "output_type": "stream",
     "text": [
      "['Green', 'White', 'Black']\n"
     ]
    }
   ],
   "source": [
    "#To remove 0th,4th and 5th element\n",
    "a=[]\n",
    "y=['Red','Green','White','Black','Pink','Yellow']\n",
    "for x in range(0,len(y)):\n",
    "    if x!=0 and x!=4 and x!=5:\n",
    "        a.append(y[x])\n",
    "        \n",
    "    else:\n",
    "        continue\n",
    "print(a)"
   ]
  },
  {
   "cell_type": "code",
   "execution_count": 25,
   "id": "c481480f",
   "metadata": {},
   "outputs": [
    {
     "name": "stdout",
     "output_type": "stream",
     "text": [
      "<class 'str'>\n",
      "<class 'list'>\n"
     ]
    },
    {
     "data": {
      "text/plain": [
       "'RedGreenWhiteBlackPinkYellow'"
      ]
     },
     "execution_count": 25,
     "metadata": {},
     "output_type": "execute_result"
    }
   ],
   "source": [
    "#list of characters into string\n",
    "a=\"\"\n",
    "y=['Red','Green','White','Black','Pink','Yellow']\n",
    "for x in range(0,len(y)):\n",
    "    a+=y[x]\n",
    "print(type(a))\n",
    "print(type(y))\n",
    "a"
   ]
  },
  {
   "cell_type": "code",
   "execution_count": 28,
   "id": "dee6de0b",
   "metadata": {},
   "outputs": [
    {
     "name": "stdout",
     "output_type": "stream",
     "text": [
      "2.0\n"
     ]
    }
   ],
   "source": [
    "# Avarage of given list\n",
    "x=[1,2,3]\n",
    "a=0\n",
    "for y in range(len(x)):\n",
    "    a+=x[y]\n",
    "y=a/len(x)\n",
    "print(y)"
   ]
  },
  {
   "cell_type": "code",
   "execution_count": 8,
   "id": "ff6aea36",
   "metadata": {},
   "outputs": [
    {
     "name": "stdout",
     "output_type": "stream",
     "text": [
      "Give the length of list: 4\n",
      "give data type int,float,complex or string: int\n",
      "Give the data: 1\n",
      "give data type int,float,complex or string: string\n",
      "Give the data: ads\n",
      "give data type int,float,complex or string: int4\n",
      "Give the data: jhg\n",
      "give data type int,float,complex or string: int\n",
      "Give the data: 4\n",
      "[1, 'ads', 'jhg', 4]\n",
      "Number of integers:  2\n"
     ]
    }
   ],
   "source": [
    "# count number of integers\n",
    "b=0\n",
    "l=[]\n",
    "x=int(input(\"Give the length of list: \"))\n",
    "for y in range(0,x):\n",
    "    a=input(\"give data type int,float,complex or string: \")\n",
    "    if a==\"int\":\n",
    "        l.append(int(input(\"Give the data: \")))\n",
    "        b+=1\n",
    "    elif a==\"float\":\n",
    "        l.append(float(input(\"Give the data: \")))\n",
    "    elif a==\"complex\":\n",
    "        l.append(complex(input(\"Give the data: \")))\n",
    "    else:\n",
    "        l.append(input(\"Give the data: \"))\n",
    "print(l)\n",
    "print(\"Number of integers: \",b)"
   ]
  },
  {
   "cell_type": "code",
   "execution_count": 14,
   "id": "b1e5b357",
   "metadata": {},
   "outputs": [
    {
     "name": "stdout",
     "output_type": "stream",
     "text": [
      "Give the length of list: 4\n",
      "Give the data: 1\n",
      "Give the data: 2\n",
      "Give the data: 3\n",
      "Give the data: 4\n",
      "['1', '2', '3', '4']\n",
      "['4', '3', '2', '1']\n"
     ]
    }
   ],
   "source": [
    "# reversing\n",
    "l=[]\n",
    "x=int(input(\"Give the length of list: \"))\n",
    "for y in range(0,x):\n",
    "        l.append(input(\"Give the data: \"))\n",
    "print(l)\n",
    "print(l[::-1])"
   ]
  },
  {
   "cell_type": "code",
   "execution_count": 20,
   "id": "7f8062cf",
   "metadata": {},
   "outputs": [
    {
     "name": "stdout",
     "output_type": "stream",
     "text": [
      "Give the string: rgfsd\n",
      "<class 'tuple'>\n",
      "('r', 'g', 'f', 's', 'd')\n"
     ]
    }
   ],
   "source": [
    "#str into tuple\n",
    "a=input(\"Give the string: \")\n",
    "s=tuple((a))\n",
    "print(type(s))\n",
    "print(s)"
   ]
  },
  {
   "cell_type": "code",
   "execution_count": null,
   "id": "7c8f28e3",
   "metadata": {},
   "outputs": [],
   "source": []
  }
 ],
 "metadata": {
  "kernelspec": {
   "display_name": "Python 3 (ipykernel)",
   "language": "python",
   "name": "python3"
  },
  "language_info": {
   "codemirror_mode": {
    "name": "ipython",
    "version": 3
   },
   "file_extension": ".py",
   "mimetype": "text/x-python",
   "name": "python",
   "nbconvert_exporter": "python",
   "pygments_lexer": "ipython3",
   "version": "3.10.9"
  }
 },
 "nbformat": 4,
 "nbformat_minor": 5
}
