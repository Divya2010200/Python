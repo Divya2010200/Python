{
 "cells": [
  {
   "cell_type": "code",
   "execution_count": 7,
   "id": "03759764",
   "metadata": {},
   "outputs": [
    {
     "name": "stdout",
     "output_type": "stream",
     "text": [
      "Give the length of the list: 5\n",
      "Give a the data: 1\n",
      "Give a the data: 2\n",
      "Give a the data: 3\n",
      "Give a the data: 4\n",
      "Give a the data: 3\n",
      "[1, 2, 4, 3]\n"
     ]
    }
   ],
   "source": [
    "#1.Given a list of numbers, write a python program that returns a new list which Has all\n",
    "#duplicate elements removed. And is sorted in an increasing order.\n",
    "l=[]\n",
    "z=int(input(\"Give the length of the list: \"))\n",
    "for y in range(z):\n",
    "    a=int(input(\"Give a the data: \"))\n",
    "    l.append(a)\n",
    "for x in l:\n",
    "    if l.count(x)>1:\n",
    "        l.remove(x)\n",
    "    else:\n",
    "        continue\n",
    "print(l)"
   ]
  },
  {
   "cell_type": "code",
   "execution_count": 13,
   "id": "178ce0ad",
   "metadata": {},
   "outputs": [
    {
     "name": "stdout",
     "output_type": "stream",
     "text": [
      "Student1, Tarun\n",
      "Student2, Manoj\n",
      "Student3, Gephi\n"
     ]
    }
   ],
   "source": [
    "#2. Write a Python program where you will iterate over both keys and values in \n",
    "#dictionaries\n",
    "x={\"Student1\": \"Tarun\", \"Student2\": \"Manoj\", \"Student3\": \"Gephi\"}\n",
    "for y,z in x.items():\n",
    "    print(y+\", \"+z)"
   ]
  },
  {
   "cell_type": "code",
   "execution_count": 19,
   "id": "44ff1c8e",
   "metadata": {},
   "outputs": [
    {
     "data": {
      "text/plain": [
       "['Gephi', 'Manoj', 'Tarun']"
      ]
     },
     "execution_count": 19,
     "metadata": {},
     "output_type": "execute_result"
    }
   ],
   "source": [
    "#3. Write a Python program that takes a dictionary of student names and returns a list of \n",
    "#student names in alphabetical orde\n",
    "y=[]\n",
    "x={\"Student1\": \"Tarun\", \"Student2\": \"Manoj\", \"Student3\": \"Gephi\"}\n",
    "y+=x.values()\n",
    "y.sort()\n",
    "y"
   ]
  },
  {
   "cell_type": "code",
   "execution_count": 16,
   "id": "3ecd24fa",
   "metadata": {},
   "outputs": [
    {
     "name": "stdout",
     "output_type": "stream",
     "text": [
      "Give a string: 019001\n",
      "[True, False, True, True, False]\n"
     ]
    }
   ],
   "source": [
    "#4.Write a Python which returns a new list of Booleans, from a given number. Iterating  \n",
    "#through the number one digit at a time, append True if the digit is 1 and False if it is 0.\n",
    "a=[]\n",
    "x=input(\"Give a string: \")\n",
    "z=list(x)\n",
    "for y in range(len(x)):\n",
    "    if z[y]==\"0\":\n",
    "        a+=[True]\n",
    "    elif z[y]==\"1\":\n",
    "        a+=[False]\n",
    "    else:\n",
    "        continue\n",
    "print(a)"
   ]
  },
  {
   "cell_type": "code",
   "execution_count": 20,
   "id": "290a8870",
   "metadata": {},
   "outputs": [
    {
     "name": "stdout",
     "output_type": "stream",
     "text": [
      "Give the string: my name is ema\n",
      "{'m': 3, 'y': 1, 'n': 1, 'a': 2, 'e': 2, 'i': 1, 's': 1}\n"
     ]
    }
   ],
   "source": [
    "# 5. Write a Python program where you will return a dictionary where the keys will be the \n",
    "#character and the values will be the occurrence of the character in the string, and it \n",
    "#should for any string inputs (dynamic)\n",
    "a={}\n",
    "z=input(\"Give the string: \")\n",
    "for x in z:\n",
    "    if x==\" \":\n",
    "        continue\n",
    "    else:\n",
    "        a.update({x:z.count(x)})\n",
    "print(a)"
   ]
  },
  {
   "cell_type": "code",
   "execution_count": 44,
   "id": "360cd3a3",
   "metadata": {},
   "outputs": [
    {
     "name": "stdout",
     "output_type": "stream",
     "text": [
      "Oldest person is Ackes whoes age is 45\n"
     ]
    }
   ],
   "source": [
    "#6. Given a dictionary containing the names and ages of a group of people, return the \n",
    "#name of the oldest person\n",
    "x={\"Tmma\": 41, \"Ackes\": 45, \"myna\": 15, \"Benthon\": 29}\n",
    "max1=0\n",
    "for y in x.values():\n",
    "    if y>max1:\n",
    "        max1=y\n",
    "    else:\n",
    "        continue\n",
    "for s in x:\n",
    "    if max1==x[s]:\n",
    "        print(\"Oldest person is\",s,\"whoes age is\",max1)"
   ]
  },
  {
   "cell_type": "code",
   "execution_count": 9,
   "id": "ae0b49db",
   "metadata": {},
   "outputs": [
    {
     "name": "stdout",
     "output_type": "stream",
     "text": [
      "Start the game y/n: y\n",
      "a:Rock,Paper or Scissors: rock\n",
      "b:Rock,Paper or Scissors: paper\n",
      "b win\n",
      "Do you want to play again y/n: y\n",
      "a:Rock,Paper or Scissors: paper\n",
      "b:Rock,Paper or Scissors: paper\n",
      "Tie\n",
      "Do you want to play again y/n: y\n",
      "a:Rock,Paper or Scissors: paper\n",
      "b:Rock,Paper or Scissors: rock\n",
      "a win\n",
      "Do you want to play again y/n: n\n"
     ]
    }
   ],
   "source": [
    "#7. Write a Python program to create a Rock, Paper, Scissor game, use two inputs for two players:\n",
    "#Conditions: -Rock beats Scissors, Scissors beats Paper, Paper beats Rock\n",
    "s=input(\"Start the game y/n: \")\n",
    "while s==\"y\":\n",
    "    a=input(\"a:Rock,Paper or Scissors: \")\n",
    "    b=input(\"b:Rock,Paper or Scissors: \")\n",
    "    if a.capitalize()==\"Rock\" and b.capitalize()==\"Scissors\" or a.capitalize()==\"Scissors\" and b.capitalize()==\"Paper\" or a.capitalize()==\"Paper\" and b.capitalize()==\"Rock\":\n",
    "        print(\"a win\")\n",
    "        l=input(\"Do you want to play again y/n: \")\n",
    "    elif a.capitalize()==\"Rock\" and b.capitalize()==\"Rock\" or a.capitalize()==\"Scissors\" and b.capitalize()==\"Scissors\" or a.capitalize()==\"Paper\" and b.capitalize()==\"Paper\":\n",
    "        print(\"Tie\")\n",
    "        l=input(\"Do you want to play again y/n: \")\n",
    "    else:\n",
    "        print(\"b win\")\n",
    "        l=input(\"Do you want to play again y/n: \")\n",
    "    if l==\"y\":\n",
    "        continue\n",
    "    else:\n",
    "        break"
   ]
  },
  {
   "cell_type": "code",
   "execution_count": 21,
   "id": "811a8686",
   "metadata": {},
   "outputs": [
    {
     "name": "stdout",
     "output_type": "stream",
     "text": [
      "Enter Your Wallet Balance: 50\n",
      "Items you can buy: ['water bottles', 'chips']\n",
      "Your remaining balance will be:  20\n"
     ]
    }
   ],
   "source": [
    "#8. Create a program that returns a list of items that you can afford in the store with the \n",
    "#money you have in your wallet. Create a dictionary with items as key and price as values\n",
    "store_items={\"water bottles\": 20, \"chips\":10, \"Iphone\":49000, \"towel\":90, \"pens\":58, \"cake\":400}\n",
    "a=0;b=0;l=[]\n",
    "x=int(input(\"Enter Your Wallet Balance: \"))\n",
    "for y,z in store_items.items():\n",
    "    if z<=x and z<=x:\n",
    "        a+=z\n",
    "        b=y\n",
    "        l.append(b)\n",
    "    else:\n",
    "        continue\n",
    "print(\"Items you can buy:\",l)\n",
    "if a>x:\n",
    "    print(\"Your remaining balance will be: \",a-x)\n",
    "else:\n",
    "    print(\"Your remaining balance will be: \",x-a)"
   ]
  },
  {
   "cell_type": "code",
   "execution_count": 1,
   "id": "d349ed14",
   "metadata": {},
   "outputs": [
    {
     "name": "stdout",
     "output_type": "stream",
     "text": [
      "Number of elements in set: 5\n",
      "Give element: 1\n",
      "Give element: 2\n",
      "Give element: 3\n",
      "Give element: 4\n",
      "Give element: 5\n",
      "{'2', '1', '3', '4', '5'}\n",
      "Number of elements in set: 4\n",
      "Give element: 6\n",
      "Give element: 7\n",
      "Give element: 8\n",
      "Give element: 9\n",
      "{'6', '7', '8', '9'}\n",
      "Union: {'2', '1', '6', '3', '4', '8', '7', '9', '5'}\n"
     ]
    }
   ],
   "source": [
    "#9. Write a Python program to create a union of sets\n",
    "x=int(input(\"Number of elements in set: \"))\n",
    "set1=set(())\n",
    "set2=set(())\n",
    "for s in range(x):\n",
    "    i=input(\"Give element: \")\n",
    "    set1.add(i)\n",
    "print(set1)\n",
    "z=int(input(\"Number of elements in set: \"))\n",
    "for y in range(z):\n",
    "    i=input(\"Give element: \")\n",
    "    set2.add(i)\n",
    "print(set2)\n",
    "print(\"Union:\",set1.union(set2))"
   ]
  },
  {
   "cell_type": "code",
   "execution_count": 2,
   "id": "6aaae49d",
   "metadata": {},
   "outputs": [
    {
     "name": "stdout",
     "output_type": "stream",
     "text": [
      "Number of elements in set: 5\n",
      "Give element: 1\n",
      "Give element: 4\n",
      "Give element: 5\n",
      "Give element: 2\n",
      "Give element: 3\n",
      "{'2', '1', '3', '4', '5'}\n",
      "Value to checked: 5\n"
     ]
    },
    {
     "data": {
      "text/plain": [
       "True"
      ]
     },
     "execution_count": 2,
     "metadata": {},
     "output_type": "execute_result"
    }
   ],
   "source": [
    "#10. Write a Python program to check if a given value is present in a set or not (Dynamic)\n",
    "x=int(input(\"Number of elements in set: \"))\n",
    "y=set(())\n",
    "for s in range(x):\n",
    "    i=input(\"Give element: \")\n",
    "    y.add(i)\n",
    "print(y)\n",
    "z=input(\"Value to checked: \")\n",
    "z in y"
   ]
  },
  {
   "cell_type": "code",
   "execution_count": 39,
   "id": "54489be1",
   "metadata": {},
   "outputs": [
    {
     "name": "stdout",
     "output_type": "stream",
     "text": [
      "Give the string:  Cat dog dog cat horse dog dog mouse horse dog mouse tiger lion tiger  cat mouse snail\n",
      "{'Cat': 3, 'Dog': 5, 'Horse': 2, 'Mouse': 3, 'Tiger': 2}\n",
      "{'Cat': 3, 'Dog': 5, 'Mouse': 3}\n"
     ]
    }
   ],
   "source": [
    "#11. Write a Python program to find the occurrences of 3 most common words in a given text. And make it as a dictionaries\n",
    "x=input(\"Give the string: \")\n",
    "d={}\n",
    "a=x.title().split()\n",
    "for z in a:\n",
    "    p=a.count(z)        \n",
    "    if p>1:\n",
    "        d.update({z:p})      \n",
    "print(d)\n",
    "l=0;m={};r=[]\n",
    "for x in d.values():\n",
    "    r.append(x)\n",
    "    n=r[0]\n",
    "    if l<x:\n",
    "        l=x\n",
    "    elif n>x:\n",
    "        n=x\n",
    "    else:\n",
    "        continue\n",
    "for s,t in d.items():\n",
    "    if t>n and t<=l:\n",
    "        m.update({s:t})\n",
    "print(m)"
   ]
  },
  {
   "cell_type": "code",
   "execution_count": 3,
   "id": "84ac302d",
   "metadata": {},
   "outputs": [
    {
     "name": "stdout",
     "output_type": "stream",
     "text": [
      "length of dictionary: 5\n",
      "Give the subject name: English\n",
      "Give the marks: 30\n",
      "Give the subject name: Maths\n",
      "Give the marks: 40\n",
      "Give the subject name: Science\n",
      "Give the marks: 30\n",
      "Give the subject name: Hindi\n",
      "Give the marks: 30\n",
      "Give the subject name: Computers\n",
      "Give the marks: 40\n",
      "{'English': 30, 'Maths': 40, 'Science': 30, 'Hindi': 30, 'Computers': 40}\n"
     ]
    }
   ],
   "source": [
    "#12. Write a Python program that accepts name of given subject and mark, and make subjects as keys in dictionaries and marks as values and print the final\n",
    "#dictionary with subjects and marks\n",
    "x=int(input(\"length of dictionary: \"))\n",
    "d={}\n",
    "for y in range(x):\n",
    "    key=input(\"Give the subject name: \")\n",
    "    value=int(input(\"Give the marks: \"))\n",
    "    d.update({key:value})\n",
    "print(d)"
   ]
  }
 ],
 "metadata": {
  "kernelspec": {
   "display_name": "Python 3 (ipykernel)",
   "language": "python",
   "name": "python3"
  },
  "language_info": {
   "codemirror_mode": {
    "name": "ipython",
    "version": 3
   },
   "file_extension": ".py",
   "mimetype": "text/x-python",
   "name": "python",
   "nbconvert_exporter": "python",
   "pygments_lexer": "ipython3",
   "version": "3.10.9"
  }
 },
 "nbformat": 4,
 "nbformat_minor": 5
}
